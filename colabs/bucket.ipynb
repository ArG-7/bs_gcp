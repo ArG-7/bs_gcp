{
  "license": "Apache License, Version 2.0",
  "copyright": "Copyright 2018 Google Inc.",
  "nbformat": "4",
  "nbformat_minor": "0",
  "metadata": {
    "colab": {
      "name": "Bucket",
      "provenance": [],
      "collapsed_sections": [],
      "toc_visible": true
    },
    "kernelspec": {
      "name": "python3",
      "display_name": "Python 3"
    }
  },
  "cells": [
    {
      "cell_type": "markdown",
      "metadata": {
        "id": "RkMsmpXbtEJ3",
        "colab_type": "text"
      },
      "source": [
        "#1. Install Dependencies\n",
        "First install the libraries needed to execute recipes, this only needs to be done once, then click play.\n"
      ]
    },
    {
      "cell_type": "code",
      "metadata": {
        "id": "o3INtTXPkQ70",
        "colab_type": "code"
      },
      "source": [
        "!pip install git+https://github.com/google/starthinker\n"
      ]
    },
    {
      "cell_type": "markdown",
      "metadata": {
        "id": "dhuYTkswJSbb",
        "colab_type": "text"
      },
      "source": [
        "#2. Get Cloud Project ID\n",
        "To run this recipe [requires a Google Cloud Project](https://github.com/google/starthinker/blob/master/tutorials/cloud_project.md), this only needs to be done once, then click play.\n"
      ]
    },
    {
      "cell_type": "code",
      "metadata": {
        "id": "V7i0DvzW6YMd",
        "colab_type": "code"
      },
      "source": [
        "CLOUD_PROJECT = 'PASTE PROJECT ID HERE'\n",
        "\n",
        "print(\"Cloud Project Set To: %s\" % CLOUD_PROJECT)\n"
      ]
    },
    {
      "cell_type": "markdown",
      "metadata": {
        "id": "wZTWA7I5Qq31",
        "colab_type": "text"
      },
      "source": [
        "#3. Get Client Credentials\n",
        "To read and write to various endpoints requires [downloading client credentials](https://github.com/google/starthinker/blob/master/tutorials/cloud_client_installed.md), this only needs to be done once, then click play.\n"
      ]
    },
    {
      "cell_type": "code",
      "metadata": {
        "id": "cSRafexU4BIu",
        "colab_type": "code"
      },
      "source": [
        "CLIENT_CREDENTIALS = 'PASTE CREDENTIALS HERE'\n",
        "\n",
        "print(\"Client Credentials Set To: %s\" % CLIENT_CREDENTIALS)\n"
      ]
    },
    {
      "cell_type": "markdown",
      "metadata": {
        "id": "HUgC7VpAxfr3",
        "colab_type": "text"
      },
      "source": [
        "#4. Enter Bucket Parameters\n",
        "Create and permission a bucket in Storage.\n",
        " 1. Specify the name of the bucket and who will have owner permissions.\n",
        " 1. Existing buckets are preserved.\n",
        " 1. Adding a permission to the list will update the permissions but removing them will not.\n",
        " 1. You have to manualy remove grants.\n",
        "Modify the values below for your use case, can be done multiple times, then click play.\n"
      ]
    },
    {
      "cell_type": "code",
      "metadata": {
        "id": "1G9zp364aVIU",
        "colab_type": "code"
      },
      "source": [
        "FIELDS = {\n",
        "  \"bucket_bucket\":\"\", # Name of Google Cloud Bucket to create.\n",
        "  \"bucket_emails\":, # Comma separated emails.\n",
        "  \"bucket_groups\":, # Comma separated groups.\n",
        "}\n",
        "\n",
        "print(\"Parameters Set To: %s\" % FIELDS)\n"
      ]
    },
    {
      "cell_type": "markdown",
      "metadata": {
        "id": "ItvOXQM6NrRN",
        "colab_type": "text"
      },
      "source": [
        "#5. Execute Bucket\n",
        "This does NOT need to be modified unles you are changing the recipe, click play.\n"
      ]
    },
    {
      "cell_type": "code",
      "metadata": {
        "id": "GI4X1quVGMIu",
        "colab_type": "code"
      },
      "source": [
        "from starthinker.util.project import project\n",
        "from starthinker.script.parse import json_set_fields\n",
        "\n",
        "USER_CREDENTIALS = '/content/user.json'\n",
        "\n",
        "TASKS = [ { 'bucket': { 'auth': 'user',\n",
        "                'bucket': { 'field': { 'default': '',\n",
        "                                       'description': 'Name '\n",
        "                                                      'of '\n",
        "                                                      'Google '\n",
        "                                                      'Cloud '\n",
        "                                                      'Bucket '\n",
        "                                                      'to '\n",
        "                                                      'create.',\n",
        "                                       'kind': 'string',\n",
        "                                       'name': 'bucket_bucket',\n",
        "                                       'order': 2}},\n",
        "                'emails': { 'field': { 'default': '',\n",
        "                                       'description': 'Comma '\n",
        "                                                      'separated '\n",
        "                                                      'emails.',\n",
        "                                       'kind': 'string_list',\n",
        "                                       'name': 'bucket_emails',\n",
        "                                       'order': 3}},\n",
        "                'groups': { 'field': { 'default': '',\n",
        "                                       'description': 'Comma '\n",
        "                                                      'separated '\n",
        "                                                      'groups.',\n",
        "                                       'kind': 'string_list',\n",
        "                                       'name': 'bucket_groups',\n",
        "                                       'order': 4}}}}]\n",
        "\n",
        "json_set_fields(TASKS, FIELDS)\n",
        "project.initialize(_recipe={ 'tasks':TASKS }, _project=CLOUD_PROJECT, _user=USER_CREDENTIALS, _client=CLIENT_CREDENTIALS, _verbose=True)\n",
        "project.execute()\n"
      ]
    }
  ]
}
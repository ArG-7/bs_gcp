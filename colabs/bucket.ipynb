{
  "license": "Apache License, Version 2.0",
  "copyright": "Copyright 2018 Google Inc.",
  "nbformat": "4",
  "nbformat_minor": "0",
  "metadata": {
    "colab": {
      "name": "Bucket",
      "provenance": [],
      "collapsed_sections": [],
      "toc_visible": true
    },
    "kernelspec": {
      "name": "python3",
      "display_name": "Python 3"
    }
  },
  "cells": [
    {
      "cell_type": "markdown",
      "metadata": {
        "id": "uR7rOPtcXFhj",
        "colab_type": "text"
      },
      "source": [
        "#1. Install Dependencies\n",
        "First install the libraries needed to execute recipes, this only needs to be done once, then click play.\n"
      ]
    },
    {
      "cell_type": "code",
      "metadata": {
        "id": "2Ty6yKhT4Toc",
        "colab_type": "code"
      },
      "source": [
        "!pip install git+https://github.com/google/starthinker\n"
      ]
    },
    {
      "cell_type": "markdown",
      "metadata": {
        "id": "rPV180TgunPh",
        "colab_type": "text"
      },
      "source": [
        "#2. Get Cloud Project ID\n",
        "To run this recipe [requires a Google Cloud Project](https://github.com/google/starthinker/blob/master/tutorials/cloud_project.md), this only needs to be done once, then click play.\n"
      ]
    },
    {
      "cell_type": "code",
      "metadata": {
        "id": "QStsIEGH4PM7",
        "colab_type": "code"
      },
      "source": [
        "CLOUD_PROJECT = 'PASTE PROJECT ID HERE'\n",
        "\n",
        "print(\"Cloud Project Set To: %s\" % CLOUD_PROJECT)\n"
      ]
    },
    {
      "cell_type": "markdown",
      "metadata": {
        "id": "sao8JcnPYEVE",
        "colab_type": "text"
      },
      "source": [
        "#3. Get Client Credentials\n",
        "To read and write to various endpoints requires [downloading client credentials](https://github.com/google/starthinker/blob/master/tutorials/cloud_client_installed.md), this only needs to be done once, then click play.\n"
      ]
    },
    {
      "cell_type": "code",
      "metadata": {
        "id": "PnhB80l5fmx6",
        "colab_type": "code"
      },
      "source": [
        "CLIENT_CREDENTIALS = 'PASTE CREDENTIALS HERE'\n",
        "\n",
        "print(\"Client Credentials Set To: %s\" % CLIENT_CREDENTIALS)\n"
      ]
    },
    {
      "cell_type": "markdown",
      "metadata": {
        "id": "qXGxn1Ux6X7O",
        "colab_type": "text"
      },
      "source": [
        "#4. Enter Bucket Parameters\n",
        "Create and permission a bucket in Storage.\n",
        " 1. Specify the name of the bucket and who will have owner permissions.\n",
        " 1. Existing buckets are preserved.\n",
        " 1. Adding a permission to the list will update the permissions but removing them will not.\n",
        " 1. You have to manualy remove grants.\n",
        "Modify the values below for your use case, can be done multiple times, then click play.\n"
      ]
    },
    {
      "cell_type": "code",
      "metadata": {
        "id": "qoJLGZsvhJ3P",
        "colab_type": "code"
      },
      "source": [
        "FIELDS = {\n",
        "  \"bucket_bucket\":\"\", # Name of Google Cloud Bucket to create.\n",
        "  \"bucket_emails\":, # Comma separated emails.\n",
        "  \"bucket_groups\":, # Comma separated groups.\n",
        "}\n",
        "\n",
        "print(\"Parameters Set To: %s\" % FIELDS)\n"
      ]
    },
    {
      "cell_type": "markdown",
      "metadata": {
        "id": "5yakV6VLhHgj",
        "colab_type": "text"
      },
      "source": [
        "#5. Execute Bucket\n",
        "This does NOT need to be modified unles you are changing the recipe, click play.\n"
      ]
    },
    {
      "cell_type": "code",
      "metadata": {
        "id": "NXMKL21xkLXi",
        "colab_type": "code"
      },
      "source": [
        "from starthinker.util.project import project\n",
        "from starthinker.script.parse import json_set_fields\n",
        "\n",
        "USER_CREDENTIALS = '/content/user.json'\n",
        "\n",
        "TASKS = [\n",
        "  {\n",
        "    \"bucket\": {\n",
        "      \"auth\": \"user\",\n",
        "      \"bucket\": {\n",
        "        \"field\": {\n",
        "          \"name\": \"bucket_bucket\",\n",
        "          \"kind\": \"string\",\n",
        "          \"order\": 2,\n",
        "          \"default\": \"\",\n",
        "          \"description\": \"Name of Google Cloud Bucket to create.\"\n",
        "        }\n",
        "      },\n",
        "      \"emails\": {\n",
        "        \"field\": {\n",
        "          \"name\": \"bucket_emails\",\n",
        "          \"kind\": \"string_list\",\n",
        "          \"order\": 3,\n",
        "          \"default\": \"\",\n",
        "          \"description\": \"Comma separated emails.\"\n",
        "        }\n",
        "      },\n",
        "      \"groups\": {\n",
        "        \"field\": {\n",
        "          \"name\": \"bucket_groups\",\n",
        "          \"kind\": \"string_list\",\n",
        "          \"order\": 4,\n",
        "          \"default\": \"\",\n",
        "          \"description\": \"Comma separated groups.\"\n",
        "        }\n",
        "      }\n",
        "    }\n",
        "  }\n",
        "]\n",
        "\n",
        "json_set_fields(TASKS, FIELDS)\n",
        "project.initialize(_recipe={ 'tasks':TASKS }, _project=CLOUD_PROJECT, _user=USER_CREDENTIALS, _client=CLIENT_CREDENTIALS, _verbose=True)\n",
        "project.execute()\n"
      ]
    }
  ]
}
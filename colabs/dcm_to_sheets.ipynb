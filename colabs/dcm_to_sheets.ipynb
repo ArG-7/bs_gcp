{
  "license": "Apache License, Version 2.0",
  "copyright": "Copyright 2018 Google Inc.",
  "nbformat": "4",
  "nbformat_minor": "0",
  "metadata": {
    "colab": {
      "name": "DCM To Sheets",
      "provenance": [],
      "collapsed_sections": [],
      "toc_visible": true
    },
    "kernelspec": {
      "name": "python3",
      "display_name": "Python 3"
    }
  },
  "cells": [
    {
      "cell_type": "markdown",
      "metadata": {
        "id": "osWoIIhOCD2m",
        "colab_type": "text"
      },
      "source": [
        "#1. Install Dependencies\n",
        "First install the libraries needed to execute recipes, this only needs to be done once, then click play.\n"
      ]
    },
    {
      "cell_type": "code",
      "metadata": {
        "id": "vxgXQ2trls49",
        "colab_type": "code"
      },
      "source": [
        "!pip install git+https://github.com/google/starthinker\n"
      ]
    },
    {
      "cell_type": "markdown",
      "metadata": {
        "id": "QTHkZ8jc0cTV",
        "colab_type": "text"
      },
      "source": [
        "#2. Get Cloud Project ID\n",
        "To run this recipe [requires a Google Cloud Project](https://github.com/google/starthinker/blob/master/tutorials/cloud_project.md), this only needs to be done once, then click play.\n"
      ]
    },
    {
      "cell_type": "code",
      "metadata": {
        "id": "U1RXS1UEikZb",
        "colab_type": "code"
      },
      "source": [
        "CLOUD_PROJECT = 'PASTE PROJECT ID HERE'\n",
        "\n",
        "print(\"Cloud Project Set To: %s\" % CLOUD_PROJECT)\n"
      ]
    },
    {
      "cell_type": "markdown",
      "metadata": {
        "id": "6AdtKBPoftgu",
        "colab_type": "text"
      },
      "source": [
        "#3. Get Client Credentials\n",
        "To read and write to various endpoints requires [downloading client credentials](https://github.com/google/starthinker/blob/master/tutorials/cloud_client_installed.md), this only needs to be done once, then click play.\n"
      ]
    },
    {
      "cell_type": "code",
      "metadata": {
        "id": "IvFpoz04x1I3",
        "colab_type": "code"
      },
      "source": [
        "CLIENT_CREDENTIALS = 'PASTE CREDENTIALS HERE'\n",
        "\n",
        "print(\"Client Credentials Set To: %s\" % CLIENT_CREDENTIALS)\n"
      ]
    },
    {
      "cell_type": "markdown",
      "metadata": {
        "id": "1EgRJtI1Mxqc",
        "colab_type": "text"
      },
      "source": [
        "#4. Enter DCM To Sheets Parameters\n",
        "Move existing DCM report into a Sheet tab.\n",
        " 1. Specify an account id.\n",
        " 1. Specify either report name or report id to move a report.\n",
        " 1. The most recent valid file will be moved to the sheet.\n",
        " 1. Schema is pulled from the official DCM specification.\n",
        "Modify the values below for your use case, can be done multiple times, then click play.\n"
      ]
    },
    {
      "cell_type": "code",
      "metadata": {
        "id": "BexLjXFBs1PI",
        "colab_type": "code"
      },
      "source": [
        "FIELDS = {\n",
        "  \"account\":,\n",
        "  \"report_id\":,\n",
        "  \"report_name\":\"\",\n",
        "  \"sheet\":\"\",\n",
        "  \"tab\":\"\",\n",
        "}\n",
        "\n",
        "print(\"Parameters Set To: %s\" % FIELDS)\n"
      ]
    },
    {
      "cell_type": "markdown",
      "metadata": {
        "id": "g7LTOtvu5B7f",
        "colab_type": "text"
      },
      "source": [
        "#5. Execute DCM To Sheets\n",
        "This does NOT need to be modified unles you are changing the recipe, click play.\n"
      ]
    },
    {
      "cell_type": "code",
      "metadata": {
        "id": "G74BB1NvZhDv",
        "colab_type": "code"
      },
      "source": [
        "from starthinker.util.project import project\n",
        "from starthinker.script.parse import json_set_fields\n",
        "\n",
        "USER_CREDENTIALS = '/content/user.json'\n",
        "\n",
        "TASKS = [ { 'dcm': { 'auth': 'user',\n",
        "             'out': { 'sheets': { 'range': 'A1',\n",
        "                                  'sheet': { 'field': { 'default': '',\n",
        "                                                        'kind': 'string',\n",
        "                                                        'name': 'sheet',\n",
        "                                                        'order': 5}},\n",
        "                                  'tab': { 'field': { 'default': '',\n",
        "                                                      'kind': 'string',\n",
        "                                                      'name': 'tab',\n",
        "                                                      'order': 6}}}},\n",
        "             'report': { 'account': { 'field': { 'default': '',\n",
        "                                                 'kind': 'integer',\n",
        "                                                 'name': 'account',\n",
        "                                                 'order': 2}},\n",
        "                         'name': { 'field': { 'default': '',\n",
        "                                              'kind': 'string',\n",
        "                                              'name': 'report_name',\n",
        "                                              'order': 4}},\n",
        "                         'report_id': { 'field': { 'default': '',\n",
        "                                                   'kind': 'integer',\n",
        "                                                   'name': 'report_id',\n",
        "                                                   'order': 3}}}}}]\n",
        "\n",
        "json_set_fields(TASKS, FIELDS)\n",
        "project.initialize(_recipe={ 'tasks':TASKS }, _project=CLOUD_PROJECT, _user=USER_CREDENTIALS, _client=CLIENT_CREDENTIALS, _verbose=True)\n",
        "project.execute()\n"
      ]
    }
  ]
}
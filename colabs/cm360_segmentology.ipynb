{
  "license": "Licensed under the Apache License, Version 2.0",
  "copyright": "Copyright 2020 Google LLC",
  "nbformat": 4,
  "nbformat_minor": 0,
  "metadata": {
    "colab": {
      "name": "CM360 Segmentology",
      "provenance": [],
      "collapsed_sections": [],
      "toc_visible": true
    },
    "kernelspec": {
      "name": "python3",
      "display_name": "Python 3"
    }
  },
  "cells": [
    {
      "cell_type": "markdown",
      "metadata": {
        "id": "8b181d27-001",
        "colab_type": "text"
      },
      "source": [
        "#CM360 Segmentology\n",
        "CM360 funnel analysis using Census data.\n"
      ]
    },
    {
      "cell_type": "markdown",
      "metadata": {
        "id": "8b181d27-002",
        "colab_type": "text"
      },
      "source": [
        "#License\n",
        "\n",
        "Copyright 2020 Google LLC,\n",
        "\n",
        "Licensed under the Apache License, Version 2.0 (the \"License\");\n",
        "you may not use this file except in compliance with the License.\n",
        "You may obtain a copy of the License at\n",
        "\n",
        "  https://www.apache.org/licenses/LICENSE-2.0\n",
        "\n",
        "Unless required by applicable law or agreed to in writing, software\n",
        "distributed under the License is distributed on an \"AS IS\" BASIS,\n",
        "WITHOUT WARRANTIES OR CONDITIONS OF ANY KIND, either express or implied.\n",
        "See the License for the specific language governing permissions and\n",
        "limitations under the License.\n",
        "\n"
      ]
    },
    {
      "cell_type": "markdown",
      "metadata": {
        "id": "8b181d27-003",
        "colab_type": "text"
      },
      "source": [
        "#Disclaimer\n",
        "This is not an officially supported Google product. It is a reference implementation. There is absolutely NO WARRANTY provided for using this code. The code is Apache Licensed and CAN BE fully modified, white labeled, and disassembled by your team.\n",
        "\n",
        "This code generated (see starthinker/scripts for possible source):\n",
        "  - **Command**: \"python starthinker_ui/manage.py colab\"\n",
        "  - **Command**: \"python starthinker/tools/colab.py [JSON RECIPE]\"\n",
        "\n"
      ]
    },
    {
      "cell_type": "markdown",
      "metadata": {
        "id": "8b181d27-004",
        "colab_type": "text"
      },
      "source": [
        "#1. Install Dependencies\n",
        "First install the libraries needed to execute recipes, this only needs to be done once, then click play.\n"
      ]
    },
    {
      "cell_type": "code",
      "metadata": {
        "id": "8b181d27-005",
        "colab_type": "code"
      },
      "source": [
        "!pip install git+https://github.com/google/starthinker\n"
      ]
    },
    {
      "cell_type": "markdown",
      "metadata": {
        "id": "8b181d27-006",
        "colab_type": "text"
      },
      "source": [
        "#2. Get Cloud Project ID\n",
        "To run this recipe [requires a Google Cloud Project](https://github.com/google/starthinker/blob/master/tutorials/cloud_project.md), this only needs to be done once, then click play.\n"
      ]
    },
    {
      "cell_type": "code",
      "metadata": {
        "id": "8b181d27-007",
        "colab_type": "code"
      },
      "source": [
        "CLOUD_PROJECT = 'PASTE PROJECT ID HERE'\n",
        "\n",
        "print(\"Cloud Project Set To: %s\" % CLOUD_PROJECT)\n"
      ]
    },
    {
      "cell_type": "markdown",
      "metadata": {
        "id": "8b181d27-008",
        "colab_type": "text"
      },
      "source": [
        "#3. Get Client Credentials\n",
        "To read and write to various endpoints requires [downloading client credentials](https://github.com/google/starthinker/blob/master/tutorials/cloud_client_installed.md), this only needs to be done once, then click play.\n"
      ]
    },
    {
      "cell_type": "code",
      "metadata": {
        "id": "8b181d27-009",
        "colab_type": "code"
      },
      "source": [
        "CLIENT_CREDENTIALS = 'PASTE CLIENT CREDENTIALS HERE'\n",
        "\n",
        "print(\"Client Credentials Set To: %s\" % CLIENT_CREDENTIALS)\n"
      ]
    },
    {
      "cell_type": "markdown",
      "metadata": {
        "id": "8b181d27-010",
        "colab_type": "text"
      },
      "source": [
        "#4. Enter CM360 Segmentology Parameters\n",
        " 1. Wait for <b>BigQuery->->->Census_Join</b> to be created.\n",
        " 1. Join the <a href='https://groups.google.com/d/forum/starthinker-assets' target='_blank'>StarThinker Assets Group</a> to access the following assets\n",
        " 1. Copy <a href='https://datastudio.google.com/c/u/0/reporting/3673497b-f36f-4448-8fb9-3e05ea51842f/' target='_blank'>CM360 Segmentology Sample</a>. Leave the Data Source as is, you will change it in the next step.\n",
        " 1. Click Edit Connection, and change to <b>BigQuery->->->Census_Join</b>.\n",
        " 1. Or give these intructions to the client.\n",
        "Modify the values below for your use case, can be done multiple times, then click play.\n"
      ]
    },
    {
      "cell_type": "code",
      "metadata": {
        "id": "8b181d27-011",
        "colab_type": "code"
      },
      "source": [
        "FIELDS = {\n",
        "  'account': '',\n",
        "  'auth_read': 'user',  # Credentials used for reading data.\n",
        "  'auth_write': 'service',  # Authorization used for writing data.\n",
        "  'recipe_name': '',  # Name of report, not needed if ID used.\n",
        "  'recipe_slug': '',  # Name of Google BigQuery dataset to create.\n",
        "  'advertisers': [],  # Comma delimited list of CM360 advertiser ids.\n",
        "}\n",
        "\n",
        "print(\"Parameters Set To: %s\" % FIELDS)\n"
      ]
    },
    {
      "cell_type": "markdown",
      "metadata": {
        "id": "8b181d27-012",
        "colab_type": "text"
      },
      "source": [
        "#5. Execute CM360 Segmentology\n",
        "This does NOT need to be modified unless you are changing the recipe, click play.\n"
      ]
    },
    {
      "cell_type": "code",
      "metadata": {
        "id": "8b181d27-013",
        "colab_type": "code"
      },
      "source": [
        "from starthinker.util.configuration import Configuration\n",
        "from starthinker.util.configuration import execute\n",
        "from starthinker.util.recipe import json_set_fields\n",
        "\n",
        "USER_CREDENTIALS = '/content/user.json'\n",
        "\n",
        "TASKS = [\n",
        "  {\n",
        "    'dataset': {\n",
        "      'description': 'Create a dataset for bigquery tables.',\n",
        "      'hour': [\n",
        "        4\n",
        "      ],\n",
        "      'auth': 'user',\n",
        "      'dataset': {'field': {'name': 'recipe_slug','kind': 'string','description': 'Place where tables will be created in BigQuery.'}}\n",
        "    }\n",
        "  },\n",
        "  {\n",
        "    'bigquery': {\n",
        "      'auth': 'user',\n",
        "      'function': 'Pearson Significance Test',\n",
        "      'to': {\n",
        "        'dataset': {'field': {'name': 'recipe_slug','kind': 'string','order': 4,'default': '','description': 'Name of Google BigQuery dataset to create.'}}\n",
        "      }\n",
        "    }\n",
        "  },\n",
        "  {\n",
        "    'google_api': {\n",
        "      'auth': 'user',\n",
        "      'api': 'dfareporting',\n",
        "      'version': 'v3.4',\n",
        "      'function': 'accounts.get',\n",
        "      'kwargs': {\n",
        "        'id': {'field': {'name': 'account','kind': 'integer','order': 5,'default': '','description': 'Campaign Manager Account ID'}},\n",
        "        'fields': 'id,name'\n",
        "      },\n",
        "      'results': {\n",
        "        'bigquery': {\n",
        "          'auth': 'user',\n",
        "          'dataset': {'field': {'name': 'recipe_slug','kind': 'string','order': 4,'default': '','description': 'Name of Google BigQuery dataset to create.'}},\n",
        "          'table': 'CM360_Account'\n",
        "        }\n",
        "      }\n",
        "    }\n",
        "  },\n",
        "  {\n",
        "    'dcm': {\n",
        "      'auth': 'user',\n",
        "      'report': {\n",
        "        'filters': {\n",
        "          'advertiser': {\n",
        "            'values': {'field': {'name': 'advertisers','kind': 'integer_list','order': 6,'default': [],'description': 'Comma delimited list of CM360 advertiser ids.'}}\n",
        "          }\n",
        "        },\n",
        "        'account': {'field': {'name': 'account','kind': 'string','order': 5,'default': '','description': 'Campaign Manager Account ID'}},\n",
        "        'body': {\n",
        "          'name': {'field': {'name': 'recipe_name','kind': 'string','prefix': 'Segmentology ','description': 'The report name.','default': ''}},\n",
        "          'criteria': {\n",
        "            'dateRange': {\n",
        "              'kind': 'dfareporting#dateRange',\n",
        "              'relativeDateRange': 'LAST_24_MONTHS'\n",
        "            },\n",
        "            'dimensions': [\n",
        "              {\n",
        "                'kind': 'dfareporting#sortedDimension',\n",
        "                'name': 'advertiserId'\n",
        "              },\n",
        "              {\n",
        "                'kind': 'dfareporting#sortedDimension',\n",
        "                'name': 'advertiser'\n",
        "              },\n",
        "              {\n",
        "                'kind': 'dfareporting#sortedDimension',\n",
        "                'name': 'campaignId'\n",
        "              },\n",
        "              {\n",
        "                'kind': 'dfareporting#sortedDimension',\n",
        "                'name': 'campaign'\n",
        "              },\n",
        "              {\n",
        "                'kind': 'dfareporting#sortedDimension',\n",
        "                'name': 'placementId'\n",
        "              },\n",
        "              {\n",
        "                'kind': 'dfareporting#sortedDimension',\n",
        "                'name': 'placement'\n",
        "              },\n",
        "              {\n",
        "                'kind': 'dfareporting#sortedDimension',\n",
        "                'name': 'zipCode'\n",
        "              }\n",
        "            ],\n",
        "            'metricNames': [\n",
        "              'impressions',\n",
        "              'clicks',\n",
        "              'totalConversions'\n",
        "            ]\n",
        "          },\n",
        "          'type': 'STANDARD',\n",
        "          'delivery': {\n",
        "            'emailOwner': False\n",
        "          },\n",
        "          'format': 'CSV'\n",
        "        }\n",
        "      }\n",
        "    }\n",
        "  },\n",
        "  {\n",
        "    'dcm': {\n",
        "      'auth': 'user',\n",
        "      'report': {\n",
        "        'account': {'field': {'name': 'account','kind': 'string','default': ''}},\n",
        "        'name': {'field': {'name': 'recipe_name','kind': 'string','order': 3,'prefix': 'Segmentology ','default': '','description': 'Name of report, not needed if ID used.'}}\n",
        "      },\n",
        "      'out': {\n",
        "        'bigquery': {\n",
        "          'auth': 'user',\n",
        "          'dataset': {'field': {'name': 'recipe_slug','kind': 'string','order': 4,'default': '','description': 'Name of Google BigQuery dataset to create.'}},\n",
        "          'table': 'CM360_KPI',\n",
        "          'header': True\n",
        "        }\n",
        "      }\n",
        "    }\n",
        "  },\n",
        "  {\n",
        "    'bigquery': {\n",
        "      'auth': 'user',\n",
        "      'from': {\n",
        "        'query': 'SELECT            Id AS Partner_Id,            Name AS Partner,            Advertiser_Id,            Advertiser,            Campaign_Id,            Campaign,            Zip_Postal_Code AS Zip,            SAFE_DIVIDE(Impressions, SUM(Impressions) OVER(PARTITION BY Advertiser_Id)) AS Impression,            SAFE_DIVIDE(Clicks, Impressions) AS Click,            SAFE_DIVIDE(Total_Conversions, Impressions) AS Conversion,            Impressions AS Impressions          FROM `{dataset}.CM360_KPI`          CROSS JOIN `{dataset}.CM360_Account`        ',\n",
        "        'parameters': {\n",
        "          'dataset': {'field': {'name': 'recipe_slug','kind': 'string','description': 'Place where tables will be created in BigQuery.'}}\n",
        "        },\n",
        "        'legacy': False\n",
        "      },\n",
        "      'to': {\n",
        "        'dataset': {'field': {'name': 'recipe_slug','kind': 'string','description': 'Place where tables will be written in BigQuery.'}},\n",
        "        'view': 'CM360_KPI_Normalized'\n",
        "      }\n",
        "    }\n",
        "  },\n",
        "  {\n",
        "    'census': {\n",
        "      'auth': 'user',\n",
        "      'normalize': {\n",
        "        'census_geography': 'zip_codes',\n",
        "        'census_year': '2018',\n",
        "        'census_span': '5yr'\n",
        "      },\n",
        "      'to': {\n",
        "        'dataset': {'field': {'name': 'recipe_slug','kind': 'string','order': 4,'default': '','description': 'Name of Google BigQuery dataset to create.'}},\n",
        "        'type': 'view'\n",
        "      }\n",
        "    }\n",
        "  },\n",
        "  {\n",
        "    'census': {\n",
        "      'auth': 'user',\n",
        "      'correlate': {\n",
        "        'join': 'Zip',\n",
        "        'pass': [\n",
        "          'Partner_Id',\n",
        "          'Partner',\n",
        "          'Advertiser_Id',\n",
        "          'Advertiser',\n",
        "          'Campaign_Id',\n",
        "          'Campaign'\n",
        "        ],\n",
        "        'sum': [\n",
        "          'Impressions'\n",
        "        ],\n",
        "        'correlate': [\n",
        "          'Impression',\n",
        "          'Click',\n",
        "          'Conversion'\n",
        "        ],\n",
        "        'dataset': {'field': {'name': 'recipe_slug','kind': 'string','order': 4,'default': '','description': 'Name of Google BigQuery dataset to create.'}},\n",
        "        'table': 'CM360_KPI_Normalized',\n",
        "        'significance': 80\n",
        "      },\n",
        "      'to': {\n",
        "        'dataset': {'field': {'name': 'recipe_slug','kind': 'string','order': 4,'default': '','description': 'Name of Google BigQuery dataset to create.'}},\n",
        "        'type': 'view'\n",
        "      }\n",
        "    }\n",
        "  }\n",
        "]\n",
        "\n",
        "json_set_fields(TASKS, FIELDS)\n",
        "\n",
        "execute(Configuration(project=CLOUD_PROJECT, client=CLIENT_CREDENTIALS, user=USER_CREDENTIALS, verbose=True), TASKS, force=True)\n"
      ]
    }
  ]
}

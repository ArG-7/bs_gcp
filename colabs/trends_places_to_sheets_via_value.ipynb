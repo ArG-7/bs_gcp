{
  "license": "Apache License, Version 2.0",
  "copyright": "Copyright 2018 Google Inc.",
  "nbformat": "4",
  "nbformat_minor": "0",
  "metadata": {
    "colab": {
      "name": "Trends Places To Sheets Via Values",
      "provenance": [],
      "collapsed_sections": [],
      "toc_visible": true
    },
    "kernelspec": {
      "name": "python3",
      "display_name": "Python 3"
    }
  },
  "cells": [
    {
      "cell_type": "markdown",
      "metadata": {
        "id": "mRXbw3ZGneyT",
        "colab_type": "text"
      },
      "source": [
        "#1. Install Dependencies\n",
        "First install the libraries needed to execute recipes, this only needs to be done once, then click play.\n"
      ]
    },
    {
      "cell_type": "code",
      "metadata": {
        "id": "ek9yOwDUhFnT",
        "colab_type": "code"
      },
      "source": [
        "!pip install git+https://github.com/google/starthinker\n"
      ]
    },
    {
      "cell_type": "markdown",
      "metadata": {
        "id": "Mz5rHaPwhUf9",
        "colab_type": "text"
      },
      "source": [
        "#2. Get Cloud Project ID\n",
        "To run this recipe [requires a Google Cloud Project](https://github.com/google/starthinker/blob/master/tutorials/cloud_project.md), this only needs to be done once, then click play.\n"
      ]
    },
    {
      "cell_type": "code",
      "metadata": {
        "id": "lNJwhGBo0ZCq",
        "colab_type": "code"
      },
      "source": [
        "CLOUD_PROJECT = 'PASTE PROJECT ID HERE'\n",
        "\n",
        "print(\"Cloud Project Set To: %s\" % CLOUD_PROJECT)\n"
      ]
    },
    {
      "cell_type": "markdown",
      "metadata": {
        "id": "S240SA1ky4ZH",
        "colab_type": "text"
      },
      "source": [
        "#3. Get Client Credentials\n",
        "To read and write to various endpoints requires [downloading client credentials](https://github.com/google/starthinker/blob/master/tutorials/cloud_client_installed.md), this only needs to be done once, then click play.\n"
      ]
    },
    {
      "cell_type": "code",
      "metadata": {
        "id": "HLaYiQBrK3fP",
        "colab_type": "code"
      },
      "source": [
        "CLIENT_CREDENTIALS = 'PASTE CREDENTIALS HERE'\n",
        "\n",
        "print(\"Client Credentials Set To: %s\" % CLIENT_CREDENTIALS)\n"
      ]
    },
    {
      "cell_type": "markdown",
      "metadata": {
        "id": "g5V1yKvQxYev",
        "colab_type": "text"
      },
      "source": [
        "#4. Enter Trends Places To Sheets Via Values Parameters\n",
        "Move using hard coded WOEID values.\n",
        " 1. Provide <a href='https://apps.twitter.com/' target='_blank'>Twitter credentials</a>.\n",
        " 1. Provide a comma delimited list of WOEIDs.\n",
        " 1. Specify Sheet url and tab to write API call results to.\n",
        " 1. Writes: WOEID, Name, Url, Promoted_Content, Query, Tweet_Volume\n",
        " 1. Note Twitter API is rate limited to 15 requests per 15 minutes. So keep WOEID lists short.\n",
        "Modify the values below for your use case, can be done multiple times, then click play.\n"
      ]
    },
    {
      "cell_type": "code",
      "metadata": {
        "id": "FvzDb1mdkNxA",
        "colab_type": "code"
      },
      "source": [
        "FIELDS = {\n",
        "  \"secret\":\"\",\n",
        "  \"key\":\"\",\n",
        "  \"places_dataset\":\"\",\n",
        "  \"places_query\":\"\",\n",
        "  \"places_legacy\":False,\n",
        "  \"destination_sheet\":\"\",\n",
        "  \"destination_tab\":\"\",\n",
        "}\n",
        "\n",
        "print(\"Parameters Set To: %s\" % FIELDS)\n"
      ]
    },
    {
      "cell_type": "markdown",
      "metadata": {
        "id": "xh1A5IIQcoVY",
        "colab_type": "text"
      },
      "source": [
        "#5. Execute Trends Places To Sheets Via Values\n",
        "This does NOT need to be modified unles you are changing the recipe, click play.\n"
      ]
    },
    {
      "cell_type": "code",
      "metadata": {
        "id": "8SzdWOV0JiYx",
        "colab_type": "code"
      },
      "source": [
        "from starthinker.util.project import project\n",
        "from starthinker.script.parse import json_set_fields\n",
        "\n",
        "USER_CREDENTIALS = '/content/user.json'\n",
        "\n",
        "TASKS = [ { 'twitter': { 'auth': 'user',\n",
        "                 'key': { 'field': { 'default': '',\n",
        "                                     'kind': 'string',\n",
        "                                     'name': 'key',\n",
        "                                     'order': 2}},\n",
        "                 'out': { 'sheets': { 'range': 'A1',\n",
        "                                      'sheet': { 'field': { 'default': '',\n",
        "                                                            'kind': 'string',\n",
        "                                                            'name': 'destination_sheet',\n",
        "                                                            'order': 6}},\n",
        "                                      'tab': { 'field': { 'default': '',\n",
        "                                                          'kind': 'string',\n",
        "                                                          'name': 'destination_tab',\n",
        "                                                          'order': 7}}}},\n",
        "                 'secret': { 'field': { 'default': '',\n",
        "                                        'kind': 'string',\n",
        "                                        'name': 'secret',\n",
        "                                        'order': 1}},\n",
        "                 'trends': { 'places': { 'bigquery': { 'dataset': { 'field': { 'default': '',\n",
        "                                                                               'kind': 'string',\n",
        "                                                                               'name': 'places_dataset',\n",
        "                                                                               'order': 3}},\n",
        "                                                       'legacy': { 'field': { 'default': False,\n",
        "                                                                              'kind': 'boolean',\n",
        "                                                                              'name': 'places_legacy',\n",
        "                                                                              'order': 5}},\n",
        "                                                       'query': { 'field': { 'default': '',\n",
        "                                                                             'kind': 'string',\n",
        "                                                                             'name': 'places_query',\n",
        "                                                                             'order': 4}}},\n",
        "                                         'single_cell': True}}}}]\n",
        "\n",
        "json_set_fields(TASKS, FIELDS)\n",
        "project.initialize(_recipe={ 'tasks':TASKS }, _project=CLOUD_PROJECT, _user=USER_CREDENTIALS, _client=CLIENT_CREDENTIALS, _verbose=True)\n",
        "project.execute()\n"
      ]
    }
  ]
}
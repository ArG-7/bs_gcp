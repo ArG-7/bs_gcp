{
  "metadata": {
    "colab": {
      "toc_visible": true,
      "collapsed_sections": [],
      "name": "Email Fetch",
      "provenance": []
    },
    "kernelspec": {
      "display_name": "Python 3",
      "name": "python3"
    }
  },
  "copyright": "Copyright 2020 Google LLC",
  "nbformat_minor": "0",
  "license": "Apache License, Version 2.0",
  "nbformat": "4",
  "cells": [
    {
      "metadata": {
        "colab_type": "text"
      },
      "source": [
        "#1. Install Dependencies\n",
        "First install the libraries needed to execute recipes, this only needs to be done once, then click play.\n"
      ],
      "cell_type": "markdown"
    },
    {
      "metadata": {
        "colab_type": "code"
      },
      "source": [
        "!pip install git+https://github.com/google/starthinker\n"
      ],
      "cell_type": "code"
    },
    {
      "metadata": {
        "colab_type": "text"
      },
      "source": [
        "#2. Get Cloud Project ID\n",
        "To run this recipe [requires a Google Cloud Project](https://github.com/google/starthinker/blob/master/tutorials/cloud_project.md), this only needs to be done once, then click play.\n"
      ],
      "cell_type": "markdown"
    },
    {
      "metadata": {
        "colab_type": "code"
      },
      "source": [
        "CLOUD_PROJECT = 'PASTE PROJECT ID HERE'\n",
        "\n",
        "print(\"Cloud Project Set To: %s\" % CLOUD_PROJECT)\n"
      ],
      "cell_type": "code"
    },
    {
      "metadata": {
        "colab_type": "text"
      },
      "source": [
        "#3. Get Client Credentials\n",
        "To read and write to various endpoints requires [downloading client credentials](https://github.com/google/starthinker/blob/master/tutorials/cloud_client_installed.md), this only needs to be done once, then click play.\n"
      ],
      "cell_type": "markdown"
    },
    {
      "metadata": {
        "colab_type": "code"
      },
      "source": [
        "CLIENT_CREDENTIALS = 'PASTE CREDENTIALS HERE'\n",
        "\n",
        "print(\"Client Credentials Set To: %s\" % CLIENT_CREDENTIALS)\n"
      ],
      "cell_type": "code"
    },
    {
      "metadata": {
        "colab_type": "text"
      },
      "source": [
        "#4. Enter Email Fetch Parameters\n",
        "Import emailed CM report, Dv360 report, csv, or excel into a BigQuery table.\n",
        " 1. The person executing this recipe must be the recipient of the email.\n",
        " 1. Give a regular expression to match the email subject, link or attachment.\n",
        " 1. The data downloaded will overwrite the table specified.\n",
        "Modify the values below for your use case, can be done multiple times, then click play.\n"
      ],
      "cell_type": "markdown"
    },
    {
      "metadata": {
        "colab_type": "code"
      },
      "source": [
        "FIELDS = {\n",
        "  'email_from': '',  # Must match from field.\n",
        "  'auth_read': 'user',  # Credentials used for reading data.\n",
        "  'email_to': '',  # Must match to field.\n",
        "  'subject': '',  # Regular expression to match subject.\n",
        "  'link': '',  # Regular expression to match email.\n",
        "  'attachment': '',  # Regular expression to match atttachment.\n",
        "  'dataset': '',  # Existing dataset in BigQuery.\n",
        "  'table': '',  # Name of table to be written to.\n",
        "  'dbm_schema': '[]',  # Schema provided in JSON list format or empty list.\n",
        "  'is_incremental_load': False,  # Append report data to table based on date column, de-duplicates.\n",
        "}\n",
        "\n",
        "print(\"Parameters Set To: %s\" % FIELDS)\n"
      ],
      "cell_type": "code"
    },
    {
      "metadata": {
        "colab_type": "text"
      },
      "source": [
        "#5. Execute Email Fetch\n",
        "This does NOT need to be modified unles you are changing the recipe, click play.\n"
      ],
      "cell_type": "markdown"
    },
    {
      "metadata": {
        "colab_type": "code"
      },
      "source": [
        "from starthinker.util.project import project\n",
        "from starthinker.script.parse import json_set_fields\n",
        "\n",
        "USER_CREDENTIALS = '/content/user.json'\n",
        "\n",
        "TASKS = [\n",
        "  {\n",
        "    'email': {\n",
        "      'auth': 'user',\n",
        "      'out': {\n",
        "        'bigquery': {\n",
        "          'table': {'field': {'description': 'Name of table to be written to.','name': 'table','order': 7,'default': '','kind': 'string'}},\n",
        "          'dataset': {'field': {'description': 'Existing dataset in BigQuery.','name': 'dataset','order': 6,'default': '','kind': 'string'}},\n",
        "          'is_incremental_load': {'field': {'description': 'Append report data to table based on date column, de-duplicates.','name': 'is_incremental_load','order': 9,'default': False,'kind': 'boolean'}},\n",
        "          'schema': {'field': {'description': 'Schema provided in JSON list format or empty list.','name': 'dbm_schema','order': 8,'default': '[]','kind': 'json'}}\n",
        "        }\n",
        "      },\n",
        "      'read': {\n",
        "        'to': {'field': {'description': 'Must match to field.','name': 'email_to','order': 2,'default': '','kind': 'string'}},\n",
        "        'subject': {'field': {'description': 'Regular expression to match subject.','name': 'subject','order': 3,'default': '','kind': 'string'}},\n",
        "        'attachment': {'field': {'description': 'Regular expression to match atttachment.','name': 'attachment','order': 5,'default': '','kind': 'string'}},\n",
        "        'link': {'field': {'description': 'Regular expression to match email.','name': 'link','order': 4,'default': '','kind': 'string'}},\n",
        "        'from': {'field': {'description': 'Must match from field.','name': 'email_from','order': 1,'default': '','kind': 'string'}}\n",
        "      }\n",
        "    }\n",
        "  }\n",
        "]\n",
        "\n",
        "json_set_fields(TASKS, FIELDS)\n",
        "\n",
        "project.initialize(_recipe={ 'tasks':TASKS }, _project=CLOUD_PROJECT, _user=USER_CREDENTIALS, _client=CLIENT_CREDENTIALS, _verbose=True, _force=True)\n",
        "project.execute(_force=True)\n"
      ],
      "cell_type": "code"
    }
  ]
}
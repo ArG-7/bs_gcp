{
  "license": "Apache License, Version 2.0",
  "copyright": "Copyright 2018 Google Inc.",
  "nbformat": "4",
  "nbformat_minor": "0",
  "metadata": {
    "colab": {
      "name": "Email Fetch",
      "provenance": [],
      "collapsed_sections": [],
      "toc_visible": true
    },
    "kernelspec": {
      "name": "python3",
      "display_name": "Python 3"
    }
  },
  "cells": [
    {
      "cell_type": "markdown",
      "metadata": {
        "id": "GRBCpnUsWD6J",
        "colab_type": "text"
      },
      "source": [
        "#1. Install Dependencies\n",
        "First install the libraries needed to execute recipes, this only needs to be done once, then click play.\n"
      ]
    },
    {
      "cell_type": "code",
      "metadata": {
        "id": "puIeL67ZJyGW",
        "colab_type": "code"
      },
      "source": [
        "!pip install git+https://github.com/google/starthinker\n"
      ]
    },
    {
      "cell_type": "markdown",
      "metadata": {
        "id": "lnNTeHObqzUF",
        "colab_type": "text"
      },
      "source": [
        "#2. Get Cloud Project ID\n",
        "To run this recipe [requires a Google Cloud Project](https://github.com/google/starthinker/blob/master/tutorials/cloud_project.md), this only needs to be done once, then click play.\n"
      ]
    },
    {
      "cell_type": "code",
      "metadata": {
        "id": "Pq7xb1fFIM9p",
        "colab_type": "code"
      },
      "source": [
        "CLOUD_PROJECT = 'PASTE PROJECT ID HERE'\n",
        "\n",
        "print(\"Cloud Project Set To: %s\" % CLOUD_PROJECT)\n"
      ]
    },
    {
      "cell_type": "markdown",
      "metadata": {
        "id": "yKCFRjrsuevZ",
        "colab_type": "text"
      },
      "source": [
        "#3. Get Client Credentials\n",
        "To read and write to various endpoints requires [downloading client credentials](https://github.com/google/starthinker/blob/master/tutorials/cloud_client_installed.md), this only needs to be done once, then click play.\n"
      ]
    },
    {
      "cell_type": "code",
      "metadata": {
        "id": "OIcimYdbShha",
        "colab_type": "code"
      },
      "source": [
        "CLIENT_CREDENTIALS = 'PASTE CREDENTIALS HERE'\n",
        "\n",
        "print(\"Client Credentials Set To: %s\" % CLIENT_CREDENTIALS)\n"
      ]
    },
    {
      "cell_type": "markdown",
      "metadata": {
        "id": "z8dId31O6797",
        "colab_type": "text"
      },
      "source": [
        "#4. Enter Email Fetch Parameters\n",
        "Import emailed csv or excel into a BigQuery table.\n",
        " 1. The person executing this recipe must be the recipient of the email.\n",
        " 1. Schedule a CSV or Excel to be sent to <b>UNDEFINED</b>.\n",
        " 1. Give a regular expression to match the email subject, link or attachment.\n",
        " 1. The data downloaded will overwrite the table specified.\n",
        "Modify the values below for your use case, can be done multiple times, then click play.\n"
      ]
    },
    {
      "cell_type": "code",
      "metadata": {
        "id": "gIszZu6fMox8",
        "colab_type": "code"
      },
      "source": [
        "FIELDS = {\n",
        "  \"email_from\":\"\", # Must match from field.\n",
        "  \"email_to\":\"\", # Must match to field.\n",
        "  \"subject\":\"\", # Regular expression to match subject.\n",
        "  \"link\":\"\", # Regular expression to match email.\n",
        "  \"attachment\":\"\", # Regular expression to match atttachment.\n",
        "  \"dataset\":\"\", # Existing dataset in BigQuery.\n",
        "  \"table\":\"\", # Name of table to be written to.\n",
        "}\n",
        "\n",
        "print(\"Parameters Set To: %s\" % FIELDS)\n"
      ]
    },
    {
      "cell_type": "markdown",
      "metadata": {
        "id": "4IKCTdqGJKVF",
        "colab_type": "text"
      },
      "source": [
        "#5. Execute Email Fetch\n",
        "This does NOT need to be modified unles you are changing the recipe, click play.\n"
      ]
    },
    {
      "cell_type": "code",
      "metadata": {
        "id": "kwy4gyvsUfx8",
        "colab_type": "code"
      },
      "source": [
        "from starthinker.util.project import project\n",
        "from starthinker.script.parse import json_set_fields\n",
        "\n",
        "USER_CREDENTIALS = '/content/user.json'\n",
        "\n",
        "TASKS = [ { 'email': { 'auth': 'user',\n",
        "               'in': { 'email': { 'attachment': { 'field': { 'default': '',\n",
        "                                                             'description': 'Regular '\n",
        "                                                                            'expression '\n",
        "                                                                            'to '\n",
        "                                                                            'match '\n",
        "                                                                            'atttachment.',\n",
        "                                                             'kind': 'string',\n",
        "                                                             'name': 'attachment',\n",
        "                                                             'order': 5}},\n",
        "                                  'from': { 'field': { 'default': '',\n",
        "                                                       'description': 'Must '\n",
        "                                                                      'match '\n",
        "                                                                      'from '\n",
        "                                                                      'field.',\n",
        "                                                       'kind': 'string',\n",
        "                                                       'name': 'email_from',\n",
        "                                                       'order': 1}},\n",
        "                                  'link': { 'field': { 'default': '',\n",
        "                                                       'description': 'Regular '\n",
        "                                                                      'expression '\n",
        "                                                                      'to '\n",
        "                                                                      'match '\n",
        "                                                                      'email.',\n",
        "                                                       'kind': 'string',\n",
        "                                                       'name': 'link',\n",
        "                                                       'order': 4}},\n",
        "                                  'subject': { 'field': { 'default': '',\n",
        "                                                          'description': 'Regular '\n",
        "                                                                         'expression '\n",
        "                                                                         'to '\n",
        "                                                                         'match '\n",
        "                                                                         'subject.',\n",
        "                                                          'kind': 'string',\n",
        "                                                          'name': 'subject',\n",
        "                                                          'order': 3}},\n",
        "                                  'to': { 'field': { 'default': '',\n",
        "                                                     'description': 'Must '\n",
        "                                                                    'match '\n",
        "                                                                    'to '\n",
        "                                                                    'field.',\n",
        "                                                     'kind': 'string',\n",
        "                                                     'name': 'email_to',\n",
        "                                                     'order': 2}}}},\n",
        "               'out': { 'bigquery': { 'dataset': { 'field': { 'default': '',\n",
        "                                                              'description': 'Existing '\n",
        "                                                                             'dataset '\n",
        "                                                                             'in '\n",
        "                                                                             'BigQuery.',\n",
        "                                                              'kind': 'string',\n",
        "                                                              'name': 'dataset',\n",
        "                                                              'order': 6}},\n",
        "                                      'table': { 'field': { 'default': '',\n",
        "                                                            'description': 'Name '\n",
        "                                                                           'of '\n",
        "                                                                           'table '\n",
        "                                                                           'to '\n",
        "                                                                           'be '\n",
        "                                                                           'written '\n",
        "                                                                           'to.',\n",
        "                                                            'kind': 'string',\n",
        "                                                            'name': 'table',\n",
        "                                                            'order': 7}}}}}}]\n",
        "\n",
        "json_set_fields(TASKS, FIELDS)\n",
        "project.initialize(_recipe={ 'tasks':TASKS }, _project=CLOUD_PROJECT, _user=USER_CREDENTIALS, _client=CLIENT_CREDENTIALS, _verbose=True)\n",
        "project.execute()\n"
      ]
    }
  ]
}
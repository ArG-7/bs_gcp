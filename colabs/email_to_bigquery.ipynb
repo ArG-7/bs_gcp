{
  "license": "Apache License, Version 2.0",
  "copyright": "Copyright 2018 Google Inc.",
  "nbformat": "4",
  "nbformat_minor": "0",
  "metadata": {
    "colab": {
      "name": "Email Fetch",
      "provenance": [],
      "collapsed_sections": [],
      "toc_visible": true
    },
    "kernelspec": {
      "name": "python3",
      "display_name": "Python 3"
    }
  },
  "cells": [
    {
      "cell_type": "markdown",
      "metadata": {
        "id": "sYgG0I1Tkvsy",
        "colab_type": "text"
      },
      "source": [
        "#1. Install Dependencies\n",
        "First install the libraries needed to execute recipes, this only needs to be done once, then click play.\n"
      ]
    },
    {
      "cell_type": "code",
      "metadata": {
        "id": "fU8ECb8fMxd7",
        "colab_type": "code"
      },
      "source": [
        "!pip install git+https://github.com/google/starthinker\n"
      ]
    },
    {
      "cell_type": "markdown",
      "metadata": {
        "id": "wLGUPW8F3GMH",
        "colab_type": "text"
      },
      "source": [
        "#2. Get Cloud Project ID\n",
        "To run this recipe [requires a Google Cloud Project](https://github.com/google/starthinker/blob/master/tutorials/cloud_project.md), this only needs to be done once, then click play.\n"
      ]
    },
    {
      "cell_type": "code",
      "metadata": {
        "id": "rgEcp5MsNHNR",
        "colab_type": "code"
      },
      "source": [
        "CLOUD_PROJECT = 'PASTE PROJECT ID HERE'\n",
        "\n",
        "print(\"Cloud Project Set To: %s\" % CLOUD_PROJECT)\n"
      ]
    },
    {
      "cell_type": "markdown",
      "metadata": {
        "id": "zNHQ3Fo0nys3",
        "colab_type": "text"
      },
      "source": [
        "#3. Get Client Credentials\n",
        "To read and write to various endpoints requires [downloading client credentials](https://github.com/google/starthinker/blob/master/tutorials/cloud_client_installed.md), this only needs to be done once, then click play.\n"
      ]
    },
    {
      "cell_type": "code",
      "metadata": {
        "id": "6au6b1EDlCto",
        "colab_type": "code"
      },
      "source": [
        "CLIENT_CREDENTIALS = 'PASTE CREDENTIALS HERE'\n",
        "\n",
        "print(\"Client Credentials Set To: %s\" % CLIENT_CREDENTIALS)\n"
      ]
    },
    {
      "cell_type": "markdown",
      "metadata": {
        "id": "ZkqFxlIUke5R",
        "colab_type": "text"
      },
      "source": [
        "#4. Enter Email Fetch Parameters\n",
        "Import emailed csv or excel into a BigQuery table.\n",
        " 1. The person executing this recipe must be the recipient of the email.\n",
        " 1. Schedule a CSV or Excel to be sent to <b>UNDEFINED</b>.\n",
        " 1. Give a regular expression to match the email subject, link or attachment.\n",
        " 1. The data downloaded will overwrite the table specified.\n",
        "Modify the values below for your use case, can be done multiple times, then click play.\n"
      ]
    },
    {
      "cell_type": "code",
      "metadata": {
        "id": "TLXeMP9DCYhN",
        "colab_type": "code"
      },
      "source": [
        "FIELDS = {\n",
        "  \"email_from\":\"\", # Must match from field.\n",
        "  \"email_to\":\"\", # Must match to field.\n",
        "  \"subject\":\"\", # Regular expression to match subject.\n",
        "  \"link\":\"\", # Regular expression to match email.\n",
        "  \"attachment\":\"\", # Regular expression to match atttachment.\n",
        "  \"dataset\":\"\", # Existing dataset in BigQuery.\n",
        "  \"table\":\"\", # Name of table to be written to.\n",
        "}\n",
        "\n",
        "print(\"Parameters Set To: %s\" % FIELDS)\n"
      ]
    },
    {
      "cell_type": "markdown",
      "metadata": {
        "id": "8RmPzP12R65S",
        "colab_type": "text"
      },
      "source": [
        "#5. Execute Email Fetch\n",
        "This does NOT need to be modified unles you are changing the recipe, click play.\n"
      ]
    },
    {
      "cell_type": "code",
      "metadata": {
        "id": "MeUgu1dGHm2F",
        "colab_type": "code"
      },
      "source": [
        "from starthinker.util.project import project\n",
        "from starthinker.script.parse import json_set_fields\n",
        "\n",
        "USER_CREDENTIALS = '/content/user.json'\n",
        "\n",
        "TASKS = [\n",
        "  {\n",
        "    \"email\": {\n",
        "      \"auth\": \"user\",\n",
        "      \"in\": {\n",
        "        \"email\": {\n",
        "          \"from\": {\n",
        "            \"field\": {\n",
        "              \"name\": \"email_from\",\n",
        "              \"kind\": \"string\",\n",
        "              \"order\": 1,\n",
        "              \"default\": \"\",\n",
        "              \"description\": \"Must match from field.\"\n",
        "            }\n",
        "          },\n",
        "          \"to\": {\n",
        "            \"field\": {\n",
        "              \"name\": \"email_to\",\n",
        "              \"kind\": \"string\",\n",
        "              \"order\": 2,\n",
        "              \"default\": \"\",\n",
        "              \"description\": \"Must match to field.\"\n",
        "            }\n",
        "          },\n",
        "          \"subject\": {\n",
        "            \"field\": {\n",
        "              \"name\": \"subject\",\n",
        "              \"kind\": \"string\",\n",
        "              \"order\": 3,\n",
        "              \"default\": \"\",\n",
        "              \"description\": \"Regular expression to match subject.\"\n",
        "            }\n",
        "          },\n",
        "          \"link\": {\n",
        "            \"field\": {\n",
        "              \"name\": \"link\",\n",
        "              \"kind\": \"string\",\n",
        "              \"order\": 4,\n",
        "              \"default\": \"\",\n",
        "              \"description\": \"Regular expression to match email.\"\n",
        "            }\n",
        "          },\n",
        "          \"attachment\": {\n",
        "            \"field\": {\n",
        "              \"name\": \"attachment\",\n",
        "              \"kind\": \"string\",\n",
        "              \"order\": 5,\n",
        "              \"default\": \"\",\n",
        "              \"description\": \"Regular expression to match atttachment.\"\n",
        "            }\n",
        "          }\n",
        "        }\n",
        "      },\n",
        "      \"out\": {\n",
        "        \"bigquery\": {\n",
        "          \"dataset\": {\n",
        "            \"field\": {\n",
        "              \"name\": \"dataset\",\n",
        "              \"kind\": \"string\",\n",
        "              \"order\": 6,\n",
        "              \"default\": \"\",\n",
        "              \"description\": \"Existing dataset in BigQuery.\"\n",
        "            }\n",
        "          },\n",
        "          \"table\": {\n",
        "            \"field\": {\n",
        "              \"name\": \"table\",\n",
        "              \"kind\": \"string\",\n",
        "              \"order\": 7,\n",
        "              \"default\": \"\",\n",
        "              \"description\": \"Name of table to be written to.\"\n",
        "            }\n",
        "          }\n",
        "        }\n",
        "      }\n",
        "    }\n",
        "  }\n",
        "]\n",
        "\n",
        "json_set_fields(TASKS, FIELDS)\n",
        "project.initialize(_recipe={ 'tasks':TASKS }, _project=CLOUD_PROJECT, _user=USER_CREDENTIALS, _client=CLIENT_CREDENTIALS, _verbose=True)\n",
        "project.execute()\n"
      ]
    }
  ]
}
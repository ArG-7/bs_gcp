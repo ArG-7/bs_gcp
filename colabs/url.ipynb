{
  "license": "Licensed under the Apache License, Version 2.0",
  "copyright": "Copyright 2020 Google LLC",
  "nbformat": 4,
  "nbformat_minor": 0,
  "metadata": {
    "colab": {
      "name": "URL",
      "provenance": [],
      "collapsed_sections": [],
      "toc_visible": true
    },
    "kernelspec": {
      "name": "python3",
      "display_name": "Python 3"
    }
  },
  "cells": [
    {
      "cell_type": "markdown",
      "metadata": {
        "id": "6585703d-001",
        "colab_type": "text"
      },
      "source": [
        "#1. Install Dependencies\n",
        "First install the libraries needed to execute recipes, this only needs to be done once, then click play.\n"
      ]
    },
    {
      "cell_type": "code",
      "metadata": {
        "id": "6585703d-002",
        "colab_type": "code"
      },
      "source": [
        "!pip install git+https://github.com/google/starthinker\n"
      ]
    },
    {
      "cell_type": "markdown",
      "metadata": {
        "id": "6585703d-003",
        "colab_type": "text"
      },
      "source": [
        "#2. Get Cloud Project ID\n",
        "To run this recipe [requires a Google Cloud Project](https://github.com/google/starthinker/blob/master/tutorials/cloud_project.md), this only needs to be done once, then click play.\n"
      ]
    },
    {
      "cell_type": "code",
      "metadata": {
        "id": "6585703d-004",
        "colab_type": "code"
      },
      "source": [
        "CLOUD_PROJECT = 'PASTE PROJECT ID HERE'\n",
        "\n",
        "print(\"Cloud Project Set To: %s\" % CLOUD_PROJECT)\n"
      ]
    },
    {
      "cell_type": "markdown",
      "metadata": {
        "id": "6585703d-005",
        "colab_type": "text"
      },
      "source": [
        "#3. Get Client Credentials\n",
        "To read and write to various endpoints requires [downloading client credentials](https://github.com/google/starthinker/blob/master/tutorials/cloud_client_installed.md), this only needs to be done once, then click play.\n"
      ]
    },
    {
      "cell_type": "code",
      "metadata": {
        "id": "6585703d-006",
        "colab_type": "code"
      },
      "source": [
        "CLIENT_CREDENTIALS = 'PASTE CLIENT CREDENTIALS HERE'\n",
        "\n",
        "print(\"Client Credentials Set To: %s\" % CLIENT_CREDENTIALS)\n"
      ]
    },
    {
      "cell_type": "markdown",
      "metadata": {
        "id": "6585703d-007",
        "colab_type": "text"
      },
      "source": [
        "#4. Enter URL Parameters\n",
        "Pull URL information.\n",
        " 1. Specify a table with columns and URL, URI ( can be null).\n",
        " 1. Check bigquery destination for list of information.\n",
        "Modify the values below for your use case, can be done multiple times, then click play.\n"
      ]
    },
    {
      "cell_type": "code",
      "metadata": {
        "id": "6585703d-008",
        "colab_type": "code"
      },
      "source": [
        "FIELDS = {\n",
        "  'auth': 'service',  # Credentials used for rading and writing data.\n",
        "  'status': True,  # Pull status of HTTP request.\n",
        "  'read': False,  # Pull data from HTTP request.\n",
        "  'dataset': '',  # Name of Google BigQuery dataset to write.\n",
        "  'table': '',  # Name of Google BigQuery dataset to write.\n",
        "}\n",
        "\n",
        "print(\"Parameters Set To: %s\" % FIELDS)\n"
      ]
    },
    {
      "cell_type": "markdown",
      "metadata": {
        "id": "6585703d-009",
        "colab_type": "text"
      },
      "source": [
        "#5. Execute URL\n",
        "This does NOT need to be modified unless you are changing the recipe, click play.\n"
      ]
    },
    {
      "cell_type": "code",
      "metadata": {
        "id": "6585703d-010",
        "colab_type": "code"
      },
      "source": [
        "from starthinker.util.configuration import Configuration\n",
        "from starthinker.util.configuration import execute\n",
        "from starthinker.util.recipe import json_set_fields\n",
        "\n",
        "USER_CREDENTIALS = '/content/user.json'\n",
        "\n",
        "TASKS = [\n",
        "  {\n",
        "    'url': {\n",
        "      'auth': 'user',\n",
        "      'status': {'field': {'name': 'status','kind': 'boolean','order': 2,'default': True,'description': 'Pull status of HTTP request.'}},\n",
        "      'read': {'field': {'name': 'read','kind': 'boolean','order': 3,'default': False,'description': 'Pull data from HTTP request.'}},\n",
        "      'urls': {\n",
        "        'bigquery': {\n",
        "          'dataset': {'field': {'name': 'dataset','kind': 'string','order': 4,'default': '','description': 'Name of Google BigQuery dataset to write.'}},\n",
        "          'query': {'field': {'name': 'table','kind': 'text','order': 5,'default': '','description': 'Query to run to pull URLs.'}},\n",
        "          'legacy': False\n",
        "        }\n",
        "      },\n",
        "      'to': {\n",
        "        'bigquery': {\n",
        "          'dataset': {'field': {'name': 'dataset','kind': 'string','order': 6,'default': '','description': 'Name of Google BigQuery dataset to write.'}},\n",
        "          'table': {'field': {'name': 'table','kind': 'string','order': 7,'default': '','description': 'Name of Google BigQuery dataset to write.'}}\n",
        "        }\n",
        "      }\n",
        "    }\n",
        "  }\n",
        "]\n",
        "\n",
        "json_set_fields(TASKS, FIELDS)\n",
        "\n",
        "execute(Configuration(project=CLOUD_PROJECT, client=CLIENT_CREDENTIALS, user=USER_CREDENTIALS, verbose=True), TASKS, force=True)\n"
      ]
    }
  ]
}

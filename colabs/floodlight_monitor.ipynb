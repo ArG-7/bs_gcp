{
  "license": "Apache License, Version 2.0",
  "copyright": "Copyright 2018 Google Inc.",
  "nbformat": "4",
  "nbformat_minor": "0",
  "metadata": {
    "colab": {
      "name": "Floodlight Monitor",
      "provenance": [],
      "collapsed_sections": [],
      "toc_visible": true
    },
    "kernelspec": {
      "name": "python3",
      "display_name": "Python 3"
    }
  },
  "cells": [
    {
      "cell_type": "markdown",
      "metadata": {
        "id": "30HR4NZZs6Me",
        "colab_type": "text"
      },
      "source": [
        "#1. Install Dependencies\n",
        "First install the libraries needed to execute recipes, this only needs to be done once, then click play.\n"
      ]
    },
    {
      "cell_type": "code",
      "metadata": {
        "id": "FTsnjPynukxP",
        "colab_type": "code"
      },
      "source": [
        "!pip install git+https://github.com/google/starthinker\n"
      ]
    },
    {
      "cell_type": "markdown",
      "metadata": {
        "id": "bZYtKxyokKI9",
        "colab_type": "text"
      },
      "source": [
        "#2. Get Cloud Project ID\n",
        "To run this recipe [requires a Google Cloud Project](https://github.com/google/starthinker/blob/master/tutorials/cloud_project.md), this only needs to be done once, then click play.\n"
      ]
    },
    {
      "cell_type": "code",
      "metadata": {
        "id": "aoEYmGOvdctA",
        "colab_type": "code"
      },
      "source": [
        "CLOUD_PROJECT = 'PASTE PROJECT ID HERE'\n",
        "\n",
        "print(\"Cloud Project Set To: %s\" % CLOUD_PROJECT)\n"
      ]
    },
    {
      "cell_type": "markdown",
      "metadata": {
        "id": "BoPl8RMLhh88",
        "colab_type": "text"
      },
      "source": [
        "#3. Get Client Credentials\n",
        "To read and write to various endpoints requires [downloading client credentials](https://github.com/google/starthinker/blob/master/tutorials/cloud_client_installed.md), this only needs to be done once, then click play.\n"
      ]
    },
    {
      "cell_type": "code",
      "metadata": {
        "id": "NFhnlUUr3uGZ",
        "colab_type": "code"
      },
      "source": [
        "CLIENT_CREDENTIALS = 'PASTE CREDENTIALS HERE'\n",
        "\n",
        "print(\"Client Credentials Set To: %s\" % CLIENT_CREDENTIALS)\n"
      ]
    },
    {
      "cell_type": "markdown",
      "metadata": {
        "id": "QvGW0oY0GtgV",
        "colab_type": "text"
      },
      "source": [
        "#4. Enter Floodlight Monitor Parameters\n",
        "Monitor floodlight impressions specified in sheet and send email alerts.\n",
        " 1. Specify an account_id or account_id:subaccount_id.\n",
        " 1. Will copy <a href='https://docs.google.com/spreadsheets/d/1tjF5styxMvFJsNETEa5x2F5DSmqleGl71cmujB7Ier8/edit?usp=sharing'>Floodlight Monitor Sheet</a> to the sheet you specify.\n",
        " 1. Follow instructions on sheet.\n",
        " 1. Emails are sent once a day.\n",
        "Modify the values below for your use case, can be done multiple times, then click play.\n"
      ]
    },
    {
      "cell_type": "code",
      "metadata": {
        "id": "63GI27TynJ9J",
        "colab_type": "code"
      },
      "source": [
        "FIELDS = {\n",
        "  \"dcm_account\":\"\", # Specify an account_id or account_id:subaccount_id.\n",
        "  \"sheet_url\":\"\", # Full URL to Google Sheet, Floodlight Monitor tab will be added.\n",
        "}\n",
        "\n",
        "print(\"Parameters Set To: %s\" % FIELDS)\n"
      ]
    },
    {
      "cell_type": "markdown",
      "metadata": {
        "id": "U5aTvrL7uXw7",
        "colab_type": "text"
      },
      "source": [
        "#5. Execute Floodlight Monitor\n",
        "This does NOT need to be modified unles you are changing the recipe, click play.\n"
      ]
    },
    {
      "cell_type": "code",
      "metadata": {
        "id": "VpeYeI4HUFeO",
        "colab_type": "code"
      },
      "source": [
        "from starthinker.util.project import project\n",
        "from starthinker.script.parse import json_set_fields\n",
        "\n",
        "USER_CREDENTIALS = '/content/user.json'\n",
        "\n",
        "TASKS = [ { 'floodlight_monitor': { 'account': { 'field': { 'default': '',\n",
        "                                                    'description': 'Specify '\n",
        "                                                                   'an '\n",
        "                                                                   'account_id '\n",
        "                                                                   'or '\n",
        "                                                                   'account_id:subaccount_id.',\n",
        "                                                    'kind': 'string',\n",
        "                                                    'name': 'dcm_account',\n",
        "                                                    'order': 1}},\n",
        "                            'auth': 'user',\n",
        "                            'range': 'A2:C',\n",
        "                            'sheet': { 'field': { 'default': '',\n",
        "                                                  'description': 'Full '\n",
        "                                                                 'URL '\n",
        "                                                                 'to '\n",
        "                                                                 'Google '\n",
        "                                                                 'Sheet, '\n",
        "                                                                 'Floodlight '\n",
        "                                                                 'Monitor '\n",
        "                                                                 'tab '\n",
        "                                                                 'will '\n",
        "                                                                 'be '\n",
        "                                                                 'added.',\n",
        "                                                  'kind': 'string',\n",
        "                                                  'name': 'sheet_url',\n",
        "                                                  'order': 2}},\n",
        "                            'tab': 'Floodlight '\n",
        "                                   'Monitor',\n",
        "                            'template': { 'template': { 'range': 'A1',\n",
        "                                                        'sheet': 'https://docs.google.com/spreadsheets/d/1tjF5styxMvFJsNETEa5x2F5DSmqleGl71cmujB7Ier8/edit?usp=sharing',\n",
        "                                                        'tab': 'Floodlight '\n",
        "                                                               'Monitor'}}}}]\n",
        "\n",
        "json_set_fields(TASKS, FIELDS)\n",
        "project.initialize(_recipe={ 'tasks':TASKS }, _project=CLOUD_PROJECT, _user=USER_CREDENTIALS, _client=CLIENT_CREDENTIALS, _verbose=True)\n",
        "project.execute()\n"
      ]
    }
  ]
}
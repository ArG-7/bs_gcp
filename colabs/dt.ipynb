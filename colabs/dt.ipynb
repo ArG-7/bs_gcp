{
  "license": "Apache License, Version 2.0",
  "copyright": "Copyright 2018 Google Inc.",
  "nbformat": "4",
  "nbformat_minor": "0",
  "metadata": {
    "colab": {
      "name": "DT To Table",
      "provenance": [],
      "collapsed_sections": [],
      "toc_visible": true
    },
    "kernelspec": {
      "name": "python3",
      "display_name": "Python 3"
    }
  },
  "cells": [
    {
      "cell_type": "markdown",
      "metadata": {
        "id": "18k8HfIFkOed",
        "colab_type": "text"
      },
      "source": [
        "#1. Install Dependencies\n",
        "First install the libraries needed to execute recipes, this only needs to be done once, then click play.\n"
      ]
    },
    {
      "cell_type": "code",
      "metadata": {
        "id": "EBTPFPftStCl",
        "colab_type": "code"
      },
      "source": [
        "!pip install git+https://github.com/google/starthinker\n"
      ]
    },
    {
      "cell_type": "markdown",
      "metadata": {
        "id": "xrNGeypXrEl9",
        "colab_type": "text"
      },
      "source": [
        "#2. Get Cloud Project ID\n",
        "To run this recipe [requires a Google Cloud Project](https://github.com/google/starthinker/blob/master/tutorials/cloud_project.md), this only needs to be done once, then click play.\n"
      ]
    },
    {
      "cell_type": "code",
      "metadata": {
        "id": "mKcx3JZyppd3",
        "colab_type": "code"
      },
      "source": [
        "CLOUD_PROJECT = 'PASTE PROJECT ID HERE'\n",
        "\n",
        "print(\"Cloud Project Set To: %s\" % CLOUD_PROJECT)\n"
      ]
    },
    {
      "cell_type": "markdown",
      "metadata": {
        "id": "cXoeRGKAo9yn",
        "colab_type": "text"
      },
      "source": [
        "#3. Get Client Credentials\n",
        "To read and write to various endpoints requires [downloading client credentials](https://github.com/google/starthinker/blob/master/tutorials/cloud_client_installed.md), this only needs to be done once, then click play.\n"
      ]
    },
    {
      "cell_type": "code",
      "metadata": {
        "id": "N7yhq5kubUcq",
        "colab_type": "code"
      },
      "source": [
        "CLIENT_CREDENTIALS = 'PASTE CREDENTIALS HERE'\n",
        "\n",
        "print(\"Client Credentials Set To: %s\" % CLIENT_CREDENTIALS)\n"
      ]
    },
    {
      "cell_type": "markdown",
      "metadata": {
        "id": "Qoz1Jsdp1nps",
        "colab_type": "text"
      },
      "source": [
        "#4. Enter DT To Table Parameters\n",
        "Move data from a DT bucket into a BigQuery table.\n",
        " 1. Ensure your user has <a href='https://developers.google.com/doubleclick-advertisers/dtv2/getting-started' target='_blank'>access to the bucket</a>.\n",
        " 1. Provide the DT bucket name to read from.\n",
        " 1. Provide the path of the files to read.\n",
        " 1. Each file is synchronized to a unique table.  Use a view or aggregate select.\n",
        "Modify the values below for your use case, can be done multiple times, then click play.\n"
      ]
    },
    {
      "cell_type": "code",
      "metadata": {
        "id": "QG2MfIqvYfAN",
        "colab_type": "code"
      },
      "source": [
        "FIELDS = {\n",
        "  \"bucket\":\"\", # Name of bucket where DT files are stored.\n",
        "  \"paths\":[], # List of prefixes to pull specific DT files.\n",
        "  \"days\":2, # Number of days back to synchronize.\n",
        "  \"hours\":0, # Number of hours back to synchronize.\n",
        "  \"dataset\":\"\", # Existing dataset in BigQuery.\n",
        "}\n",
        "\n",
        "print(\"Parameters Set To: %s\" % FIELDS)\n"
      ]
    },
    {
      "cell_type": "markdown",
      "metadata": {
        "id": "p6K0cehPlho1",
        "colab_type": "text"
      },
      "source": [
        "#5. Execute DT To Table\n",
        "This does NOT need to be modified unles you are changing the recipe, click play.\n"
      ]
    },
    {
      "cell_type": "code",
      "metadata": {
        "id": "d7xZbDpM6eTN",
        "colab_type": "code"
      },
      "source": [
        "from starthinker.util.project import project\n",
        "from starthinker.script.parse import json_set_fields\n",
        "\n",
        "USER_CREDENTIALS = '/content/user.json'\n",
        "\n",
        "TASKS = [ { 'dt': { 'auth': 'user',\n",
        "            'from': { 'bucket': { 'field': { 'default': '',\n",
        "                                             'description': 'Name '\n",
        "                                                            'of '\n",
        "                                                            'bucket '\n",
        "                                                            'where '\n",
        "                                                            'DT '\n",
        "                                                            'files '\n",
        "                                                            'are '\n",
        "                                                            'stored.',\n",
        "                                             'kind': 'string',\n",
        "                                             'name': 'bucket',\n",
        "                                             'order': 1}},\n",
        "                      'days': { 'field': { 'default': 2,\n",
        "                                           'description': 'Number '\n",
        "                                                          'of '\n",
        "                                                          'days '\n",
        "                                                          'back '\n",
        "                                                          'to '\n",
        "                                                          'synchronize.',\n",
        "                                           'kind': 'integer',\n",
        "                                           'name': 'days',\n",
        "                                           'order': 3}},\n",
        "                      'hours': { 'field': { 'default': 0,\n",
        "                                            'description': 'Number '\n",
        "                                                           'of '\n",
        "                                                           'hours '\n",
        "                                                           'back '\n",
        "                                                           'to '\n",
        "                                                           'synchronize.',\n",
        "                                            'kind': 'integer',\n",
        "                                            'name': 'hours',\n",
        "                                            'order': 3}},\n",
        "                      'paths': { 'field': { 'default': [ ],\n",
        "                                            'description': 'List '\n",
        "                                                           'of '\n",
        "                                                           'prefixes '\n",
        "                                                           'to '\n",
        "                                                           'pull '\n",
        "                                                           'specific '\n",
        "                                                           'DT '\n",
        "                                                           'files.',\n",
        "                                            'kind': 'string_list',\n",
        "                                            'name': 'paths',\n",
        "                                            'order': 2}}},\n",
        "            'to': { 'auth': 'user',\n",
        "                    'dataset': { 'field': { 'default': '',\n",
        "                                            'description': 'Existing '\n",
        "                                                           'dataset '\n",
        "                                                           'in '\n",
        "                                                           'BigQuery.',\n",
        "                                            'kind': 'string',\n",
        "                                            'name': 'dataset',\n",
        "                                            'order': 3}}}}}]\n",
        "\n",
        "json_set_fields(TASKS, FIELDS)\n",
        "project.initialize(_recipe={ 'tasks':TASKS }, _project=CLOUD_PROJECT, _user=USER_CREDENTIALS, _client=CLIENT_CREDENTIALS, _verbose=True)\n",
        "project.execute()\n"
      ]
    }
  ]
}
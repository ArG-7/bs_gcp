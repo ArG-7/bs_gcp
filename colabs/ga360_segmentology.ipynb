{
  "license": "Licensed under the Apache License, Version 2.0",
  "copyright": "Copyright 2020 Google LLC",
  "nbformat": 4,
  "nbformat_minor": 0,
  "metadata": {
    "colab": {
      "name": "GA360 Segmentology",
      "provenance": [],
      "collapsed_sections": [],
      "toc_visible": true
    },
    "kernelspec": {
      "name": "python3",
      "display_name": "Python 3"
    }
  },
  "cells": [
    {
      "cell_type": "markdown",
      "metadata": {
        "id": "9c659c14-001",
        "colab_type": "text"
      },
      "source": [
        "#1. Install Dependencies\n",
        "First install the libraries needed to execute recipes, this only needs to be done once, then click play.\n"
      ]
    },
    {
      "cell_type": "code",
      "metadata": {
        "id": "9c659c14-002",
        "colab_type": "code"
      },
      "source": [
        "!pip install git+https://github.com/google/starthinker\n"
      ]
    },
    {
      "cell_type": "markdown",
      "metadata": {
        "id": "9c659c14-003",
        "colab_type": "text"
      },
      "source": [
        "#2. Get Cloud Project ID\n",
        "To run this recipe [requires a Google Cloud Project](https://github.com/google/starthinker/blob/master/tutorials/cloud_project.md), this only needs to be done once, then click play.\n"
      ]
    },
    {
      "cell_type": "code",
      "metadata": {
        "id": "9c659c14-004",
        "colab_type": "code"
      },
      "source": [
        "CLOUD_PROJECT = 'PASTE PROJECT ID HERE'\n",
        "\n",
        "print(\"Cloud Project Set To: %s\" % CLOUD_PROJECT)\n"
      ]
    },
    {
      "cell_type": "markdown",
      "metadata": {
        "id": "9c659c14-005",
        "colab_type": "text"
      },
      "source": [
        "#3. Get Client Credentials\n",
        "To read and write to various endpoints requires [downloading client credentials](https://github.com/google/starthinker/blob/master/tutorials/cloud_client_installed.md), this only needs to be done once, then click play.\n"
      ]
    },
    {
      "cell_type": "code",
      "metadata": {
        "id": "9c659c14-006",
        "colab_type": "code"
      },
      "source": [
        "CLIENT_CREDENTIALS = 'PASTE CREDENTIALS HERE'\n",
        "\n",
        "print(\"Client Credentials Set To: %s\" % CLIENT_CREDENTIALS)\n"
      ]
    },
    {
      "cell_type": "markdown",
      "metadata": {
        "id": "9c659c14-007",
        "colab_type": "text"
      },
      "source": [
        "#4. Enter GA360 Segmentology Parameters\n",
        "GA360 funnel analysis using Census data.\n",
        " 1. Wait for <b>BigQuery->->->Census_Join</b> to be created.\n",
        " 1. Join the <a hre='https://groups.google.com/d/forum/starthinker-assets' target='_blank'>StarThinker Assets Group</a> to access the following assets\n",
        " 1. Copy <a href='https://datastudio.google.com/c/u/0/reporting/3673497b-f36f-4448-8fb9-3e05ea51842f/' target='_blank'>GA360 Segmentology Sample</a>. Leave the Data Source as is, you will change it in the next step.\n",
        " 1. Click Edit Connection, and change to <b>BigQuery->->->Census_Join</b>.\n",
        " 1. Or give these intructions to the client.\n",
        "Modify the values below for your use case, can be done multiple times, then click play.\n"
      ]
    },
    {
      "cell_type": "code",
      "metadata": {
        "id": "9c659c14-008",
        "colab_type": "code"
      },
      "source": [
        "FIELDS = {\n",
        "  'auth_write': 'service',  # Authorization used for writing data.\n",
        "  'auth_read': 'service',  # Authorization for reading GA360.\n",
        "  'view': 'service',  # View Id\n",
        "  'recipe_slug': '',  # Name of Google BigQuery dataset to create.\n",
        "}\n",
        "\n",
        "print(\"Parameters Set To: %s\" % FIELDS)\n"
      ]
    },
    {
      "cell_type": "markdown",
      "metadata": {
        "id": "9c659c14-009",
        "colab_type": "text"
      },
      "source": [
        "#5. Execute GA360 Segmentology\n",
        "This does NOT need to be modified unless you are changing the recipe, click play.\n"
      ]
    },
    {
      "cell_type": "code",
      "metadata": {
        "id": "9c659c14-010",
        "colab_type": "code"
      },
      "source": [
        "from starthinker.util.project import project\n",
        "from starthinker.script.parse import json_set_fields\n",
        "\n",
        "USER_CREDENTIALS = '/content/user.json'\n",
        "\n",
        "TASKS = [\n",
        "  {\n",
        "    'dataset': {\n",
        "      'description': 'Create a dataset for bigquery tables.',\n",
        "      'hour': [\n",
        "        4\n",
        "      ],\n",
        "      'auth': 'user',\n",
        "      'dataset': {'field': {'name': 'recipe_slug','kind': 'string','description': 'Place where tables will be created in BigQuery.'}}\n",
        "    }\n",
        "  },\n",
        "  {\n",
        "    'bigquery': {\n",
        "      'auth': 'user',\n",
        "      'function': 'Pearson Significance Test',\n",
        "      'to': {\n",
        "        'dataset': {'field': {'name': 'recipe_slug','kind': 'string','order': 4,'default': '','description': 'Name of Google BigQuery dataset to create.'}}\n",
        "      }\n",
        "    }\n",
        "  },\n",
        "  {\n",
        "    'ga': {\n",
        "      'auth': 'user',\n",
        "      'kwargs': {\n",
        "        'reportRequests': [\n",
        "          {\n",
        "            'viewId': {'field': {'name': 'view','kind': 'string','order': 2,'default': 'service','description': 'View Id'}},\n",
        "            'dateRanges': [\n",
        "              {\n",
        "                'startDate': '90daysAgo',\n",
        "                'endDate': 'today'\n",
        "              }\n",
        "            ],\n",
        "            'dimensions': [\n",
        "              {\n",
        "                'name': 'ga:userType'\n",
        "              },\n",
        "              {\n",
        "                'name': 'ga:userDefinedValue'\n",
        "              },\n",
        "              {\n",
        "                'name': 'ga:latitude'\n",
        "              },\n",
        "              {\n",
        "                'name': 'ga:longitude'\n",
        "              }\n",
        "            ],\n",
        "            'metrics': [\n",
        "              {\n",
        "                'expression': 'ga:users'\n",
        "              },\n",
        "              {\n",
        "                'expression': 'ga:sessionsPerUser'\n",
        "              },\n",
        "              {\n",
        "                'expression': 'ga:bounces'\n",
        "              },\n",
        "              {\n",
        "                'expression': 'ga:timeOnPage'\n",
        "              },\n",
        "              {\n",
        "                'expression': 'ga:pageviews'\n",
        "              }\n",
        "            ]\n",
        "          }\n",
        "        ],\n",
        "        'useResourceQuotas': False\n",
        "      },\n",
        "      'out': {\n",
        "        'bigquery': {\n",
        "          'dataset': {'field': {'name': 'recipe_slug','kind': 'string','order': 4,'default': '','description': 'Name of Google BigQuery dataset to create.'}},\n",
        "          'table': 'GA360_KPI'\n",
        "        }\n",
        "      }\n",
        "    }\n",
        "  },\n",
        "  {\n",
        "    'bigquery': {\n",
        "      'auth': 'user',\n",
        "      'from': {\n",
        "        'query': 'WITH GA360_SUM AS (           SELECT              A.Dimensions.userType AS User_Type,             A.Dimensions.userDefinedValue AS User_Value,             B.zip_code AS Zip,             SUM(Metrics.users) AS Users,             SUM(Metrics.sessionsPerUser) AS Sessions,             SUM(Metrics.timeOnPage) AS Time_On_Site,             SUM(Metrics.bounces) AS Bounces,             SUM(Metrics.pageviews) AS Page_Views           FROM `{dataset}.GA360_KPI` AS A            JOIN `bigquery-public-data.geo_us_boundaries.zip_codes` AS B           ON ST_WITHIN(ST_GEOGPOINT(A.Dimensions.longitude, A.Dimensions.latitude), B.zip_code_geom)           GROUP BY 1,2,3           )           SELECT             User_Type,             User_Value,             Zip,             Users,             SAFE_DIVIDE(Users, SUM(Users) OVER()) AS User_Percent,             SAFE_DIVIDE(Sessions, SUM(Sessions) OVER()) AS Impression_Percent,             SAFE_DIVIDE(Time_On_Site, SUM(Time_On_Site) OVER()) AS Time_On_Site_Percent,             SAFE_DIVIDE(Bounces, SUM(Bounces) OVER()) AS Bounce_Percent,             SAFE_DIVIDE(Page_Views, SUM(Page_Views) OVER()) AS Page_View_Percent           FROM GA360_SUM        ',\n",
        "        'parameters': {\n",
        "          'dataset': {'field': {'name': 'recipe_slug','kind': 'string','description': 'Place where tables will be created in BigQuery.'}}\n",
        "        },\n",
        "        'legacy': False\n",
        "      },\n",
        "      'to': {\n",
        "        'dataset': {'field': {'name': 'recipe_slug','kind': 'string','description': 'Place where tables will be written in BigQuery.'}},\n",
        "        'view': 'GA360_KPI_Normalized'\n",
        "      }\n",
        "    }\n",
        "  },\n",
        "  {\n",
        "    'census': {\n",
        "      'auth': 'user',\n",
        "      'normalize': {\n",
        "        'census_geography': 'zip_codes',\n",
        "        'census_year': '2018',\n",
        "        'census_span': '5yr'\n",
        "      },\n",
        "      'to': {\n",
        "        'dataset': {'field': {'name': 'recipe_slug','kind': 'string','order': 4,'default': '','description': 'Name of Google BigQuery dataset to create.'}},\n",
        "        'type': 'view'\n",
        "      }\n",
        "    }\n",
        "  },\n",
        "  {\n",
        "    'census': {\n",
        "      'auth': 'user',\n",
        "      'correlate': {\n",
        "        'join': 'Zip',\n",
        "        'pass': [\n",
        "          'User_Type',\n",
        "          'User_Value'\n",
        "        ],\n",
        "        'sum': [\n",
        "          'Users'\n",
        "        ],\n",
        "        'correlate': [\n",
        "          'User_Percent',\n",
        "          'Impression_Percent',\n",
        "          'Time_On_Site_Percent',\n",
        "          'Bounce_Percent',\n",
        "          'Page_View_Percent'\n",
        "        ],\n",
        "        'dataset': {'field': {'name': 'recipe_slug','kind': 'string','order': 4,'default': '','description': 'Name of Google BigQuery dataset to create.'}},\n",
        "        'table': 'GA360_KPI_Normalized',\n",
        "        'significance': 80\n",
        "      },\n",
        "      'to': {\n",
        "        'dataset': {'field': {'name': 'recipe_slug','kind': 'string','order': 4,'default': '','description': 'Name of Google BigQuery dataset to create.'}},\n",
        "        'type': 'view'\n",
        "      }\n",
        "    }\n",
        "  }\n",
        "]\n",
        "\n",
        "json_set_fields(TASKS, FIELDS)\n",
        "\n",
        "project.initialize(_recipe={ 'tasks':TASKS }, _project=CLOUD_PROJECT, _user=USER_CREDENTIALS, _client=CLIENT_CREDENTIALS, _verbose=True, _force=True)\n",
        "project.execute(_force=True)\n"
      ]
    }
  ]
}

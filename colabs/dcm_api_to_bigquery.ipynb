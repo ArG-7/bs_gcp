{
  "license": "Apache License, Version 2.0",
  "copyright": "Copyright 2018 Google Inc.",
  "nbformat": "4",
  "nbformat_minor": "0",
  "metadata": {
    "colab": {
      "name": "DCM API To BigQuery",
      "provenance": [],
      "collapsed_sections": [],
      "toc_visible": true
    },
    "kernelspec": {
      "name": "python3",
      "display_name": "Python 3"
    }
  },
  "cells": [
    {
      "cell_type": "markdown",
      "metadata": {
        "id": "bJ4ril0zc4pO",
        "colab_type": "text"
      },
      "source": [
        "#1. Install Dependencies\n",
        "First install the libraries needed to execute recipes, this only needs to be done once, then click play.\n"
      ]
    },
    {
      "cell_type": "code",
      "metadata": {
        "id": "ANPiBdiXX5I1",
        "colab_type": "code"
      },
      "source": [
        "!pip install git+https://github.com/google/starthinker\n"
      ]
    },
    {
      "cell_type": "markdown",
      "metadata": {
        "id": "hNrbC9E6srvi",
        "colab_type": "text"
      },
      "source": [
        "#2. Get Cloud Project ID\n",
        "To run this recipe [requires a Google Cloud Project](https://github.com/google/starthinker/blob/master/tutorials/cloud_project.md), this only needs to be done once, then click play.\n"
      ]
    },
    {
      "cell_type": "code",
      "metadata": {
        "id": "AODnRSbhJVZ7",
        "colab_type": "code"
      },
      "source": [
        "CLOUD_PROJECT = 'PASTE PROJECT ID HERE'\n",
        "\n",
        "print(\"Cloud Project Set To: %s\" % CLOUD_PROJECT)\n"
      ]
    },
    {
      "cell_type": "markdown",
      "metadata": {
        "id": "UncOreJUxpK5",
        "colab_type": "text"
      },
      "source": [
        "#3. Get Client Credentials\n",
        "To read and write to various endpoints requires [downloading client credentials](https://github.com/google/starthinker/blob/master/tutorials/cloud_client_installed.md), this only needs to be done once, then click play.\n"
      ]
    },
    {
      "cell_type": "code",
      "metadata": {
        "id": "rAlow0DKuNb5",
        "colab_type": "code"
      },
      "source": [
        "CLIENT_CREDENTIALS = 'PASTE CREDENTIALS HERE'\n",
        "\n",
        "print(\"Client Credentials Set To: %s\" % CLIENT_CREDENTIALS)\n"
      ]
    },
    {
      "cell_type": "markdown",
      "metadata": {
        "id": "lzC8zHPQCT6y",
        "colab_type": "text"
      },
      "source": [
        "#4. Enter DCM API To BigQuery Parameters\n",
        "Write the current state of accounts, subaccounts, profiles, advertisers, campaigns, sites, roles, and reports to BigQuery for a given list of DCM accounts.\n",
        " 1. Specify the name of the dataset, several tables will be created here.\n",
        " 1. If dataset exists, it is inchanged.\n",
        " 1. Add DCM account ids for the accounts to pull data from.\n",
        "Modify the values below for your use case, can be done multiple times, then click play.\n"
      ]
    },
    {
      "cell_type": "code",
      "metadata": {
        "id": "p1DLLyM0TSLL",
        "colab_type": "code"
      },
      "source": [
        "FIELDS = {\n",
        "  \"endpoint\":,\n",
        "  \"dataset\":\"\", # Google BigQuery dataset to create tables in.\n",
        "  \"accounts\":, # Comma separated DCM account ids.\n",
        "}\n",
        "\n",
        "print(\"Parameters Set To: %s\" % FIELDS)\n"
      ]
    },
    {
      "cell_type": "markdown",
      "metadata": {
        "id": "4oUfnHxUVe9m",
        "colab_type": "text"
      },
      "source": [
        "#5. Execute DCM API To BigQuery\n",
        "This does NOT need to be modified unles you are changing the recipe, click play.\n"
      ]
    },
    {
      "cell_type": "code",
      "metadata": {
        "id": "YiHzQSkIQccA",
        "colab_type": "code"
      },
      "source": [
        "from starthinker.util.project import project\n",
        "from starthinker.script.parse import json_set_fields\n",
        "\n",
        "USER_CREDENTIALS = '/content/user.json'\n",
        "\n",
        "TASKS = [ { 'dcm_api': { 'accounts': { 'single_cell': True,\n",
        "                               'values': { 'field': { 'default': '',\n",
        "                                                      'description': 'Comma '\n",
        "                                                                     'separated '\n",
        "                                                                     'DCM '\n",
        "                                                                     'account '\n",
        "                                                                     'ids.',\n",
        "                                                      'kind': 'integer_list',\n",
        "                                                      'name': 'accounts',\n",
        "                                                      'order': 2}}},\n",
        "                 'auth': 'user',\n",
        "                 'endpoints': { 'field': { 'choices': [ 'accountPermissionGroups',\n",
        "                                                        'accountPermissions',\n",
        "                                                        'accountUserProfiles',\n",
        "                                                        'accounts',\n",
        "                                                        'ads',\n",
        "                                                        'advertiserGroups',\n",
        "                                                        'advertiserLandingPages',\n",
        "                                                        'advertisers',\n",
        "                                                        'browsers',\n",
        "                                                        'campaigns',\n",
        "                                                        'changeLogs',\n",
        "                                                        'cities',\n",
        "                                                        'connectionTypes',\n",
        "                                                        'contentCategories',\n",
        "                                                        'countries',\n",
        "                                                        'creativeFields',\n",
        "                                                        'creativeGroups',\n",
        "                                                        'creatives',\n",
        "                                                        'directorySites',\n",
        "                                                        'dynamicTargetingKeys',\n",
        "                                                        'eventTags',\n",
        "                                                        'files',\n",
        "                                                        'floodlightActivities',\n",
        "                                                        'floodlightActivityGroups',\n",
        "                                                        'floodlightConfigurations',\n",
        "                                                        'languages',\n",
        "                                                        'metros',\n",
        "                                                        'mobileApps',\n",
        "                                                        'mobileCarriers',\n",
        "                                                        'operatingSystemVersions',\n",
        "                                                        'operatingSystems',\n",
        "                                                        'placementGroups',\n",
        "                                                        'placementStrategies',\n",
        "                                                        'placements',\n",
        "                                                        'platformTypes',\n",
        "                                                        'postalCodes',\n",
        "                                                        'projects',\n",
        "                                                        'regions',\n",
        "                                                        'remarketingLists',\n",
        "                                                        'reports',\n",
        "                                                        'sites',\n",
        "                                                        'sizes',\n",
        "                                                        'subaccounts',\n",
        "                                                        'targetableRemarketingLists',\n",
        "                                                        'targetingTemplates',\n",
        "                                                        'userprofiles',\n",
        "                                                        'userRolePermissionGroups',\n",
        "                                                        'userRolePermissions',\n",
        "                                                        'userRoles',\n",
        "                                                        'videoFormats'],\n",
        "                                           'default': '',\n",
        "                                           'kind': 'choice',\n",
        "                                           'name': 'endpoint'}},\n",
        "                 'out': { 'auth': 'user',\n",
        "                          'dataset': { 'field': { 'default': '',\n",
        "                                                  'description': 'Google '\n",
        "                                                                 'BigQuery '\n",
        "                                                                 'dataset '\n",
        "                                                                 'to '\n",
        "                                                                 'create '\n",
        "                                                                 'tables '\n",
        "                                                                 'in.',\n",
        "                                                  'kind': 'string',\n",
        "                                                  'name': 'dataset',\n",
        "                                                  'order': 1}}}}}]\n",
        "\n",
        "json_set_fields(TASKS, FIELDS)\n",
        "project.initialize(_recipe={ 'tasks':TASKS }, _project=CLOUD_PROJECT, _user=USER_CREDENTIALS, _client=CLIENT_CREDENTIALS, _verbose=True)\n",
        "project.execute()\n"
      ]
    }
  ]
}
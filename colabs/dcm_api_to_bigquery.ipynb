{
  "license": "Apache License, Version 2.0",
  "copyright": "Copyright 2018 Google Inc.",
  "nbformat": "4",
  "nbformat_minor": "0",
  "metadata": {
    "colab": {
      "name": "DCM API To BigQuery",
      "provenance": [],
      "collapsed_sections": [],
      "toc_visible": true
    },
    "kernelspec": {
      "name": "python3",
      "display_name": "Python 3"
    }
  },
  "cells": [
    {
      "cell_type": "markdown",
      "metadata": {
        "id": "eitFAnId3m3f",
        "colab_type": "text"
      },
      "source": [
        "#1. Install Dependencies\n",
        "First install the libraries needed to execute recipes, this only needs to be done once, then click play.\n"
      ]
    },
    {
      "cell_type": "code",
      "metadata": {
        "id": "AtxDGrdoFuxs",
        "colab_type": "code"
      },
      "source": [
        "!pip install git+https://github.com/google/starthinker\n"
      ]
    },
    {
      "cell_type": "markdown",
      "metadata": {
        "id": "qDrD3mLdpsWl",
        "colab_type": "text"
      },
      "source": [
        "#2. Get Cloud Project ID\n",
        "To run this recipe [requires a Google Cloud Project](https://github.com/google/starthinker/blob/master/tutorials/cloud_project.md), this only needs to be done once, then click play.\n"
      ]
    },
    {
      "cell_type": "code",
      "metadata": {
        "id": "G5r2yzQTNwSs",
        "colab_type": "code"
      },
      "source": [
        "CLOUD_PROJECT = 'PASTE PROJECT ID HERE'\n",
        "\n",
        "print(\"Cloud Project Set To: %s\" % CLOUD_PROJECT)\n"
      ]
    },
    {
      "cell_type": "markdown",
      "metadata": {
        "id": "5fllSTvoLYpY",
        "colab_type": "text"
      },
      "source": [
        "#3. Get Client Credentials\n",
        "To read and write to various endpoints requires [downloading client credentials](https://github.com/google/starthinker/blob/master/tutorials/cloud_client_installed.md), this only needs to be done once, then click play.\n"
      ]
    },
    {
      "cell_type": "code",
      "metadata": {
        "id": "JE3VslEGQyCt",
        "colab_type": "code"
      },
      "source": [
        "CLIENT_CREDENTIALS = 'PASTE CREDENTIALS HERE'\n",
        "\n",
        "print(\"Client Credentials Set To: %s\" % CLIENT_CREDENTIALS)\n"
      ]
    },
    {
      "cell_type": "markdown",
      "metadata": {
        "id": "rptG0uiRLY8q",
        "colab_type": "text"
      },
      "source": [
        "#4. Enter DCM API To BigQuery Parameters\n",
        "Write the current state of accounts, subaccounts, profiles, advertisers, campaigns, sites, roles, and reports to BigQuery for a given list of DCM accounts.\n",
        " 1. Specify the name of the dataset, several tables will be created here.\n",
        " 1. If dataset exists, it is inchanged.\n",
        " 1. Add DCM account ids for the accounts to pull data from.\n",
        "Modify the values below for your use case, can be done multiple times, then click play.\n"
      ]
    },
    {
      "cell_type": "code",
      "metadata": {
        "id": "By7MAnD1Wwht",
        "colab_type": "code"
      },
      "source": [
        "FIELDS = {\n",
        "  \"endpoint\":,\n",
        "  \"dataset\":\"\", # Google BigQuery dataset to create tables in.\n",
        "  \"accounts\":, # Comma separated DCM account ids.\n",
        "}\n",
        "\n",
        "print(\"Parameters Set To: %s\" % FIELDS)\n"
      ]
    },
    {
      "cell_type": "markdown",
      "metadata": {
        "id": "npuEzVLfmOdg",
        "colab_type": "text"
      },
      "source": [
        "#5. Execute DCM API To BigQuery\n",
        "This does NOT need to be modified unles you are changing the recipe, click play.\n"
      ]
    },
    {
      "cell_type": "code",
      "metadata": {
        "id": "42tKyEQj6HpL",
        "colab_type": "code"
      },
      "source": [
        "from starthinker.util.project import project\n",
        "from starthinker.script.parse import json_set_fields\n",
        "\n",
        "USER_CREDENTIALS = '/content/user.json'\n",
        "\n",
        "TASKS = [\n",
        "  {\n",
        "    \"dcm_api\": {\n",
        "      \"auth\": \"user\",\n",
        "      \"endpoints\": {\n",
        "        \"field\": {\n",
        "          \"name\": \"endpoint\",\n",
        "          \"kind\": \"choice\",\n",
        "          \"choices\": [\n",
        "            \"accountPermissionGroups\",\n",
        "            \"accountPermissions\",\n",
        "            \"accountUserProfiles\",\n",
        "            \"accounts\",\n",
        "            \"ads\",\n",
        "            \"advertiserGroups\",\n",
        "            \"advertiserLandingPages\",\n",
        "            \"advertisers\",\n",
        "            \"browsers\",\n",
        "            \"campaigns\",\n",
        "            \"changeLogs\",\n",
        "            \"cities\",\n",
        "            \"connectionTypes\",\n",
        "            \"contentCategories\",\n",
        "            \"countries\",\n",
        "            \"creativeFields\",\n",
        "            \"creativeGroups\",\n",
        "            \"creatives\",\n",
        "            \"directorySites\",\n",
        "            \"dynamicTargetingKeys\",\n",
        "            \"eventTags\",\n",
        "            \"files\",\n",
        "            \"floodlightActivities\",\n",
        "            \"floodlightActivityGroups\",\n",
        "            \"floodlightConfigurations\",\n",
        "            \"languages\",\n",
        "            \"metros\",\n",
        "            \"mobileApps\",\n",
        "            \"mobileCarriers\",\n",
        "            \"operatingSystemVersions\",\n",
        "            \"operatingSystems\",\n",
        "            \"placementGroups\",\n",
        "            \"placementStrategies\",\n",
        "            \"placements\",\n",
        "            \"platformTypes\",\n",
        "            \"postalCodes\",\n",
        "            \"projects\",\n",
        "            \"regions\",\n",
        "            \"remarketingLists\",\n",
        "            \"reports\",\n",
        "            \"sites\",\n",
        "            \"sizes\",\n",
        "            \"subaccounts\",\n",
        "            \"targetableRemarketingLists\",\n",
        "            \"targetingTemplates\",\n",
        "            \"userprofiles\",\n",
        "            \"userRolePermissionGroups\",\n",
        "            \"userRolePermissions\",\n",
        "            \"userRoles\",\n",
        "            \"videoFormats\"\n",
        "          ],\n",
        "          \"default\": \"\"\n",
        "        }\n",
        "      },\n",
        "      \"accounts\": {\n",
        "        \"single_cell\": true,\n",
        "        \"values\": {\n",
        "          \"field\": {\n",
        "            \"name\": \"accounts\",\n",
        "            \"kind\": \"integer_list\",\n",
        "            \"order\": 2,\n",
        "            \"default\": \"\",\n",
        "            \"description\": \"Comma separated DCM account ids.\"\n",
        "          }\n",
        "        }\n",
        "      },\n",
        "      \"out\": {\n",
        "        \"auth\": \"service\",\n",
        "        \"dataset\": {\n",
        "          \"field\": {\n",
        "            \"name\": \"dataset\",\n",
        "            \"kind\": \"string\",\n",
        "            \"order\": 1,\n",
        "            \"default\": \"\",\n",
        "            \"description\": \"Google BigQuery dataset to create tables in.\"\n",
        "          }\n",
        "        }\n",
        "      }\n",
        "    }\n",
        "  }\n",
        "]\n",
        "\n",
        "json_set_fields(TASKS, FIELDS)\n",
        "project.initialize(_recipe={ 'tasks':TASKS }, _project=CLOUD_PROJECT, _user=USER_CREDENTIALS, _client=CLIENT_CREDENTIALS, _verbose=True)\n",
        "project.execute()\n"
      ]
    }
  ]
}
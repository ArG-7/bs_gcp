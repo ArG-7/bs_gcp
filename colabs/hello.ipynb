{
  "license": "Apache License, Version 2.0",
  "copyright": "Copyright 2018 Google Inc.",
  "nbformat": "4",
  "nbformat_minor": "0",
  "metadata": {
    "colab": {
      "name": "Say Hello",
      "provenance": [],
      "collapsed_sections": [],
      "toc_visible": true
    },
    "kernelspec": {
      "name": "python3",
      "display_name": "Python 3"
    }
  },
  "cells": [
    {
      "cell_type": "markdown",
      "metadata": {
        "id": "dDjtYh8RUh1h",
        "colab_type": "text"
      },
      "source": [
        "#1. Install Dependencies\n",
        "First install the libraries needed to execute recipes, this only needs to be done once, then click play.\n"
      ]
    },
    {
      "cell_type": "code",
      "metadata": {
        "id": "0TCH0uTXBz7X",
        "colab_type": "code"
      },
      "source": [
        "!pip install git+https://github.com/google/starthinker\n"
      ]
    },
    {
      "cell_type": "markdown",
      "metadata": {
        "id": "OeVHrIQaiEVE",
        "colab_type": "text"
      },
      "source": [
        "#2. Get Cloud Project ID\n",
        "To run this recipe [requires a Google Cloud Project](https://github.com/google/starthinker/blob/master/tutorials/cloud_project.md), this only needs to be done once, then click play.\n"
      ]
    },
    {
      "cell_type": "code",
      "metadata": {
        "id": "h2VsuzT9BZAX",
        "colab_type": "code"
      },
      "source": [
        "CLOUD_PROJECT = 'PASTE PROJECT ID HERE'\n",
        "\n",
        "print(\"Cloud Project Set To: %s\" % CLOUD_PROJECT)\n"
      ]
    },
    {
      "cell_type": "markdown",
      "metadata": {
        "id": "nWFrjgUSALJV",
        "colab_type": "text"
      },
      "source": [
        "#3. Get Client Credentials\n",
        "To read and write to various endpoints requires [downloading client credentials](https://github.com/google/starthinker/blob/master/tutorials/cloud_client_installed.md), this only needs to be done once, then click play.\n"
      ]
    },
    {
      "cell_type": "code",
      "metadata": {
        "id": "R7QAeHODoUpd",
        "colab_type": "code"
      },
      "source": [
        "CLIENT_CREDENTIALS = 'PASTE CREDENTIALS HERE'\n",
        "\n",
        "print(\"Client Credentials Set To: %s\" % CLIENT_CREDENTIALS)\n"
      ]
    },
    {
      "cell_type": "markdown",
      "metadata": {
        "id": "dQw7CzwreeSl",
        "colab_type": "text"
      },
      "source": [
        "#4. Enter Say Hello Parameters\n",
        "Recipe template for say hello.\n",
        " 1. This should be called for testing only.\n",
        "Modify the values below for your use case, can be done multiple times, then click play.\n"
      ]
    },
    {
      "cell_type": "code",
      "metadata": {
        "id": "ZNkavzdIGUDt",
        "colab_type": "code"
      },
      "source": [
        "FIELDS = {\n",
        "  \"say_first\":\"Hello Once\", # Type in a greeting.\n",
        "  \"say_second\":\"Hello Twice\", # Type in a greeting.\n",
        "  \"error\":\"\", # Optional error for testing.\n",
        "  \"sleep\":0, # Seconds to sleep.\n",
        "}\n",
        "\n",
        "print(\"Parameters Set To: %s\" % FIELDS)\n"
      ]
    },
    {
      "cell_type": "markdown",
      "metadata": {
        "id": "TCq5gm4ELU6c",
        "colab_type": "text"
      },
      "source": [
        "#5. Execute Say Hello\n",
        "This does NOT need to be modified unles you are changing the recipe, click play.\n"
      ]
    },
    {
      "cell_type": "code",
      "metadata": {
        "id": "44oWPhDL5DNI",
        "colab_type": "code"
      },
      "source": [
        "from starthinker.util.project import project\n",
        "from starthinker.script.parse import json_set_fields\n",
        "\n",
        "USER_CREDENTIALS = '/content/user.json'\n",
        "\n",
        "TASKS = [ { 'hello': { 'auth': 'user',\n",
        "               'error': { 'field': { 'default': '',\n",
        "                                     'description': 'Optional '\n",
        "                                                    'error '\n",
        "                                                    'for '\n",
        "                                                    'testing.',\n",
        "                                     'kind': 'string',\n",
        "                                     'name': 'error',\n",
        "                                     'order': 3}},\n",
        "               'say': { 'field': { 'default': 'Hello '\n",
        "                                              'Once',\n",
        "                                   'description': 'Type '\n",
        "                                                  'in '\n",
        "                                                  'a '\n",
        "                                                  'greeting.',\n",
        "                                   'kind': 'string',\n",
        "                                   'name': 'say_first',\n",
        "                                   'order': 1}},\n",
        "               'sleep': { 'field': { 'default': 0,\n",
        "                                     'description': 'Seconds '\n",
        "                                                    'to '\n",
        "                                                    'sleep.',\n",
        "                                     'kind': 'integer',\n",
        "                                     'name': 'sleep',\n",
        "                                     'order': 4}}}},\n",
        "  { 'hello': { 'auth': 'user',\n",
        "               'say': { 'field': { 'default': 'Hello '\n",
        "                                              'Twice',\n",
        "                                   'description': 'Type '\n",
        "                                                  'in '\n",
        "                                                  'a '\n",
        "                                                  'greeting.',\n",
        "                                   'kind': 'string',\n",
        "                                   'name': 'say_second',\n",
        "                                   'order': 1}},\n",
        "               'sleep': { 'field': { 'default': 0,\n",
        "                                     'description': 'Seconds '\n",
        "                                                    'to '\n",
        "                                                    'sleep.',\n",
        "                                     'kind': 'integer',\n",
        "                                     'name': 'sleep',\n",
        "                                     'order': 4}}}}]\n",
        "\n",
        "json_set_fields(TASKS, FIELDS)\n",
        "project.initialize(_recipe={ 'tasks':TASKS }, _project=CLOUD_PROJECT, _user=USER_CREDENTIALS, _client=CLIENT_CREDENTIALS, _verbose=True)\n",
        "project.execute()\n"
      ]
    }
  ]
}
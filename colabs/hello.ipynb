{
  "license": "Apache License, Version 2.0",
  "copyright": "Copyright 2018 Google Inc.",
  "nbformat": "4",
  "nbformat_minor": "0",
  "metadata": {
    "colab": {
      "name": "Say Hello",
      "provenance": [],
      "collapsed_sections": [],
      "toc_visible": true
    },
    "kernelspec": {
      "name": "python3",
      "display_name": "Python 3"
    }
  },
  "cells": [
    {
      "cell_type": "markdown",
      "metadata": {
        "id": "9llA4Zn3NRBD",
        "colab_type": "text"
      },
      "source": [
        "#1. Install Dependencies\n",
        "First install the libraries needed to execute recipes, this only needs to be done once, then click play.\n"
      ]
    },
    {
      "cell_type": "code",
      "metadata": {
        "id": "OGQTW0Ve9ceX",
        "colab_type": "code"
      },
      "source": [
        "!pip install git+https://github.com/google/starthinker\n"
      ]
    },
    {
      "cell_type": "markdown",
      "metadata": {
        "id": "dBpQMpas5ptP",
        "colab_type": "text"
      },
      "source": [
        "#2. Get Cloud Project ID\n",
        "To run this recipe [requires a Google Cloud Project](https://github.com/google/starthinker/blob/master/tutorials/cloud_project.md), this only needs to be done once, then click play.\n"
      ]
    },
    {
      "cell_type": "code",
      "metadata": {
        "id": "gIF5lKvZ4hDM",
        "colab_type": "code"
      },
      "source": [
        "CLOUD_PROJECT = 'PASTE PROJECT ID HERE'\n",
        "\n",
        "print(\"Cloud Project Set To: %s\" % CLOUD_PROJECT)\n"
      ]
    },
    {
      "cell_type": "markdown",
      "metadata": {
        "id": "5L3ZeYH69q5L",
        "colab_type": "text"
      },
      "source": [
        "#3. Get Client Credentials\n",
        "To read and write to various endpoints requires [downloading client credentials](https://github.com/google/starthinker/blob/master/tutorials/cloud_client_installed.md), this only needs to be done once, then click play.\n"
      ]
    },
    {
      "cell_type": "code",
      "metadata": {
        "id": "N0V40ROdkPU9",
        "colab_type": "code"
      },
      "source": [
        "CLIENT_CREDENTIALS = 'PASTE CREDENTIALS HERE'\n",
        "\n",
        "print(\"Client Credentials Set To: %s\" % CLIENT_CREDENTIALS)\n"
      ]
    },
    {
      "cell_type": "markdown",
      "metadata": {
        "id": "8MxaJPYfE7zn",
        "colab_type": "text"
      },
      "source": [
        "#4. Enter Say Hello Parameters\n",
        "Recipe template for say hello.\n",
        " 1. This should be called for testing only.\n",
        "Modify the values below for your use case, can be done multiple times, then click play.\n"
      ]
    },
    {
      "cell_type": "code",
      "metadata": {
        "id": "XB1TErd4L4rm",
        "colab_type": "code"
      },
      "source": [
        "FIELDS = {\n",
        "  \"say_first\":\"Hello Once\", # Type in a greeting.\n",
        "  \"say_second\":\"Hello Twice\", # Type in a greeting.\n",
        "  \"error\":\"\", # Optional error for testing.\n",
        "  \"sleep\":0, # Seconds to sleep.\n",
        "}\n",
        "\n",
        "print(\"Parameters Set To: %s\" % FIELDS)\n"
      ]
    },
    {
      "cell_type": "markdown",
      "metadata": {
        "id": "XaKWnUFzlrzL",
        "colab_type": "text"
      },
      "source": [
        "#5. Execute Say Hello\n",
        "This does NOT need to be modified unles you are changing the recipe, click play.\n"
      ]
    },
    {
      "cell_type": "code",
      "metadata": {
        "id": "UgZySeLVYDII",
        "colab_type": "code"
      },
      "source": [
        "from starthinker.util.project import project\n",
        "from starthinker.script.parse import json_set_fields\n",
        "\n",
        "USER_CREDENTIALS = '/content/user.json'\n",
        "\n",
        "TASKS = [\n",
        "  {\n",
        "    \"hello\": {\n",
        "      \"auth\": \"user\",\n",
        "      \"say\": {\n",
        "        \"field\": {\n",
        "          \"name\": \"say_first\",\n",
        "          \"kind\": \"string\",\n",
        "          \"order\": 1,\n",
        "          \"default\": \"Hello Once\",\n",
        "          \"description\": \"Type in a greeting.\"\n",
        "        }\n",
        "      },\n",
        "      \"error\": {\n",
        "        \"field\": {\n",
        "          \"name\": \"error\",\n",
        "          \"kind\": \"string\",\n",
        "          \"order\": 3,\n",
        "          \"default\": \"\",\n",
        "          \"description\": \"Optional error for testing.\"\n",
        "        }\n",
        "      },\n",
        "      \"sleep\": {\n",
        "        \"field\": {\n",
        "          \"name\": \"sleep\",\n",
        "          \"kind\": \"integer\",\n",
        "          \"order\": 4,\n",
        "          \"default\": 0,\n",
        "          \"description\": \"Seconds to sleep.\"\n",
        "        }\n",
        "      }\n",
        "    }\n",
        "  },\n",
        "  {\n",
        "    \"hello\": {\n",
        "      \"auth\": \"user\",\n",
        "      \"say\": {\n",
        "        \"field\": {\n",
        "          \"name\": \"say_second\",\n",
        "          \"kind\": \"string\",\n",
        "          \"order\": 1,\n",
        "          \"default\": \"Hello Twice\",\n",
        "          \"description\": \"Type in a greeting.\"\n",
        "        }\n",
        "      },\n",
        "      \"sleep\": {\n",
        "        \"field\": {\n",
        "          \"name\": \"sleep\",\n",
        "          \"kind\": \"integer\",\n",
        "          \"order\": 4,\n",
        "          \"default\": 0,\n",
        "          \"description\": \"Seconds to sleep.\"\n",
        "        }\n",
        "      }\n",
        "    }\n",
        "  }\n",
        "]\n",
        "\n",
        "json_set_fields(TASKS, FIELDS)\n",
        "project.initialize(_recipe={ 'tasks':TASKS }, _project=CLOUD_PROJECT, _user=USER_CREDENTIALS, _client=CLIENT_CREDENTIALS, _verbose=True)\n",
        "project.execute()\n"
      ]
    }
  ]
}
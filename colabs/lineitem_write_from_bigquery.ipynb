{
  "copyright": "Copyright 2020 Google LLC",
  "metadata": {
    "kernelspec": {
      "display_name": "Python 3",
      "name": "python3"
    },
    "colab": {
      "name": "Line Item From BigQuery",
      "toc_visible": true,
      "collapsed_sections": [],
      "provenance": []
    }
  },
  "license": "Apache License, Version 2.0",
  "cells": [
    {
      "cell_type": "markdown",
      "source": [
        "#1. Install Dependencies\n",
        "First install the libraries needed to execute recipes, this only needs to be done once, then click play.\n"
      ],
      "metadata": {
        "colab_type": "text"
      }
    },
    {
      "cell_type": "code",
      "source": [
        "!pip install git+https://github.com/google/starthinker\n"
      ],
      "metadata": {
        "colab_type": "code"
      }
    },
    {
      "cell_type": "markdown",
      "source": [
        "#2. Get Cloud Project ID\n",
        "To run this recipe [requires a Google Cloud Project](https://github.com/google/starthinker/blob/master/tutorials/cloud_project.md), this only needs to be done once, then click play.\n"
      ],
      "metadata": {
        "colab_type": "text"
      }
    },
    {
      "cell_type": "code",
      "source": [
        "CLOUD_PROJECT = 'PASTE PROJECT ID HERE'\n",
        "\n",
        "print(\"Cloud Project Set To: %s\" % CLOUD_PROJECT)\n"
      ],
      "metadata": {
        "colab_type": "code"
      }
    },
    {
      "cell_type": "markdown",
      "source": [
        "#3. Get Client Credentials\n",
        "To read and write to various endpoints requires [downloading client credentials](https://github.com/google/starthinker/blob/master/tutorials/cloud_client_installed.md), this only needs to be done once, then click play.\n"
      ],
      "metadata": {
        "colab_type": "text"
      }
    },
    {
      "cell_type": "code",
      "source": [
        "CLIENT_CREDENTIALS = 'PASTE CREDENTIALS HERE'\n",
        "\n",
        "print(\"Client Credentials Set To: %s\" % CLIENT_CREDENTIALS)\n"
      ],
      "metadata": {
        "colab_type": "code"
      }
    },
    {
      "cell_type": "markdown",
      "source": [
        "#4. Enter Line Item From BigQuery Parameters\n",
        "Upload Line Items From BigQuery To DV360.\n",
        " 1. Specify the table or view where the lineitem data is defined.\n",
        " 1. The schema should match <a href='https://developers.google.com/bid-manager/guides/entity-write/format' target='_blank'>Entity Write Format</a>.\n",
        "Modify the values below for your use case, can be done multiple times, then click play.\n"
      ],
      "metadata": {
        "colab_type": "text"
      }
    },
    {
      "cell_type": "code",
      "source": [
        "FIELDS = {\n",
        "  'auth_read': 'user',  # Credentials used for reading data.\n",
        "  'dataset': '',\n",
        "  'query': 'SELECT * FROM `Dataset.Table`;',\n",
        "  'legacy': False,\n",
        "}\n",
        "\n",
        "print(\"Parameters Set To: %s\" % FIELDS)\n"
      ],
      "metadata": {
        "colab_type": "code"
      }
    },
    {
      "cell_type": "markdown",
      "source": [
        "#5. Execute Line Item From BigQuery\n",
        "This does NOT need to be modified unles you are changing the recipe, click play.\n"
      ],
      "metadata": {
        "colab_type": "text"
      }
    },
    {
      "cell_type": "code",
      "source": [
        "from starthinker.util.project import project\n",
        "from starthinker.script.parse import json_set_fields\n",
        "\n",
        "USER_CREDENTIALS = '/content/user.json'\n",
        "\n",
        "TASKS = [\n",
        "  {\n",
        "    'lineitem': {\n",
        "      'auth': 'user',\n",
        "      'write': {\n",
        "        'bigquery': {\n",
        "          'query': {'field': {'name': 'query','default': 'SELECT * FROM `Dataset.Table`;','order': 2,'kind': 'string'}},\n",
        "          'legacy': {'field': {'name': 'legacy','default': False,'order': 3,'kind': 'boolean'}},\n",
        "          'dataset': {'field': {'name': 'dataset','default': '','order': 1,'kind': 'string'}}\n",
        "        },\n",
        "        'dry_run': False\n",
        "      }\n",
        "    }\n",
        "  }\n",
        "]\n",
        "\n",
        "json_set_fields(TASKS, FIELDS)\n",
        "\n",
        "project.initialize(_recipe={ 'tasks':TASKS }, _project=CLOUD_PROJECT, _user=USER_CREDENTIALS, _client=CLIENT_CREDENTIALS, _verbose=True, _force=True)\n",
        "project.execute(_force=True)\n"
      ],
      "metadata": {
        "colab_type": "code"
      }
    }
  ],
  "nbformat_minor": "0",
  "nbformat": "4"
}
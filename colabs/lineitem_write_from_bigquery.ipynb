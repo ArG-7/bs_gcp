{
  "license": "Apache License, Version 2.0",
  "copyright": "Copyright 2018 Google Inc.",
  "nbformat": "4",
  "nbformat_minor": "0",
  "metadata": {
    "colab": {
      "name": "Line Item From BigQuery",
      "provenance": [],
      "collapsed_sections": [],
      "toc_visible": true
    },
    "kernelspec": {
      "name": "python3",
      "display_name": "Python 3"
    }
  },
  "cells": [
    {
      "cell_type": "markdown",
      "metadata": {
        "id": "PEXoCEC6J1yN",
        "colab_type": "text"
      },
      "source": [
        "#1. Install Dependencies\n",
        "First install the libraries needed to execute recipes, this only needs to be done once, then click play.\n"
      ]
    },
    {
      "cell_type": "code",
      "metadata": {
        "id": "VFlWg2V15ER8",
        "colab_type": "code"
      },
      "source": [
        "!pip install git+https://github.com/google/starthinker\n"
      ]
    },
    {
      "cell_type": "markdown",
      "metadata": {
        "id": "JmZmDR1kkqsM",
        "colab_type": "text"
      },
      "source": [
        "#2. Get Cloud Project ID\n",
        "To run this recipe [requires a Google Cloud Project](https://github.com/google/starthinker/blob/master/tutorials/cloud_project.md), this only needs to be done once, then click play.\n"
      ]
    },
    {
      "cell_type": "code",
      "metadata": {
        "id": "QmYM6tQA4Y5Y",
        "colab_type": "code"
      },
      "source": [
        "CLOUD_PROJECT = 'PASTE PROJECT ID HERE'\n",
        "\n",
        "print(\"Cloud Project Set To: %s\" % CLOUD_PROJECT)\n"
      ]
    },
    {
      "cell_type": "markdown",
      "metadata": {
        "id": "DEbcbf1oWXlv",
        "colab_type": "text"
      },
      "source": [
        "#3. Get Client Credentials\n",
        "To read and write to various endpoints requires [downloading client credentials](https://github.com/google/starthinker/blob/master/tutorials/cloud_client_installed.md), this only needs to be done once, then click play.\n"
      ]
    },
    {
      "cell_type": "code",
      "metadata": {
        "id": "APEqnTqh0plI",
        "colab_type": "code"
      },
      "source": [
        "CLIENT_CREDENTIALS = 'PASTE CREDENTIALS HERE'\n",
        "\n",
        "print(\"Client Credentials Set To: %s\" % CLIENT_CREDENTIALS)\n"
      ]
    },
    {
      "cell_type": "markdown",
      "metadata": {
        "id": "FGZFmBOzowlz",
        "colab_type": "text"
      },
      "source": [
        "#4. Enter Line Item From BigQuery Parameters\n",
        "Upload Line Items From BigQuery To DBM.\n",
        " 1. Specify the table or view where the lineitem data is defined.\n",
        " 1. The schema should match <a href='https://developers.google.com/bid-manager/guides/entity-write/format' target='_blank'>Entity Write Format</a>.\n",
        "Modify the values below for your use case, can be done multiple times, then click play.\n"
      ]
    },
    {
      "cell_type": "code",
      "metadata": {
        "id": "3KncTfYxFevq",
        "colab_type": "code"
      },
      "source": [
        "FIELDS = {\n",
        "  \"dataset\":\"\",\n",
        "  \"query\":\"SELECT * FROM `Dataset.Table`;\",\n",
        "  \"legacy\":False,\n",
        "}\n",
        "\n",
        "print(\"Parameters Set To: %s\" % FIELDS)\n"
      ]
    },
    {
      "cell_type": "markdown",
      "metadata": {
        "id": "Z6xaivDmFM35",
        "colab_type": "text"
      },
      "source": [
        "#5. Execute Line Item From BigQuery\n",
        "This does NOT need to be modified unles you are changing the recipe, click play.\n"
      ]
    },
    {
      "cell_type": "code",
      "metadata": {
        "id": "VfxPKjzDkpCq",
        "colab_type": "code"
      },
      "source": [
        "from starthinker.util.project import project\n",
        "from starthinker.script.parse import json_set_fields\n",
        "\n",
        "USER_CREDENTIALS = '/content/user.json'\n",
        "\n",
        "TASKS = [\n",
        "  {\n",
        "    \"lineitem\": {\n",
        "      \"auth\": \"user\",\n",
        "      \"write\": {\n",
        "        \"dry_run\": false,\n",
        "        \"bigquery\": {\n",
        "          \"dataset\": {\n",
        "            \"field\": {\n",
        "              \"name\": \"dataset\",\n",
        "              \"kind\": \"string\",\n",
        "              \"order\": 1,\n",
        "              \"default\": \"\"\n",
        "            }\n",
        "          },\n",
        "          \"query\": {\n",
        "            \"field\": {\n",
        "              \"name\": \"query\",\n",
        "              \"kind\": \"string\",\n",
        "              \"order\": 2,\n",
        "              \"default\": \"SELECT * FROM `Dataset.Table`;\"\n",
        "            }\n",
        "          },\n",
        "          \"legacy\": {\n",
        "            \"field\": {\n",
        "              \"name\": \"legacy\",\n",
        "              \"kind\": \"boolean\",\n",
        "              \"order\": 3,\n",
        "              \"default\": false\n",
        "            }\n",
        "          }\n",
        "        }\n",
        "      }\n",
        "    }\n",
        "  }\n",
        "]\n",
        "\n",
        "json_set_fields(TASKS, FIELDS)\n",
        "project.initialize(_recipe={ 'tasks':TASKS }, _project=CLOUD_PROJECT, _user=USER_CREDENTIALS, _client=CLIENT_CREDENTIALS, _verbose=True)\n",
        "project.execute()\n"
      ]
    }
  ]
}
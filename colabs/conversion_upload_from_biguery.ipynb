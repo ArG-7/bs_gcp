{
  "license": "Apache License, Version 2.0",
  "copyright": "Copyright 2018 Google Inc.",
  "nbformat": "4",
  "nbformat_minor": "0",
  "metadata": {
    "colab": {
      "name": "Conversion Upload BigQuery",
      "provenance": [],
      "collapsed_sections": [],
      "toc_visible": true
    },
    "kernelspec": {
      "name": "python3",
      "display_name": "Python 3"
    }
  },
  "cells": [
    {
      "cell_type": "markdown",
      "metadata": {
        "id": "YBLUrCbz3ogO",
        "colab_type": "text"
      },
      "source": [
        "#1. Install Dependencies\n",
        "First install the libraries needed to execute recipes, this only needs to be done once, then click play.\n"
      ]
    },
    {
      "cell_type": "code",
      "metadata": {
        "id": "imn4kl3ayLRS",
        "colab_type": "code"
      },
      "source": [
        "!pip install git+https://github.com/google/starthinker\n"
      ]
    },
    {
      "cell_type": "markdown",
      "metadata": {
        "id": "x5RNJDlHIbWK",
        "colab_type": "text"
      },
      "source": [
        "#2. Get Cloud Project ID\n",
        "To run this recipe [requires a Google Cloud Project](https://github.com/google/starthinker/blob/master/tutorials/cloud_project.md), this only needs to be done once, then click play.\n"
      ]
    },
    {
      "cell_type": "code",
      "metadata": {
        "id": "8fn5mRa74ZIK",
        "colab_type": "code"
      },
      "source": [
        "CLOUD_PROJECT = 'PASTE PROJECT ID HERE'\n",
        "\n",
        "print(\"Cloud Project Set To: %s\" % CLOUD_PROJECT)\n"
      ]
    },
    {
      "cell_type": "markdown",
      "metadata": {
        "id": "pGU2qyWwxgo3",
        "colab_type": "text"
      },
      "source": [
        "#3. Get Client Credentials\n",
        "To read and write to various endpoints requires [downloading client credentials](https://github.com/google/starthinker/blob/master/tutorials/cloud_client_installed.md), this only needs to be done once, then click play.\n"
      ]
    },
    {
      "cell_type": "code",
      "metadata": {
        "id": "BZ7DXulMlRFt",
        "colab_type": "code"
      },
      "source": [
        "CLIENT_CREDENTIALS = 'PASTE CREDENTIALS HERE'\n",
        "\n",
        "print(\"Client Credentials Set To: %s\" % CLIENT_CREDENTIALS)\n"
      ]
    },
    {
      "cell_type": "markdown",
      "metadata": {
        "id": "CChtyNdyrZoW",
        "colab_type": "text"
      },
      "source": [
        "#4. Enter Conversion Upload BigQuery Parameters\n",
        "Move from BigQuery to DCM.\n",
        " 1. Specify a DCM Account ID, Floodligh Activity ID and Conversion Type.\n",
        " 1. Include BigQuery dataset and table.\n",
        " 1. Columns: Ordinal, timestampMicros, encryptedUserId | encryptedUserIdCandidates | gclid | mobileDeviceId\n",
        " 1. Include encryption information if using encryptedUserId or encryptedUserIdCandidates.\n",
        "Modify the values below for your use case, can be done multiple times, then click play.\n"
      ]
    },
    {
      "cell_type": "code",
      "metadata": {
        "id": "TMEC0Q3qNNoQ",
        "colab_type": "code"
      },
      "source": [
        "FIELDS = {\n",
        "  \"account\":\"\",\n",
        "  \"floodlight_activity_id\":,\n",
        "  \"floodlight_conversion_type\":encryptedUserId,\n",
        "  \"encryption_entity_id\":,\n",
        "  \"encryption_entity_type\":DCM_ACCOUNT,\n",
        "  \"encryption_entity_source\":DATA_TRANSFER,\n",
        "  \"bigquery_dataset\":\"\",\n",
        "  \"bigquery_table\":\"\",\n",
        "  \"bigquery_legacy\":True,\n",
        "}\n",
        "\n",
        "print(\"Parameters Set To: %s\" % FIELDS)\n"
      ]
    },
    {
      "cell_type": "markdown",
      "metadata": {
        "id": "9Yf6kfqCn8jQ",
        "colab_type": "text"
      },
      "source": [
        "#5. Execute Conversion Upload BigQuery\n",
        "This does NOT need to be modified unles you are changing the recipe, click play.\n"
      ]
    },
    {
      "cell_type": "code",
      "metadata": {
        "id": "fP90db9N8r3b",
        "colab_type": "code"
      },
      "source": [
        "from starthinker.util.project import project\n",
        "from starthinker.script.parse import json_set_fields\n",
        "\n",
        "USER_CREDENTIALS = '/content/user.json'\n",
        "\n",
        "TASKS = [ { 'conversion_upload': { 'account_id': { 'field': { 'default': '',\n",
        "                                                      'kind': 'string',\n",
        "                                                      'name': 'account',\n",
        "                                                      'order': 0}},\n",
        "                           'activity_id': { 'field': { 'default': '',\n",
        "                                                       'kind': 'integer',\n",
        "                                                       'name': 'floodlight_activity_id',\n",
        "                                                       'order': 1}},\n",
        "                           'auth': 'user',\n",
        "                           'bigquery': { 'dataset': { 'field': { 'default': '',\n",
        "                                                                 'kind': 'string',\n",
        "                                                                 'name': 'bigquery_dataset',\n",
        "                                                                 'order': 6}},\n",
        "                                         'legacy': { 'field': { 'default': True,\n",
        "                                                                'kind': 'boolean',\n",
        "                                                                'name': 'bigquery_legacy',\n",
        "                                                                'order': 8}},\n",
        "                                         'table': { 'field': { 'default': '',\n",
        "                                                               'kind': 'string',\n",
        "                                                               'name': 'bigquery_table',\n",
        "                                                               'order': 7}}},\n",
        "                           'conversion_type': { 'field': { 'choices': [ 'encryptedUserId',\n",
        "                                                                        'encryptedUserIdCandidates',\n",
        "                                                                        'gclid',\n",
        "                                                                        'mobileDeviceId'],\n",
        "                                                           'default': 'encryptedUserId',\n",
        "                                                           'kind': 'choice',\n",
        "                                                           'name': 'floodlight_conversion_type',\n",
        "                                                           'order': 2}},\n",
        "                           'encryptionInfo': { 'encryptionEntityId': { 'field': { 'default': '',\n",
        "                                                                                  'kind': 'integer',\n",
        "                                                                                  'name': 'encryption_entity_id',\n",
        "                                                                                  'order': 3}},\n",
        "                                               'encryptionEntityType': { 'field': { 'choices': [ 'ADWORDS_CUSTOMER',\n",
        "                                                                                                 'DBM_ADVERTISER',\n",
        "                                                                                                 'DBM_PARTNER',\n",
        "                                                                                                 'DCM_ACCOUNT',\n",
        "                                                                                                 'DCM_ADVERTISER',\n",
        "                                                                                                 'ENCRYPTION_ENTITY_TYPE_UNKNOWN'],\n",
        "                                                                                    'default': 'DCM_ACCOUNT',\n",
        "                                                                                    'kind': 'choice',\n",
        "                                                                                    'name': 'encryption_entity_type',\n",
        "                                                                                    'order': 4}},\n",
        "                                               'encryptionSource': { 'field': { 'choices': [ 'AD_SERVING',\n",
        "                                                                                             'DATA_TRANSFER',\n",
        "                                                                                             'ENCRYPTION_SCOPE_UNKNOWN'],\n",
        "                                                                                'default': 'DATA_TRANSFER',\n",
        "                                                                                'kind': 'choice',\n",
        "                                                                                'name': 'encryption_entity_source',\n",
        "                                                                                'order': 5}}}}}]\n",
        "\n",
        "json_set_fields(TASKS, FIELDS)\n",
        "project.initialize(_recipe={ 'tasks':TASKS }, _project=CLOUD_PROJECT, _user=USER_CREDENTIALS, _client=CLIENT_CREDENTIALS, _verbose=True)\n",
        "project.execute()\n"
      ]
    }
  ]
}
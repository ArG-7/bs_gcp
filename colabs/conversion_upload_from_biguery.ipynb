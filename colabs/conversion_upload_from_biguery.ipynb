{
  "metadata": {
    "colab": {
      "toc_visible": true,
      "collapsed_sections": [],
      "name": "Conversion Upload BigQuery",
      "provenance": []
    },
    "kernelspec": {
      "display_name": "Python 3",
      "name": "python3"
    }
  },
  "copyright": "Copyright 2020 Google LLC",
  "nbformat_minor": "0",
  "license": "Apache License, Version 2.0",
  "nbformat": "4",
  "cells": [
    {
      "metadata": {
        "colab_type": "text"
      },
      "source": [
        "#1. Install Dependencies\n",
        "First install the libraries needed to execute recipes, this only needs to be done once, then click play.\n"
      ],
      "cell_type": "markdown"
    },
    {
      "metadata": {
        "colab_type": "code"
      },
      "source": [
        "!pip install git+https://github.com/google/starthinker\n"
      ],
      "cell_type": "code"
    },
    {
      "metadata": {
        "colab_type": "text"
      },
      "source": [
        "#2. Get Cloud Project ID\n",
        "To run this recipe [requires a Google Cloud Project](https://github.com/google/starthinker/blob/master/tutorials/cloud_project.md), this only needs to be done once, then click play.\n"
      ],
      "cell_type": "markdown"
    },
    {
      "metadata": {
        "colab_type": "code"
      },
      "source": [
        "CLOUD_PROJECT = 'PASTE PROJECT ID HERE'\n",
        "\n",
        "print(\"Cloud Project Set To: %s\" % CLOUD_PROJECT)\n"
      ],
      "cell_type": "code"
    },
    {
      "metadata": {
        "colab_type": "text"
      },
      "source": [
        "#3. Get Client Credentials\n",
        "To read and write to various endpoints requires [downloading client credentials](https://github.com/google/starthinker/blob/master/tutorials/cloud_client_installed.md), this only needs to be done once, then click play.\n"
      ],
      "cell_type": "markdown"
    },
    {
      "metadata": {
        "colab_type": "code"
      },
      "source": [
        "CLIENT_CREDENTIALS = 'PASTE CREDENTIALS HERE'\n",
        "\n",
        "print(\"Client Credentials Set To: %s\" % CLIENT_CREDENTIALS)\n"
      ],
      "cell_type": "code"
    },
    {
      "metadata": {
        "colab_type": "text"
      },
      "source": [
        "#4. Enter Conversion Upload BigQuery Parameters\n",
        "Move from BigQuery to CM.\n",
        " 1. Specify a CM Account ID, Floodligh Activity ID and Conversion Type.\n",
        " 1. Include BigQuery dataset and table.\n",
        " 1. Columns: Ordinal, timestampMicros, encryptedUserId | encryptedUserIdCandidates | gclid | mobileDeviceId\n",
        " 1. Include encryption information if using encryptedUserId or encryptedUserIdCandidates.\n",
        "Modify the values below for your use case, can be done multiple times, then click play.\n"
      ],
      "cell_type": "markdown"
    },
    {
      "metadata": {
        "colab_type": "code"
      },
      "source": [
        "FIELDS = {\n",
        "  'account': '',\n",
        "  'floodlight_activity_id': '',\n",
        "  'auth_read': 'user',  # Credentials used for reading data.\n",
        "  'floodlight_conversion_type': 'encryptedUserId',\n",
        "  'encryption_entity_id': '',\n",
        "  'encryption_entity_type': 'DCM_ACCOUNT',\n",
        "  'encryption_entity_source': 'DATA_TRANSFER',\n",
        "  'bigquery_dataset': '',\n",
        "  'bigquery_table': '',\n",
        "  'bigquery_legacy': True,\n",
        "}\n",
        "\n",
        "print(\"Parameters Set To: %s\" % FIELDS)\n"
      ],
      "cell_type": "code"
    },
    {
      "metadata": {
        "colab_type": "text"
      },
      "source": [
        "#5. Execute Conversion Upload BigQuery\n",
        "This does NOT need to be modified unles you are changing the recipe, click play.\n"
      ],
      "cell_type": "markdown"
    },
    {
      "metadata": {
        "colab_type": "code"
      },
      "source": [
        "from starthinker.util.project import project\n",
        "from starthinker.script.parse import json_set_fields\n",
        "\n",
        "USER_CREDENTIALS = '/content/user.json'\n",
        "\n",
        "TASKS = [\n",
        "  {\n",
        "    'conversion_upload': {\n",
        "      'auth': 'user',\n",
        "      'encryptionInfo': {\n",
        "        'encryptionEntityId': {'field': {'kind': 'integer','name': 'encryption_entity_id','order': 3,'default': ''}},\n",
        "        'encryptionEntityType': {'field': {'kind': 'choice','choices': ['ADWORDS_CUSTOMER','DBM_ADVERTISER','DBM_PARTNER','DCM_ACCOUNT','DCM_ADVERTISER','ENCRYPTION_ENTITY_TYPE_UNKNOWN'],'name': 'encryption_entity_type','order': 4,'default': 'DCM_ACCOUNT'}},\n",
        "        'encryptionSource': {'field': {'kind': 'choice','choices': ['AD_SERVING','DATA_TRANSFER','ENCRYPTION_SCOPE_UNKNOWN'],'name': 'encryption_entity_source','order': 5,'default': 'DATA_TRANSFER'}}\n",
        "      },\n",
        "      'conversion_type': {'field': {'kind': 'choice','choices': ['encryptedUserId','encryptedUserIdCandidates','gclid','mobileDeviceId'],'name': 'floodlight_conversion_type','order': 2,'default': 'encryptedUserId'}},\n",
        "      'bigquery': {\n",
        "        'table': {'field': {'kind': 'string','name': 'bigquery_table','order': 7,'default': ''}},\n",
        "        'dataset': {'field': {'kind': 'string','name': 'bigquery_dataset','order': 6,'default': ''}},\n",
        "        'legacy': {'field': {'kind': 'boolean','name': 'bigquery_legacy','order': 8,'default': True}}\n",
        "      },\n",
        "      'activity_id': {'field': {'kind': 'integer','name': 'floodlight_activity_id','order': 1,'default': ''}},\n",
        "      'account_id': {'field': {'kind': 'string','name': 'account','order': 0,'default': ''}}\n",
        "    }\n",
        "  }\n",
        "]\n",
        "\n",
        "json_set_fields(TASKS, FIELDS)\n",
        "\n",
        "project.initialize(_recipe={ 'tasks':TASKS }, _project=CLOUD_PROJECT, _user=USER_CREDENTIALS, _client=CLIENT_CREDENTIALS, _verbose=True, _force=True)\n",
        "project.execute(_force=True)\n"
      ],
      "cell_type": "code"
    }
  ]
}
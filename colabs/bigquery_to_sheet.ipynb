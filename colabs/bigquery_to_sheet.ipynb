{
  "license": "Apache License, Version 2.0",
  "copyright": "Copyright 2018 Google Inc.",
  "nbformat": "4",
  "nbformat_minor": "0",
  "metadata": {
    "colab": {
      "name": "Query to Sheet",
      "provenance": [],
      "collapsed_sections": [],
      "toc_visible": true
    },
    "kernelspec": {
      "name": "python3",
      "display_name": "Python 3"
    }
  },
  "cells": [
    {
      "cell_type": "markdown",
      "metadata": {
        "id": "kelK6I0oxTEv",
        "colab_type": "text"
      },
      "source": [
        "#1. Install Dependencies\n",
        "First install the libraries needed to execute recipes, this only needs to be done once, then click play.\n"
      ]
    },
    {
      "cell_type": "code",
      "metadata": {
        "id": "1xKGGq00KWqt",
        "colab_type": "code"
      },
      "source": [
        "!pip install git+https://github.com/google/starthinker\n"
      ]
    },
    {
      "cell_type": "markdown",
      "metadata": {
        "id": "sjytubYH4L0I",
        "colab_type": "text"
      },
      "source": [
        "#2. Get Cloud Project ID\n",
        "To run this recipe [requires a Google Cloud Project](https://github.com/google/starthinker/blob/master/tutorials/cloud_project.md), this only needs to be done once, then click play.\n"
      ]
    },
    {
      "cell_type": "code",
      "metadata": {
        "id": "0LGaW2ibIDUv",
        "colab_type": "code"
      },
      "source": [
        "CLOUD_PROJECT = 'PASTE PROJECT ID HERE'\n",
        "\n",
        "print(\"Cloud Project Set To: %s\" % CLOUD_PROJECT)\n"
      ]
    },
    {
      "cell_type": "markdown",
      "metadata": {
        "id": "pvQ1mPlsUGHq",
        "colab_type": "text"
      },
      "source": [
        "#3. Get Client Credentials\n",
        "To read and write to various endpoints requires [downloading client credentials](https://github.com/google/starthinker/blob/master/tutorials/cloud_client_installed.md), this only needs to be done once, then click play.\n"
      ]
    },
    {
      "cell_type": "code",
      "metadata": {
        "id": "fgvf8RYBLTdL",
        "colab_type": "code"
      },
      "source": [
        "CLIENT_CREDENTIALS = 'PASTE CREDENTIALS HERE'\n",
        "\n",
        "print(\"Client Credentials Set To: %s\" % CLIENT_CREDENTIALS)\n"
      ]
    },
    {
      "cell_type": "markdown",
      "metadata": {
        "id": "JjwjQRnvkpl2",
        "colab_type": "text"
      },
      "source": [
        "#4. Enter Query to Sheet Parameters\n",
        "Copy the contents of a query into a Google Sheet.\n",
        " 1. Specify the sheet and the query.\n",
        " 1. Leave range blank or set to A2 to insert one line down.\n",
        " 1. The range is cleared before the sheet is written to.\n",
        " 1. To select a table use SELECT * FROM table.\n",
        "Modify the values below for your use case, can be done multiple times, then click play.\n"
      ]
    },
    {
      "cell_type": "code",
      "metadata": {
        "id": "LZeJYVKG4a7o",
        "colab_type": "code"
      },
      "source": [
        "FIELDS = {\n",
        "  \"sheet\":\"\", # Either sheet url or sheet name.\n",
        "  \"tab\":\"\", # Name of the tab where to put the data.\n",
        "  \"range\":\"\", # Range in the sheet to place the data, leave blank for whole sheet.\n",
        "  \"dataset\":\"\", # Existing BigQuery dataset.\n",
        "  \"query\":\"\", # Query to pull data from the table.\n",
        "  \"legacy\":True, # Use Legacy SQL\n",
        "}\n",
        "\n",
        "print(\"Parameters Set To: %s\" % FIELDS)\n"
      ]
    },
    {
      "cell_type": "markdown",
      "metadata": {
        "id": "IeoVrxIrsPfe",
        "colab_type": "text"
      },
      "source": [
        "#5. Execute Query to Sheet\n",
        "This does NOT need to be modified unles you are changing the recipe, click play.\n"
      ]
    },
    {
      "cell_type": "code",
      "metadata": {
        "id": "nLXYlJrBfBPq",
        "colab_type": "code"
      },
      "source": [
        "from starthinker.util.project import project\n",
        "from starthinker.script.parse import json_set_fields\n",
        "\n",
        "USER_CREDENTIALS = '/content/user.json'\n",
        "\n",
        "TASKS = [ { 'bigquery': { 'auth': 'user',\n",
        "                  'from': { 'auth': 'user',\n",
        "                            'dataset': { 'field': { 'default': '',\n",
        "                                                    'description': 'Existing '\n",
        "                                                                   'BigQuery '\n",
        "                                                                   'dataset.',\n",
        "                                                    'kind': 'string',\n",
        "                                                    'name': 'dataset',\n",
        "                                                    'order': 4}},\n",
        "                            'legacy': { 'field': { 'default': True,\n",
        "                                                   'description': 'Use '\n",
        "                                                                  'Legacy '\n",
        "                                                                  'SQL',\n",
        "                                                   'kind': 'boolean',\n",
        "                                                   'name': 'legacy',\n",
        "                                                   'order': 6}},\n",
        "                            'query': { 'field': { 'default': '',\n",
        "                                                  'description': 'Query '\n",
        "                                                                 'to '\n",
        "                                                                 'pull '\n",
        "                                                                 'data '\n",
        "                                                                 'from '\n",
        "                                                                 'the '\n",
        "                                                                 'table.',\n",
        "                                                  'kind': 'string',\n",
        "                                                  'name': 'query',\n",
        "                                                  'order': 5}}},\n",
        "                  'to': { 'range': { 'field': { 'default': '',\n",
        "                                                'description': 'Range '\n",
        "                                                               'in '\n",
        "                                                               'the '\n",
        "                                                               'sheet '\n",
        "                                                               'to '\n",
        "                                                               'place '\n",
        "                                                               'the '\n",
        "                                                               'data, '\n",
        "                                                               'leave '\n",
        "                                                               'blank '\n",
        "                                                               'for '\n",
        "                                                               'whole '\n",
        "                                                               'sheet.',\n",
        "                                                'kind': 'string',\n",
        "                                                'name': 'range',\n",
        "                                                'order': 3}},\n",
        "                          'sheet': { 'field': { 'default': '',\n",
        "                                                'description': 'Either '\n",
        "                                                               'sheet '\n",
        "                                                               'url '\n",
        "                                                               'or '\n",
        "                                                               'sheet '\n",
        "                                                               'name.',\n",
        "                                                'kind': 'string',\n",
        "                                                'name': 'sheet',\n",
        "                                                'order': 1}},\n",
        "                          'tab': { 'field': { 'default': '',\n",
        "                                              'description': 'Name '\n",
        "                                                             'of '\n",
        "                                                             'the '\n",
        "                                                             'tab '\n",
        "                                                             'where '\n",
        "                                                             'to '\n",
        "                                                             'put '\n",
        "                                                             'the '\n",
        "                                                             'data.',\n",
        "                                              'kind': 'string',\n",
        "                                              'name': 'tab',\n",
        "                                              'order': 2}}}}}]\n",
        "\n",
        "json_set_fields(TASKS, FIELDS)\n",
        "project.initialize(_recipe={ 'tasks':TASKS }, _project=CLOUD_PROJECT, _user=USER_CREDENTIALS, _client=CLIENT_CREDENTIALS, _verbose=True)\n",
        "project.execute()\n"
      ]
    }
  ]
}
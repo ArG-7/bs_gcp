{
  "license": "Apache License, Version 2.0",
  "copyright": "Copyright 2018 Google Inc.",
  "nbformat": "4",
  "nbformat_minor": "0",
  "metadata": {
    "colab": {
      "name": "Google Analytics Timeline",
      "provenance": [],
      "collapsed_sections": [],
      "toc_visible": true
    },
    "kernelspec": {
      "name": "python3",
      "display_name": "Python 3"
    }
  },
  "cells": [
    {
      "cell_type": "markdown",
      "metadata": {
        "id": "91n74lrQyovo",
        "colab_type": "text"
      },
      "source": [
        "#1. Install Dependencies\n",
        "First install the libraries needed to execute recipes, this only needs to be done once, then click play.\n"
      ]
    },
    {
      "cell_type": "code",
      "metadata": {
        "id": "p6A3jErPRCeB",
        "colab_type": "code"
      },
      "source": [
        "!pip install git+https://github.com/google/starthinker\n"
      ]
    },
    {
      "cell_type": "markdown",
      "metadata": {
        "id": "QkNaY9mvfajV",
        "colab_type": "text"
      },
      "source": [
        "#2. Get Cloud Project ID\n",
        "To run this recipe [requires a Google Cloud Project](https://github.com/google/starthinker/blob/master/tutorials/cloud_project.md), this only needs to be done once, then click play.\n"
      ]
    },
    {
      "cell_type": "code",
      "metadata": {
        "id": "ycBJbeeWqX2B",
        "colab_type": "code"
      },
      "source": [
        "CLOUD_PROJECT = 'PASTE PROJECT ID HERE'\n",
        "\n",
        "print(\"Cloud Project Set To: %s\" % CLOUD_PROJECT)\n"
      ]
    },
    {
      "cell_type": "markdown",
      "metadata": {
        "id": "beoxaWY0U3v2",
        "colab_type": "text"
      },
      "source": [
        "#3. Get Client Credentials\n",
        "To read and write to various endpoints requires [downloading client credentials](https://github.com/google/starthinker/blob/master/tutorials/cloud_client_installed.md), this only needs to be done once, then click play.\n"
      ]
    },
    {
      "cell_type": "code",
      "metadata": {
        "id": "Yt2ZaORkwVAG",
        "colab_type": "code"
      },
      "source": [
        "CLIENT_CREDENTIALS = 'PASTE CREDENTIALS HERE'\n",
        "\n",
        "print(\"Client Credentials Set To: %s\" % CLIENT_CREDENTIALS)\n"
      ]
    },
    {
      "cell_type": "markdown",
      "metadata": {
        "id": "8AISNCh3g0Kh",
        "colab_type": "text"
      },
      "source": [
        "#4. Enter Google Analytics Timeline Parameters\n",
        "Download Google Analytics settings to a BigQuery table.\n",
        " 1. Enter the dateset to which the Google Analytics settings will be downloaded.\n",
        " 1. Add the starthinker service account email to the Google Analytics account(s) in which you are interested.\n",
        " 1. Schedule the recipe to run once a day.\n",
        "Modify the values below for your use case, can be done multiple times, then click play.\n"
      ]
    },
    {
      "cell_type": "code",
      "metadata": {
        "id": "zkzJW3h9Kxhn",
        "colab_type": "code"
      },
      "source": [
        "FIELDS = {\n",
        "  \"account_ids\":[],\n",
        "  \"dataset\":\"\", # Dataset to be written to in BigQuery.\n",
        "}\n",
        "\n",
        "print(\"Parameters Set To: %s\" % FIELDS)\n"
      ]
    },
    {
      "cell_type": "markdown",
      "metadata": {
        "id": "114L8Fo3BrnK",
        "colab_type": "text"
      },
      "source": [
        "#5. Execute Google Analytics Timeline\n",
        "This does NOT need to be modified unles you are changing the recipe, click play.\n"
      ]
    },
    {
      "cell_type": "code",
      "metadata": {
        "id": "jjs5RGx9J5XN",
        "colab_type": "code"
      },
      "source": [
        "from starthinker.util.project import project\n",
        "from starthinker.script.parse import json_set_fields\n",
        "\n",
        "USER_CREDENTIALS = '/content/user.json'\n",
        "\n",
        "TASKS = [\n",
        "  {\n",
        "    \"ga_settings_download\": {\n",
        "      \"description\": \"Will create tables with format ga_* to hold each endpoint via a call to the API list function.\",\n",
        "      \"auth\": \"user\",\n",
        "      \"accounts\": {\n",
        "        \"field\": {\n",
        "          \"name\": \"account_ids\",\n",
        "          \"kind\": \"integer_list\",\n",
        "          \"order\": 1,\n",
        "          \"default\": []\n",
        "        }\n",
        "      },\n",
        "      \"dataset\": {\n",
        "        \"field\": {\n",
        "          \"name\": \"dataset\",\n",
        "          \"kind\": \"string\",\n",
        "          \"order\": 2,\n",
        "          \"default\": \"\",\n",
        "          \"description\": \"Dataset to be written to in BigQuery.\"\n",
        "        }\n",
        "      }\n",
        "    }\n",
        "  }\n",
        "]\n",
        "\n",
        "json_set_fields(TASKS, FIELDS)\n",
        "project.initialize(_recipe={ 'tasks':TASKS }, _project=CLOUD_PROJECT, _user=USER_CREDENTIALS, _client=CLIENT_CREDENTIALS, _verbose=True)\n",
        "project.execute()\n"
      ]
    }
  ]
}
{
  "license": "Apache License, Version 2.0",
  "copyright": "Copyright 2018 Google Inc.",
  "nbformat": "4",
  "nbformat_minor": "0",
  "metadata": {
    "colab": {
      "name": "Google Analytics Timeline",
      "provenance": [],
      "collapsed_sections": [],
      "toc_visible": true
    },
    "kernelspec": {
      "name": "python3",
      "display_name": "Python 3"
    }
  },
  "cells": [
    {
      "cell_type": "markdown",
      "metadata": {
        "id": "aDvzKXMk7gFj",
        "colab_type": "text"
      },
      "source": [
        "#1. Install Dependencies\n",
        "First install the libraries needed to execute recipes, this only needs to be done once, then click play.\n"
      ]
    },
    {
      "cell_type": "code",
      "metadata": {
        "id": "RGHbMMtQ6hWl",
        "colab_type": "code"
      },
      "source": [
        "!pip install git+https://github.com/google/starthinker\n"
      ]
    },
    {
      "cell_type": "markdown",
      "metadata": {
        "id": "kDDqcOCeY3Ij",
        "colab_type": "text"
      },
      "source": [
        "#2. Get Cloud Project ID\n",
        "To run this recipe [requires a Google Cloud Project](https://github.com/google/starthinker/blob/master/tutorials/cloud_project.md), this only needs to be done once, then click play.\n"
      ]
    },
    {
      "cell_type": "code",
      "metadata": {
        "id": "tW3wVyR0WuzY",
        "colab_type": "code"
      },
      "source": [
        "CLOUD_PROJECT = 'PASTE PROJECT ID HERE'\n",
        "\n",
        "print(\"Cloud Project Set To: %s\" % CLOUD_PROJECT)\n"
      ]
    },
    {
      "cell_type": "markdown",
      "metadata": {
        "id": "5JFWNlfeBCJB",
        "colab_type": "text"
      },
      "source": [
        "#3. Get Client Credentials\n",
        "To read and write to various endpoints requires [downloading client credentials](https://github.com/google/starthinker/blob/master/tutorials/cloud_client_installed.md), this only needs to be done once, then click play.\n"
      ]
    },
    {
      "cell_type": "code",
      "metadata": {
        "id": "QLoSWmgL1SaX",
        "colab_type": "code"
      },
      "source": [
        "CLIENT_CREDENTIALS = 'PASTE CREDENTIALS HERE'\n",
        "\n",
        "print(\"Client Credentials Set To: %s\" % CLIENT_CREDENTIALS)\n"
      ]
    },
    {
      "cell_type": "markdown",
      "metadata": {
        "id": "fUSFGr66jLQu",
        "colab_type": "text"
      },
      "source": [
        "#4. Enter Google Analytics Timeline Parameters\n",
        "Download Google Analytics settings to a BigQuery table.\n",
        " 1. Enter the dateset to which the Google Analytics settings will be downloaded.\n",
        " 1. Add the starthinker service account email to the Google Analytics account(s) in which you are interested.\n",
        " 1. Schedule the recipe to run once a day.\n",
        "Modify the values below for your use case, can be done multiple times, then click play.\n"
      ]
    },
    {
      "cell_type": "code",
      "metadata": {
        "id": "nX1M1KChu9kf",
        "colab_type": "code"
      },
      "source": [
        "FIELDS = {\n",
        "  \"account_ids\":[],\n",
        "  \"dataset\":\"\", # Dataset to be written to in BigQuery.\n",
        "}\n",
        "\n",
        "print(\"Parameters Set To: %s\" % FIELDS)\n"
      ]
    },
    {
      "cell_type": "markdown",
      "metadata": {
        "id": "md4K2MyAiKZk",
        "colab_type": "text"
      },
      "source": [
        "#5. Execute Google Analytics Timeline\n",
        "This does NOT need to be modified unles you are changing the recipe, click play.\n"
      ]
    },
    {
      "cell_type": "code",
      "metadata": {
        "id": "WTcEztZ7MEGQ",
        "colab_type": "code"
      },
      "source": [
        "from starthinker.util.project import project\n",
        "from starthinker.script.parse import json_set_fields\n",
        "\n",
        "USER_CREDENTIALS = '/content/user.json'\n",
        "\n",
        "TASKS = [ { 'ga_settings_download': { 'accounts': { 'field': { 'default': [ ],\n",
        "                                                       'kind': 'integer_list',\n",
        "                                                       'name': 'account_ids',\n",
        "                                                       'order': 1}},\n",
        "                              'auth': 'user',\n",
        "                              'dataset': { 'field': { 'default': '',\n",
        "                                                      'description': 'Dataset '\n",
        "                                                                     'to '\n",
        "                                                                     'be '\n",
        "                                                                     'written '\n",
        "                                                                     'to '\n",
        "                                                                     'in '\n",
        "                                                                     'BigQuery.',\n",
        "                                                      'kind': 'string',\n",
        "                                                      'name': 'dataset',\n",
        "                                                      'order': 2}},\n",
        "                              'description': 'Will '\n",
        "                                             'create '\n",
        "                                             'tables '\n",
        "                                             'with '\n",
        "                                             'format '\n",
        "                                             'ga_* '\n",
        "                                             'to '\n",
        "                                             'hold '\n",
        "                                             'each '\n",
        "                                             'endpoint '\n",
        "                                             'via '\n",
        "                                             'a '\n",
        "                                             'call '\n",
        "                                             'to '\n",
        "                                             'the '\n",
        "                                             'API '\n",
        "                                             'list '\n",
        "                                             'function.'}}]\n",
        "\n",
        "json_set_fields(TASKS, FIELDS)\n",
        "project.initialize(_recipe={ 'tasks':TASKS }, _project=CLOUD_PROJECT, _user=USER_CREDENTIALS, _client=CLIENT_CREDENTIALS, _verbose=True)\n",
        "project.execute()\n"
      ]
    }
  ]
}
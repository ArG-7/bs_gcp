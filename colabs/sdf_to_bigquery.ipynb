{
  "license": "Apache License, Version 2.0",
  "copyright": "Copyright 2018 Google Inc.",
  "nbformat": "4",
  "nbformat_minor": "0",
  "metadata": {
    "colab": {
      "name": "SDF Download",
      "provenance": [],
      "collapsed_sections": [],
      "toc_visible": true
    },
    "kernelspec": {
      "name": "python3",
      "display_name": "Python 3"
    }
  },
  "cells": [
    {
      "cell_type": "markdown",
      "metadata": {
        "colab_type": "text"
      },
      "source": [
        "#1. Install Dependencies\n",
        "First install the libraries needed to execute recipes, this only needs to be done once, then click play.\n"
      ]
    },
    {
      "cell_type": "code",
      "metadata": {
        "colab_type": "code"
      },
      "source": [
        "!pip install git+https://github.com/google/starthinker\n"
      ]
    },
    {
      "cell_type": "markdown",
      "metadata": {
        "colab_type": "text"
      },
      "source": [
        "#2. Get Cloud Project ID\n",
        "To run this recipe [requires a Google Cloud Project](https://github.com/google/starthinker/blob/master/tutorials/cloud_project.md), this only needs to be done once, then click play.\n"
      ]
    },
    {
      "cell_type": "code",
      "metadata": {
        "colab_type": "code"
      },
      "source": [
        "CLOUD_PROJECT = 'PASTE PROJECT ID HERE'\n",
        "\n",
        "print(\"Cloud Project Set To: %s\" % CLOUD_PROJECT)\n"
      ]
    },
    {
      "cell_type": "markdown",
      "metadata": {
        "colab_type": "text"
      },
      "source": [
        "#3. Get Client Credentials\n",
        "To read and write to various endpoints requires [downloading client credentials](https://github.com/google/starthinker/blob/master/tutorials/cloud_client_installed.md), this only needs to be done once, then click play.\n"
      ]
    },
    {
      "cell_type": "code",
      "metadata": {
        "colab_type": "code"
      },
      "source": [
        "CLIENT_CREDENTIALS = 'PASTE CREDENTIALS HERE'\n",
        "\n",
        "print(\"Client Credentials Set To: %s\" % CLIENT_CREDENTIALS)\n"
      ]
    },
    {
      "cell_type": "markdown",
      "metadata": {
        "colab_type": "text"
      },
      "source": [
        "#4. Enter SDF Download Parameters\n",
        "Download SDF reports into a BigQuery table.\n",
        " 1. Select your filter types and the filter ideas.\n",
        " 1. Enter the <a href='https://developers.google.com/bid-manager/v1.1/sdf/download' target='_blank'>file types</a> using commas.\n",
        " 1. SDF_ will be prefixed to all tables and date appended to daily tables.\n",
        "Modify the values below for your use case, can be done multiple times, then click play.\n"
      ]
    },
    {
      "cell_type": "code",
      "metadata": {
        "colab_type": "code"
      },
      "source": [
        "FIELDS = {\n",
        "  'file_types': [],  # The sdf file types.\n",
        "  'filter_type': '',  # The filter type for the filter ids.\n",
        "  'filter_ids': '',  # The filter ids for the request.\n",
        "  'version': '5',  # The sdf version to be returned.\n",
        "  'dataset': '',  # Dataset to be written to in BigQuery.\n",
        "  'daily': False,  # Also create a unique record for each day the data is pulled.\n",
        "}\n",
        "\n",
        "print(\"Parameters Set To: %s\" % FIELDS)\n"
      ]
    },
    {
      "cell_type": "markdown",
      "metadata": {
        "colab_type": "text"
      },
      "source": [
        "#5. Execute SDF Download\n",
        "This does NOT need to be modified unles you are changing the recipe, click play.\n"
      ]
    },
    {
      "cell_type": "code",
      "metadata": {
        "colab_type": "code"
      },
      "source": [
        "from starthinker.util.project import project\n",
        "from starthinker.script.parse import json_set_fields\n",
        "\n",
        "USER_CREDENTIALS = '/content/user.json'\n",
        "\n",
        "TASKS = [\n",
        "  {\n",
        "    'sdf': {\n",
        "      'auth': 'user',\n",
        "      'version': {'field': {'name': 'version','kind': 'choice','order': 4,'default': '5','description': 'The sdf version to be returned.','choices': ['3.1','5']}},\n",
        "      'file_types': {'field': {'name': 'file_types','kind': 'string_list','order': 1,'default': [],'description': 'The sdf file types.'}},\n",
        "      'filter_type': {'field': {'name': 'filter_type','kind': 'choice','order': 2,'default': '','description': 'The filter type for the filter ids.','choices': ['ADVERTISER_ID','CAMPAIGN_ID','INSERTION_ORDER_ID','INVENTORY_SOURCE_ID','LINE_ITEM_ID','PARTNER_ID']}},\n",
        "      'read': {\n",
        "        'filter_ids': {\n",
        "          'single_cell': True,\n",
        "          'values': {'field': {'name': 'filter_ids','kind': 'integer_list','order': 3,'default': '','description': 'The filter ids for the request.'}}\n",
        "        }\n",
        "      },\n",
        "      'daily': {'field': {'name': 'daily','kind': 'boolean','order': 6,'default': False,'description': 'Also create a unique record for each day the data is pulled.'}},\n",
        "      'out': {\n",
        "        'bigquery': {\n",
        "          'dataset': {'field': {'name': 'dataset','kind': 'string','order': 5,'default': '','description': 'Dataset to be written to in BigQuery.'}}\n",
        "        }\n",
        "      }\n",
        "    }\n",
        "  }\n",
        "]\n",
        "\n",
        "json_set_fields(TASKS, FIELDS)\n",
        "project.initialize(_recipe={ 'tasks':TASKS }, _project=CLOUD_PROJECT, _user=USER_CREDENTIALS, _client=CLIENT_CREDENTIALS, _verbose=True)\n",
        "project.execute()\n"
      ]
    }
  ]
}
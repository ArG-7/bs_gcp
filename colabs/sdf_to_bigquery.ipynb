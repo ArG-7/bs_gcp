{
  "copyright": "Copyright 2020 Google LLC",
  "metadata": {
    "kernelspec": {
      "display_name": "Python 3",
      "name": "python3"
    },
    "colab": {
      "name": "SDF Download",
      "toc_visible": true,
      "collapsed_sections": [],
      "provenance": []
    }
  },
  "license": "Apache License, Version 2.0",
  "cells": [
    {
      "cell_type": "markdown",
      "source": [
        "#1. Install Dependencies\n",
        "First install the libraries needed to execute recipes, this only needs to be done once, then click play.\n"
      ],
      "metadata": {
        "colab_type": "text"
      }
    },
    {
      "cell_type": "code",
      "source": [
        "!pip install git+https://github.com/google/starthinker\n"
      ],
      "metadata": {
        "colab_type": "code"
      }
    },
    {
      "cell_type": "markdown",
      "source": [
        "#2. Get Cloud Project ID\n",
        "To run this recipe [requires a Google Cloud Project](https://github.com/google/starthinker/blob/master/tutorials/cloud_project.md), this only needs to be done once, then click play.\n"
      ],
      "metadata": {
        "colab_type": "text"
      }
    },
    {
      "cell_type": "code",
      "source": [
        "CLOUD_PROJECT = 'PASTE PROJECT ID HERE'\n",
        "\n",
        "print(\"Cloud Project Set To: %s\" % CLOUD_PROJECT)\n"
      ],
      "metadata": {
        "colab_type": "code"
      }
    },
    {
      "cell_type": "markdown",
      "source": [
        "#3. Get Client Credentials\n",
        "To read and write to various endpoints requires [downloading client credentials](https://github.com/google/starthinker/blob/master/tutorials/cloud_client_installed.md), this only needs to be done once, then click play.\n"
      ],
      "metadata": {
        "colab_type": "text"
      }
    },
    {
      "cell_type": "code",
      "source": [
        "CLIENT_CREDENTIALS = 'PASTE CREDENTIALS HERE'\n",
        "\n",
        "print(\"Client Credentials Set To: %s\" % CLIENT_CREDENTIALS)\n"
      ],
      "metadata": {
        "colab_type": "code"
      }
    },
    {
      "cell_type": "markdown",
      "source": [
        "#4. Enter SDF Download Parameters\n",
        "Download SDF reports into a BigQuery table.\n",
        " 1. Select your filter types and the filter ideas.\n",
        " 1. Enter the <a href='https://developers.google.com/bid-manager/v1.1/sdf/download' target='_blank'>file types</a> using commas.\n",
        " 1. SDF_ will be prefixed to all tables and date appended to daily tables.\n",
        " 1. File types take the following format: FILE_TYPE_CAMPAIGN, FILE_TYPE_AD_GROUP,...\n",
        "Modify the values below for your use case, can be done multiple times, then click play.\n"
      ],
      "metadata": {
        "colab_type": "text"
      }
    },
    {
      "cell_type": "code",
      "source": [
        "FIELDS = {\n",
        "  'auth_write': 'service',  # Credentials used for writing data.\n",
        "  'partner_id': '',  # The sdf file types.\n",
        "  'file_types': [],  # The sdf file types.\n",
        "  'filter_type': '',  # The filter type for the filter ids.\n",
        "  'filter_ids': [],  # Comma separated list of filter ids for the request.\n",
        "  'table_suffix': '',  # Optional: Suffix string to put at the end of the table name (Must contain alphanumeric or underscores)\n",
        "  'version': '5',  # The sdf version to be returned.\n",
        "  'dataset': '',  # Dataset to be written to in BigQuery.\n",
        "  'time_partitioned_table': False,  # Is the end table a time partitioned\n",
        "  'create_single_day_table': False,  # Would you like a separate table for each day? This will result in an extra table each day and the end table with the most up to date SDF.\n",
        "}\n",
        "\n",
        "print(\"Parameters Set To: %s\" % FIELDS)\n"
      ],
      "metadata": {
        "colab_type": "code"
      }
    },
    {
      "cell_type": "markdown",
      "source": [
        "#5. Execute SDF Download\n",
        "This does NOT need to be modified unles you are changing the recipe, click play.\n"
      ],
      "metadata": {
        "colab_type": "text"
      }
    },
    {
      "cell_type": "code",
      "source": [
        "from starthinker.util.project import project\n",
        "from starthinker.script.parse import json_set_fields\n",
        "\n",
        "USER_CREDENTIALS = '/content/user.json'\n",
        "\n",
        "TASKS = [\n",
        "  {\n",
        "    'dataset': {\n",
        "      'auth': 'user',\n",
        "      'dataset': {'field': {'description': 'Dataset to be written to in BigQuery.','name': 'dataset','default': '','order': 6,'kind': 'string'}}\n",
        "    }\n",
        "  },\n",
        "  {\n",
        "    'sdf': {\n",
        "      'time_partitioned_table': {'field': {'description': 'Is the end table a time partitioned','name': 'time_partitioned_table','default': False,'order': 7,'kind': 'boolean'}},\n",
        "      'filter_type': {'field': {'choices': ['FILTER_TYPE_ADVERTISER_ID','FILTER_TYPE_CAMPAIGN_ID','FILTER_TYPE_INSERTION_ORDER_ID','FILTER_TYPE_MEDIA_PRODUCT_ID','FILTER_TYPE_LINE_ITEM_ID'],'description': 'The filter type for the filter ids.','order': 3,'name': 'filter_type','default': '','kind': 'choice'}},\n",
        "      'read': {\n",
        "        'filter_ids': {\n",
        "          'values': {'field': {'description': 'Comma separated list of filter ids for the request.','name': 'filter_ids','default': [],'order': 4,'kind': 'integer_list'}},\n",
        "          'single_cell': True\n",
        "        }\n",
        "      },\n",
        "      'partner_id': {'field': {'description': 'The sdf file types.','name': 'partner_id','order': 1,'kind': 'integer'}},\n",
        "      'auth': 'user',\n",
        "      'table_suffix': {'field': {'description': 'Optional: Suffix string to put at the end of the table name (Must contain alphanumeric or underscores)','name': 'table_suffix','default': '','order': 6,'kind': 'string'}},\n",
        "      'dataset': {'field': {'description': 'Dataset to be written to in BigQuery.','name': 'dataset','default': '','order': 6,'kind': 'string'}},\n",
        "      'version': {'field': {'choices': ['SDF_VERSION_5','SDF_VERSION_5_1'],'description': 'The sdf version to be returned.','order': 6,'name': 'version','default': '5','kind': 'choice'}},\n",
        "      'file_types': {'field': {'description': 'The sdf file types.','name': 'file_types','default': [],'order': 2,'kind': 'string_list'}},\n",
        "      'create_single_day_table': {'field': {'description': 'Would you like a separate table for each day? This will result in an extra table each day and the end table with the most up to date SDF.','name': 'create_single_day_table','default': False,'order': 8,'kind': 'boolean'}}\n",
        "    }\n",
        "  }\n",
        "]\n",
        "\n",
        "json_set_fields(TASKS, FIELDS)\n",
        "\n",
        "project.initialize(_recipe={ 'tasks':TASKS }, _project=CLOUD_PROJECT, _user=USER_CREDENTIALS, _client=CLIENT_CREDENTIALS, _verbose=True, _force=True)\n",
        "project.execute(_force=True)\n"
      ],
      "metadata": {
        "colab_type": "code"
      }
    }
  ],
  "nbformat_minor": "0",
  "nbformat": "4"
}
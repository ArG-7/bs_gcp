{
  "license": "Apache License, Version 2.0",
  "copyright": "Copyright 2018 Google Inc.",
  "nbformat": "4",
  "nbformat_minor": "0",
  "metadata": {
    "colab": {
      "name": "SDF Download",
      "provenance": [],
      "collapsed_sections": [],
      "toc_visible": true
    },
    "kernelspec": {
      "name": "python3",
      "display_name": "Python 3"
    }
  },
  "cells": [
    {
      "cell_type": "markdown",
      "metadata": {
        "id": "O8PRKQ7VYZYw",
        "colab_type": "text"
      },
      "source": [
        "#1. Install Dependencies\n",
        "First install the libraries needed to execute recipes, this only needs to be done once, then click play.\n"
      ]
    },
    {
      "cell_type": "code",
      "metadata": {
        "id": "TKzOIDZPOImm",
        "colab_type": "code"
      },
      "source": [
        "!pip install git+https://github.com/google/starthinker\n"
      ]
    },
    {
      "cell_type": "markdown",
      "metadata": {
        "id": "hSkIvM5MQh69",
        "colab_type": "text"
      },
      "source": [
        "#2. Get Cloud Project ID\n",
        "To run this recipe [requires a Google Cloud Project](https://github.com/google/starthinker/blob/master/tutorials/cloud_project.md), this only needs to be done once, then click play.\n"
      ]
    },
    {
      "cell_type": "code",
      "metadata": {
        "id": "HWfzgz9k9Hpx",
        "colab_type": "code"
      },
      "source": [
        "CLOUD_PROJECT = 'PASTE PROJECT ID HERE'\n",
        "\n",
        "print(\"Cloud Project Set To: %s\" % CLOUD_PROJECT)\n"
      ]
    },
    {
      "cell_type": "markdown",
      "metadata": {
        "id": "4j0BhszTe7D4",
        "colab_type": "text"
      },
      "source": [
        "#3. Get Client Credentials\n",
        "To read and write to various endpoints requires [downloading client credentials](https://github.com/google/starthinker/blob/master/tutorials/cloud_client_installed.md), this only needs to be done once, then click play.\n"
      ]
    },
    {
      "cell_type": "code",
      "metadata": {
        "id": "DUvw2KfOCrJl",
        "colab_type": "code"
      },
      "source": [
        "CLIENT_CREDENTIALS = 'PASTE CREDENTIALS HERE'\n",
        "\n",
        "print(\"Client Credentials Set To: %s\" % CLIENT_CREDENTIALS)\n"
      ]
    },
    {
      "cell_type": "markdown",
      "metadata": {
        "id": "pcARGWznJRD6",
        "colab_type": "text"
      },
      "source": [
        "#4. Enter SDF Download Parameters\n",
        "Download SDF reports into a BigQuery table.\n",
        " 1. Select your filter types and the filter ideas.\n",
        " 1. Select the file types you want from the sdf.\n",
        " 1. The job will grab the entire sdf and upload to your table.\n",
        " 1. The job will append an underscore and the file type to the provided table name for the result table.\n",
        "Modify the values below for your use case, can be done multiple times, then click play.\n"
      ]
    },
    {
      "cell_type": "code",
      "metadata": {
        "id": "6191o6ka5LUz",
        "colab_type": "code"
      },
      "source": [
        "FIELDS = {\n",
        "  \"file_types\":, # The sdf file types to be returned.\n",
        "  \"filter_type\":, # The filter type for the filter ids.\n",
        "  \"filter_ids\":, # The filter ids for the request.\n",
        "  \"version\":\"3.1\", # The sdf version to be returned.\n",
        "  \"dataset\":\"\", # Dataset to be written to in BigQuery.\n",
        "  \"table\":\"\", # Table to be written to in BigQuery.\n",
        "  \"is_time_partition\":False, # Whether the end table is time partitioned.\n",
        "}\n",
        "\n",
        "print(\"Parameters Set To: %s\" % FIELDS)\n"
      ]
    },
    {
      "cell_type": "markdown",
      "metadata": {
        "id": "amD4dI9MRH1H",
        "colab_type": "text"
      },
      "source": [
        "#5. Execute SDF Download\n",
        "This does NOT need to be modified unles you are changing the recipe, click play.\n"
      ]
    },
    {
      "cell_type": "code",
      "metadata": {
        "id": "VrzmdQn1N6st",
        "colab_type": "code"
      },
      "source": [
        "from starthinker.util.project import project\n",
        "from starthinker.script.parse import json_set_fields\n",
        "\n",
        "USER_CREDENTIALS = '/content/user.json'\n",
        "\n",
        "TASKS = [ { 'sdf': { 'auth': 'user',\n",
        "             'file_types': { 'field': { 'default': '',\n",
        "                                        'description': 'The '\n",
        "                                                       'sdf '\n",
        "                                                       'file '\n",
        "                                                       'types '\n",
        "                                                       'to '\n",
        "                                                       'be '\n",
        "                                                       'returned.',\n",
        "                                        'kind': 'string_list',\n",
        "                                        'name': 'file_types',\n",
        "                                        'order': 1}},\n",
        "             'filter_type': { 'field': { 'choices': [ 'ADVERTISER_ID',\n",
        "                                                      'CAMPAIGN_ID',\n",
        "                                                      'INSERTION_ORDER_ID',\n",
        "                                                      'INVENTORY_SOURCE_ID',\n",
        "                                                      'LINE_ITEM_ID',\n",
        "                                                      'PARTNER_ID'],\n",
        "                                         'default': '',\n",
        "                                         'description': 'The '\n",
        "                                                        'filter '\n",
        "                                                        'type '\n",
        "                                                        'for '\n",
        "                                                        'the '\n",
        "                                                        'filter '\n",
        "                                                        'ids.',\n",
        "                                         'kind': 'choice',\n",
        "                                         'name': 'filter_type',\n",
        "                                         'order': 2}},\n",
        "             'out': { 'bigquery': { 'dataset': { 'field': { 'default': '',\n",
        "                                                            'description': 'Dataset '\n",
        "                                                                           'to '\n",
        "                                                                           'be '\n",
        "                                                                           'written '\n",
        "                                                                           'to '\n",
        "                                                                           'in '\n",
        "                                                                           'BigQuery.',\n",
        "                                                            'kind': 'string',\n",
        "                                                            'name': 'dataset',\n",
        "                                                            'order': 5}},\n",
        "                                    'is_time_partition': { 'field': { 'default': False,\n",
        "                                                                      'description': 'Whether '\n",
        "                                                                                     'the '\n",
        "                                                                                     'end '\n",
        "                                                                                     'table '\n",
        "                                                                                     'is '\n",
        "                                                                                     'time '\n",
        "                                                                                     'partitioned.',\n",
        "                                                                      'kind': 'boolean',\n",
        "                                                                      'name': 'is_time_partition',\n",
        "                                                                      'order': 7}},\n",
        "                                    'table': { 'field': { 'default': '',\n",
        "                                                          'description': 'Table '\n",
        "                                                                         'to '\n",
        "                                                                         'be '\n",
        "                                                                         'written '\n",
        "                                                                         'to '\n",
        "                                                                         'in '\n",
        "                                                                         'BigQuery.',\n",
        "                                                          'kind': 'string',\n",
        "                                                          'name': 'table',\n",
        "                                                          'order': 6}}}},\n",
        "             'read': { 'filter_ids': { 'single_cell': True,\n",
        "                                       'values': { 'field': { 'default': '',\n",
        "                                                              'description': 'The '\n",
        "                                                                             'filter '\n",
        "                                                                             'ids '\n",
        "                                                                             'for '\n",
        "                                                                             'the '\n",
        "                                                                             'request.',\n",
        "                                                              'kind': 'integer_list',\n",
        "                                                              'name': 'filter_ids',\n",
        "                                                              'order': 3}}}},\n",
        "             'version': { 'field': { 'default': '3.1',\n",
        "                                     'description': 'The '\n",
        "                                                    'sdf '\n",
        "                                                    'version '\n",
        "                                                    'to '\n",
        "                                                    'be '\n",
        "                                                    'returned.',\n",
        "                                     'kind': 'string',\n",
        "                                     'name': 'version',\n",
        "                                     'order': 4}}}}]\n",
        "\n",
        "json_set_fields(TASKS, FIELDS)\n",
        "project.initialize(_recipe={ 'tasks':TASKS }, _project=CLOUD_PROJECT, _user=USER_CREDENTIALS, _client=CLIENT_CREDENTIALS, _verbose=True)\n",
        "project.execute()\n"
      ]
    }
  ]
}
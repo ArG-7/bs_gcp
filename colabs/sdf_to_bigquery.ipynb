{
  "license": "Apache License, Version 2.0",
  "copyright": "Copyright 2018 Google Inc.",
  "nbformat": "4",
  "nbformat_minor": "0",
  "metadata": {
    "colab": {
      "name": "SDF Download",
      "provenance": [],
      "collapsed_sections": [],
      "toc_visible": true
    },
    "kernelspec": {
      "name": "python3",
      "display_name": "Python 3"
    }
  },
  "cells": [
    {
      "cell_type": "markdown",
      "metadata": {
        "id": "qGNUORPEAS3u",
        "colab_type": "text"
      },
      "source": [
        "#1. Install Dependencies\n",
        "First install the libraries needed to execute recipes, this only needs to be done once, then click play.\n"
      ]
    },
    {
      "cell_type": "code",
      "metadata": {
        "id": "gV2xOBeR1dFw",
        "colab_type": "code"
      },
      "source": [
        "!pip install git+https://github.com/google/starthinker\n"
      ]
    },
    {
      "cell_type": "markdown",
      "metadata": {
        "id": "yw4eWvqxH0KC",
        "colab_type": "text"
      },
      "source": [
        "#2. Get Cloud Project ID\n",
        "To run this recipe [requires a Google Cloud Project](https://github.com/google/starthinker/blob/master/tutorials/cloud_project.md), this only needs to be done once, then click play.\n"
      ]
    },
    {
      "cell_type": "code",
      "metadata": {
        "id": "1X3RY5IjqjpE",
        "colab_type": "code"
      },
      "source": [
        "CLOUD_PROJECT = 'PASTE PROJECT ID HERE'\n",
        "\n",
        "print(\"Cloud Project Set To: %s\" % CLOUD_PROJECT)\n"
      ]
    },
    {
      "cell_type": "markdown",
      "metadata": {
        "id": "qkcRbhaRk5Uh",
        "colab_type": "text"
      },
      "source": [
        "#3. Get Client Credentials\n",
        "To read and write to various endpoints requires [downloading client credentials](https://github.com/google/starthinker/blob/master/tutorials/cloud_client_installed.md), this only needs to be done once, then click play.\n"
      ]
    },
    {
      "cell_type": "code",
      "metadata": {
        "id": "jV6jVrepCGHi",
        "colab_type": "code"
      },
      "source": [
        "CLIENT_CREDENTIALS = 'PASTE CREDENTIALS HERE'\n",
        "\n",
        "print(\"Client Credentials Set To: %s\" % CLIENT_CREDENTIALS)\n"
      ]
    },
    {
      "cell_type": "markdown",
      "metadata": {
        "id": "TjyMeYWxRoTe",
        "colab_type": "text"
      },
      "source": [
        "#4. Enter SDF Download Parameters\n",
        "Download SDF reports into a BigQuery table.\n",
        " 1. Select your filter types and the filter ideas.\n",
        " 1. Select the file types you want from the sdf.\n",
        " 1. The job will grab the entire sdf and upload to your table.\n",
        " 1. The job will append an underscore and the file type to the provided table name for the result table.\n",
        "Modify the values below for your use case, can be done multiple times, then click play.\n"
      ]
    },
    {
      "cell_type": "code",
      "metadata": {
        "id": "DDRanXoUwNLo",
        "colab_type": "code"
      },
      "source": [
        "FIELDS = {\n",
        "  \"file_types\":, # The sdf file types to be returned.\n",
        "  \"filter_type\":, # The filter type for the filter ids.\n",
        "  \"filter_ids\":, # The filter ids for the request.\n",
        "  \"version\":\"3.1\", # The sdf version to be returned.\n",
        "  \"dataset\":\"\", # Dataset to be written to in BigQuery.\n",
        "  \"table\":\"\", # Table to be written to in BigQuery.\n",
        "  \"is_time_partition\":False, # Whether the end table is time partitioned.\n",
        "}\n",
        "\n",
        "print(\"Parameters Set To: %s\" % FIELDS)\n"
      ]
    },
    {
      "cell_type": "markdown",
      "metadata": {
        "id": "UAl1fMS96BPR",
        "colab_type": "text"
      },
      "source": [
        "#5. Execute SDF Download\n",
        "This does NOT need to be modified unles you are changing the recipe, click play.\n"
      ]
    },
    {
      "cell_type": "code",
      "metadata": {
        "id": "B5ycuS5UaL0E",
        "colab_type": "code"
      },
      "source": [
        "from starthinker.util.project import project\n",
        "from starthinker.script.parse import json_set_fields\n",
        "\n",
        "USER_CREDENTIALS = '/content/user.json'\n",
        "\n",
        "TASKS = [\n",
        "  {\n",
        "    \"sdf\": {\n",
        "      \"auth\": \"user\",\n",
        "      \"version\": {\n",
        "        \"field\": {\n",
        "          \"name\": \"version\",\n",
        "          \"kind\": \"string\",\n",
        "          \"order\": 4,\n",
        "          \"default\": \"3.1\",\n",
        "          \"description\": \"The sdf version to be returned.\"\n",
        "        }\n",
        "      },\n",
        "      \"file_types\": {\n",
        "        \"field\": {\n",
        "          \"name\": \"file_types\",\n",
        "          \"kind\": \"string_list\",\n",
        "          \"order\": 1,\n",
        "          \"default\": \"\",\n",
        "          \"description\": \"The sdf file types to be returned.\"\n",
        "        }\n",
        "      },\n",
        "      \"filter_type\": {\n",
        "        \"field\": {\n",
        "          \"name\": \"filter_type\",\n",
        "          \"kind\": \"choice\",\n",
        "          \"order\": 2,\n",
        "          \"default\": \"\",\n",
        "          \"description\": \"The filter type for the filter ids.\",\n",
        "          \"choices\": [\n",
        "            \"ADVERTISER_ID\",\n",
        "            \"CAMPAIGN_ID\",\n",
        "            \"INSERTION_ORDER_ID\",\n",
        "            \"INVENTORY_SOURCE_ID\",\n",
        "            \"LINE_ITEM_ID\",\n",
        "            \"PARTNER_ID\"\n",
        "          ]\n",
        "        }\n",
        "      },\n",
        "      \"read\": {\n",
        "        \"filter_ids\": {\n",
        "          \"single_cell\": true,\n",
        "          \"values\": {\n",
        "            \"field\": {\n",
        "              \"name\": \"filter_ids\",\n",
        "              \"kind\": \"integer_list\",\n",
        "              \"order\": 3,\n",
        "              \"default\": \"\",\n",
        "              \"description\": \"The filter ids for the request.\"\n",
        "            }\n",
        "          }\n",
        "        }\n",
        "      },\n",
        "      \"out\": {\n",
        "        \"bigquery\": {\n",
        "          \"dataset\": {\n",
        "            \"field\": {\n",
        "              \"name\": \"dataset\",\n",
        "              \"kind\": \"string\",\n",
        "              \"order\": 5,\n",
        "              \"default\": \"\",\n",
        "              \"description\": \"Dataset to be written to in BigQuery.\"\n",
        "            }\n",
        "          },\n",
        "          \"table\": {\n",
        "            \"field\": {\n",
        "              \"name\": \"table\",\n",
        "              \"kind\": \"string\",\n",
        "              \"order\": 6,\n",
        "              \"default\": \"\",\n",
        "              \"description\": \"Table to be written to in BigQuery.\"\n",
        "            }\n",
        "          },\n",
        "          \"is_time_partition\": {\n",
        "            \"field\": {\n",
        "              \"name\": \"is_time_partition\",\n",
        "              \"kind\": \"boolean\",\n",
        "              \"order\": 7,\n",
        "              \"default\": false,\n",
        "              \"description\": \"Whether the end table is time partitioned.\"\n",
        "            }\n",
        "          }\n",
        "        }\n",
        "      }\n",
        "    }\n",
        "  }\n",
        "]\n",
        "\n",
        "json_set_fields(TASKS, FIELDS)\n",
        "project.initialize(_recipe={ 'tasks':TASKS }, _project=CLOUD_PROJECT, _user=USER_CREDENTIALS, _client=CLIENT_CREDENTIALS, _verbose=True)\n",
        "project.execute()\n"
      ]
    }
  ]
}
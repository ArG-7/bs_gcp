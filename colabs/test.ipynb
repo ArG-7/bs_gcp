{
  "license": "Licensed under the Apache License, Version 2.0",
  "copyright": "Copyright 2020 Google LLC",
  "nbformat": 4,
  "nbformat_minor": 0,
  "metadata": {
    "colab": {
      "name": "Test Script",
      "provenance": [],
      "collapsed_sections": [],
      "toc_visible": true
    },
    "kernelspec": {
      "name": "python3",
      "display_name": "Python 3"
    }
  },
  "cells": [
    {
      "cell_type": "markdown",
      "metadata": {
        "id": "d223de71-001",
        "colab_type": "text"
      },
      "source": [
        "#Test Script\n",
        "Used by tests.\n"
      ]
    },
    {
      "cell_type": "markdown",
      "metadata": {
        "id": "d223de71-002",
        "colab_type": "text"
      },
      "source": [
        "#License\n",
        "\n",
        "Copyright 2020 Google LLC,\n",
        "\n",
        "Licensed under the Apache License, Version 2.0 (the \"License\");\n",
        "you may not use this file except in compliance with the License.\n",
        "You may obtain a copy of the License at\n",
        "\n",
        "  https://www.apache.org/licenses/LICENSE-2.0\n",
        "\n",
        "Unless required by applicable law or agreed to in writing, software\n",
        "distributed under the License is distributed on an \"AS IS\" BASIS,\n",
        "WITHOUT WARRANTIES OR CONDITIONS OF ANY KIND, either express or implied.\n",
        "See the License for the specific language governing permissions and\n",
        "limitations under the License.\n",
        "\n"
      ]
    },
    {
      "cell_type": "markdown",
      "metadata": {
        "id": "d223de71-003",
        "colab_type": "text"
      },
      "source": [
        "#Disclaimer\n",
        "This is not an officially supported Google product. It is a reference implementation. There is absolutely NO WARRANTY provided for using this code. The code is Apache Licensed and CAN BE fully modified, white labeled, and disassembled by your team.\n",
        "\n",
        "This code generated (see starthinker/scripts for possible source):\n",
        "  - **Command**: \"python starthinker_ui/manage.py colab\"\n",
        "  - **Command**: \"python starthinker/tools/colab.py [JSON RECIPE]\"\n",
        "\n"
      ]
    },
    {
      "cell_type": "markdown",
      "metadata": {
        "id": "d223de71-004",
        "colab_type": "text"
      },
      "source": [
        "#1. Install Dependencies\n",
        "First install the libraries needed to execute recipes, this only needs to be done once, then click play.\n"
      ]
    },
    {
      "cell_type": "code",
      "metadata": {
        "id": "d223de71-005",
        "colab_type": "code"
      },
      "source": [
        "!pip install git+https://github.com/google/starthinker\n"
      ]
    },
    {
      "cell_type": "markdown",
      "metadata": {
        "id": "d223de71-006",
        "colab_type": "text"
      },
      "source": [
        "#2. Get Cloud Project ID\n",
        "To run this recipe [requires a Google Cloud Project](https://github.com/google/starthinker/blob/master/tutorials/cloud_project.md), this only needs to be done once, then click play.\n"
      ]
    },
    {
      "cell_type": "code",
      "metadata": {
        "id": "d223de71-007",
        "colab_type": "code"
      },
      "source": [
        "CLOUD_PROJECT = 'PASTE PROJECT ID HERE'\n",
        "\n",
        "print(\"Cloud Project Set To: %s\" % CLOUD_PROJECT)\n"
      ]
    },
    {
      "cell_type": "markdown",
      "metadata": {
        "id": "d223de71-008",
        "colab_type": "text"
      },
      "source": [
        "#3. Get Client Credentials\n",
        "To read and write to various endpoints requires [downloading client credentials](https://github.com/google/starthinker/blob/master/tutorials/cloud_client_installed.md), this only needs to be done once, then click play.\n"
      ]
    },
    {
      "cell_type": "code",
      "metadata": {
        "id": "d223de71-009",
        "colab_type": "code"
      },
      "source": [
        "CLIENT_CREDENTIALS = 'PASTE CLIENT CREDENTIALS HERE'\n",
        "\n",
        "print(\"Client Credentials Set To: %s\" % CLIENT_CREDENTIALS)\n"
      ]
    },
    {
      "cell_type": "markdown",
      "metadata": {
        "id": "d223de71-010",
        "colab_type": "text"
      },
      "source": [
        "#4. Execute Test Script\n",
        "This does NOT need to be modified unless you are changing the recipe, click play.\n"
      ]
    },
    {
      "cell_type": "code",
      "metadata": {
        "id": "d223de71-011",
        "colab_type": "code"
      },
      "source": [
        "from starthinker.util.configuration import Configuration\n",
        "from starthinker.util.configuration import execute\n",
        "from starthinker.util.recipe import json_set_fields\n",
        "\n",
        "USER_CREDENTIALS = '/content/user.json'\n",
        "\n",
        "TASKS = [\n",
        "  {\n",
        "    'hello': {\n",
        "      'auth': 'user',\n",
        "      'hour': [\n",
        "        1\n",
        "      ],\n",
        "      'say': 'Hello At 1',\n",
        "      'sleep': 0\n",
        "    }\n",
        "  },\n",
        "  {\n",
        "    'hello': {\n",
        "      'auth': 'user',\n",
        "      'hour': [\n",
        "        3\n",
        "      ],\n",
        "      'say': 'Hello At 3',\n",
        "      'sleep': 0\n",
        "    }\n",
        "  },\n",
        "  {\n",
        "    'hello': {\n",
        "      'auth': 'user',\n",
        "      'hour': [\n",
        "      ],\n",
        "      'say': 'Hello Manual',\n",
        "      'sleep': 0\n",
        "    }\n",
        "  },\n",
        "  {\n",
        "    'hello': {\n",
        "      'auth': 'user',\n",
        "      'hour': [\n",
        "        23\n",
        "      ],\n",
        "      'say': 'Hello At 23 Sleep',\n",
        "      'sleep': 30\n",
        "    }\n",
        "  },\n",
        "  {\n",
        "    'hello': {\n",
        "      'auth': 'user',\n",
        "      'say': 'Hello At Anytime',\n",
        "      'sleep': 0\n",
        "    }\n",
        "  },\n",
        "  {\n",
        "    'hello': {\n",
        "      'auth': 'user',\n",
        "      'hour': [\n",
        "        1,\n",
        "        3,\n",
        "        23\n",
        "      ],\n",
        "      'say': 'Hello At 1, 3, 23',\n",
        "      'sleep': 0\n",
        "    }\n",
        "  },\n",
        "  {\n",
        "    'hello': {\n",
        "      'auth': 'user',\n",
        "      'hour': [\n",
        "        3\n",
        "      ],\n",
        "      'say': 'Hello At 3 Reordered',\n",
        "      'sleep': 0\n",
        "    }\n",
        "  }\n",
        "]\n",
        "\n",
        "\n",
        "execute(Configuration(project=CLOUD_PROJECT, client=CLIENT_CREDENTIALS, user=USER_CREDENTIALS, verbose=True), TASKS, force=True)\n"
      ]
    }
  ]
}

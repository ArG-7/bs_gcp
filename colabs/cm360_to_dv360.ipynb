{
  "license": "Licensed under the Apache License, Version 2.0",
  "copyright": "Copyright 2020 Google LLC",
  "nbformat": 4,
  "nbformat_minor": 0,
  "metadata": {
    "colab": {
      "name": "CM360 To DV360 Bulk Creator",
      "provenance": [],
      "collapsed_sections": [],
      "toc_visible": true
    },
    "kernelspec": {
      "name": "python3",
      "display_name": "Python 3"
    }
  },
  "cells": [
    {
      "cell_type": "markdown",
      "metadata": {
        "id": "8e3b9639-001",
        "colab_type": "text"
      },
      "source": [
        "#1. Install Dependencies\n",
        "First install the libraries needed to execute recipes, this only needs to be done once, then click play.\n"
      ]
    },
    {
      "cell_type": "code",
      "metadata": {
        "id": "8e3b9639-002",
        "colab_type": "code"
      },
      "source": [
        "!pip install git+https://github.com/google/starthinker\n"
      ]
    },
    {
      "cell_type": "markdown",
      "metadata": {
        "id": "8e3b9639-003",
        "colab_type": "text"
      },
      "source": [
        "#2. Get Cloud Project ID\n",
        "To run this recipe [requires a Google Cloud Project](https://github.com/google/starthinker/blob/master/tutorials/cloud_project.md), this only needs to be done once, then click play.\n"
      ]
    },
    {
      "cell_type": "code",
      "metadata": {
        "id": "8e3b9639-004",
        "colab_type": "code"
      },
      "source": [
        "CLOUD_PROJECT = 'PASTE PROJECT ID HERE'\n",
        "\n",
        "print(\"Cloud Project Set To: %s\" % CLOUD_PROJECT)\n"
      ]
    },
    {
      "cell_type": "markdown",
      "metadata": {
        "id": "8e3b9639-005",
        "colab_type": "text"
      },
      "source": [
        "#3. Get Client Credentials\n",
        "To read and write to various endpoints requires [downloading client credentials](https://github.com/google/starthinker/blob/master/tutorials/cloud_client_installed.md), this only needs to be done once, then click play.\n"
      ]
    },
    {
      "cell_type": "code",
      "metadata": {
        "id": "8e3b9639-006",
        "colab_type": "code"
      },
      "source": [
        "CLIENT_CREDENTIALS = 'PASTE CLIENT CREDENTIALS HERE'\n",
        "\n",
        "print(\"Client Credentials Set To: %s\" % CLIENT_CREDENTIALS)\n"
      ]
    },
    {
      "cell_type": "markdown",
      "metadata": {
        "id": "8e3b9639-007",
        "colab_type": "text"
      },
      "source": [
        "#4. Enter CM360 To DV360 Bulk Creator Parameters\n",
        "Allows bulk creating DV360 Insertion Orders and Line Items from CM360.\n",
        " 1. Select <b>Load Partners</b>, then click <b>Save + Run</b>, then a sheet called DV Editor  will be created.\n",
        " 1. In the <b>Partners</b> sheet tab, fill in <i>Filter</i> column then select <b>Load Advertisers</b>, click <b>Save + Run</b>.\n",
        " 1. In the <b>Advertisers</b> sheet tab, fill in <i>Filter</i> column then select <b>Load Campaigns</b>, click <b>Save + Run</b>.\n",
        " 1. In the <b>Campaigns</b> sheet tab, fill in <i>Filter</i> column, optional.\n",
        " 1. Then select <b>Load Insertion Orders And Line Items</b>, click <b>Save + Run</b>.\n",
        " 1. To update values, make changes on all <i>Edit</i> columns.\n",
        " 1. Select <i>Preview</i>, then <b>Save + Run</b>.\n",
        " 1. Check the <b>Audit</b> and <b>Preview</b> tabs to verify commit.\n",
        " 1. To commit changes, select <i>Update</i>, then <b>Save + Run</b>.\n",
        " 1. Check the <b>Success</b> and <b>Error</b> tabs.\n",
        " 1. Update can be run multiple times.\n",
        " 1. Update ONLY changes fields that do not match their original value.\n",
        " 1. Insert operates only on Edit columns, ignores orignal value columns.\n",
        " 1. Carefull when using drag to copy rows, values are incremented automatically.\n",
        " 1. Modify audit logic by visting BigQuery and changing the views.\n",
        "Modify the values below for your use case, can be done multiple times, then click play.\n"
      ]
    },
    {
      "cell_type": "code",
      "metadata": {
        "id": "8e3b9639-008",
        "colab_type": "code"
      },
      "source": [
        "FIELDS = {\n",
        "  'auth_dv': 'user',  # Credentials used for dv.\n",
        "  'auth_cm': 'user',  # Credentials used for dv.\n",
        "  'auth_sheet': 'user',  # Credentials used for sheet.\n",
        "  'auth_bigquery': 'service',  # Credentials used for bigquery.\n",
        "  'recipe_name': '',  # Name of Google Sheet to create.\n",
        "  'recipe_slug': '',  # Name of Google BigQuery dataset to create.\n",
        "  'command': 'Load',  # Action to take.\n",
        "}\n",
        "\n",
        "print(\"Parameters Set To: %s\" % FIELDS)\n"
      ]
    },
    {
      "cell_type": "markdown",
      "metadata": {
        "id": "8e3b9639-009",
        "colab_type": "text"
      },
      "source": [
        "#5. Execute CM360 To DV360 Bulk Creator\n",
        "This does NOT need to be modified unless you are changing the recipe, click play.\n"
      ]
    },
    {
      "cell_type": "code",
      "metadata": {
        "id": "8e3b9639-010",
        "colab_type": "code"
      },
      "source": [
        "from starthinker.util.configuration import Configuration\n",
        "from starthinker.util.configuration import execute\n",
        "from starthinker.util.recipe import json_set_fields\n",
        "\n",
        "USER_CREDENTIALS = '/content/user.json'\n",
        "\n",
        "TASKS = [\n",
        "  {\n",
        "    'dataset': {\n",
        "      '__comment__': 'Ensure dataset exists.',\n",
        "      'auth': 'user',\n",
        "      'dataset': {'field': {'name': 'recipe_slug','prefix': 'CM_To_DV_','kind': 'string','order': 2,'default': '','description': 'Name of Google BigQuery dataset to create.'}}\n",
        "    }\n",
        "  },\n",
        "  {\n",
        "    'drive': {\n",
        "      '__comment__': 'Copy the default template to sheet with the recipe name',\n",
        "      'auth': 'user',\n",
        "      'copy': {\n",
        "        'source': 'https://docs.google.com/spreadsheets/d/1XjEHq-nEFMW8RVmCNJ-TVGvVcVBEADzjbvhmAvF04iQ/edit#gid=594912061',\n",
        "        'destination': {'field': {'name': 'recipe_name','prefix': 'CM To DV ','kind': 'string','order': 3,'default': '','description': 'Name of Google Sheet to create.'}}\n",
        "      }\n",
        "    }\n",
        "  },\n",
        "  {\n",
        "    'cm_to_dv': {\n",
        "      '__comment': 'Depending on users choice, execute a different part of the solution.',\n",
        "      'auth_dv': {'field': {'name': 'auth_dv','kind': 'authentication','order': 1,'default': 'user','description': 'Credentials used for dv.'}},\n",
        "      'auth_cm': {'field': {'name': 'auth_cm','kind': 'authentication','order': 2,'default': 'user','description': 'Credentials used for dv.'}},\n",
        "      'auth_sheets': {'field': {'name': 'auth_sheet','kind': 'authentication','order': 3,'default': 'user','description': 'Credentials used for sheet.'}},\n",
        "      'auth_bigquery': {'field': {'name': 'auth_bigquery','kind': 'authentication','order': 4,'default': 'service','description': 'Credentials used for bigquery.'}},\n",
        "      'sheet': {'field': {'name': 'recipe_name','prefix': 'CM To DV ','kind': 'string','order': 5,'default': '','description': 'Name of Google Sheet to create.'}},\n",
        "      'dataset': {'field': {'name': 'recipe_slug','prefix': 'CM_To_DV_','kind': 'string','order': 6,'default': '','description': 'Name of Google BigQuery dataset to create.'}},\n",
        "      'command': {'field': {'name': 'command','kind': 'choice','choices': ['Clear','Load','Preview','Insert'],'order': 6,'default': 'Load','description': 'Action to take.'}}\n",
        "    }\n",
        "  }\n",
        "]\n",
        "\n",
        "json_set_fields(TASKS, FIELDS)\n",
        "\n",
        "execute(Configuration(project=CLOUD_PROJECT, client=CLIENT_CREDENTIALS, user=USER_CREDENTIALS, verbose=True), TASKS, force=True)\n"
      ]
    }
  ]
}

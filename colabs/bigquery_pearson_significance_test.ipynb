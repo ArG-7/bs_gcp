{
  "metadata": {
    "colab": {
      "toc_visible": true,
      "collapsed_sections": [],
      "name": "Pearson Significance Test Function",
      "provenance": []
    },
    "kernelspec": {
      "display_name": "Python 3",
      "name": "python3"
    }
  },
  "copyright": "Copyright 2020 Google LLC",
  "nbformat_minor": "0",
  "license": "Apache License, Version 2.0",
  "nbformat": "4",
  "cells": [
    {
      "metadata": {
        "colab_type": "text"
      },
      "source": [
        "#1. Install Dependencies\n",
        "First install the libraries needed to execute recipes, this only needs to be done once, then click play.\n"
      ],
      "cell_type": "markdown"
    },
    {
      "metadata": {
        "colab_type": "code"
      },
      "source": [
        "!pip install git+https://github.com/google/starthinker\n"
      ],
      "cell_type": "code"
    },
    {
      "metadata": {
        "colab_type": "text"
      },
      "source": [
        "#2. Get Cloud Project ID\n",
        "To run this recipe [requires a Google Cloud Project](https://github.com/google/starthinker/blob/master/tutorials/cloud_project.md), this only needs to be done once, then click play.\n"
      ],
      "cell_type": "markdown"
    },
    {
      "metadata": {
        "colab_type": "code"
      },
      "source": [
        "CLOUD_PROJECT = 'PASTE PROJECT ID HERE'\n",
        "\n",
        "print(\"Cloud Project Set To: %s\" % CLOUD_PROJECT)\n"
      ],
      "cell_type": "code"
    },
    {
      "metadata": {
        "colab_type": "text"
      },
      "source": [
        "#3. Get Client Credentials\n",
        "To read and write to various endpoints requires [downloading client credentials](https://github.com/google/starthinker/blob/master/tutorials/cloud_client_installed.md), this only needs to be done once, then click play.\n"
      ],
      "cell_type": "markdown"
    },
    {
      "metadata": {
        "colab_type": "code"
      },
      "source": [
        "CLIENT_CREDENTIALS = 'PASTE CREDENTIALS HERE'\n",
        "\n",
        "print(\"Client Credentials Set To: %s\" % CLIENT_CREDENTIALS)\n"
      ],
      "cell_type": "code"
    },
    {
      "metadata": {
        "colab_type": "text"
      },
      "source": [
        "#4. Enter Pearson Significance Test Function Parameters\n",
        "Add function to dataset for checking if correlation is significant.\n",
        " 1. Specify the dataset, and the function will be added and available.\n",
        "Modify the values below for your use case, can be done multiple times, then click play.\n"
      ],
      "cell_type": "markdown"
    },
    {
      "metadata": {
        "colab_type": "code"
      },
      "source": [
        "FIELDS = {\n",
        "  'auth': 'service',  # Credentials used for writing function.\n",
        "  'dataset': '',  # Existing BigQuery dataset.\n",
        "}\n",
        "\n",
        "print(\"Parameters Set To: %s\" % FIELDS)\n"
      ],
      "cell_type": "code"
    },
    {
      "metadata": {
        "colab_type": "text"
      },
      "source": [
        "#5. Execute Pearson Significance Test Function\n",
        "This does NOT need to be modified unles you are changing the recipe, click play.\n"
      ],
      "cell_type": "markdown"
    },
    {
      "metadata": {
        "colab_type": "code"
      },
      "source": [
        "from starthinker.util.project import project\n",
        "from starthinker.script.parse import json_set_fields\n",
        "\n",
        "USER_CREDENTIALS = '/content/user.json'\n",
        "\n",
        "TASKS = [\n",
        "  {\n",
        "    'bigquery': {\n",
        "      'auth': 'user',\n",
        "      'function': 'pearson_significance_test',\n",
        "      'to': {\n",
        "        'dataset': {'field': {'description': 'Existing BigQuery dataset.','name': 'dataset','order': 1,'default': '','kind': 'string'}}\n",
        "      }\n",
        "    }\n",
        "  }\n",
        "]\n",
        "\n",
        "json_set_fields(TASKS, FIELDS)\n",
        "\n",
        "project.initialize(_recipe={ 'tasks':TASKS }, _project=CLOUD_PROJECT, _user=USER_CREDENTIALS, _client=CLIENT_CREDENTIALS, _verbose=True, _force=True)\n",
        "project.execute(_force=True)\n"
      ],
      "cell_type": "code"
    }
  ]
}
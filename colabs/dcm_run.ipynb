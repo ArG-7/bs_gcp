{
  "license": "Apache License, Version 2.0",
  "copyright": "Copyright 2018 Google Inc.",
  "nbformat": "4",
  "nbformat_minor": "0",
  "metadata": {
    "colab": {
      "name": "DCM Report Run",
      "provenance": [],
      "collapsed_sections": [],
      "toc_visible": true
    },
    "kernelspec": {
      "name": "python3",
      "display_name": "Python 3"
    }
  },
  "cells": [
    {
      "cell_type": "markdown",
      "metadata": {
        "id": "uelGBMLo8RYC",
        "colab_type": "text"
      },
      "source": [
        "#1. Install Dependencies\n",
        "First install the libraries needed to execute recipes, this only needs to be done once, then click play.\n"
      ]
    },
    {
      "cell_type": "code",
      "metadata": {
        "id": "loZE5hLgrGmN",
        "colab_type": "code"
      },
      "source": [
        "!pip install git+https://github.com/google/starthinker\n"
      ]
    },
    {
      "cell_type": "markdown",
      "metadata": {
        "id": "UND1PXXQ7nji",
        "colab_type": "text"
      },
      "source": [
        "#2. Get Cloud Project ID\n",
        "To run this recipe [requires a Google Cloud Project](https://github.com/google/starthinker/blob/master/tutorials/cloud_project.md), this only needs to be done once, then click play.\n"
      ]
    },
    {
      "cell_type": "code",
      "metadata": {
        "id": "XAlwSbbqrjus",
        "colab_type": "code"
      },
      "source": [
        "CLOUD_PROJECT = 'PASTE PROJECT ID HERE'\n",
        "\n",
        "print(\"Cloud Project Set To: %s\" % CLOUD_PROJECT)\n"
      ]
    },
    {
      "cell_type": "markdown",
      "metadata": {
        "id": "2z9AI6gXYNyw",
        "colab_type": "text"
      },
      "source": [
        "#3. Get Client Credentials\n",
        "To read and write to various endpoints requires [downloading client credentials](https://github.com/google/starthinker/blob/master/tutorials/cloud_client_installed.md), this only needs to be done once, then click play.\n"
      ]
    },
    {
      "cell_type": "code",
      "metadata": {
        "id": "YWDE01zPEUOx",
        "colab_type": "code"
      },
      "source": [
        "CLIENT_CREDENTIALS = 'PASTE CREDENTIALS HERE'\n",
        "\n",
        "print(\"Client Credentials Set To: %s\" % CLIENT_CREDENTIALS)\n"
      ]
    },
    {
      "cell_type": "markdown",
      "metadata": {
        "id": "DkcEQ6628p83",
        "colab_type": "text"
      },
      "source": [
        "#4. Enter DCM Report Run Parameters\n",
        "Trigger a DCM report run\n",
        " 1. Specify an account id.\n",
        " 1. Specify either report name or report id to run.\n",
        "Modify the values below for your use case, can be done multiple times, then click play.\n"
      ]
    },
    {
      "cell_type": "code",
      "metadata": {
        "id": "ikgmO6vumrtz",
        "colab_type": "code"
      },
      "source": [
        "FIELDS = {\n",
        "  \"account\":, # DCM network id.\n",
        "  \"report_id\":, # DCM report id, empty if using name.\n",
        "  \"report_name\":\"\", # DCM report name, empty if using id instead.\n",
        "}\n",
        "\n",
        "print(\"Parameters Set To: %s\" % FIELDS)\n"
      ]
    },
    {
      "cell_type": "markdown",
      "metadata": {
        "id": "J1zUE2IiUAJH",
        "colab_type": "text"
      },
      "source": [
        "#5. Execute DCM Report Run\n",
        "This does NOT need to be modified unles you are changing the recipe, click play.\n"
      ]
    },
    {
      "cell_type": "code",
      "metadata": {
        "id": "mZD7mGFnYFW7",
        "colab_type": "code"
      },
      "source": [
        "from starthinker.util.project import project\n",
        "from starthinker.script.parse import json_set_fields\n",
        "\n",
        "USER_CREDENTIALS = '/content/user.json'\n",
        "\n",
        "TASKS = [ { 'dcm': { 'auth': 'user',\n",
        "             'report': { 'account': { 'field': { 'default': '',\n",
        "                                                 'description': 'DCM '\n",
        "                                                                'network '\n",
        "                                                                'id.',\n",
        "                                                 'kind': 'integer',\n",
        "                                                 'name': 'account',\n",
        "                                                 'order': 1}},\n",
        "                         'name': { 'field': { 'default': '',\n",
        "                                              'description': 'DCM '\n",
        "                                                             'report '\n",
        "                                                             'name, '\n",
        "                                                             'empty '\n",
        "                                                             'if '\n",
        "                                                             'using '\n",
        "                                                             'id '\n",
        "                                                             'instead.',\n",
        "                                              'kind': 'string',\n",
        "                                              'name': 'report_name',\n",
        "                                              'order': 3}},\n",
        "                         'report_id': { 'field': { 'default': '',\n",
        "                                                   'description': 'DCM '\n",
        "                                                                  'report '\n",
        "                                                                  'id, '\n",
        "                                                                  'empty '\n",
        "                                                                  'if '\n",
        "                                                                  'using '\n",
        "                                                                  'name.',\n",
        "                                                   'kind': 'integer',\n",
        "                                                   'name': 'report_id',\n",
        "                                                   'order': 2}}},\n",
        "             'report_run_only': True}}]\n",
        "\n",
        "json_set_fields(TASKS, FIELDS)\n",
        "project.initialize(_recipe={ 'tasks':TASKS }, _project=CLOUD_PROJECT, _user=USER_CREDENTIALS, _client=CLIENT_CREDENTIALS, _verbose=True)\n",
        "project.execute()\n"
      ]
    }
  ]
}
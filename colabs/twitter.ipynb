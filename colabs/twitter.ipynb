{
  "copyright": "Copyright 2020 Google LLC",
  "metadata": {
    "kernelspec": {
      "display_name": "Python 3",
      "name": "python3"
    },
    "colab": {
      "name": "Twitter Targeting",
      "toc_visible": true,
      "collapsed_sections": [],
      "provenance": []
    }
  },
  "license": "Apache License, Version 2.0",
  "cells": [
    {
      "cell_type": "markdown",
      "source": [
        "#1. Install Dependencies\n",
        "First install the libraries needed to execute recipes, this only needs to be done once, then click play.\n"
      ],
      "metadata": {
        "colab_type": "text"
      }
    },
    {
      "cell_type": "code",
      "source": [
        "!pip install git+https://github.com/google/starthinker\n"
      ],
      "metadata": {
        "colab_type": "code"
      }
    },
    {
      "cell_type": "markdown",
      "source": [
        "#2. Get Cloud Project ID\n",
        "To run this recipe [requires a Google Cloud Project](https://github.com/google/starthinker/blob/master/tutorials/cloud_project.md), this only needs to be done once, then click play.\n"
      ],
      "metadata": {
        "colab_type": "text"
      }
    },
    {
      "cell_type": "code",
      "source": [
        "CLOUD_PROJECT = 'PASTE PROJECT ID HERE'\n",
        "\n",
        "print(\"Cloud Project Set To: %s\" % CLOUD_PROJECT)\n"
      ],
      "metadata": {
        "colab_type": "code"
      }
    },
    {
      "cell_type": "markdown",
      "source": [
        "#3. Get Client Credentials\n",
        "To read and write to various endpoints requires [downloading client credentials](https://github.com/google/starthinker/blob/master/tutorials/cloud_client_installed.md), this only needs to be done once, then click play.\n"
      ],
      "metadata": {
        "colab_type": "text"
      }
    },
    {
      "cell_type": "code",
      "source": [
        "CLIENT_CREDENTIALS = 'PASTE CREDENTIALS HERE'\n",
        "\n",
        "print(\"Client Credentials Set To: %s\" % CLIENT_CREDENTIALS)\n"
      ],
      "metadata": {
        "colab_type": "code"
      }
    },
    {
      "cell_type": "markdown",
      "source": [
        "#4. Enter Twitter Targeting Parameters\n",
        "Adjusts line item settings based on Twitter hashtags and locations specified in a sheet.\n",
        " 1. Click <b>Run Now</b> and a sheet called <b>Twitter Targeting UNDEFINED</b> will be generated with a tab called <b>Twitter Triggers</b>.\n",
        " 1. Follow instructions on the sheets tab to provide triggers and lineitems.\n",
        " 1. Click <b>Run Now</b> again, trends are downloaded and triggered.\n",
        " 1. Or give these intructions to the client.\n",
        "Modify the values below for your use case, can be done multiple times, then click play.\n"
      ],
      "metadata": {
        "colab_type": "text"
      }
    },
    {
      "cell_type": "code",
      "source": [
        "FIELDS = {\n",
        "  'auth_read': 'user',  # Credentials used for reading data.\n",
        "  'recipe_slug': '',  # Place where tables will be created in BigQuery.\n",
        "  'recipe_project': '',  # Place where tables will be created in BigQuery.\n",
        "  'auth_write': 'service',  # Credentials used for writing data.\n",
        "  'recipe_name': '',  # Name of sheet where Line Item settings will be read from.\n",
        "  'twitter_secret': '',  # Twitter API secret token.\n",
        "  'twitter_key': '',  # Twitter API key token.\n",
        "}\n",
        "\n",
        "print(\"Parameters Set To: %s\" % FIELDS)\n"
      ],
      "metadata": {
        "colab_type": "code"
      }
    },
    {
      "cell_type": "markdown",
      "source": [
        "#5. Execute Twitter Targeting\n",
        "This does NOT need to be modified unles you are changing the recipe, click play.\n"
      ],
      "metadata": {
        "colab_type": "text"
      }
    },
    {
      "cell_type": "code",
      "source": [
        "from starthinker.util.project import project\n",
        "from starthinker.script.parse import json_set_fields\n",
        "\n",
        "USER_CREDENTIALS = '/content/user.json'\n",
        "\n",
        "TASKS = [\n",
        "  {\n",
        "    'dataset': {\n",
        "      'auth': 'user',\n",
        "      'description': 'Create a dataset where data will be combined and transfored for upload.',\n",
        "      'dataset': {'field': {'description': 'Place where tables will be created in BigQuery.','name': 'recipe_slug','order': 1,'kind': 'string'}}\n",
        "    }\n",
        "  },\n",
        "  {\n",
        "    'sheets': {\n",
        "      'tab': 'Twitter Triggers',\n",
        "      'description': 'Read mapping of hash tags to line item toggles from sheets.',\n",
        "      'auth': 'user',\n",
        "      'sheet': {'field': {'description': 'Name of sheet where Line Item settings will be read from.','order': 2,'name': 'recipe_name','default': '','prefix': 'Twitter Targeting For ','kind': 'string'}},\n",
        "      'range': 'A8:T',\n",
        "      'out': {\n",
        "        'bigquery': {\n",
        "          'table': 'Twitter_Triggers',\n",
        "          'dataset': {'field': {'description': 'Place where tables will be created in BigQuery.','name': 'recipe_slug','kind': 'string'}},\n",
        "          'schema': [\n",
        "            {\n",
        "              'type': 'STRING',\n",
        "              'name': 'Location',\n",
        "              'mode': 'REQUIRED'\n",
        "            },\n",
        "            {\n",
        "              'type': 'INTEGER',\n",
        "              'name': 'WOEID',\n",
        "              'mode': 'REQUIRED'\n",
        "            },\n",
        "            {\n",
        "              'type': 'STRING',\n",
        "              'name': 'Hashtag',\n",
        "              'mode': 'REQUIRED'\n",
        "            },\n",
        "            {\n",
        "              'type': 'INTEGER',\n",
        "              'name': 'Line_Item_Id',\n",
        "              'mode': 'REQUIRED'\n",
        "            },\n",
        "            {\n",
        "              'type': 'STRING',\n",
        "              'name': 'Line_Item_Name',\n",
        "              'mode': 'NULLABLE'\n",
        "            },\n",
        "            {\n",
        "              'type': 'STRING',\n",
        "              'name': 'Line_Item_Status',\n",
        "              'mode': 'NULLABLE'\n",
        "            },\n",
        "            {\n",
        "              'type': 'STRING',\n",
        "              'name': 'Line_Item_Start_Date',\n",
        "              'mode': 'NULLABLE'\n",
        "            },\n",
        "            {\n",
        "              'type': 'STRING',\n",
        "              'name': 'Line_Item_End_Date',\n",
        "              'mode': 'NULLABLE'\n",
        "            },\n",
        "            {\n",
        "              'type': 'STRING',\n",
        "              'name': 'Line_Item_Budget_Type',\n",
        "              'mode': 'NULLABLE'\n",
        "            },\n",
        "            {\n",
        "              'type': 'STRING',\n",
        "              'name': 'Line_Item_Budget_Amount',\n",
        "              'mode': 'NULLABLE'\n",
        "            },\n",
        "            {\n",
        "              'type': 'STRING',\n",
        "              'name': 'Line_Item_Pacing',\n",
        "              'mode': 'NULLABLE'\n",
        "            },\n",
        "            {\n",
        "              'type': 'STRING',\n",
        "              'name': 'Line_Item_Pacing_Rate',\n",
        "              'mode': 'NULLABLE'\n",
        "            },\n",
        "            {\n",
        "              'type': 'STRING',\n",
        "              'name': 'Line_Item_Pacing_Amount',\n",
        "              'mode': 'NULLABLE'\n",
        "            },\n",
        "            {\n",
        "              'type': 'STRING',\n",
        "              'name': 'Line_Item_Frequency_Enabled',\n",
        "              'mode': 'NULLABLE'\n",
        "            },\n",
        "            {\n",
        "              'type': 'STRING',\n",
        "              'name': 'Line_Item_Frequency_Exposures',\n",
        "              'mode': 'NULLABLE'\n",
        "            },\n",
        "            {\n",
        "              'type': 'STRING',\n",
        "              'name': 'Line_Item_Frequency_Period',\n",
        "              'mode': 'NULLABLE'\n",
        "            },\n",
        "            {\n",
        "              'type': 'STRING',\n",
        "              'name': 'Line_Item_Frequency_Amount',\n",
        "              'mode': 'NULLABLE'\n",
        "            },\n",
        "            {\n",
        "              'type': 'STRING',\n",
        "              'name': 'Bid_Price',\n",
        "              'mode': 'NULLABLE'\n",
        "            },\n",
        "            {\n",
        "              'type': 'STRING',\n",
        "              'name': 'Partner_Revenue_Model',\n",
        "              'mode': 'NULLABLE'\n",
        "            },\n",
        "            {\n",
        "              'type': 'STRING',\n",
        "              'name': 'Partner_Revenue_Amount',\n",
        "              'mode': 'NULLABLE'\n",
        "            }\n",
        "          ]\n",
        "        }\n",
        "      },\n",
        "      'template': {\n",
        "        'tab': 'Twitter Triggers',\n",
        "        'sheet': 'https://docs.google.com/spreadsheets/d/1iYCGa2NKOZiL2mdT4yiDfV_SWV9C7SUosXdIr4NAEXE/edit?usp=sharing'\n",
        "      }\n",
        "    }\n",
        "  },\n",
        "  {\n",
        "    'twitter': {\n",
        "      'description': 'Read trends from Twitter and place into BigQuery.',\n",
        "      'key': {'field': {'description': 'Twitter API key token.','name': 'twitter_key','default': '','order': 4,'kind': 'string'}},\n",
        "      'trends': {\n",
        "        'places': {\n",
        "          'single_cell': True,\n",
        "          'bigquery': {\n",
        "            'query': 'SELECT WOEID FROM {dataset}.Twitter_Triggers',\n",
        "            'legacy': False,\n",
        "            'dataset': {'field': {'description': 'Place where tables will be created in BigQuery.','name': 'recipe_slug','kind': 'string'}},\n",
        "            'parameters': {\n",
        "              'dataset': {'field': {'description': 'Place where tables will be created in BigQuery.','name': 'recipe_slug','kind': 'string'}}\n",
        "            }\n",
        "          }\n",
        "        }\n",
        "      },\n",
        "      'auth': 'user',\n",
        "      'out': {\n",
        "        'bigquery': {\n",
        "          'table': 'Twitter_Trends_Place',\n",
        "          'dataset': {'field': {'description': 'Place where tables will be created in BigQuery.','name': 'recipe_slug','kind': 'string'}}\n",
        "        }\n",
        "      },\n",
        "      'secret': {'field': {'description': 'Twitter API secret token.','name': 'twitter_secret','default': '','order': 3,'kind': 'string'}}\n",
        "    }\n",
        "  },\n",
        "  {\n",
        "    'lineitem': {\n",
        "      'auth': 'user',\n",
        "      'description': 'Read current lineitem settings from DV360 into BigQuery, so it can be joined with Twitter analysis.',\n",
        "      'read': {\n",
        "        'line_items': {\n",
        "          'single_cell': True,\n",
        "          'bigquery': {\n",
        "            'query': 'SELECT Line_Item_Id FROM {dataset}.Twitter_Triggers',\n",
        "            'parameters': {\n",
        "              'dataset': {'field': {'description': 'Place where tables will be created in BigQuery.','name': 'recipe_slug','kind': 'string'}}\n",
        "            },\n",
        "            'dataset': {'field': {'description': 'Place where tables will be created in BigQuery.','name': 'recipe_slug','kind': 'string'}}\n",
        "          }\n",
        "        },\n",
        "        'out': {\n",
        "          'bigquery': {\n",
        "            'table': 'LineItem_Reads',\n",
        "            'dataset': {'field': {'description': 'Place where tables will be created in BigQuery.','name': 'recipe_slug','kind': 'string'}}\n",
        "          }\n",
        "        }\n",
        "      }\n",
        "    }\n",
        "  },\n",
        "  {\n",
        "    'bigquery': {\n",
        "      'auth': 'user',\n",
        "      'description': 'Get all triggered lineitmes from sheet, if they have a keyword match in twitter, take the triger values, else take the default values (default>trigger).  Take all non-null values from trigger and overlay over current DV360 values. Will be used to upload to DV360.',\n",
        "      'to': {\n",
        "        'view': 'LineItem_Writes',\n",
        "        'dataset': {'field': {'description': 'Place where tables will be created in BigQuery.','name': 'recipe_slug','kind': 'string'}}\n",
        "      },\n",
        "      'from': {\n",
        "        'query': \"SELECT o.Line_Item_Id AS Line_Item_Id, o.Partner_Name AS Partner_Name, o.Partner_Id AS Partner_Id, o.Advertiser_Name AS Advertiser_Name, o.IO_Name AS IO_Name, IFNULL(t.Line_Item_Name, o.Line_Item_Name) AS Line_Item_Name, o.Line_Item_Timestamp AS Line_Item_Timestamp , IFNULL(t.Line_Item_Status, o.Line_Item_Status) AS Line_Item_Status, o.IO_Start_Date AS IO_Start_Date, o.IO_End_Date AS IO_End_Date, o.IO_Budget_Type AS IO_Budget_Type, o.IO_Budget_Amount AS IO_Budget_Amount, o.IO_Pacing AS IO_Pacing, o.IO_Pacing_Rate AS IO_Pacing_Rate, o.IO_Pacing_Amount AS IO_Pacing_Amount, IFNULL(t.Line_Item_Start_Date, o.Line_Item_Start_Date) AS Line_Item_Start_Date, IFNULL(t.Line_Item_End_Date, o.Line_Item_End_Date) AS Line_Item_End_Date, IFNULL(t.Line_Item_Budget_Type, o.Line_Item_Budget_Type) AS Line_Item_Budget_Type, IFNULL(t.Line_Item_Budget_Amount, o.Line_Item_Budget_Amount) AS Line_Item_Budget_Amount, IFNULL(t.Line_Item_Pacing, o.Line_Item_Pacing) AS Line_Item_Pacing, IFNULL(t.Line_Item_Pacing_Rate, o.Line_Item_Pacing_Rate) AS Line_Item_Pacing_Rate, IFNULL(t.Line_Item_Pacing_Amount, o.Line_Item_Pacing_Amount) AS Line_Item_Pacing_Amount, IFNULL(t.Line_Item_Frequency_Enabled, o.Line_Item_Frequency_Enabled) AS Line_Item_Frequency_Enabled, IFNULL(t.Line_Item_Frequency_Exposures, o.Line_Item_Frequency_Exposures) AS Line_Item_Frequency_Exposures, IFNULL(t.Line_Item_Frequency_Period, o.Line_Item_Frequency_Period) AS Line_Item_Frequency_Period, IFNULL(t.Line_Item_Frequency_Amount, o.Line_Item_Frequency_Amount) AS Line_Item_Frequency_Amount, IFNULL(t.Bid_Price, o.Bid_Price) AS Bid_Price, IFNULL(t.Partner_Revenue_Model, o.Partner_Revenue_Model) AS Partner_Revenue_Model, IFNULL(t.Partner_Revenue_Amount, o.Partner_Revenue_Amount) AS Partner_Revenue_Amount, o.Current_Audience_Targeting_Ids AS Current_Audience_Targeting_Ids , o.Current_Audience_Targeting_Names AS Current_Audience_Targeting_Names FROM `{project}.{dataset}.LineItem_Reads` AS o LEFT JOIN ( SELECT Line_Item_Id, ANY_VALUE(SPLIT(Line_Item_Name, '>')[SAFE_OFFSET(IF(Triggered, 1, 0))]) AS Line_Item_Name, ANY_VALUE(SPLIT(Line_Item_Status, '>')[SAFE_OFFSET(IF(Triggered, 1, 0))]) AS Line_Item_Status, ANY_VALUE(SPLIT(Line_Item_Start_Date, '>')[SAFE_OFFSET(IF(Triggered, 1, 0))]) AS Line_Item_Start_Date, ANY_VALUE(SPLIT(Line_Item_End_Date, '>')[SAFE_OFFSET(IF(Triggered, 1, 0))]) AS Line_Item_End_Date, ANY_VALUE(SPLIT(Line_Item_Budget_Type, '>')[SAFE_OFFSET(IF(Triggered, 1, 0))]) AS Line_Item_Budget_Type, ANY_VALUE(CAST(SPLIT(Line_Item_Budget_Amount, '>')[SAFE_OFFSET(IF(Triggered, 1, 0))] AS FLOAT64)) AS Line_Item_Budget_Amount, ANY_VALUE(SPLIT(Line_Item_Pacing, '>')[SAFE_OFFSET(IF(Triggered, 1, 0))]) AS Line_Item_Pacing, ANY_VALUE(SPLIT(Line_Item_Pacing_Rate, '>')[SAFE_OFFSET(IF(Triggered, 1, 0))]) AS Line_Item_Pacing_Rate, ANY_VALUE(CAST(SPLIT(Line_Item_Pacing_Amount, '>')[SAFE_OFFSET(IF(Triggered, 1, 0))] AS FLOAT64)) AS Line_Item_Pacing_Amount, ANY_VALUE(CAST(SPLIT(Line_Item_Frequency_Enabled, '>')[SAFE_OFFSET(IF(Triggered, 1, 0))] AS BOOL)) AS Line_Item_Frequency_Enabled, ANY_VALUE(SPLIT(Line_Item_Frequency_Exposures, '>')[SAFE_OFFSET(IF(Triggered, 1, 0))]) AS Line_Item_Frequency_Exposures, ANY_VALUE(SPLIT(Line_Item_Frequency_Period, '>')[SAFE_OFFSET(IF(Triggered, 1, 0))]) AS Line_Item_Frequency_Period, ANY_VALUE(CAST(SPLIT(Line_Item_Frequency_Amount, '>')[SAFE_OFFSET(IF(Triggered, 1, 0))] AS INT64)) AS Line_Item_Frequency_Amount, ANY_VALUE(CAST(SPLIT(Bid_Price, '>')[SAFE_OFFSET(IF(Triggered, 1, 0))] AS FLOAT64)) AS Bid_Price, ANY_VALUE(SPLIT(Partner_Revenue_Model, '>')[SAFE_OFFSET(IF(Triggered, 1, 0))]) AS Partner_Revenue_Model, ANY_VALUE(CAST(SPLIT(Partner_Revenue_Amount, '>')[SAFE_OFFSET(IF(Triggered, 1, 0))] AS FLOAT64)) AS Partner_Revenue_Amount FROM ( SELECT WOEID, Hashtag, Line_Item_Id, Line_Item_Name, Line_Item_Status, Line_Item_Start_Date, Line_Item_End_Date, Line_Item_Budget_Type, Line_Item_Budget_Amount, Line_Item_Pacing, Line_Item_Pacing_Rate, Line_Item_Pacing_Amount, Line_Item_Frequency_Enabled, Line_Item_Frequency_Exposures, Line_Item_Frequency_Period, Line_Item_Frequency_Amount, Bid_Price, Partner_Revenue_Model, Partner_Revenue_Amount, CONCAT(CAST(WOEID AS STRING), LOWER(Hashtag)) IN (SELECT CONCAT(CAST(WOEID AS STRING), LOWER(REPLACE(name, '#', ''))) FROM `{project}.{dataset}.Twitter_Trends_Place` GROUP BY 1) AS Triggered FROM `{project}.{dataset}.Twitter_Triggers`) GROUP BY 1) AS t ON o.Line_Item_Id=t.Line_Item_Id;\",\n",
        "        'parameters': {\n",
        "          'dataset': {'field': {'description': 'Place where tables will be created in BigQuery.','name': 'recipe_slug','kind': 'string'}},\n",
        "          'project': {'field': {'description': 'Place where tables will be created in BigQuery.','name': 'recipe_project','kind': 'string'}}\n",
        "        },\n",
        "        'legacy': False\n",
        "      }\n",
        "    }\n",
        "  },\n",
        "  {\n",
        "    'lineitem': {\n",
        "      'auth': 'user',\n",
        "      'description': 'Write lineitem settings to DV360 after transformation.',\n",
        "      'write': {\n",
        "        'bigquery': {\n",
        "          'query': 'Select * FROM {dataset}.LineItem_Writes',\n",
        "          'parameters': {\n",
        "            'dataset': {'field': {'description': 'Place where tables will be created in BigQuery.','name': 'recipe_slug','kind': 'string'}}\n",
        "          },\n",
        "          'dataset': {'field': {'description': 'Place where tables will be created in BigQuery.','name': 'recipe_slug','kind': 'string'}},\n",
        "          'legacy': False\n",
        "        },\n",
        "        'dry_run': False\n",
        "      }\n",
        "    }\n",
        "  }\n",
        "]\n",
        "\n",
        "json_set_fields(TASKS, FIELDS)\n",
        "\n",
        "project.initialize(_recipe={ 'tasks':TASKS }, _project=CLOUD_PROJECT, _user=USER_CREDENTIALS, _client=CLIENT_CREDENTIALS, _verbose=True, _force=True)\n",
        "project.execute(_force=True)\n"
      ],
      "metadata": {
        "colab_type": "code"
      }
    }
  ],
  "nbformat_minor": "0",
  "nbformat": "4"
}
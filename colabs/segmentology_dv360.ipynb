{
  "copyright": "Copyright 2020 Google LLC",
  "metadata": {
    "kernelspec": {
      "display_name": "Python 3",
      "name": "python3"
    },
    "colab": {
      "name": "Segmentology DV360",
      "toc_visible": true,
      "collapsed_sections": [],
      "provenance": []
    }
  },
  "license": "Apache License, Version 2.0",
  "cells": [
    {
      "cell_type": "markdown",
      "source": [
        "#1. Install Dependencies\n",
        "First install the libraries needed to execute recipes, this only needs to be done once, then click play.\n"
      ],
      "metadata": {
        "colab_type": "text"
      }
    },
    {
      "cell_type": "code",
      "source": [
        "!pip install git+https://github.com/google/starthinker\n"
      ],
      "metadata": {
        "colab_type": "code"
      }
    },
    {
      "cell_type": "markdown",
      "source": [
        "#2. Get Cloud Project ID\n",
        "To run this recipe [requires a Google Cloud Project](https://github.com/google/starthinker/blob/master/tutorials/cloud_project.md), this only needs to be done once, then click play.\n"
      ],
      "metadata": {
        "colab_type": "text"
      }
    },
    {
      "cell_type": "code",
      "source": [
        "CLOUD_PROJECT = 'PASTE PROJECT ID HERE'\n",
        "\n",
        "print(\"Cloud Project Set To: %s\" % CLOUD_PROJECT)\n"
      ],
      "metadata": {
        "colab_type": "code"
      }
    },
    {
      "cell_type": "markdown",
      "source": [
        "#3. Get Client Credentials\n",
        "To read and write to various endpoints requires [downloading client credentials](https://github.com/google/starthinker/blob/master/tutorials/cloud_client_installed.md), this only needs to be done once, then click play.\n"
      ],
      "metadata": {
        "colab_type": "text"
      }
    },
    {
      "cell_type": "code",
      "source": [
        "CLIENT_CREDENTIALS = 'PASTE CREDENTIALS HERE'\n",
        "\n",
        "print(\"Client Credentials Set To: %s\" % CLIENT_CREDENTIALS)\n"
      ],
      "metadata": {
        "colab_type": "code"
      }
    },
    {
      "cell_type": "markdown",
      "source": [
        "#4. Enter Segmentology DV360 Parameters\n",
        "DV360 funnel analysis using Census data.\n",
        " 1. Wait for <b>BigQuery->UNDEFINED->UNDEFINED->Census_Pivot</b> to be created.\n",
        " 1. Join the <a hre='https://groups.google.com/d/forum/starthinker-assets' target='_blank'>StarThinker Assets Group</a> to access the following assets\n",
        " 1. Copy <a href='https://datastudio.google.com/c/u/0/reporting/4a908845-fdba-4023-9bb7-68666202bafb/page/K15YB/' target='_blank'>DV360 Segmentology</a>. Leave the Data Source as is, you will change it in the next step.\n",
        " 1. Click Edit Connection, and change to <b>BigQuery->UNDEFINED->(field:recipe_slug}->Census_Pivot</b>.\n",
        " 1. Or give these intructions to the client.\n",
        "Modify the values below for your use case, can be done multiple times, then click play.\n"
      ],
      "metadata": {
        "colab_type": "text"
      }
    },
    {
      "cell_type": "code",
      "source": [
        "FIELDS = {\n",
        "  'auth_read': 'user',  # Credentials used for reading data.\n",
        "  'recipe_project': '',  # Project ID hosting dataset.\n",
        "  'recipe_timezone': 'America/Los_Angeles',  # Timezone for report dates.\n",
        "  'auth_write': 'service',  # Authorization used for writing data.\n",
        "  'recipe_name': '',  # Name of report, not needed if ID used.\n",
        "  'recipe_slug': '',  # Name of Google BigQuery dataset to create.\n",
        "  'partners': [],  # DV360 partner id.\n",
        "  'advertisers': [],  # Comma delimited list of DV360 advertiser ids.\n",
        "}\n",
        "\n",
        "print(\"Parameters Set To: %s\" % FIELDS)\n"
      ],
      "metadata": {
        "colab_type": "code"
      }
    },
    {
      "cell_type": "markdown",
      "source": [
        "#5. Execute Segmentology DV360\n",
        "This does NOT need to be modified unles you are changing the recipe, click play.\n"
      ],
      "metadata": {
        "colab_type": "text"
      }
    },
    {
      "cell_type": "code",
      "source": [
        "from starthinker.util.project import project\n",
        "from starthinker.script.parse import json_set_fields\n",
        "\n",
        "USER_CREDENTIALS = '/content/user.json'\n",
        "\n",
        "TASKS = [\n",
        "  {\n",
        "    'dataset': {\n",
        "      'auth': 'user',\n",
        "      'description': 'Create a dataset for bigquery tables.',\n",
        "      'hour': [\n",
        "        4\n",
        "      ],\n",
        "      'dataset': {'field': {'description': 'Place where tables will be created in BigQuery.','name': 'recipe_slug','kind': 'string'}}\n",
        "    }\n",
        "  },\n",
        "  {\n",
        "    'bigquery': {\n",
        "      'auth': 'user',\n",
        "      'function': 'pearson_significance_test',\n",
        "      'to': {\n",
        "        'dataset': {'field': {'description': 'Name of Google BigQuery dataset to create.','name': 'recipe_slug','default': '','order': 4,'kind': 'string'}}\n",
        "      }\n",
        "    }\n",
        "  },\n",
        "  {\n",
        "    'dbm': {\n",
        "      'auth': 'user',\n",
        "      'report': {\n",
        "        'filters': {\n",
        "          'FILTER_ADVERTISER': {\n",
        "            'values': {'field': {'description': 'Comma delimited list of DV360 advertiser ids.','name': 'advertisers','default': [],'order': 6,'kind': 'integer_list'}}\n",
        "          },\n",
        "          'FILTER_PARTNER': {\n",
        "            'values': {'field': {'description': 'DV360 partner id.','name': 'partners','default': [],'order': 5,'kind': 'integer_list'}}\n",
        "          }\n",
        "        },\n",
        "        'body': {\n",
        "          'params': {\n",
        "            'type': 'TYPE_CROSS_PARTNER',\n",
        "            'groupBys': [\n",
        "              'FILTER_PARTNER',\n",
        "              'FILTER_PARTNER_NAME',\n",
        "              'FILTER_ADVERTISER',\n",
        "              'FILTER_ADVERTISER_NAME',\n",
        "              'FILTER_MEDIA_PLAN',\n",
        "              'FILTER_MEDIA_PLAN_NAME',\n",
        "              'FILTER_ZIP_POSTAL_CODE'\n",
        "            ],\n",
        "            'metrics': [\n",
        "              'METRIC_BILLABLE_IMPRESSIONS',\n",
        "              'METRIC_CLICKS',\n",
        "              'METRIC_TOTAL_CONVERSIONS'\n",
        "            ]\n",
        "          },\n",
        "          'timezoneCode': {'field': {'description': 'Timezone for report dates.','name': 'recipe_timezone','default': 'America/Los_Angeles','kind': 'timezone'}},\n",
        "          'metadata': {\n",
        "            'title': {'field': {'description': 'Name of report, not needed if ID used.','order': 3,'name': 'recipe_name','default': '','prefix': 'Segmentology ','kind': 'string'}},\n",
        "            'dataRange': 'LAST_30_DAYS',\n",
        "            'format': 'CSV'\n",
        "          },\n",
        "          'schedule': {\n",
        "            'frequency': 'WEEKLY'\n",
        "          }\n",
        "        }\n",
        "      }\n",
        "    }\n",
        "  },\n",
        "  {\n",
        "    'dbm': {\n",
        "      'auth': 'user',\n",
        "      'report': {\n",
        "        'name': {'field': {'description': 'Name of report, not needed if ID used.','order': 3,'name': 'recipe_name','default': '','prefix': 'Segmentology ','kind': 'string'}}\n",
        "      },\n",
        "      'out': {\n",
        "        'bigquery': {\n",
        "          'auth': 'user',\n",
        "          'table': 'DV360_KPI',\n",
        "          'dataset': {'field': {'description': 'Name of Google BigQuery dataset to create.','name': 'recipe_slug','default': '','order': 4,'kind': 'string'}},\n",
        "          'schema': [\n",
        "            {\n",
        "              'type': 'INTEGER',\n",
        "              'name': 'Partner_Id',\n",
        "              'mode': 'REQUIRED'\n",
        "            },\n",
        "            {\n",
        "              'type': 'STRING',\n",
        "              'name': 'Partner',\n",
        "              'mode': 'REQUIRED'\n",
        "            },\n",
        "            {\n",
        "              'type': 'INTEGER',\n",
        "              'name': 'Advertiser_Id',\n",
        "              'mode': 'REQUIRED'\n",
        "            },\n",
        "            {\n",
        "              'type': 'STRING',\n",
        "              'name': 'Advertiser',\n",
        "              'mode': 'REQUIRED'\n",
        "            },\n",
        "            {\n",
        "              'type': 'INTEGER',\n",
        "              'name': 'Campaign_Id',\n",
        "              'mode': 'REQUIRED'\n",
        "            },\n",
        "            {\n",
        "              'type': 'STRING',\n",
        "              'name': 'Campaign',\n",
        "              'mode': 'REQUIRED'\n",
        "            },\n",
        "            {\n",
        "              'type': 'STRING',\n",
        "              'name': 'Zip',\n",
        "              'mode': 'NULLABLE'\n",
        "            },\n",
        "            {\n",
        "              'type': 'FLOAT',\n",
        "              'name': 'Impressions',\n",
        "              'mode': 'NULLABLE'\n",
        "            },\n",
        "            {\n",
        "              'type': 'INTEGER',\n",
        "              'name': 'Clicks',\n",
        "              'mode': 'NULLABLE'\n",
        "            },\n",
        "            {\n",
        "              'type': 'FLOAT',\n",
        "              'name': 'Conversions',\n",
        "              'mode': 'NULLABLE'\n",
        "            }\n",
        "          ]\n",
        "        }\n",
        "      }\n",
        "    }\n",
        "  },\n",
        "  {\n",
        "    'bigquery': {\n",
        "      'auth': 'user',\n",
        "      'from': {\n",
        "        'query': 'SELECT            Partner_Id,            Partner,            Advertiser_Id,            Advertiser,            Campaign_Id,            Campaign,            Zip,            SAFE_DIVIDE(Impressions, SUM(Impressions) OVER(PARTITION BY Advertiser_Id)) AS Impression_Percent,            SAFE_DIVIDE(Clicks, Impressions) AS Click_Percent,            SAFE_DIVIDE(Conversions, Impressions) AS Conversion_Percent,            Impressions AS Impressions          FROM            `{project}.{dataset}.DV360_KPI`;        ',\n",
        "        'parameters': {\n",
        "          'dataset': {'field': {'description': 'Place where tables will be created in BigQuery.','name': 'recipe_slug','kind': 'string'}},\n",
        "          'project': {'field': {'description': 'Project ID hosting dataset.','name': 'recipe_project','kind': 'string'}}\n",
        "        },\n",
        "        'legacy': False\n",
        "      },\n",
        "      'to': {\n",
        "        'view': 'DV360_KPI_Normalized',\n",
        "        'dataset': {'field': {'description': 'Place where tables will be written in BigQuery.','name': 'recipe_slug','kind': 'string'}}\n",
        "      }\n",
        "    }\n",
        "  },\n",
        "  {\n",
        "    'census': {\n",
        "      'auth': 'user',\n",
        "      'normalize': {\n",
        "        'census_geography': 'zip_codes',\n",
        "        'census_span': '5yr',\n",
        "        'census_year': '2018'\n",
        "      },\n",
        "      'to': {\n",
        "        'type': 'view',\n",
        "        'dataset': {'field': {'description': 'Name of Google BigQuery dataset to create.','name': 'recipe_slug','default': '','order': 4,'kind': 'string'}}\n",
        "      }\n",
        "    }\n",
        "  },\n",
        "  {\n",
        "    'census': {\n",
        "      'auth': 'user',\n",
        "      'to': {\n",
        "        'type': 'view',\n",
        "        'dataset': {'field': {'description': 'Name of Google BigQuery dataset to create.','name': 'recipe_slug','default': '','order': 4,'kind': 'string'}}\n",
        "      },\n",
        "      'correlate': {\n",
        "        'table': 'DV360_KPI_Normalized',\n",
        "        'correlate': [\n",
        "          'Impression_Percent',\n",
        "          'Click_Percent',\n",
        "          'Conversion_Percent'\n",
        "        ],\n",
        "        'sum': [\n",
        "          'Impressions'\n",
        "        ],\n",
        "        'significance': 80,\n",
        "        'join': 'Zip',\n",
        "        'dataset': {'field': {'description': 'Name of Google BigQuery dataset to create.','name': 'recipe_slug','default': '','order': 4,'kind': 'string'}},\n",
        "        'pass': [\n",
        "          'Partner_Id',\n",
        "          'Partner',\n",
        "          'Advertiser_Id',\n",
        "          'Advertiser',\n",
        "          'Campaign_Id',\n",
        "          'Campaign'\n",
        "        ]\n",
        "      }\n",
        "    }\n",
        "  }\n",
        "]\n",
        "\n",
        "json_set_fields(TASKS, FIELDS)\n",
        "\n",
        "project.initialize(_recipe={ 'tasks':TASKS }, _project=CLOUD_PROJECT, _user=USER_CREDENTIALS, _client=CLIENT_CREDENTIALS, _verbose=True, _force=True)\n",
        "project.execute(_force=True)\n"
      ],
      "metadata": {
        "colab_type": "code"
      }
    }
  ],
  "nbformat_minor": "0",
  "nbformat": "4"
}
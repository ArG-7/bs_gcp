{
  "license": "Apache License, Version 2.0",
  "copyright": "Copyright 2018 Google Inc.",
  "nbformat": "4",
  "nbformat_minor": "0",
  "metadata": {
    "colab": {
      "name": "Bulkdozer",
      "provenance": [],
      "collapsed_sections": [],
      "toc_visible": true
    },
    "kernelspec": {
      "name": "python3",
      "display_name": "Python 3"
    }
  },
  "cells": [
    {
      "cell_type": "markdown",
      "metadata": {
        "id": "HSlyWV96ktrf",
        "colab_type": "text"
      },
      "source": [
        "#1. Install Dependencies\n",
        "First install the libraries needed to execute recipes, this only needs to be done once, then click play.\n"
      ]
    },
    {
      "cell_type": "code",
      "metadata": {
        "id": "t15gxqyrUrER",
        "colab_type": "code"
      },
      "source": [
        "!pip install git+https://github.com/google/starthinker\n"
      ]
    },
    {
      "cell_type": "markdown",
      "metadata": {
        "id": "MpOoaeAt1elj",
        "colab_type": "text"
      },
      "source": [
        "#2. Get Cloud Project ID\n",
        "To run this recipe [requires a Google Cloud Project](https://github.com/google/starthinker/blob/master/tutorials/cloud_project.md), this only needs to be done once, then click play.\n"
      ]
    },
    {
      "cell_type": "code",
      "metadata": {
        "id": "uDHgFuYBkpSn",
        "colab_type": "code"
      },
      "source": [
        "CLOUD_PROJECT = 'PASTE PROJECT ID HERE'\n",
        "\n",
        "print(\"Cloud Project Set To: %s\" % CLOUD_PROJECT)\n"
      ]
    },
    {
      "cell_type": "markdown",
      "metadata": {
        "id": "6mJh04IJDlik",
        "colab_type": "text"
      },
      "source": [
        "#3. Get Client Credentials\n",
        "To read and write to various endpoints requires [downloading client credentials](https://github.com/google/starthinker/blob/master/tutorials/cloud_client_installed.md), this only needs to be done once, then click play.\n"
      ]
    },
    {
      "cell_type": "code",
      "metadata": {
        "id": "y6jWS0sX1nPS",
        "colab_type": "code"
      },
      "source": [
        "CLIENT_CREDENTIALS = 'PASTE CREDENTIALS HERE'\n",
        "\n",
        "print(\"Client Credentials Set To: %s\" % CLIENT_CREDENTIALS)\n"
      ]
    },
    {
      "cell_type": "markdown",
      "metadata": {
        "id": "bhHaKTAhPy6w",
        "colab_type": "text"
      },
      "source": [
        "#4. Enter Bulkdozer Parameters\n",
        "Bulkdozer is a tool that can reduce trafficking time in Campaign Manager by up to 80%% by providing automated bulk editing capabilities.\n",
        " 1. Open the <a href='https://docs.google.com/spreadsheets/d/1hLrpsapXY5jsbgQRcSpjH04avvdcortufI0OXSJZQH8' target='_blank'>Bulkdozer 0.23</a> feed.\n",
        " 1. Make your own copy of the feed by clicking the File -> Make a copy... menu in the feed.\n",
        " 1. Give it a meaninful name including the version, your name, and team to help you identify it and ensure you are using the correct version.\n",
        " 1. Under the Account ID field below, enter the your Campaign Manager Network ID.\n",
        " 1. Under Sheet URL, enter the URL of your copy of the feed that you just created in the steps above.\n",
        " 1. Go to the Store tab of your new feed, and enter your profile ID in the profileId field (cell B2). Your profile ID is visible in Campaign Manager by clicking your avatar on the top right corner.\n",
        " 1. Click the 'Save' button below.\n",
        " 1. After clicking 'Save', copy this page's URL from your browser address bar, and paste it in the Store tab for the recipe_url field (cell B5) your sheet.\n",
        " 1. Bulkdozer is ready for use\n",
        " 1. Stay up to date on new releases and other general anouncements by joining <a href='https://groups.google.com/forum/#!forum/bulkdozer-announcements' target='_blank'>Bulkdozer announcements</a>.\n",
        " 1. Review the <a href='https://github.com/google/starthinker/blob/master/tutorials/Bulkdozer/Installation_and_User_guides.md' target='_blank'>Bulkdozer documentation</a>.\n",
        "Modify the values below for your use case, can be done multiple times, then click play.\n"
      ]
    },
    {
      "cell_type": "code",
      "metadata": {
        "id": "MeO4j3Pi5Nmt",
        "colab_type": "code"
      },
      "source": [
        "FIELDS = {\n",
        "  \"recipe_timezone\":\"America/Chicago\", # Timezone for report dates. https://github.com/google/starthinker/blob/master/starthinker_ui/ui/timezones.py\n",
        "  \"account_id\":\"\", # Campaign Manager Network ID (optional if profile id provided)\n",
        "  \"dcm_profile_id\":\"\", # Campaign Manager Profile ID (optional if account id provided)\n",
        "  \"sheet_url\":\"\", # Feed Sheet URL\n",
        "}\n",
        "\n",
        "print(\"Parameters Set To: %s\" % FIELDS)\n"
      ]
    },
    {
      "cell_type": "markdown",
      "metadata": {
        "id": "yf4GhyAeGQy5",
        "colab_type": "text"
      },
      "source": [
        "#5. Execute Bulkdozer\n",
        "This does NOT need to be modified unles you are changing the recipe, click play.\n"
      ]
    },
    {
      "cell_type": "code",
      "metadata": {
        "id": "gwUPhew4OSrc",
        "colab_type": "code"
      },
      "source": [
        "from starthinker.util.project import project\n",
        "from starthinker.script.parse import json_set_fields\n",
        "\n",
        "USER_CREDENTIALS = '/content/user.json'\n",
        "\n",
        "TASKS = [\n",
        "  {\n",
        "    \"traffic\": {\n",
        "      \"hour\": [],\n",
        "      \"account_id\": {\n",
        "        \"field\": {\n",
        "          \"name\": \"account_id\",\n",
        "          \"kind\": \"string\",\n",
        "          \"order\": 1,\n",
        "          \"description\": \"Campaign Manager Network ID (optional if profile id provided)\",\n",
        "          \"default\": \"\"\n",
        "        }\n",
        "      },\n",
        "      \"dcm_profile_id\": {\n",
        "        \"field\": {\n",
        "          \"name\": \"dcm_profile_id\",\n",
        "          \"kind\": \"string\",\n",
        "          \"order\": 1,\n",
        "          \"description\": \"Campaign Manager Profile ID (optional if account id provided)\",\n",
        "          \"default\": \"\"\n",
        "        }\n",
        "      },\n",
        "      \"auth\": \"user\",\n",
        "      \"sheet_url\": {\n",
        "        \"field\": {\n",
        "          \"name\": \"sheet_url\",\n",
        "          \"kind\": \"string\",\n",
        "          \"order\": 2,\n",
        "          \"description\": \"Feed Sheet URL\",\n",
        "          \"default\": \"\"\n",
        "        }\n",
        "      },\n",
        "      \"timezone\": {\n",
        "        \"field\": {\n",
        "          \"name\": \"recipe_timezone\",\n",
        "          \"kind\": \"timezone\",\n",
        "          \"description\": \"Timezone for report dates. https://github.com/google/starthinker/blob/master/starthinker_ui/ui/timezones.py\",\n",
        "          \"default\": \"America/Chicago\"\n",
        "        }\n",
        "      }\n",
        "    }\n",
        "  }\n",
        "]\n",
        "\n",
        "json_set_fields(TASKS, FIELDS)\n",
        "project.initialize(_recipe={ 'tasks':TASKS }, _project=CLOUD_PROJECT, _user=USER_CREDENTIALS, _client=CLIENT_CREDENTIALS, _verbose=True)\n",
        "project.execute()\n"
      ]
    }
  ]
}
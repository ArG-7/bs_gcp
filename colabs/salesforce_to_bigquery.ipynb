{
  "metadata": {
    "colab": {
      "toc_visible": true,
      "collapsed_sections": [],
      "name": "Salesforce To BigQuery",
      "provenance": []
    },
    "kernelspec": {
      "display_name": "Python 3",
      "name": "python3"
    }
  },
  "copyright": "Copyright 2020 Google LLC",
  "nbformat_minor": "0",
  "license": "Apache License, Version 2.0",
  "nbformat": "4",
  "cells": [
    {
      "metadata": {
        "colab_type": "text"
      },
      "source": [
        "#1. Install Dependencies\n",
        "First install the libraries needed to execute recipes, this only needs to be done once, then click play.\n"
      ],
      "cell_type": "markdown"
    },
    {
      "metadata": {
        "colab_type": "code"
      },
      "source": [
        "!pip install git+https://github.com/google/starthinker\n"
      ],
      "cell_type": "code"
    },
    {
      "metadata": {
        "colab_type": "text"
      },
      "source": [
        "#2. Get Cloud Project ID\n",
        "To run this recipe [requires a Google Cloud Project](https://github.com/google/starthinker/blob/master/tutorials/cloud_project.md), this only needs to be done once, then click play.\n"
      ],
      "cell_type": "markdown"
    },
    {
      "metadata": {
        "colab_type": "code"
      },
      "source": [
        "CLOUD_PROJECT = 'PASTE PROJECT ID HERE'\n",
        "\n",
        "print(\"Cloud Project Set To: %s\" % CLOUD_PROJECT)\n"
      ],
      "cell_type": "code"
    },
    {
      "metadata": {
        "colab_type": "text"
      },
      "source": [
        "#3. Get Client Credentials\n",
        "To read and write to various endpoints requires [downloading client credentials](https://github.com/google/starthinker/blob/master/tutorials/cloud_client_installed.md), this only needs to be done once, then click play.\n"
      ],
      "cell_type": "markdown"
    },
    {
      "metadata": {
        "colab_type": "code"
      },
      "source": [
        "CLIENT_CREDENTIALS = 'PASTE CREDENTIALS HERE'\n",
        "\n",
        "print(\"Client Credentials Set To: %s\" % CLIENT_CREDENTIALS)\n"
      ],
      "cell_type": "code"
    },
    {
      "metadata": {
        "colab_type": "text"
      },
      "source": [
        "#4. Enter Salesforce To BigQuery Parameters\n",
        "Move query results into a BigQuery table.\n",
        " 1. Specify <a href='https://developer.salesforce.com/' target='_blank'>Salesforce</a> credentials.\n",
        " 1. Specify the query youd like to execute.\n",
        " 1. Specify a <a href='https://cloud.google.com/bigquery/docs/schemas#creating_a_json_schema_file' target='_blank'>SCHEMA</a> for that query ( optional ).\n",
        "Modify the values below for your use case, can be done multiple times, then click play.\n"
      ],
      "cell_type": "markdown"
    },
    {
      "metadata": {
        "colab_type": "code"
      },
      "source": [
        "FIELDS = {\n",
        "  'query': '',  # The query to run in Salesforce.\n",
        "  'domain': 'login.salesforce.com',  # Retrieve from a Salesforce Domain.\n",
        "  'client': '',  # Retrieve from a Salesforce App.\n",
        "  'secret': '',  # Retrieve from a Salesforce App.\n",
        "  'password': '',  # Your Salesforce login password.\n",
        "  'username': '',  # Your Salesforce user email.\n",
        "  'auth_read': 'user',  # Credentials used for reading data.\n",
        "  'dataset': '',  # Existing BigQuery dataset.\n",
        "  'table': '',  # Table to create from this report.\n",
        "  'schema': '[]',  # Schema provided in JSON list format or empty list.\n",
        "}\n",
        "\n",
        "print(\"Parameters Set To: %s\" % FIELDS)\n"
      ],
      "cell_type": "code"
    },
    {
      "metadata": {
        "colab_type": "text"
      },
      "source": [
        "#5. Execute Salesforce To BigQuery\n",
        "This does NOT need to be modified unles you are changing the recipe, click play.\n"
      ],
      "cell_type": "markdown"
    },
    {
      "metadata": {
        "colab_type": "code"
      },
      "source": [
        "from starthinker.util.project import project\n",
        "from starthinker.script.parse import json_set_fields\n",
        "\n",
        "USER_CREDENTIALS = '/content/user.json'\n",
        "\n",
        "TASKS = [\n",
        "  {\n",
        "    'salesforce': {\n",
        "      'query': {'field': {'description': 'The query to run in Salesforce.','name': 'query','default': '','kind': 'string'}},\n",
        "      'domain': {'field': {'description': 'Retrieve from a Salesforce Domain.','name': 'domain','default': 'login.salesforce.com','kind': 'string'}},\n",
        "      'client': {'field': {'description': 'Retrieve from a Salesforce App.','name': 'client','default': '','kind': 'string'}},\n",
        "      'auth': 'user',\n",
        "      'secret': {'field': {'description': 'Retrieve from a Salesforce App.','name': 'secret','default': '','kind': 'string'}},\n",
        "      'password': {'field': {'description': 'Your Salesforce login password.','name': 'password','default': '','kind': 'password'}},\n",
        "      'username': {'field': {'description': 'Your Salesforce user email.','name': 'username','default': '','kind': 'email'}},\n",
        "      'out': {\n",
        "        'bigquery': {\n",
        "          'table': {'field': {'description': 'Table to create from this report.','name': 'table','order': 4,'default': '','kind': 'string'}},\n",
        "          'dataset': {'field': {'description': 'Existing BigQuery dataset.','name': 'dataset','order': 3,'default': '','kind': 'string'}},\n",
        "          'schema': {'field': {'description': 'Schema provided in JSON list format or empty list.','name': 'schema','order': 5,'default': '[]','kind': 'json'}}\n",
        "        }\n",
        "      }\n",
        "    }\n",
        "  }\n",
        "]\n",
        "\n",
        "json_set_fields(TASKS, FIELDS)\n",
        "\n",
        "project.initialize(_recipe={ 'tasks':TASKS }, _project=CLOUD_PROJECT, _user=USER_CREDENTIALS, _client=CLIENT_CREDENTIALS, _verbose=True, _force=True)\n",
        "project.execute(_force=True)\n"
      ],
      "cell_type": "code"
    }
  ]
}
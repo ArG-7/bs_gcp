{
  "license": "Apache License, Version 2.0",
  "copyright": "Copyright 2018 Google Inc.",
  "nbformat": "4",
  "nbformat_minor": "0",
  "metadata": {
    "colab": {
      "name": "Video Overlay",
      "provenance": [],
      "collapsed_sections": [],
      "toc_visible": true
    },
    "kernelspec": {
      "name": "python3",
      "display_name": "Python 3"
    }
  },
  "cells": [
    {
      "cell_type": "markdown",
      "metadata": {
        "id": "pRlBIzksBYtS",
        "colab_type": "text"
      },
      "source": [
        "#1. Install Dependencies\n",
        "First install the libraries needed to execute recipes, this only needs to be done once, then click play.\n"
      ]
    },
    {
      "cell_type": "code",
      "metadata": {
        "id": "Lp74yrh99S6Q",
        "colab_type": "code"
      },
      "source": [
        "!pip install git+https://github.com/google/starthinker\n"
      ]
    },
    {
      "cell_type": "markdown",
      "metadata": {
        "id": "1Jl9iAPjKCw9",
        "colab_type": "text"
      },
      "source": [
        "#2. Get Cloud Project ID\n",
        "To run this recipe [requires a Google Cloud Project](https://github.com/google/starthinker/blob/master/tutorials/cloud_project.md), this only needs to be done once, then click play.\n"
      ]
    },
    {
      "cell_type": "code",
      "metadata": {
        "id": "6fkbgWvMvkzi",
        "colab_type": "code"
      },
      "source": [
        "CLOUD_PROJECT = 'PASTE PROJECT ID HERE'\n",
        "\n",
        "print(\"Cloud Project Set To: %s\" % CLOUD_PROJECT)\n"
      ]
    },
    {
      "cell_type": "markdown",
      "metadata": {
        "id": "oGORnix4k1or",
        "colab_type": "text"
      },
      "source": [
        "#3. Get Client Credentials\n",
        "To read and write to various endpoints requires [downloading client credentials](https://github.com/google/starthinker/blob/master/tutorials/cloud_client_installed.md), this only needs to be done once, then click play.\n"
      ]
    },
    {
      "cell_type": "code",
      "metadata": {
        "id": "XXoNvCuZuf4z",
        "colab_type": "code"
      },
      "source": [
        "CLIENT_CREDENTIALS = 'PASTE CREDENTIALS HERE'\n",
        "\n",
        "print(\"Client Credentials Set To: %s\" % CLIENT_CREDENTIALS)\n"
      ]
    },
    {
      "cell_type": "markdown",
      "metadata": {
        "id": "wPeN3ze3fzpH",
        "colab_type": "text"
      },
      "source": [
        "#4. Enter Video Overlay Parameters\n",
        "Add images, text, and audio to videos.\n",
        " 1. Provide either a sheet or a BigQuery table.\n",
        " 1. Each video edit will be read from the sheet or table.\n",
        "Modify the values below for your use case, can be done multiple times, then click play.\n"
      ]
    },
    {
      "cell_type": "code",
      "metadata": {
        "id": "RqYRVZ4Wh7qB",
        "colab_type": "code"
      },
      "source": [
        "FIELDS = {\n",
        "  \"sheet\":\"\", # Name or URL of sheet.\n",
        "  \"tab\":\"\", # Name of sheet tab.\n",
        "  \"project\":\"\", # Google Cloud Project Identifier.\n",
        "  \"dataset\":\"\", # Name of dataset.\n",
        "  \"table\":\"\", # Name of table.\n",
        "}\n",
        "\n",
        "print(\"Parameters Set To: %s\" % FIELDS)\n"
      ]
    },
    {
      "cell_type": "markdown",
      "metadata": {
        "id": "TpddVq05XtZY",
        "colab_type": "text"
      },
      "source": [
        "#5. Execute Video Overlay\n",
        "This does NOT need to be modified unles you are changing the recipe, click play.\n"
      ]
    },
    {
      "cell_type": "code",
      "metadata": {
        "id": "D0jrB4Px11qt",
        "colab_type": "code"
      },
      "source": [
        "from starthinker.util.project import project\n",
        "from starthinker.script.parse import json_set_fields\n",
        "\n",
        "USER_CREDENTIALS = '/content/user.json'\n",
        "\n",
        "TASKS = [ { 'sheets': { '__comment__': 'Copy '\n",
        "                               'the '\n",
        "                               'tamplate '\n",
        "                               'sheet '\n",
        "                               'to '\n",
        "                               'the '\n",
        "                               'users '\n",
        "                               'sheet.  '\n",
        "                               'If '\n",
        "                               'it '\n",
        "                               'already '\n",
        "                               'exists, '\n",
        "                               'nothing '\n",
        "                               'happens.',\n",
        "                'auth': 'user',\n",
        "                'sheet': { 'field': { 'default': '',\n",
        "                                      'description': 'Name '\n",
        "                                                     'or '\n",
        "                                                     'URL '\n",
        "                                                     'of '\n",
        "                                                     'sheet.',\n",
        "                                      'kind': 'string',\n",
        "                                      'name': 'sheet',\n",
        "                                      'order': 1}},\n",
        "                'tab': { 'field': { 'default': '',\n",
        "                                    'description': 'Name '\n",
        "                                                   'of '\n",
        "                                                   'sheet '\n",
        "                                                   'tab.',\n",
        "                                    'kind': 'string',\n",
        "                                    'name': 'tab',\n",
        "                                    'order': 2}},\n",
        "                'template': { 'sheet': 'https://docs.google.com/spreadsheets/d/1BXRHWz-1P3gNS92WZy-3sPZslU8aalXa8heOgygWEFs/edit#gid=0',\n",
        "                              'tab': 'Video'}}},\n",
        "  { 'video': { '__comment__': 'Read '\n",
        "                              'video '\n",
        "                              'effects '\n",
        "                              'and '\n",
        "                              'values '\n",
        "                              'from '\n",
        "                              'sheet '\n",
        "                              'and/or '\n",
        "                              'bigquery.',\n",
        "               'auth': 'user',\n",
        "               'bigquery': { 'dataset': { 'field': { 'default': '',\n",
        "                                                     'description': 'Name '\n",
        "                                                                    'of '\n",
        "                                                                    'dataset.',\n",
        "                                                     'kind': 'string',\n",
        "                                                     'name': 'dataset',\n",
        "                                                     'order': 4}},\n",
        "                             'project': { 'field': { 'default': '',\n",
        "                                                     'description': 'Google '\n",
        "                                                                    'Cloud '\n",
        "                                                                    'Project '\n",
        "                                                                    'Identifier.',\n",
        "                                                     'kind': 'string',\n",
        "                                                     'name': 'project',\n",
        "                                                     'order': 3}},\n",
        "                             'table': { 'field': { 'default': '',\n",
        "                                                   'description': 'Name '\n",
        "                                                                  'of '\n",
        "                                                                  'table.',\n",
        "                                                   'kind': 'string',\n",
        "                                                   'name': 'table',\n",
        "                                                   'order': 5}}},\n",
        "               'sheet': { 'tab': { 'field': { 'default': '',\n",
        "                                              'description': 'Name '\n",
        "                                                             'of '\n",
        "                                                             'sheet '\n",
        "                                                             'tab.',\n",
        "                                              'kind': 'string',\n",
        "                                              'name': 'tab',\n",
        "                                              'order': 2}},\n",
        "                          'url': { 'field': { 'default': '',\n",
        "                                              'description': 'Name '\n",
        "                                                             'or '\n",
        "                                                             'URL '\n",
        "                                                             'of '\n",
        "                                                             'sheet.',\n",
        "                                              'kind': 'string',\n",
        "                                              'name': 'sheet',\n",
        "                                              'order': 1}}}}}]\n",
        "\n",
        "json_set_fields(TASKS, FIELDS)\n",
        "project.initialize(_recipe={ 'tasks':TASKS }, _project=CLOUD_PROJECT, _user=USER_CREDENTIALS, _client=CLIENT_CREDENTIALS, _verbose=True)\n",
        "project.execute()\n"
      ]
    }
  ]
}
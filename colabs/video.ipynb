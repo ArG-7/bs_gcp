{
  "metadata": {
    "colab": {
      "toc_visible": true,
      "collapsed_sections": [],
      "name": "Video Overlay",
      "provenance": []
    },
    "kernelspec": {
      "display_name": "Python 3",
      "name": "python3"
    }
  },
  "copyright": "Copyright 2020 Google LLC",
  "nbformat_minor": "0",
  "license": "Apache License, Version 2.0",
  "nbformat": "4",
  "cells": [
    {
      "metadata": {
        "colab_type": "text"
      },
      "source": [
        "#1. Install Dependencies\n",
        "First install the libraries needed to execute recipes, this only needs to be done once, then click play.\n"
      ],
      "cell_type": "markdown"
    },
    {
      "metadata": {
        "colab_type": "code"
      },
      "source": [
        "!pip install git+https://github.com/google/starthinker\n"
      ],
      "cell_type": "code"
    },
    {
      "metadata": {
        "colab_type": "text"
      },
      "source": [
        "#2. Get Cloud Project ID\n",
        "To run this recipe [requires a Google Cloud Project](https://github.com/google/starthinker/blob/master/tutorials/cloud_project.md), this only needs to be done once, then click play.\n"
      ],
      "cell_type": "markdown"
    },
    {
      "metadata": {
        "colab_type": "code"
      },
      "source": [
        "CLOUD_PROJECT = 'PASTE PROJECT ID HERE'\n",
        "\n",
        "print(\"Cloud Project Set To: %s\" % CLOUD_PROJECT)\n"
      ],
      "cell_type": "code"
    },
    {
      "metadata": {
        "colab_type": "text"
      },
      "source": [
        "#3. Get Client Credentials\n",
        "To read and write to various endpoints requires [downloading client credentials](https://github.com/google/starthinker/blob/master/tutorials/cloud_client_installed.md), this only needs to be done once, then click play.\n"
      ],
      "cell_type": "markdown"
    },
    {
      "metadata": {
        "colab_type": "code"
      },
      "source": [
        "CLIENT_CREDENTIALS = 'PASTE CREDENTIALS HERE'\n",
        "\n",
        "print(\"Client Credentials Set To: %s\" % CLIENT_CREDENTIALS)\n"
      ],
      "cell_type": "code"
    },
    {
      "metadata": {
        "colab_type": "text"
      },
      "source": [
        "#4. Enter Video Overlay Parameters\n",
        "Add images, text, and audio to videos.\n",
        " 1. Provide either a sheet or a BigQuery table.\n",
        " 1. Each video edit will be read from the sheet or table.\n",
        "Modify the values below for your use case, can be done multiple times, then click play.\n"
      ],
      "cell_type": "markdown"
    },
    {
      "metadata": {
        "colab_type": "code"
      },
      "source": [
        "FIELDS = {\n",
        "  'sheet': '',  # Name or URL of sheet.\n",
        "  'auth_read': 'user',  # Credentials used for reading data.\n",
        "  'tab': '',  # Name of sheet tab.\n",
        "  'project': '',  # Google Cloud Project Identifier.\n",
        "  'dataset': '',  # Name of dataset.\n",
        "  'table': '',  # Name of table.\n",
        "}\n",
        "\n",
        "print(\"Parameters Set To: %s\" % FIELDS)\n"
      ],
      "cell_type": "code"
    },
    {
      "metadata": {
        "colab_type": "text"
      },
      "source": [
        "#5. Execute Video Overlay\n",
        "This does NOT need to be modified unles you are changing the recipe, click play.\n"
      ],
      "cell_type": "markdown"
    },
    {
      "metadata": {
        "colab_type": "code"
      },
      "source": [
        "from starthinker.util.project import project\n",
        "from starthinker.script.parse import json_set_fields\n",
        "\n",
        "USER_CREDENTIALS = '/content/user.json'\n",
        "\n",
        "TASKS = [\n",
        "  {\n",
        "    'sheets': {\n",
        "      'auth': 'user',\n",
        "      'sheet': {'field': {'description': 'Name or URL of sheet.','name': 'sheet','order': 1,'default': '','kind': 'string'}},\n",
        "      'template': {\n",
        "        'sheet': 'https://docs.google.com/spreadsheets/d/1BXRHWz-1P3gNS92WZy-3sPZslU8aalXa8heOgygWEFs/edit#gid=0',\n",
        "        'tab': 'Video'\n",
        "      },\n",
        "      '__comment__': 'Copy the tamplate sheet to the users sheet.  If it already exists, nothing happens.',\n",
        "      'tab': {'field': {'description': 'Name of sheet tab.','name': 'tab','order': 2,'default': '','kind': 'string'}}\n",
        "    }\n",
        "  },\n",
        "  {\n",
        "    'video': {\n",
        "      'auth': 'user',\n",
        "      'bigquery': {\n",
        "        'table': {'field': {'description': 'Name of table.','name': 'table','order': 5,'default': '','kind': 'string'}},\n",
        "        'dataset': {'field': {'description': 'Name of dataset.','name': 'dataset','order': 4,'default': '','kind': 'string'}},\n",
        "        'project': {'field': {'description': 'Google Cloud Project Identifier.','name': 'project','order': 3,'default': '','kind': 'string'}}\n",
        "      },\n",
        "      'sheets': {\n",
        "        'sheet': {'field': {'description': 'Name or URL of sheet.','name': 'sheet','order': 1,'default': '','kind': 'string'}},\n",
        "        'tab': {'field': {'description': 'Name of sheet tab.','name': 'tab','order': 2,'default': '','kind': 'string'}}\n",
        "      },\n",
        "      '__comment__': 'Read video effects and values from sheet and/or bigquery.'\n",
        "    }\n",
        "  }\n",
        "]\n",
        "\n",
        "json_set_fields(TASKS, FIELDS)\n",
        "\n",
        "project.initialize(_recipe={ 'tasks':TASKS }, _project=CLOUD_PROJECT, _user=USER_CREDENTIALS, _client=CLIENT_CREDENTIALS, _verbose=True, _force=True)\n",
        "project.execute(_force=True)\n"
      ],
      "cell_type": "code"
    }
  ]
}
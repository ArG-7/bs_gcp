{
  "metadata": {
    "colab": {
      "toc_visible": true,
      "collapsed_sections": [],
      "name": "Federal Reserve Regional Data",
      "provenance": []
    },
    "kernelspec": {
      "display_name": "Python 3",
      "name": "python3"
    }
  },
  "copyright": "Copyright 2020 Google LLC",
  "nbformat_minor": "0",
  "license": "Apache License, Version 2.0",
  "nbformat": "4",
  "cells": [
    {
      "metadata": {
        "colab_type": "text"
      },
      "source": [
        "#1. Install Dependencies\n",
        "First install the libraries needed to execute recipes, this only needs to be done once, then click play.\n"
      ],
      "cell_type": "markdown"
    },
    {
      "metadata": {
        "colab_type": "code"
      },
      "source": [
        "!pip install git+https://github.com/google/starthinker\n"
      ],
      "cell_type": "code"
    },
    {
      "metadata": {
        "colab_type": "text"
      },
      "source": [
        "#2. Get Cloud Project ID\n",
        "To run this recipe [requires a Google Cloud Project](https://github.com/google/starthinker/blob/master/tutorials/cloud_project.md), this only needs to be done once, then click play.\n"
      ],
      "cell_type": "markdown"
    },
    {
      "metadata": {
        "colab_type": "code"
      },
      "source": [
        "CLOUD_PROJECT = 'PASTE PROJECT ID HERE'\n",
        "\n",
        "print(\"Cloud Project Set To: %s\" % CLOUD_PROJECT)\n"
      ],
      "cell_type": "code"
    },
    {
      "metadata": {
        "colab_type": "text"
      },
      "source": [
        "#3. Get Client Credentials\n",
        "To read and write to various endpoints requires [downloading client credentials](https://github.com/google/starthinker/blob/master/tutorials/cloud_client_installed.md), this only needs to be done once, then click play.\n"
      ],
      "cell_type": "markdown"
    },
    {
      "metadata": {
        "colab_type": "code"
      },
      "source": [
        "CLIENT_CREDENTIALS = 'PASTE CREDENTIALS HERE'\n",
        "\n",
        "print(\"Client Credentials Set To: %s\" % CLIENT_CREDENTIALS)\n"
      ],
      "cell_type": "code"
    },
    {
      "metadata": {
        "colab_type": "text"
      },
      "source": [
        "#4. Enter Federal Reserve Regional Data Parameters\n",
        "Download federal reserve region.\n",
        " 1. Specify the values for a <a href='https://research.stlouisfed.org/docs/api/geofred/regional_data.html' target='_blank'>Fred observations API call</a>.\n",
        " 1. A table will appear in the dataset.\n",
        "Modify the values below for your use case, can be done multiple times, then click play.\n"
      ],
      "cell_type": "markdown"
    },
    {
      "metadata": {
        "colab_type": "code"
      },
      "source": [
        "FIELDS = {\n",
        "  'auth': 'service',  # Credentials used for writing data.\n",
        "  'fred_api_key': '',  # 32 character alpha-numeric lowercase string.\n",
        "  'fred_series_group': '',  # The ID for a group of seriess found in GeoFRED.\n",
        "  'fred_units': 'lin',  # A key that indicates a data value transformation.\n",
        "  'fred_region_type': 'county',  # The region you want want to pull data for.\n",
        "  'fred_season': 'SA',  # The seasonality of the series group.\n",
        "  'fred_frequency': '',  # An optional parameter that indicates a lower frequency to aggregate values to.\n",
        "  'fred_aggregation_method': 'avg',  # A key that indicates the aggregation method used for frequency aggregation.\n",
        "  'project': '',  # Existing BigQuery project.\n",
        "  'dataset': '',  # Existing BigQuery dataset.\n",
        "}\n",
        "\n",
        "print(\"Parameters Set To: %s\" % FIELDS)\n"
      ],
      "cell_type": "code"
    },
    {
      "metadata": {
        "colab_type": "text"
      },
      "source": [
        "#5. Execute Federal Reserve Regional Data\n",
        "This does NOT need to be modified unles you are changing the recipe, click play.\n"
      ],
      "cell_type": "markdown"
    },
    {
      "metadata": {
        "colab_type": "code"
      },
      "source": [
        "from starthinker.util.project import project\n",
        "from starthinker.script.parse import json_set_fields\n",
        "\n",
        "USER_CREDENTIALS = '/content/user.json'\n",
        "\n",
        "TASKS = [\n",
        "  {\n",
        "    'fred': {\n",
        "      'region_type': {'field': {'kind': 'choice','order': 3,'choices': ['bea','msa','frb','necta','state','country','county','censusregion'],'description': 'The region you want want to pull data for.','default': 'county','name': 'fred_region_type'}},\n",
        "      'api_key': {'field': {'description': '32 character alpha-numeric lowercase string.','name': 'fred_api_key','order': 1,'default': '','kind': 'string'}},\n",
        "      'auth': 'user',\n",
        "      'frequency': {'field': {'kind': 'choice','order': 4,'choices': ['','d','w','bw','m','q','sa','a','wef','weth','wew','wetu','wem','wesu','wesa','bwew','bwem'],'description': 'An optional parameter that indicates a lower frequency to aggregate values to.','default': '','name': 'fred_frequency'}},\n",
        "      'out': {\n",
        "        'bigquery': {\n",
        "          'dataset': {'field': {'description': 'Existing BigQuery dataset.','name': 'dataset','order': 11,'default': '','kind': 'string'}},\n",
        "          'project': {'field': {'description': 'Existing BigQuery project.','name': 'project','order': 10,'default': '','kind': 'string'}}\n",
        "        }\n",
        "      },\n",
        "      'regions': [\n",
        "        {\n",
        "          'units': {'field': {'kind': 'choice','order': 3,'choices': ['lin','chg','ch1','pch','pc1','pca','cch','cca','log'],'description': 'A key that indicates a data value transformation.','default': 'lin','name': 'fred_units'}},\n",
        "          'season': {'field': {'kind': 'choice','order': 4,'choices': ['SA','NSA','SSA'],'description': 'The seasonality of the series group.','default': 'SA','name': 'fred_season'}},\n",
        "          'series_group': {'field': {'description': 'The ID for a group of seriess found in GeoFRED.','name': 'fred_series_group','order': 2,'default': '','kind': 'string'}},\n",
        "          'aggregation_method': {'field': {'kind': 'choice','order': 5,'choices': ['avg','sum','eop'],'description': 'A key that indicates the aggregation method used for frequency aggregation.','default': 'avg','name': 'fred_aggregation_method'}}\n",
        "        }\n",
        "      ]\n",
        "    }\n",
        "  }\n",
        "]\n",
        "\n",
        "json_set_fields(TASKS, FIELDS)\n",
        "\n",
        "project.initialize(_recipe={ 'tasks':TASKS }, _project=CLOUD_PROJECT, _user=USER_CREDENTIALS, _client=CLIENT_CREDENTIALS, _verbose=True, _force=True)\n",
        "project.execute(_force=True)\n"
      ],
      "cell_type": "code"
    }
  ]
}
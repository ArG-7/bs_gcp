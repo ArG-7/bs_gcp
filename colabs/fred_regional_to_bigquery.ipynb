{
  "copyright": "Copyright 2020 Google LLC",
  "metadata": {
    "kernelspec": {
      "display_name": "Python 3",
      "name": "python3"
    },
    "colab": {
      "name": "Federal Reserve Regional Data",
      "toc_visible": true,
      "collapsed_sections": [],
      "provenance": []
    }
  },
  "license": "Apache License, Version 2.0",
  "cells": [
    {
      "cell_type": "markdown",
      "source": [
        "#1. Install Dependencies\n",
        "First install the libraries needed to execute recipes, this only needs to be done once, then click play.\n"
      ],
      "metadata": {
        "colab_type": "text"
      }
    },
    {
      "cell_type": "code",
      "source": [
        "!pip install git+https://github.com/google/starthinker\n"
      ],
      "metadata": {
        "colab_type": "code"
      }
    },
    {
      "cell_type": "markdown",
      "source": [
        "#2. Get Cloud Project ID\n",
        "To run this recipe [requires a Google Cloud Project](https://github.com/google/starthinker/blob/master/tutorials/cloud_project.md), this only needs to be done once, then click play.\n"
      ],
      "metadata": {
        "colab_type": "text"
      }
    },
    {
      "cell_type": "code",
      "source": [
        "CLOUD_PROJECT = 'PASTE PROJECT ID HERE'\n",
        "\n",
        "print(\"Cloud Project Set To: %s\" % CLOUD_PROJECT)\n"
      ],
      "metadata": {
        "colab_type": "code"
      }
    },
    {
      "cell_type": "markdown",
      "source": [
        "#3. Get Client Credentials\n",
        "To read and write to various endpoints requires [downloading client credentials](https://github.com/google/starthinker/blob/master/tutorials/cloud_client_installed.md), this only needs to be done once, then click play.\n"
      ],
      "metadata": {
        "colab_type": "text"
      }
    },
    {
      "cell_type": "code",
      "source": [
        "CLIENT_CREDENTIALS = 'PASTE CREDENTIALS HERE'\n",
        "\n",
        "print(\"Client Credentials Set To: %s\" % CLIENT_CREDENTIALS)\n"
      ],
      "metadata": {
        "colab_type": "code"
      }
    },
    {
      "cell_type": "markdown",
      "source": [
        "#4. Enter Federal Reserve Regional Data Parameters\n",
        "Download federal reserve region.\n",
        " 1. Specify the values for a <a href='https://research.stlouisfed.org/docs/api/geofred/regional_data.html' target='_blank'>Fred observations API call</a>.\n",
        " 1. A table will appear in the dataset.\n",
        "Modify the values below for your use case, can be done multiple times, then click play.\n"
      ],
      "metadata": {
        "colab_type": "text"
      }
    },
    {
      "cell_type": "code",
      "source": [
        "FIELDS = {\n",
        "  'auth': 'service',  # Credentials used for writing data.\n",
        "  'fred_api_key': '',  # 32 character alpha-numeric lowercase string.\n",
        "  'fred_series_group': '',  # The ID for a group of seriess found in GeoFRED.\n",
        "  'fred_units': 'lin',  # A key that indicates a data value transformation.\n",
        "  'fred_region_type': 'county',  # The region you want want to pull data for.\n",
        "  'fred_season': 'SA',  # The seasonality of the series group.\n",
        "  'fred_frequency': '',  # An optional parameter that indicates a lower frequency to aggregate values to.\n",
        "  'fred_aggregation_method': 'avg',  # A key that indicates the aggregation method used for frequency aggregation.\n",
        "  'project': '',  # Existing BigQuery project.\n",
        "  'dataset': '',  # Existing BigQuery dataset.\n",
        "}\n",
        "\n",
        "print(\"Parameters Set To: %s\" % FIELDS)\n"
      ],
      "metadata": {
        "colab_type": "code"
      }
    },
    {
      "cell_type": "markdown",
      "source": [
        "#5. Execute Federal Reserve Regional Data\n",
        "This does NOT need to be modified unles you are changing the recipe, click play.\n"
      ],
      "metadata": {
        "colab_type": "text"
      }
    },
    {
      "cell_type": "code",
      "source": [
        "from starthinker.util.project import project\n",
        "from starthinker.script.parse import json_set_fields\n",
        "\n",
        "USER_CREDENTIALS = '/content/user.json'\n",
        "\n",
        "TASKS = [\n",
        "  {\n",
        "    'fred': {\n",
        "      'regions': [\n",
        "        {\n",
        "          'aggregation_method': {'field': {'choices': ['avg','sum','eop'],'description': 'A key that indicates the aggregation method used for frequency aggregation.','order': 5,'name': 'fred_aggregation_method','default': 'avg','kind': 'choice'}},\n",
        "          'units': {'field': {'choices': ['lin','chg','ch1','pch','pc1','pca','cch','cca','log'],'description': 'A key that indicates a data value transformation.','order': 3,'name': 'fred_units','default': 'lin','kind': 'choice'}},\n",
        "          'series_group': {'field': {'description': 'The ID for a group of seriess found in GeoFRED.','name': 'fred_series_group','default': '','order': 2,'kind': 'string'}},\n",
        "          'season': {'field': {'choices': ['SA','NSA','SSA'],'description': 'The seasonality of the series group.','order': 4,'name': 'fred_season','default': 'SA','kind': 'choice'}}\n",
        "        }\n",
        "      ],\n",
        "      'region_type': {'field': {'choices': ['bea','msa','frb','necta','state','country','county','censusregion'],'description': 'The region you want want to pull data for.','order': 3,'name': 'fred_region_type','default': 'county','kind': 'choice'}},\n",
        "      'auth': 'user',\n",
        "      'frequency': {'field': {'choices': ['','d','w','bw','m','q','sa','a','wef','weth','wew','wetu','wem','wesu','wesa','bwew','bwem'],'description': 'An optional parameter that indicates a lower frequency to aggregate values to.','order': 4,'name': 'fred_frequency','default': '','kind': 'choice'}},\n",
        "      'out': {\n",
        "        'bigquery': {\n",
        "          'dataset': {'field': {'description': 'Existing BigQuery dataset.','name': 'dataset','default': '','order': 11,'kind': 'string'}},\n",
        "          'project': {'field': {'description': 'Existing BigQuery project.','name': 'project','default': '','order': 10,'kind': 'string'}}\n",
        "        }\n",
        "      },\n",
        "      'api_key': {'field': {'description': '32 character alpha-numeric lowercase string.','name': 'fred_api_key','default': '','order': 1,'kind': 'string'}}\n",
        "    }\n",
        "  }\n",
        "]\n",
        "\n",
        "json_set_fields(TASKS, FIELDS)\n",
        "\n",
        "project.initialize(_recipe={ 'tasks':TASKS }, _project=CLOUD_PROJECT, _user=USER_CREDENTIALS, _client=CLIENT_CREDENTIALS, _verbose=True, _force=True)\n",
        "project.execute(_force=True)\n"
      ],
      "metadata": {
        "colab_type": "code"
      }
    }
  ],
  "nbformat_minor": "0",
  "nbformat": "4"
}
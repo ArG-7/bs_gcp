{
  "license": "Apache License, Version 2.0",
  "copyright": "Copyright 2018 Google Inc.",
  "nbformat": "4",
  "nbformat_minor": "0",
  "metadata": {
    "colab": {
      "name": "DCM To Storage",
      "provenance": [],
      "collapsed_sections": [],
      "toc_visible": true
    },
    "kernelspec": {
      "name": "python3",
      "display_name": "Python 3"
    }
  },
  "cells": [
    {
      "cell_type": "markdown",
      "metadata": {
        "id": "Vce3ZeN96LuN",
        "colab_type": "text"
      },
      "source": [
        "#1. Install Dependencies\n",
        "First install the libraries needed to execute recipes, this only needs to be done once, then click play.\n"
      ]
    },
    {
      "cell_type": "code",
      "metadata": {
        "id": "gYoJUgMw3rQO",
        "colab_type": "code"
      },
      "source": [
        "!pip install git+https://github.com/google/starthinker\n"
      ]
    },
    {
      "cell_type": "markdown",
      "metadata": {
        "id": "C3X6eTgS5ltf",
        "colab_type": "text"
      },
      "source": [
        "#2. Get Cloud Project ID\n",
        "To run this recipe [requires a Google Cloud Project](https://github.com/google/starthinker/blob/master/tutorials/cloud_project.md), this only needs to be done once, then click play.\n"
      ]
    },
    {
      "cell_type": "code",
      "metadata": {
        "id": "tQ9YbFAdMIAV",
        "colab_type": "code"
      },
      "source": [
        "CLOUD_PROJECT = 'PASTE PROJECT ID HERE'\n",
        "\n",
        "print(\"Cloud Project Set To: %s\" % CLOUD_PROJECT)\n"
      ]
    },
    {
      "cell_type": "markdown",
      "metadata": {
        "id": "COw3URf1P0bZ",
        "colab_type": "text"
      },
      "source": [
        "#3. Get Client Credentials\n",
        "To read and write to various endpoints requires [downloading client credentials](https://github.com/google/starthinker/blob/master/tutorials/cloud_client_installed.md), this only needs to be done once, then click play.\n"
      ]
    },
    {
      "cell_type": "code",
      "metadata": {
        "id": "cOT3PjOAX8IQ",
        "colab_type": "code"
      },
      "source": [
        "CLIENT_CREDENTIALS = 'PASTE CREDENTIALS HERE'\n",
        "\n",
        "print(\"Client Credentials Set To: %s\" % CLIENT_CREDENTIALS)\n"
      ]
    },
    {
      "cell_type": "markdown",
      "metadata": {
        "id": "5WHzlT0fsDTZ",
        "colab_type": "text"
      },
      "source": [
        "#4. Enter DCM To Storage Parameters\n",
        "Move existing DCM report into a Storage bucket.\n",
        " 1. Specify an account id.\n",
        " 1. Specify either report name or report id to move a report.\n",
        " 1. The most recent file will be moved to the bucket.\n",
        " 1. Schema is pulled from the official DCM specification.\n",
        "Modify the values below for your use case, can be done multiple times, then click play.\n"
      ]
    },
    {
      "cell_type": "code",
      "metadata": {
        "id": "liLLLv12U6Xx",
        "colab_type": "code"
      },
      "source": [
        "FIELDS = {\n",
        "  \"account\":,\n",
        "  \"report_id\":,\n",
        "  \"report_name\":\"\",\n",
        "  \"bucket\":\"\",\n",
        "  \"path\":\"DCM_Report\",\n",
        "  \"datastudio\":True,\n",
        "}\n",
        "\n",
        "print(\"Parameters Set To: %s\" % FIELDS)\n"
      ]
    },
    {
      "cell_type": "markdown",
      "metadata": {
        "id": "LYKT7FfUYAEu",
        "colab_type": "text"
      },
      "source": [
        "#5. Execute DCM To Storage\n",
        "This does NOT need to be modified unles you are changing the recipe, click play.\n"
      ]
    },
    {
      "cell_type": "code",
      "metadata": {
        "id": "ls5j5NUptzuB",
        "colab_type": "code"
      },
      "source": [
        "from starthinker.util.project import project\n",
        "from starthinker.script.parse import json_set_fields\n",
        "\n",
        "USER_CREDENTIALS = '/content/user.json'\n",
        "\n",
        "TASKS = [\n",
        "  {\n",
        "    \"dcm\": {\n",
        "      \"auth\": \"user\",\n",
        "      \"report\": {\n",
        "        \"account\": {\n",
        "          \"field\": {\n",
        "            \"name\": \"account\",\n",
        "            \"kind\": \"integer\",\n",
        "            \"order\": 2,\n",
        "            \"default\": \"\"\n",
        "          }\n",
        "        },\n",
        "        \"report_id\": {\n",
        "          \"field\": {\n",
        "            \"name\": \"report_id\",\n",
        "            \"kind\": \"integer\",\n",
        "            \"order\": 3,\n",
        "            \"default\": \"\"\n",
        "          }\n",
        "        },\n",
        "        \"name\": {\n",
        "          \"field\": {\n",
        "            \"name\": \"report_name\",\n",
        "            \"kind\": \"string\",\n",
        "            \"order\": 4,\n",
        "            \"default\": \"\"\n",
        "          }\n",
        "        }\n",
        "      },\n",
        "      \"out\": {\n",
        "        \"storage\": {\n",
        "          \"bucket\": {\n",
        "            \"field\": {\n",
        "              \"name\": \"bucket\",\n",
        "              \"kind\": \"string\",\n",
        "              \"order\": 5,\n",
        "              \"default\": \"\"\n",
        "            }\n",
        "          },\n",
        "          \"path\": {\n",
        "            \"field\": {\n",
        "              \"name\": \"path\",\n",
        "              \"kind\": \"string\",\n",
        "              \"order\": 6,\n",
        "              \"default\": \"DCM_Report\"\n",
        "            }\n",
        "          }\n",
        "        }\n",
        "      },\n",
        "      \"datastudio\": {\n",
        "        \"field\": {\n",
        "          \"name\": \"datastudio\",\n",
        "          \"kind\": \"boolean\",\n",
        "          \"order\": 7,\n",
        "          \"default\": true\n",
        "        }\n",
        "      }\n",
        "    }\n",
        "  }\n",
        "]\n",
        "\n",
        "json_set_fields(TASKS, FIELDS)\n",
        "project.initialize(_recipe={ 'tasks':TASKS }, _project=CLOUD_PROJECT, _user=USER_CREDENTIALS, _client=CLIENT_CREDENTIALS, _verbose=True)\n",
        "project.execute()\n"
      ]
    }
  ]
}
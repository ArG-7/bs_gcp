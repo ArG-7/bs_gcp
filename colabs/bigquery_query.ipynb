{
  "license": "Apache License, Version 2.0",
  "copyright": "Copyright 2018 Google Inc.",
  "nbformat": "4",
  "nbformat_minor": "0",
  "metadata": {
    "colab": {
      "name": "Query To Table",
      "provenance": [],
      "collapsed_sections": [],
      "toc_visible": true
    },
    "kernelspec": {
      "name": "python3",
      "display_name": "Python 3"
    }
  },
  "cells": [
    {
      "cell_type": "markdown",
      "metadata": {
        "id": "Ngu3tpMsO9bL",
        "colab_type": "text"
      },
      "source": [
        "#1. Install Dependencies\n",
        "First install the libraries needed to execute recipes, this only needs to be done once, then click play.\n"
      ]
    },
    {
      "cell_type": "code",
      "metadata": {
        "id": "un6tj6T4RPU8",
        "colab_type": "code"
      },
      "source": [
        "!pip install git+https://github.com/google/starthinker\n"
      ]
    },
    {
      "cell_type": "markdown",
      "metadata": {
        "id": "54CdO3KRMHk2",
        "colab_type": "text"
      },
      "source": [
        "#2. Get Cloud Project ID\n",
        "To run this recipe [requires a Google Cloud Project](https://github.com/google/starthinker/blob/master/tutorials/cloud_project.md), this only needs to be done once, then click play.\n"
      ]
    },
    {
      "cell_type": "code",
      "metadata": {
        "id": "vB47puIlGtaZ",
        "colab_type": "code"
      },
      "source": [
        "CLOUD_PROJECT = 'PASTE PROJECT ID HERE'\n",
        "\n",
        "print(\"Cloud Project Set To: %s\" % CLOUD_PROJECT)\n"
      ]
    },
    {
      "cell_type": "markdown",
      "metadata": {
        "id": "GmoVb8RRXWB2",
        "colab_type": "text"
      },
      "source": [
        "#3. Get Client Credentials\n",
        "To read and write to various endpoints requires [downloading client credentials](https://github.com/google/starthinker/blob/master/tutorials/cloud_client_installed.md), this only needs to be done once, then click play.\n"
      ]
    },
    {
      "cell_type": "code",
      "metadata": {
        "id": "VqZHvq3tFtJV",
        "colab_type": "code"
      },
      "source": [
        "CLIENT_CREDENTIALS = 'PASTE CREDENTIALS HERE'\n",
        "\n",
        "print(\"Client Credentials Set To: %s\" % CLIENT_CREDENTIALS)\n"
      ]
    },
    {
      "cell_type": "markdown",
      "metadata": {
        "id": "YFxemr4WlTII",
        "colab_type": "text"
      },
      "source": [
        "#4. Enter Query To Table Parameters\n",
        "Save query results into a BigQuery table.\n",
        " 1. Specify a single query and choose legacy or standard mode.\n",
        " 1. For PLX use: SELECT * FROM [plx.google:FULL_TABLE_NAME.all] WHERE...\n",
        " 1. Every time the query runs it will overwrite the table.\n",
        "Modify the values below for your use case, can be done multiple times, then click play.\n"
      ]
    },
    {
      "cell_type": "code",
      "metadata": {
        "id": "MCVfhn4V44K9",
        "colab_type": "code"
      },
      "source": [
        "FIELDS = {\n",
        "  \"query\":\"\", # SQL with newlines and all.\n",
        "  \"dataset\":\"\", # Existing BigQuery dataset.\n",
        "  \"table\":\"\", # Table to create from this query.\n",
        "  \"legacy\":True, # Query type must match source tables.\n",
        "}\n",
        "\n",
        "print(\"Parameters Set To: %s\" % FIELDS)\n"
      ]
    },
    {
      "cell_type": "markdown",
      "metadata": {
        "id": "vcbljGRh657v",
        "colab_type": "text"
      },
      "source": [
        "#5. Execute Query To Table\n",
        "This does NOT need to be modified unles you are changing the recipe, click play.\n"
      ]
    },
    {
      "cell_type": "code",
      "metadata": {
        "id": "q83HodW5bfMQ",
        "colab_type": "code"
      },
      "source": [
        "from starthinker.util.project import project\n",
        "from starthinker.script.parse import json_set_fields\n",
        "\n",
        "USER_CREDENTIALS = '/content/user.json'\n",
        "\n",
        "TASKS = [ { 'bigquery': { 'auth': 'user',\n",
        "                  'from': { 'legacy': { 'field': { 'default': True,\n",
        "                                                   'description': 'Query '\n",
        "                                                                  'type '\n",
        "                                                                  'must '\n",
        "                                                                  'match '\n",
        "                                                                  'source '\n",
        "                                                                  'tables.',\n",
        "                                                   'kind': 'boolean',\n",
        "                                                   'name': 'legacy',\n",
        "                                                   'order': 4}},\n",
        "                            'query': { 'field': { 'default': '',\n",
        "                                                  'description': 'SQL '\n",
        "                                                                 'with '\n",
        "                                                                 'newlines '\n",
        "                                                                 'and '\n",
        "                                                                 'all.',\n",
        "                                                  'kind': 'text',\n",
        "                                                  'name': 'query',\n",
        "                                                  'order': 1}}},\n",
        "                  'to': { 'dataset': { 'field': { 'default': '',\n",
        "                                                  'description': 'Existing '\n",
        "                                                                 'BigQuery '\n",
        "                                                                 'dataset.',\n",
        "                                                  'kind': 'string',\n",
        "                                                  'name': 'dataset',\n",
        "                                                  'order': 2}},\n",
        "                          'table': { 'field': { 'default': '',\n",
        "                                                'description': 'Table '\n",
        "                                                               'to '\n",
        "                                                               'create '\n",
        "                                                               'from '\n",
        "                                                               'this '\n",
        "                                                               'query.',\n",
        "                                                'kind': 'string',\n",
        "                                                'name': 'table',\n",
        "                                                'order': 3}}}}}]\n",
        "\n",
        "json_set_fields(TASKS, FIELDS)\n",
        "project.initialize(_recipe={ 'tasks':TASKS }, _project=CLOUD_PROJECT, _user=USER_CREDENTIALS, _client=CLIENT_CREDENTIALS, _verbose=True)\n",
        "project.execute()\n"
      ]
    }
  ]
}
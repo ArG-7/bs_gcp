{
  "license": "Apache License, Version 2.0",
  "copyright": "Copyright 2018 Google Inc.",
  "nbformat": "4",
  "nbformat_minor": "0",
  "metadata": {
    "colab": {
      "name": "Copy",
      "provenance": [],
      "collapsed_sections": [],
      "toc_visible": true
    },
    "kernelspec": {
      "name": "python3",
      "display_name": "Python 3"
    }
  },
  "cells": [
    {
      "cell_type": "markdown",
      "metadata": {
        "id": "lnLjL2tiSikN",
        "colab_type": "text"
      },
      "source": [
        "#1. Install Dependencies\n",
        "First install the libraries needed to execute recipes, this only needs to be done once, then click play.\n"
      ]
    },
    {
      "cell_type": "code",
      "metadata": {
        "id": "q263YU2vVqA0",
        "colab_type": "code"
      },
      "source": [
        "!pip install git+https://github.com/google/starthinker\n"
      ]
    },
    {
      "cell_type": "markdown",
      "metadata": {
        "id": "VbZ1Z24x9O7B",
        "colab_type": "text"
      },
      "source": [
        "#2. Get Cloud Project ID\n",
        "To run this recipe [requires a Google Cloud Project](https://github.com/google/starthinker/blob/master/tutorials/cloud_project.md), this only needs to be done once, then click play.\n"
      ]
    },
    {
      "cell_type": "code",
      "metadata": {
        "id": "S0fLblztNhGp",
        "colab_type": "code"
      },
      "source": [
        "CLOUD_PROJECT = 'PASTE PROJECT ID HERE'\n",
        "\n",
        "print(\"Cloud Project Set To: %s\" % CLOUD_PROJECT)\n"
      ]
    },
    {
      "cell_type": "markdown",
      "metadata": {
        "id": "2Ar4FQDoy8Yo",
        "colab_type": "text"
      },
      "source": [
        "#3. Get Client Credentials\n",
        "To read and write to various endpoints requires [downloading client credentials](https://github.com/google/starthinker/blob/master/tutorials/cloud_client_installed.md), this only needs to be done once, then click play.\n"
      ]
    },
    {
      "cell_type": "code",
      "metadata": {
        "id": "wphGbZkrtUy6",
        "colab_type": "code"
      },
      "source": [
        "CLIENT_CREDENTIALS = 'PASTE CREDENTIALS HERE'\n",
        "\n",
        "print(\"Client Credentials Set To: %s\" % CLIENT_CREDENTIALS)\n"
      ]
    },
    {
      "cell_type": "markdown",
      "metadata": {
        "id": "E0cKDJW6Uog0",
        "colab_type": "text"
      },
      "source": [
        "#4. Enter Copy Parameters\n",
        "Copy a drive document.\n",
        " 1. Specify a source URL or document name.\n",
        " 1. Specify a destination name.\n",
        " 1. If destination does not exist, source will be copied.\n",
        "Modify the values below for your use case, can be done multiple times, then click play.\n"
      ]
    },
    {
      "cell_type": "code",
      "metadata": {
        "id": "4ezuFWhX1nXp",
        "colab_type": "code"
      },
      "source": [
        "FIELDS = {\n",
        "  \"source\":\"\", # Name or URL of document to copy from.\n",
        "  \"destination\":\"\", # Name document to copy to.\n",
        "}\n",
        "\n",
        "print(\"Parameters Set To: %s\" % FIELDS)\n"
      ]
    },
    {
      "cell_type": "markdown",
      "metadata": {
        "id": "RQwHG2Q6rX2O",
        "colab_type": "text"
      },
      "source": [
        "#5. Execute Copy\n",
        "This does NOT need to be modified unles you are changing the recipe, click play.\n"
      ]
    },
    {
      "cell_type": "code",
      "metadata": {
        "id": "jMCcJ3De0az7",
        "colab_type": "code"
      },
      "source": [
        "from starthinker.util.project import project\n",
        "from starthinker.script.parse import json_set_fields\n",
        "\n",
        "USER_CREDENTIALS = '/content/user.json'\n",
        "\n",
        "TASKS = [ { 'drive': { 'auth': 'user',\n",
        "               'copy': { 'destination': { 'field': { 'default': '',\n",
        "                                                     'description': 'Name '\n",
        "                                                                    'document '\n",
        "                                                                    'to '\n",
        "                                                                    'copy '\n",
        "                                                                    'to.',\n",
        "                                                     'kind': 'string',\n",
        "                                                     'name': 'destination',\n",
        "                                                     'order': 2}},\n",
        "                         'source': { 'field': { 'default': '',\n",
        "                                                'description': 'Name '\n",
        "                                                               'or '\n",
        "                                                               'URL '\n",
        "                                                               'of '\n",
        "                                                               'document '\n",
        "                                                               'to '\n",
        "                                                               'copy '\n",
        "                                                               'from.',\n",
        "                                                'kind': 'string',\n",
        "                                                'name': 'source',\n",
        "                                                'order': 1}}}}}]\n",
        "\n",
        "json_set_fields(TASKS, FIELDS)\n",
        "project.initialize(_recipe={ 'tasks':TASKS }, _project=CLOUD_PROJECT, _user=USER_CREDENTIALS, _client=CLIENT_CREDENTIALS, _verbose=True)\n",
        "project.execute()\n"
      ]
    }
  ]
}
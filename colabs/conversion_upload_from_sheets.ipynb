{
  "license": "Apache License, Version 2.0",
  "copyright": "Copyright 2018 Google Inc.",
  "nbformat": "4",
  "nbformat_minor": "0",
  "metadata": {
    "colab": {
      "name": "Conversion Upload Sheets",
      "provenance": [],
      "collapsed_sections": [],
      "toc_visible": true
    },
    "kernelspec": {
      "name": "python3",
      "display_name": "Python 3"
    }
  },
  "cells": [
    {
      "cell_type": "markdown",
      "metadata": {
        "id": "7e3Et5AVewQK",
        "colab_type": "text"
      },
      "source": [
        "#1. Install Dependencies\n",
        "First install the libraries needed to execute recipes, this only needs to be done once, then click play.\n"
      ]
    },
    {
      "cell_type": "code",
      "metadata": {
        "id": "rkUCAIarze71",
        "colab_type": "code"
      },
      "source": [
        "!pip install git+https://github.com/google/starthinker\n"
      ]
    },
    {
      "cell_type": "markdown",
      "metadata": {
        "id": "4bYVEVrvWCag",
        "colab_type": "text"
      },
      "source": [
        "#2. Get Cloud Project ID\n",
        "To run this recipe [requires a Google Cloud Project](https://github.com/google/starthinker/blob/master/tutorials/cloud_project.md), this only needs to be done once, then click play.\n"
      ]
    },
    {
      "cell_type": "code",
      "metadata": {
        "id": "EvO6PAJKIkhd",
        "colab_type": "code"
      },
      "source": [
        "CLOUD_PROJECT = 'PASTE PROJECT ID HERE'\n",
        "\n",
        "print(\"Cloud Project Set To: %s\" % CLOUD_PROJECT)\n"
      ]
    },
    {
      "cell_type": "markdown",
      "metadata": {
        "id": "ZTj6Y9Nl7A1o",
        "colab_type": "text"
      },
      "source": [
        "#3. Get Client Credentials\n",
        "To read and write to various endpoints requires [downloading client credentials](https://github.com/google/starthinker/blob/master/tutorials/cloud_client_installed.md), this only needs to be done once, then click play.\n"
      ]
    },
    {
      "cell_type": "code",
      "metadata": {
        "id": "7WU5WvwY5kZm",
        "colab_type": "code"
      },
      "source": [
        "CLIENT_CREDENTIALS = 'PASTE CREDENTIALS HERE'\n",
        "\n",
        "print(\"Client Credentials Set To: %s\" % CLIENT_CREDENTIALS)\n"
      ]
    },
    {
      "cell_type": "markdown",
      "metadata": {
        "id": "CWWDb34Zpp0I",
        "colab_type": "text"
      },
      "source": [
        "#4. Enter Conversion Upload Sheets Parameters\n",
        "Move form Sheets to DCM.\n",
        " 1. Specify a DCM Account ID, Floodligh Activity ID and Conversion Type.\n",
        " 1. Include Sheets url, tab, and range, omit headers in range.\n",
        " 1. Columns: Ordinal, timestampMicros, encryptedUserId | encryptedUserIdCandidates | gclid | mobileDeviceId\n",
        " 1. Include encryption information if using encryptedUserId or encryptedUserIdCandidates.\n",
        "Modify the values below for your use case, can be done multiple times, then click play.\n"
      ]
    },
    {
      "cell_type": "code",
      "metadata": {
        "id": "GHRR20wz6McE",
        "colab_type": "code"
      },
      "source": [
        "FIELDS = {\n",
        "  \"dcm_account\":\"\",\n",
        "  \"floodlight_activity_id\":,\n",
        "  \"floodlight_conversion_type\":encryptedUserId,\n",
        "  \"encryption_entity_id\":,\n",
        "  \"encryption_entity_type\":DCM_ACCOUNT,\n",
        "  \"encryption_entity_source\":DATA_TRANSFER,\n",
        "  \"sheet_url\":\"\",\n",
        "  \"sheet_tab\":\"\",\n",
        "  \"sheet_range\":\"\",\n",
        "}\n",
        "\n",
        "print(\"Parameters Set To: %s\" % FIELDS)\n"
      ]
    },
    {
      "cell_type": "markdown",
      "metadata": {
        "id": "ECidw88AJcuT",
        "colab_type": "text"
      },
      "source": [
        "#5. Execute Conversion Upload Sheets\n",
        "This does NOT need to be modified unles you are changing the recipe, click play.\n"
      ]
    },
    {
      "cell_type": "code",
      "metadata": {
        "id": "RAAP0mpQ5d1l",
        "colab_type": "code"
      },
      "source": [
        "from starthinker.util.project import project\n",
        "from starthinker.script.parse import json_set_fields\n",
        "\n",
        "USER_CREDENTIALS = '/content/user.json'\n",
        "\n",
        "TASKS = [\n",
        "  {\n",
        "    \"conversion_upload\": {\n",
        "      \"auth\": \"user\",\n",
        "      \"account_id\": {\n",
        "        \"field\": {\n",
        "          \"name\": \"dcm_account\",\n",
        "          \"kind\": \"string\",\n",
        "          \"order\": 0,\n",
        "          \"default\": \"\"\n",
        "        }\n",
        "      },\n",
        "      \"activity_id\": {\n",
        "        \"field\": {\n",
        "          \"name\": \"floodlight_activity_id\",\n",
        "          \"kind\": \"integer\",\n",
        "          \"order\": 1,\n",
        "          \"default\": \"\"\n",
        "        }\n",
        "      },\n",
        "      \"conversion_type\": {\n",
        "        \"field\": {\n",
        "          \"name\": \"floodlight_conversion_type\",\n",
        "          \"kind\": \"choice\",\n",
        "          \"order\": 2,\n",
        "          \"choices\": [\n",
        "            \"encryptedUserId\",\n",
        "            \"encryptedUserIdCandidates\",\n",
        "            \"gclid\",\n",
        "            \"mobileDeviceId\"\n",
        "          ],\n",
        "          \"default\": \"encryptedUserId\"\n",
        "        }\n",
        "      },\n",
        "      \"encryptionInfo\": {\n",
        "        \"encryptionEntityId\": {\n",
        "          \"field\": {\n",
        "            \"name\": \"encryption_entity_id\",\n",
        "            \"kind\": \"integer\",\n",
        "            \"order\": 3,\n",
        "            \"default\": \"\"\n",
        "          }\n",
        "        },\n",
        "        \"encryptionEntityType\": {\n",
        "          \"field\": {\n",
        "            \"name\": \"encryption_entity_type\",\n",
        "            \"kind\": \"choice\",\n",
        "            \"order\": 4,\n",
        "            \"choices\": [\n",
        "              \"ADWORDS_CUSTOMER\",\n",
        "              \"DBM_ADVERTISER\",\n",
        "              \"DBM_PARTNER\",\n",
        "              \"DCM_ACCOUNT\",\n",
        "              \"DCM_ADVERTISER\",\n",
        "              \"ENCRYPTION_ENTITY_TYPE_UNKNOWN\"\n",
        "            ],\n",
        "            \"default\": \"DCM_ACCOUNT\"\n",
        "          }\n",
        "        },\n",
        "        \"encryptionSource\": {\n",
        "          \"field\": {\n",
        "            \"name\": \"encryption_entity_source\",\n",
        "            \"kind\": \"choice\",\n",
        "            \"order\": 5,\n",
        "            \"choices\": [\n",
        "              \"AD_SERVING\",\n",
        "              \"DATA_TRANSFER\",\n",
        "              \"ENCRYPTION_SCOPE_UNKNOWN\"\n",
        "            ],\n",
        "            \"default\": \"DATA_TRANSFER\"\n",
        "          }\n",
        "        }\n",
        "      },\n",
        "      \"sheets\": {\n",
        "        \"url\": {\n",
        "          \"field\": {\n",
        "            \"name\": \"sheet_url\",\n",
        "            \"kind\": \"string\",\n",
        "            \"order\": 9,\n",
        "            \"default\": \"\"\n",
        "          }\n",
        "        },\n",
        "        \"tab\": {\n",
        "          \"field\": {\n",
        "            \"name\": \"sheet_tab\",\n",
        "            \"kind\": \"string\",\n",
        "            \"order\": 10,\n",
        "            \"default\": \"\"\n",
        "          }\n",
        "        },\n",
        "        \"range\": {\n",
        "          \"field\": {\n",
        "            \"name\": \"sheet_range\",\n",
        "            \"kind\": \"string\",\n",
        "            \"order\": 11,\n",
        "            \"default\": \"\"\n",
        "          }\n",
        "        }\n",
        "      }\n",
        "    }\n",
        "  }\n",
        "]\n",
        "\n",
        "json_set_fields(TASKS, FIELDS)\n",
        "project.initialize(_recipe={ 'tasks':TASKS }, _project=CLOUD_PROJECT, _user=USER_CREDENTIALS, _client=CLIENT_CREDENTIALS, _verbose=True)\n",
        "project.execute()\n"
      ]
    }
  ]
}
{
  "copyright": "Copyright 2020 Google LLC",
  "metadata": {
    "kernelspec": {
      "display_name": "Python 3",
      "name": "python3"
    },
    "colab": {
      "name": "Conversion Upload Sheets",
      "toc_visible": true,
      "collapsed_sections": [],
      "provenance": []
    }
  },
  "license": "Apache License, Version 2.0",
  "cells": [
    {
      "cell_type": "markdown",
      "source": [
        "#1. Install Dependencies\n",
        "First install the libraries needed to execute recipes, this only needs to be done once, then click play.\n"
      ],
      "metadata": {
        "colab_type": "text"
      }
    },
    {
      "cell_type": "code",
      "source": [
        "!pip install git+https://github.com/google/starthinker\n"
      ],
      "metadata": {
        "colab_type": "code"
      }
    },
    {
      "cell_type": "markdown",
      "source": [
        "#2. Get Cloud Project ID\n",
        "To run this recipe [requires a Google Cloud Project](https://github.com/google/starthinker/blob/master/tutorials/cloud_project.md), this only needs to be done once, then click play.\n"
      ],
      "metadata": {
        "colab_type": "text"
      }
    },
    {
      "cell_type": "code",
      "source": [
        "CLOUD_PROJECT = 'PASTE PROJECT ID HERE'\n",
        "\n",
        "print(\"Cloud Project Set To: %s\" % CLOUD_PROJECT)\n"
      ],
      "metadata": {
        "colab_type": "code"
      }
    },
    {
      "cell_type": "markdown",
      "source": [
        "#3. Get Client Credentials\n",
        "To read and write to various endpoints requires [downloading client credentials](https://github.com/google/starthinker/blob/master/tutorials/cloud_client_installed.md), this only needs to be done once, then click play.\n"
      ],
      "metadata": {
        "colab_type": "text"
      }
    },
    {
      "cell_type": "code",
      "source": [
        "CLIENT_CREDENTIALS = 'PASTE CREDENTIALS HERE'\n",
        "\n",
        "print(\"Client Credentials Set To: %s\" % CLIENT_CREDENTIALS)\n"
      ],
      "metadata": {
        "colab_type": "code"
      }
    },
    {
      "cell_type": "markdown",
      "source": [
        "#4. Enter Conversion Upload Sheets Parameters\n",
        "Move form Sheets to CM.\n",
        " 1. Specify a CM Account ID, Floodligh Activity ID and Conversion Type.\n",
        " 1. Include Sheets url, tab, and range, omit headers in range.\n",
        " 1. Columns: Ordinal, timestampMicros, encryptedUserId | encryptedUserIdCandidates | gclid | mobileDeviceId\n",
        " 1. Include encryption information if using encryptedUserId or encryptedUserIdCandidates.\n",
        "Modify the values below for your use case, can be done multiple times, then click play.\n"
      ],
      "metadata": {
        "colab_type": "text"
      }
    },
    {
      "cell_type": "code",
      "source": [
        "FIELDS = {\n",
        "  'dcm_account': '',\n",
        "  'auth_read': 'user',  # Credentials used for reading data.\n",
        "  'floodlight_activity_id': '',\n",
        "  'floodlight_conversion_type': 'encryptedUserId',\n",
        "  'encryption_entity_id': '',\n",
        "  'encryption_entity_type': 'DCM_ACCOUNT',\n",
        "  'encryption_entity_source': 'DATA_TRANSFER',\n",
        "  'sheet_url': '',\n",
        "  'sheet_tab': '',\n",
        "  'sheet_range': '',\n",
        "}\n",
        "\n",
        "print(\"Parameters Set To: %s\" % FIELDS)\n"
      ],
      "metadata": {
        "colab_type": "code"
      }
    },
    {
      "cell_type": "markdown",
      "source": [
        "#5. Execute Conversion Upload Sheets\n",
        "This does NOT need to be modified unles you are changing the recipe, click play.\n"
      ],
      "metadata": {
        "colab_type": "text"
      }
    },
    {
      "cell_type": "code",
      "source": [
        "from starthinker.util.project import project\n",
        "from starthinker.script.parse import json_set_fields\n",
        "\n",
        "USER_CREDENTIALS = '/content/user.json'\n",
        "\n",
        "TASKS = [\n",
        "  {\n",
        "    'conversion_upload': {\n",
        "      'conversion_type': {'field': {'choices': ['encryptedUserId','encryptedUserIdCandidates','gclid','mobileDeviceId'],'name': 'floodlight_conversion_type','default': 'encryptedUserId','order': 2,'kind': 'choice'}},\n",
        "      'activity_id': {'field': {'name': 'floodlight_activity_id','default': '','order': 1,'kind': 'integer'}},\n",
        "      'account_id': {'field': {'name': 'dcm_account','default': '','order': 0,'kind': 'string'}},\n",
        "      'auth': 'user',\n",
        "      'sheets': {\n",
        "        'tab': {'field': {'name': 'sheet_tab','default': '','order': 10,'kind': 'string'}},\n",
        "        'range': {'field': {'name': 'sheet_range','default': '','order': 11,'kind': 'string'}},\n",
        "        'url': {'field': {'name': 'sheet_url','default': '','order': 9,'kind': 'string'}}\n",
        "      },\n",
        "      'encryptionInfo': {\n",
        "        'encryptionEntityType': {'field': {'choices': ['ADWORDS_CUSTOMER','DBM_ADVERTISER','DBM_PARTNER','DCM_ACCOUNT','DCM_ADVERTISER','ENCRYPTION_ENTITY_TYPE_UNKNOWN'],'name': 'encryption_entity_type','default': 'DCM_ACCOUNT','order': 4,'kind': 'choice'}},\n",
        "        'encryptionSource': {'field': {'choices': ['AD_SERVING','DATA_TRANSFER','ENCRYPTION_SCOPE_UNKNOWN'],'name': 'encryption_entity_source','default': 'DATA_TRANSFER','order': 5,'kind': 'choice'}},\n",
        "        'encryptionEntityId': {'field': {'name': 'encryption_entity_id','default': '','order': 3,'kind': 'integer'}}\n",
        "      }\n",
        "    }\n",
        "  }\n",
        "]\n",
        "\n",
        "json_set_fields(TASKS, FIELDS)\n",
        "\n",
        "project.initialize(_recipe={ 'tasks':TASKS }, _project=CLOUD_PROJECT, _user=USER_CREDENTIALS, _client=CLIENT_CREDENTIALS, _verbose=True, _force=True)\n",
        "project.execute(_force=True)\n"
      ],
      "metadata": {
        "colab_type": "code"
      }
    }
  ],
  "nbformat_minor": "0",
  "nbformat": "4"
}
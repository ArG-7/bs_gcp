{
  "metadata": {
    "colab": {
      "toc_visible": true,
      "collapsed_sections": [],
      "name": "Deal Finder",
      "provenance": []
    },
    "kernelspec": {
      "display_name": "Python 3",
      "name": "python3"
    }
  },
  "copyright": "Copyright 2020 Google LLC",
  "nbformat_minor": "0",
  "license": "Apache License, Version 2.0",
  "nbformat": "4",
  "cells": [
    {
      "metadata": {
        "colab_type": "text"
      },
      "source": [
        "#1. Install Dependencies\n",
        "First install the libraries needed to execute recipes, this only needs to be done once, then click play.\n"
      ],
      "cell_type": "markdown"
    },
    {
      "metadata": {
        "colab_type": "code"
      },
      "source": [
        "!pip install git+https://github.com/google/starthinker\n"
      ],
      "cell_type": "code"
    },
    {
      "metadata": {
        "colab_type": "text"
      },
      "source": [
        "#2. Get Cloud Project ID\n",
        "To run this recipe [requires a Google Cloud Project](https://github.com/google/starthinker/blob/master/tutorials/cloud_project.md), this only needs to be done once, then click play.\n"
      ],
      "cell_type": "markdown"
    },
    {
      "metadata": {
        "colab_type": "code"
      },
      "source": [
        "CLOUD_PROJECT = 'PASTE PROJECT ID HERE'\n",
        "\n",
        "print(\"Cloud Project Set To: %s\" % CLOUD_PROJECT)\n"
      ],
      "cell_type": "code"
    },
    {
      "metadata": {
        "colab_type": "text"
      },
      "source": [
        "#3. Get Client Credentials\n",
        "To read and write to various endpoints requires [downloading client credentials](https://github.com/google/starthinker/blob/master/tutorials/cloud_client_installed.md), this only needs to be done once, then click play.\n"
      ],
      "cell_type": "markdown"
    },
    {
      "metadata": {
        "colab_type": "code"
      },
      "source": [
        "CLIENT_CREDENTIALS = 'PASTE CREDENTIALS HERE'\n",
        "\n",
        "print(\"Client Credentials Set To: %s\" % CLIENT_CREDENTIALS)\n"
      ],
      "cell_type": "code"
    },
    {
      "metadata": {
        "colab_type": "text"
      },
      "source": [
        "#4. Enter Deal Finder Parameters\n",
        "Compares open vs. deal CPM, CPC, and CPA so that clients can decide which sites, inventory, and deals work best.\n",
        " 1. Wait for <b>BigQuery->StarThinker Data->UNDEFINED->Deal_Finder_Dashboard</b> to be created.\n",
        " 1. Join the <a hre='https://groups.google.com/d/forum/starthinker-assets' target='_blank'>StarThinker Assets Group</a> to access the following assets\n",
        " 1. Copy <a href='https://datastudio.google.com/open/1QrWNTurvQT6nx20vnzdDveSzSmRjqHxQ' target='_blank'>Deal Finder Sample Data</a>.\n",
        " 1. Click Edit Connection, and change to <b>BigQuery->StarThinker Data->(field:recipe_slug}->Deal_Finder_Dashboard</b>.\n",
        " 1. Copy <a href='https://datastudio.google.com/open/1fjRI5AIKTYTA4fWs-pYkJbIMgCumlMyO' target='_blank'>Deal Finder Sample Report</a>.\n",
        " 1. When prompted choose the new data source you just created.\n",
        " 1. Or give these intructions to the client.\n",
        "Modify the values below for your use case, can be done multiple times, then click play.\n"
      ],
      "cell_type": "markdown"
    },
    {
      "metadata": {
        "colab_type": "code"
      },
      "source": [
        "FIELDS = {\n",
        "  'recipe_timezone': 'America/Los_Angeles',  # Timezone for report dates.\n",
        "  'recipe_name': '',  # Name of report in DV360, should be unique.\n",
        "  'recipe_slug': '',  # Place where tables will be written in BigQuery.\n",
        "  'auth_write': 'service',  # Credentials used for writing data.\n",
        "  'auth_read': 'user',  # Credentials used for reading data.\n",
        "  'partners': [],  # DV360 partner id.\n",
        "  'advertisers': [],  # Comma delimited list of DV360 advertiser ids.\n",
        "}\n",
        "\n",
        "print(\"Parameters Set To: %s\" % FIELDS)\n"
      ],
      "cell_type": "code"
    },
    {
      "metadata": {
        "colab_type": "text"
      },
      "source": [
        "#5. Execute Deal Finder\n",
        "This does NOT need to be modified unles you are changing the recipe, click play.\n"
      ],
      "cell_type": "markdown"
    },
    {
      "metadata": {
        "colab_type": "code"
      },
      "source": [
        "from starthinker.util.project import project\n",
        "from starthinker.script.parse import json_set_fields\n",
        "\n",
        "USER_CREDENTIALS = '/content/user.json'\n",
        "\n",
        "TASKS = [\n",
        "  {\n",
        "    'dataset': {\n",
        "      'auth': 'user',\n",
        "      'description': 'Create a dataset for bigquery tables.',\n",
        "      'hour': [\n",
        "        4\n",
        "      ],\n",
        "      'dataset': {'field': {'kind': 'string','name': 'recipe_slug','description': 'Place where tables will be created in BigQuery.'}}\n",
        "    }\n",
        "  },\n",
        "  {\n",
        "    'dbm': {\n",
        "      'auth': 'user',\n",
        "      'description': 'Create a DV360 report.',\n",
        "      'report': {\n",
        "        'body': {\n",
        "          'metadata': {\n",
        "            'dataRange': 'LAST_30_DAYS',\n",
        "            'format': 'CSV',\n",
        "            'title': {'field': {'prefix': 'Deal Finder For ','description': 'Name of report in DV360, should be unique.','name': 'recipe_name','kind': 'string'}}\n",
        "          },\n",
        "          'params': {\n",
        "            'type': 'TYPE_CROSS_PARTNER',\n",
        "            'groupBys': [\n",
        "              'FILTER_PARTNER_NAME',\n",
        "              'FILTER_PARTNER',\n",
        "              'FILTER_ADVERTISER_NAME',\n",
        "              'FILTER_ADVERTISER',\n",
        "              'FILTER_APP_URL',\n",
        "              'FILTER_SITE_ID',\n",
        "              'FILTER_INVENTORY_SOURCE_NAME',\n",
        "              'FILTER_INVENTORY_SOURCE',\n",
        "              'FILTER_INVENTORY_SOURCE_TYPE',\n",
        "              'FILTER_ADVERTISER_CURRENCY',\n",
        "              'FILTER_CREATIVE_WIDTH',\n",
        "              'FILTER_CREATIVE_HEIGHT',\n",
        "              'FILTER_CREATIVE_TYPE'\n",
        "            ],\n",
        "            'metrics': [\n",
        "              'METRIC_IMPRESSIONS',\n",
        "              'METRIC_CLICKS',\n",
        "              'METRIC_TOTAL_CONVERSIONS',\n",
        "              'METRIC_TOTAL_MEDIA_COST_ADVERTISER',\n",
        "              'METRIC_REVENUE_ADVERTISER',\n",
        "              'METRIC_ACTIVE_VIEW_MEASURABLE_IMPRESSIONS',\n",
        "              'METRIC_ACTIVE_VIEW_VIEWABLE_IMPRESSIONS'\n",
        "            ]\n",
        "          },\n",
        "          'timezoneCode': {'field': {'description': 'Timezone for report dates.','kind': 'timezone','name': 'recipe_timezone','default': 'America/Los_Angeles'}}\n",
        "        },\n",
        "        'filters': {\n",
        "          'FILTER_ADVERTISER': {\n",
        "            'values': {'field': {'description': 'Comma delimited list of DV360 advertiser ids.','name': 'advertisers','order': 6,'default': [],'kind': 'integer_list'}}\n",
        "          },\n",
        "          'FILTER_PARTNER': {\n",
        "            'values': {'field': {'description': 'DV360 partner id.','name': 'partners','order': 5,'default': [],'kind': 'integer_list'}}\n",
        "          }\n",
        "        }\n",
        "      },\n",
        "      'hour': [\n",
        "        3\n",
        "      ]\n",
        "    }\n",
        "  },\n",
        "  {\n",
        "    'dbm': {\n",
        "      'auth': 'user',\n",
        "      'description': 'Copy a DV360 report to BigQuery.',\n",
        "      'report': {\n",
        "        'timeout': 10,\n",
        "        'name': {'field': {'prefix': 'Deal Finder For ','description': 'Name of report in DV360, should be unique.','name': 'recipe_name','kind': 'string'}}\n",
        "      },\n",
        "      'out': {\n",
        "        'bigquery': {\n",
        "          'table': 'Deal_Finder_DV360_Report',\n",
        "          'dataset': {'field': {'kind': 'string','name': 'recipe_slug','description': 'Place where tables will be written in BigQuery.'}},\n",
        "          'schema': [\n",
        "            {\n",
        "              'type': 'STRING',\n",
        "              'name': 'Partner'\n",
        "            },\n",
        "            {\n",
        "              'type': 'INTEGER',\n",
        "              'name': 'Partner_ID'\n",
        "            },\n",
        "            {\n",
        "              'type': 'STRING',\n",
        "              'name': 'Advertiser'\n",
        "            },\n",
        "            {\n",
        "              'type': 'INTEGER',\n",
        "              'name': 'Advertiser_ID'\n",
        "            },\n",
        "            {\n",
        "              'type': 'STRING',\n",
        "              'name': 'Site'\n",
        "            },\n",
        "            {\n",
        "              'type': 'INTEGER',\n",
        "              'name': 'Site_ID'\n",
        "            },\n",
        "            {\n",
        "              'type': 'STRING',\n",
        "              'name': 'Inventory',\n",
        "              'mode': 'NULLABLE'\n",
        "            },\n",
        "            {\n",
        "              'type': 'INTEGER',\n",
        "              'name': 'Inventory_ID',\n",
        "              'mode': 'NULLABLE'\n",
        "            },\n",
        "            {\n",
        "              'type': 'STRING',\n",
        "              'name': 'Inventory_Type'\n",
        "            },\n",
        "            {\n",
        "              'type': 'STRING',\n",
        "              'name': 'Advertiser_Currency'\n",
        "            },\n",
        "            {\n",
        "              'type': 'STRING',\n",
        "              'name': 'Creative_Width',\n",
        "              'mode': 'NULLABLE'\n",
        "            },\n",
        "            {\n",
        "              'type': 'STRING',\n",
        "              'name': 'Creative_Height',\n",
        "              'mode': 'NULLABLE'\n",
        "            },\n",
        "            {\n",
        "              'type': 'STRING',\n",
        "              'name': 'Creative_Type'\n",
        "            },\n",
        "            {\n",
        "              'type': 'INTEGER',\n",
        "              'name': 'Impressions'\n",
        "            },\n",
        "            {\n",
        "              'type': 'INTEGER',\n",
        "              'name': 'Clicks'\n",
        "            },\n",
        "            {\n",
        "              'type': 'FLOAT',\n",
        "              'name': 'Conversions'\n",
        "            },\n",
        "            {\n",
        "              'type': 'FLOAT',\n",
        "              'name': 'Cost'\n",
        "            },\n",
        "            {\n",
        "              'type': 'FLOAT',\n",
        "              'name': 'Revenue'\n",
        "            },\n",
        "            {\n",
        "              'type': 'INTEGER',\n",
        "              'name': 'AV_Impressions_Measurable'\n",
        "            },\n",
        "            {\n",
        "              'type': 'INTEGER',\n",
        "              'name': 'AV_Impressions_Viewable'\n",
        "            }\n",
        "          ]\n",
        "        }\n",
        "      },\n",
        "      'hour': [\n",
        "        4\n",
        "      ]\n",
        "    }\n",
        "  },\n",
        "  {\n",
        "    'bigquery': {\n",
        "      'auth': 'user',\n",
        "      'description': 'The logic query for Deal Finder, transforms report into view used by datastudio.',\n",
        "      'to': {\n",
        "        'dataset': {'field': {'kind': 'string','name': 'recipe_slug','description': 'Place where tables will be written in BigQuery.'}},\n",
        "        'view': 'Deal_Finder_Dashboard'\n",
        "      },\n",
        "      'hour': [\n",
        "        4\n",
        "      ],\n",
        "      'from': {\n",
        "        'query': \"SELECT Partner, Partner_ID, Advertiser, Advertiser_ID, Site, Site_ID, Inventory, Inventory_Type, Creative_Type, Creative_Size, Always_On, Deal_Impressions, Open_Impressions, Rank_Impressions, Deal_Clicks, Open_Clicks, Rank_Clicks, Deal_Conversions, Open_Conversions, Rank_Conversions, Deal_Impressions_Viewable, Open_Impressions_Viewable, Rank_Impressions_Viewable, Deal_Impressions_Measurable, Open_Impressions_Measurable, Rank_Impressions_Measurable, Deal_Cost, Open_Cost, Rank_Cost, FROM ( SELECT FIRST(Partner) AS Partner, FIRST(Partner_ID) AS Partner_ID, FIRST(Advertiser) AS Advertiser, Advertiser_ID, First(Site) AS Site, Site_ID, Inventory, Inventory_Type, Creative_Type, Creative_Width + ' x ' + Creative_Height AS Creative_Size, IF (LEFT(Inventory, 5) == 'AO - ', True, False) AS Always_On, SUM(Deal_Impressions) AS Deal_Impressions, SUM(Open_Impressions) AS Open_Impressions, SUM(Open_Impressions) + SUM(Deal_Impressions) AS Total_Impressions, ROW_NUMBER() OVER (PARTITION BY Advertiser_ID ORDER BY Total_Impressions DESC) AS Rank_Impressions, SUM(Deal_Clicks) AS Deal_Clicks, SUM(Open_Clicks) AS Open_Clicks, SUM(Open_Clicks) + SUM(Deal_Clicks) AS Total_Clicks, ROW_NUMBER() OVER (PARTITION BY Advertiser_ID ORDER BY Total_Clicks DESC) AS Rank_Clicks, SUM(Deal_Conversions) AS Deal_Conversions, SUM(Open_Conversions) AS Open_Conversions, SUM(Open_Conversions) + SUM(Deal_Conversions) AS Total_Conversions, ROW_NUMBER() OVER (PARTITION BY Advertiser_ID ORDER BY Total_Conversions DESC) AS Rank_Conversions, SUM(Deal_Cost) AS Deal_Cost, SUM(Open_Cost) AS Open_Cost, SUM(Open_Cost) + SUM(Deal_Cost) AS Total_Cost, RANK() OVER (PARTITION BY Advertiser_ID ORDER BY Total_Cost DESC) AS Rank_Cost, SUM(Deal_Impressions_Viewable) AS Deal_Impressions_Viewable, SUM(Open_Impressions_Viewable) AS Open_Impressions_Viewable, SUM(Open_Impressions_Viewable) + SUM(Deal_Impressions_Viewable) AS Total_Impressions_Viewable, ROW_NUMBER() OVER (PARTITION BY Advertiser_ID ORDER BY Total_Impressions_Viewable DESC) AS Rank_Impressions_Viewable, SUM(Deal_Impressions_Measurable) AS Deal_Impressions_Measurable, SUM(Open_Impressions_Measurable) AS Open_Impressions_Measurable, SUM(Open_Impressions_Measurable) + SUM(Deal_Impressions_Measurable) AS Total_Impressions_Measurable, ROW_NUMBER() OVER (PARTITION BY Advertiser_ID ORDER BY Total_Impressions_Measurable DESC) AS Rank_Impressions_Measurable, FROM ( SELECT Partner, Partner_ID, Advertiser, Advertiser_ID, Site, Site_ID, Inventory, Inventory_Type, Creative_Type, Creative_Width, Creative_Height, IF(Inventory_ID IS NULL, Impressions, 0) AS Open_Impressions, IF(Inventory_ID IS NULL, 0, Impressions) AS Deal_Impressions, IF(Inventory_ID IS NULL, Clicks, 0) AS Open_Clicks, IF(Inventory_ID IS NULL, 0, Clicks) AS Deal_Clicks, IF(Inventory_ID IS NULL, Conversions, 0) AS Open_Conversions, IF(Inventory_ID IS NULL, 0, Conversions) AS Deal_Conversions, IF(Inventory_ID IS NULL, Cost, 0) AS Open_Cost, IF(Inventory_ID IS NULL, 0, Cost) AS Deal_Cost, IF(Inventory_ID IS NULL, AV_Impressions_Viewable, 0) AS Open_Impressions_Viewable, IF(Inventory_ID IS NULL, 0, AV_Impressions_Viewable) AS Deal_Impressions_Viewable, IF(Inventory_ID IS NULL, AV_Impressions_Measurable, 0) AS Open_Impressions_Measurable, IF(Inventory_ID IS NULL, 0, AV_Impressions_Measurable) AS Deal_Impressions_Measurable, FROM [[PARAMETER].Deal_Finder_DV360_Report] OMIT RECORD IF Site == 'Low volume inventory') GROUP By Advertiser_ID, Site_ID, Inventory, Inventory_Type, Creative_Type, Creative_Size, Always_On) WHERE Rank_Impressions < 100 OR Rank_Clicks < 100 OR Rank_Conversions < 100 OR Rank_Cost < 100;\",\n",
        "        'parameters': [\n",
        "          {'field': {'kind': 'string','name': 'recipe_slug','description': 'Place where tables will be written in BigQuery.'}}\n",
        "        ]\n",
        "      }\n",
        "    }\n",
        "  }\n",
        "]\n",
        "\n",
        "json_set_fields(TASKS, FIELDS)\n",
        "\n",
        "project.initialize(_recipe={ 'tasks':TASKS }, _project=CLOUD_PROJECT, _user=USER_CREDENTIALS, _client=CLIENT_CREDENTIALS, _verbose=True, _force=True)\n",
        "project.execute(_force=True)\n"
      ],
      "cell_type": "code"
    }
  ]
}
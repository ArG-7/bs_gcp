{
  "license": "Apache License, Version 2.0",
  "copyright": "Copyright 2018 Google Inc.",
  "nbformat": "4",
  "nbformat_minor": "0",
  "metadata": {
    "colab": {
      "name": "Storage To Table",
      "provenance": [],
      "collapsed_sections": [],
      "toc_visible": true
    },
    "kernelspec": {
      "name": "python3",
      "display_name": "Python 3"
    }
  },
  "cells": [
    {
      "cell_type": "markdown",
      "metadata": {
        "id": "OItBXlxQfybA",
        "colab_type": "text"
      },
      "source": [
        "#1. Install Dependencies\n",
        "First install the libraries needed to execute recipes, this only needs to be done once, then click play.\n"
      ]
    },
    {
      "cell_type": "code",
      "metadata": {
        "id": "px0Hw4oHefwG",
        "colab_type": "code"
      },
      "source": [
        "!pip install git+https://github.com/google/starthinker\n"
      ]
    },
    {
      "cell_type": "markdown",
      "metadata": {
        "id": "R1RgVXeKeCnt",
        "colab_type": "text"
      },
      "source": [
        "#2. Get Cloud Project ID\n",
        "To run this recipe [requires a Google Cloud Project](https://github.com/google/starthinker/blob/master/tutorials/cloud_project.md), this only needs to be done once, then click play.\n"
      ]
    },
    {
      "cell_type": "code",
      "metadata": {
        "id": "t5dTY8Ucnray",
        "colab_type": "code"
      },
      "source": [
        "CLOUD_PROJECT = 'PASTE PROJECT ID HERE'\n",
        "\n",
        "print(\"Cloud Project Set To: %s\" % CLOUD_PROJECT)\n"
      ]
    },
    {
      "cell_type": "markdown",
      "metadata": {
        "id": "22p1rIVbOjG6",
        "colab_type": "text"
      },
      "source": [
        "#3. Get Client Credentials\n",
        "To read and write to various endpoints requires [downloading client credentials](https://github.com/google/starthinker/blob/master/tutorials/cloud_client_installed.md), this only needs to be done once, then click play.\n"
      ]
    },
    {
      "cell_type": "code",
      "metadata": {
        "id": "11wcUceqqOTM",
        "colab_type": "code"
      },
      "source": [
        "CLIENT_CREDENTIALS = 'PASTE CREDENTIALS HERE'\n",
        "\n",
        "print(\"Client Credentials Set To: %s\" % CLIENT_CREDENTIALS)\n"
      ]
    },
    {
      "cell_type": "markdown",
      "metadata": {
        "id": "Fmun3uVsrJDY",
        "colab_type": "text"
      },
      "source": [
        "#4. Enter Storage To Table Parameters\n",
        "Move using bucket and path prefix.\n",
        " 1. Specify a bucket and path prefix, * suffix is NOT required.\n",
        " 1. Every time the job runs it will overwrite the table.\n",
        "Modify the values below for your use case, can be done multiple times, then click play.\n"
      ]
    },
    {
      "cell_type": "code",
      "metadata": {
        "id": "jjvlrXpFl8Lw",
        "colab_type": "code"
      },
      "source": [
        "FIELDS = {\n",
        "  \"bucket\":\"\", # Google cloud bucket.\n",
        "  \"path\":\"\", # Path prefix to read from, no * required.\n",
        "  \"dataset\":\"\", # Existing BigQuery dataset.\n",
        "  \"table\":\"\", # Table to create from this query.\n",
        "  \"schema\":[], # Schema provided in JSON list format or empty list.\n",
        "}\n",
        "\n",
        "print(\"Parameters Set To: %s\" % FIELDS)\n"
      ]
    },
    {
      "cell_type": "markdown",
      "metadata": {
        "id": "YofdTyWwK5aH",
        "colab_type": "text"
      },
      "source": [
        "#5. Execute Storage To Table\n",
        "This does NOT need to be modified unles you are changing the recipe, click play.\n"
      ]
    },
    {
      "cell_type": "code",
      "metadata": {
        "id": "kgnLCzfgMEsj",
        "colab_type": "code"
      },
      "source": [
        "from starthinker.util.project import project\n",
        "from starthinker.script.parse import json_set_fields\n",
        "\n",
        "USER_CREDENTIALS = '/content/user.json'\n",
        "\n",
        "TASKS = [\n",
        "  {\n",
        "    \"bigquery\": {\n",
        "      \"auth\": \"user\",\n",
        "      \"from\": {\n",
        "        \"bucket\": {\n",
        "          \"field\": {\n",
        "            \"name\": \"bucket\",\n",
        "            \"kind\": \"string\",\n",
        "            \"order\": 1,\n",
        "            \"default\": \"\",\n",
        "            \"description\": \"Google cloud bucket.\"\n",
        "          }\n",
        "        },\n",
        "        \"path\": {\n",
        "          \"field\": {\n",
        "            \"name\": \"path\",\n",
        "            \"kind\": \"string\",\n",
        "            \"order\": 2,\n",
        "            \"default\": \"\",\n",
        "            \"description\": \"Path prefix to read from, no * required.\"\n",
        "          }\n",
        "        }\n",
        "      },\n",
        "      \"to\": {\n",
        "        \"auth\": \"service\",\n",
        "        \"dataset\": {\n",
        "          \"field\": {\n",
        "            \"name\": \"dataset\",\n",
        "            \"kind\": \"string\",\n",
        "            \"order\": 3,\n",
        "            \"default\": \"\",\n",
        "            \"description\": \"Existing BigQuery dataset.\"\n",
        "          }\n",
        "        },\n",
        "        \"table\": {\n",
        "          \"field\": {\n",
        "            \"name\": \"table\",\n",
        "            \"kind\": \"string\",\n",
        "            \"order\": 4,\n",
        "            \"default\": \"\",\n",
        "            \"description\": \"Table to create from this query.\"\n",
        "          }\n",
        "        }\n",
        "      },\n",
        "      \"schema\": {\n",
        "        \"field\": {\n",
        "          \"name\": \"schema\",\n",
        "          \"kind\": \"json\",\n",
        "          \"order\": 5,\n",
        "          \"default\": \"[]\",\n",
        "          \"description\": \"Schema provided in JSON list format or empty list.\"\n",
        "        }\n",
        "      }\n",
        "    }\n",
        "  }\n",
        "]\n",
        "\n",
        "json_set_fields(TASKS, FIELDS)\n",
        "project.initialize(_recipe={ 'tasks':TASKS }, _project=CLOUD_PROJECT, _user=USER_CREDENTIALS, _client=CLIENT_CREDENTIALS, _verbose=True)\n",
        "project.execute()\n"
      ]
    }
  ]
}
{
  "license": "Apache License, Version 2.0",
  "copyright": "Copyright 2018 Google Inc.",
  "nbformat": "4",
  "nbformat_minor": "0",
  "metadata": {
    "colab": {
      "name": "Storage To Table",
      "provenance": [],
      "collapsed_sections": [],
      "toc_visible": true
    },
    "kernelspec": {
      "name": "python3",
      "display_name": "Python 3"
    }
  },
  "cells": [
    {
      "cell_type": "markdown",
      "metadata": {
        "id": "3fmNmC8OBM9H",
        "colab_type": "text"
      },
      "source": [
        "#1. Install Dependencies\n",
        "First install the libraries needed to execute recipes, this only needs to be done once, then click play.\n"
      ]
    },
    {
      "cell_type": "code",
      "metadata": {
        "id": "56F6xXdjNrcA",
        "colab_type": "code"
      },
      "source": [
        "!pip install git+https://github.com/google/starthinker\n"
      ]
    },
    {
      "cell_type": "markdown",
      "metadata": {
        "id": "pjLwXrSNaj5v",
        "colab_type": "text"
      },
      "source": [
        "#2. Get Cloud Project ID\n",
        "To run this recipe [requires a Google Cloud Project](https://github.com/google/starthinker/blob/master/tutorials/cloud_project.md), this only needs to be done once, then click play.\n"
      ]
    },
    {
      "cell_type": "code",
      "metadata": {
        "id": "SZ6ZfDmcSDWr",
        "colab_type": "code"
      },
      "source": [
        "CLOUD_PROJECT = 'PASTE PROJECT ID HERE'\n",
        "\n",
        "print(\"Cloud Project Set To: %s\" % CLOUD_PROJECT)\n"
      ]
    },
    {
      "cell_type": "markdown",
      "metadata": {
        "id": "nhPh1N456dXS",
        "colab_type": "text"
      },
      "source": [
        "#3. Get Client Credentials\n",
        "To read and write to various endpoints requires [downloading client credentials](https://github.com/google/starthinker/blob/master/tutorials/cloud_client_installed.md), this only needs to be done once, then click play.\n"
      ]
    },
    {
      "cell_type": "code",
      "metadata": {
        "id": "UUMfs0LxRaw9",
        "colab_type": "code"
      },
      "source": [
        "CLIENT_CREDENTIALS = 'PASTE CREDENTIALS HERE'\n",
        "\n",
        "print(\"Client Credentials Set To: %s\" % CLIENT_CREDENTIALS)\n"
      ]
    },
    {
      "cell_type": "markdown",
      "metadata": {
        "id": "2ovMXdoOsq45",
        "colab_type": "text"
      },
      "source": [
        "#4. Enter Storage To Table Parameters\n",
        "Move using bucket and path prefix.\n",
        " 1. Specify a bucket and path prefix, * suffix is NOT required.\n",
        " 1. Every time the job runs it will overwrite the table.\n",
        "Modify the values below for your use case, can be done multiple times, then click play.\n"
      ]
    },
    {
      "cell_type": "code",
      "metadata": {
        "id": "XUTQe49Dz1o7",
        "colab_type": "code"
      },
      "source": [
        "FIELDS = {\n",
        "  \"bucket\":\"\", # Google cloud bucket.\n",
        "  \"path\":\"\", # Path prefix to read from, no * required.\n",
        "  \"dataset\":\"\", # Existing BigQuery dataset.\n",
        "  \"table\":\"\", # Table to create from this query.\n",
        "  \"schema\":[], # Schema provided in JSON list format or empty list.\n",
        "}\n",
        "\n",
        "print(\"Parameters Set To: %s\" % FIELDS)\n"
      ]
    },
    {
      "cell_type": "markdown",
      "metadata": {
        "id": "RzPIwrhfDE9k",
        "colab_type": "text"
      },
      "source": [
        "#5. Execute Storage To Table\n",
        "This does NOT need to be modified unles you are changing the recipe, click play.\n"
      ]
    },
    {
      "cell_type": "code",
      "metadata": {
        "id": "IlTacKDirvDD",
        "colab_type": "code"
      },
      "source": [
        "from starthinker.util.project import project\n",
        "from starthinker.script.parse import json_set_fields\n",
        "\n",
        "USER_CREDENTIALS = '/content/user.json'\n",
        "\n",
        "TASKS = [ { 'bigquery': { 'auth': 'user',\n",
        "                  'from': { 'bucket': { 'field': { 'default': '',\n",
        "                                                   'description': 'Google '\n",
        "                                                                  'cloud '\n",
        "                                                                  'bucket.',\n",
        "                                                   'kind': 'string',\n",
        "                                                   'name': 'bucket',\n",
        "                                                   'order': 1}},\n",
        "                            'path': { 'field': { 'default': '',\n",
        "                                                 'description': 'Path '\n",
        "                                                                'prefix '\n",
        "                                                                'to '\n",
        "                                                                'read '\n",
        "                                                                'from, '\n",
        "                                                                'no '\n",
        "                                                                '* '\n",
        "                                                                'required.',\n",
        "                                                 'kind': 'string',\n",
        "                                                 'name': 'path',\n",
        "                                                 'order': 2}}},\n",
        "                  'schema': { 'field': { 'default': '[]',\n",
        "                                         'description': 'Schema '\n",
        "                                                        'provided '\n",
        "                                                        'in '\n",
        "                                                        'JSON '\n",
        "                                                        'list '\n",
        "                                                        'format '\n",
        "                                                        'or '\n",
        "                                                        'empty '\n",
        "                                                        'list.',\n",
        "                                         'kind': 'json',\n",
        "                                         'name': 'schema',\n",
        "                                         'order': 5}},\n",
        "                  'to': { 'auth': 'user',\n",
        "                          'dataset': { 'field': { 'default': '',\n",
        "                                                  'description': 'Existing '\n",
        "                                                                 'BigQuery '\n",
        "                                                                 'dataset.',\n",
        "                                                  'kind': 'string',\n",
        "                                                  'name': 'dataset',\n",
        "                                                  'order': 3}},\n",
        "                          'table': { 'field': { 'default': '',\n",
        "                                                'description': 'Table '\n",
        "                                                               'to '\n",
        "                                                               'create '\n",
        "                                                               'from '\n",
        "                                                               'this '\n",
        "                                                               'query.',\n",
        "                                                'kind': 'string',\n",
        "                                                'name': 'table',\n",
        "                                                'order': 4}}}}}]\n",
        "\n",
        "json_set_fields(TASKS, FIELDS)\n",
        "project.initialize(_recipe={ 'tasks':TASKS }, _project=CLOUD_PROJECT, _user=USER_CREDENTIALS, _client=CLIENT_CREDENTIALS, _verbose=True)\n",
        "project.execute()\n"
      ]
    }
  ]
}
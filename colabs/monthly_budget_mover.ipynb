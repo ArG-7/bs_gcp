{
  "license": "Apache License, Version 2.0",
  "copyright": "Copyright 2018 Google Inc.",
  "nbformat": "4",
  "nbformat_minor": "0",
  "metadata": {
    "colab": {
      "name": "Monthly Budget Mover",
      "provenance": [],
      "collapsed_sections": [],
      "toc_visible": true
    },
    "kernelspec": {
      "name": "python3",
      "display_name": "Python 3"
    }
  },
  "cells": [
    {
      "cell_type": "markdown",
      "metadata": {
        "id": "2mk0Xpa443pm",
        "colab_type": "text"
      },
      "source": [
        "#1. Install Dependencies\n",
        "First install the libraries needed to execute recipes, this only needs to be done once, then click play.\n"
      ]
    },
    {
      "cell_type": "code",
      "metadata": {
        "id": "TM7hSi6Tqh8e",
        "colab_type": "code"
      },
      "source": [
        "!pip install git+https://github.com/google/starthinker\n"
      ]
    },
    {
      "cell_type": "markdown",
      "metadata": {
        "id": "vl0fPMO0iwXp",
        "colab_type": "text"
      },
      "source": [
        "#2. Get Cloud Project ID\n",
        "To run this recipe [requires a Google Cloud Project](https://github.com/google/starthinker/blob/master/tutorials/cloud_project.md), this only needs to be done once, then click play.\n"
      ]
    },
    {
      "cell_type": "code",
      "metadata": {
        "id": "mzDcFiOjk9UM",
        "colab_type": "code"
      },
      "source": [
        "CLOUD_PROJECT = 'PASTE PROJECT ID HERE'\n",
        "\n",
        "print(\"Cloud Project Set To: %s\" % CLOUD_PROJECT)\n"
      ]
    },
    {
      "cell_type": "markdown",
      "metadata": {
        "id": "i0BASryIkTji",
        "colab_type": "text"
      },
      "source": [
        "#3. Get Client Credentials\n",
        "To read and write to various endpoints requires [downloading client credentials](https://github.com/google/starthinker/blob/master/tutorials/cloud_client_installed.md), this only needs to be done once, then click play.\n"
      ]
    },
    {
      "cell_type": "code",
      "metadata": {
        "id": "4if5hcRnGkwY",
        "colab_type": "code"
      },
      "source": [
        "CLIENT_CREDENTIALS = 'PASTE CREDENTIALS HERE'\n",
        "\n",
        "print(\"Client Credentials Set To: %s\" % CLIENT_CREDENTIALS)\n"
      ]
    },
    {
      "cell_type": "markdown",
      "metadata": {
        "id": "3pkzYMoDpNpp",
        "colab_type": "text"
      },
      "source": [
        "#4. Enter Monthly Budget Mover Parameters\n",
        "Apply the previous month's budget/spend delta to the current month.  Aggregate up the budget and spend from the previous month of each category declared then apply the delta of the spend and budget equally to each Line Item under that Category.\n",
        " 1. No changes made can be made in DV360 from the start to the end of this process\n",
        " 1. Make sure there is budget information for the current and previous month's IOs in DV360\n",
        " 1. Make sure the provided spend report has spend data for every IO in the previous month\n",
        " 1. Spend report must contain 'Revenue (Adv Currency)' and 'Insertion Order ID'\n",
        " 1. There are no duplicate IO Ids in the categories outlined below\n",
        " 1. This process must be ran during the month of the budget it is updating\n",
        " 1. If you receive a 502 error then you must separate your jobs into two, because there is too much information being pulled in the sdf\n",
        " 1. Manually run this job\n",
        " 1. Once the job has completed go to the table for the new sdf and export to a csv\n",
        " 1. Take the new sdf and upload it into DV360\n",
        "Modify the values below for your use case, can be done multiple times, then click play.\n"
      ]
    },
    {
      "cell_type": "code",
      "metadata": {
        "id": "Fu9MvVB45CQ6",
        "colab_type": "code"
      },
      "source": [
        "FIELDS = {\n",
        "  \"recipe_name\":\"\", # \n",
        "  \"spend_report_id\":\"\", # The report Id for the DV360 spend report.\n",
        "  \"budget_categories\":{\"CATEGORY1\":[12345,12345,12345], \"CATEGORY2\":[12345,12345]}, # A dictionary to show which IO Ids go under which Category. Please view the solutions page for information on format.\n",
        "  \"excluded_ios\":[], # A comma separated list of Inserion Order Ids that should be exluded from the budget calculations\n",
        "  \"filter_type\":, # The filter type for the filter ids.\n",
        "  \"filter_ids\":, # The filter ids for the request.\n",
        "  \"dataset\":\"\", # Dataset that you would like your output tables to be produced in.\n",
        "}\n",
        "\n",
        "print(\"Parameters Set To: %s\" % FIELDS)\n"
      ]
    },
    {
      "cell_type": "markdown",
      "metadata": {
        "id": "yFMvrcxwqcrP",
        "colab_type": "text"
      },
      "source": [
        "#5. Execute Monthly Budget Mover\n",
        "This does NOT need to be modified unles you are changing the recipe, click play.\n"
      ]
    },
    {
      "cell_type": "code",
      "metadata": {
        "id": "GFAy8a0zjZzn",
        "colab_type": "code"
      },
      "source": [
        "from starthinker.util.project import project\n",
        "from starthinker.script.parse import json_set_fields\n",
        "\n",
        "USER_CREDENTIALS = '/content/user.json'\n",
        "\n",
        "TASKS = [ { 'dataset': { 'auth': 'user',\n",
        "                 'dataset': { 'field': { 'description': 'Place '\n",
        "                                                        'where '\n",
        "                                                        'tables '\n",
        "                                                        'will '\n",
        "                                                        'be '\n",
        "                                                        'created '\n",
        "                                                        'in '\n",
        "                                                        'BigQuery.',\n",
        "                                         'kind': 'string',\n",
        "                                         'name': 'dataset',\n",
        "                                         'order': 1}},\n",
        "                 'description': 'Create '\n",
        "                                'a '\n",
        "                                'dataset '\n",
        "                                'where '\n",
        "                                'data '\n",
        "                                'will '\n",
        "                                'be '\n",
        "                                'combined '\n",
        "                                'and '\n",
        "                                'transfored '\n",
        "                                'for '\n",
        "                                'upload.'}},\n",
        "  { 'monthly_budget_mover': { 'auth': 'user',\n",
        "                              'budget_categories': { 'field': { 'default': '{\"CATEGORY1\":[12345,12345,12345], '\n",
        "                                                                           '\"CATEGORY2\":[12345,12345]}',\n",
        "                                                                'description': 'A '\n",
        "                                                                               'dictionary '\n",
        "                                                                               'to '\n",
        "                                                                               'show '\n",
        "                                                                               'which '\n",
        "                                                                               'IO '\n",
        "                                                                               'Ids '\n",
        "                                                                               'go '\n",
        "                                                                               'under '\n",
        "                                                                               'which '\n",
        "                                                                               'Category. '\n",
        "                                                                               'Please '\n",
        "                                                                               'view '\n",
        "                                                                               'the '\n",
        "                                                                               'solutions '\n",
        "                                                                               'page '\n",
        "                                                                               'for '\n",
        "                                                                               'information '\n",
        "                                                                               'on '\n",
        "                                                                               'format.',\n",
        "                                                                'kind': 'json',\n",
        "                                                                'name': 'budget_categories',\n",
        "                                                                'order': 3}},\n",
        "                              'excluded_ios': { 'field': { 'description': 'A '\n",
        "                                                                          'comma '\n",
        "                                                                          'separated '\n",
        "                                                                          'list '\n",
        "                                                                          'of '\n",
        "                                                                          'Inserion '\n",
        "                                                                          'Order '\n",
        "                                                                          'Ids '\n",
        "                                                                          'that '\n",
        "                                                                          'should '\n",
        "                                                                          'be '\n",
        "                                                                          'exluded '\n",
        "                                                                          'from '\n",
        "                                                                          'the '\n",
        "                                                                          'budget '\n",
        "                                                                          'calculations',\n",
        "                                                           'kind': 'integer_list',\n",
        "                                                           'name': 'excluded_ios',\n",
        "                                                           'order': 4}},\n",
        "                              'out': { 'changes_table_name': { 'field': { 'description': '',\n",
        "                                                                          'kind': 'string',\n",
        "                                                                          'name': 'recipe_name',\n",
        "                                                                          'prefix': 'SDF_BUDGET_MOVER_LOG_'}},\n",
        "                                       'dataset': { 'field': { 'default': '',\n",
        "                                                               'description': 'Dataset '\n",
        "                                                                              'that '\n",
        "                                                                              'you '\n",
        "                                                                              'would '\n",
        "                                                                              'like '\n",
        "                                                                              'your '\n",
        "                                                                              'output '\n",
        "                                                                              'tables '\n",
        "                                                                              'to '\n",
        "                                                                              'be '\n",
        "                                                                              'produced '\n",
        "                                                                              'in.',\n",
        "                                                               'kind': 'string',\n",
        "                                                               'name': 'dataset',\n",
        "                                                               'order': 8}},\n",
        "                                       'new_sdf_table_name': { 'field': { 'description': '',\n",
        "                                                                          'kind': 'string',\n",
        "                                                                          'name': 'recipe_name',\n",
        "                                                                          'prefix': 'SDF_NEW_'}},\n",
        "                                       'old_sdf_table_name': { 'field': { 'description': '',\n",
        "                                                                          'kind': 'string',\n",
        "                                                                          'name': 'recipe_name',\n",
        "                                                                          'prefix': 'SDF_OLD_'}}},\n",
        "                              'sdf': { 'auth': 'user',\n",
        "                                       'file_types': 'INSERTION_ORDER',\n",
        "                                       'filter_ids': { 'field': { 'default': '',\n",
        "                                                                  'description': 'The '\n",
        "                                                                                 'filter '\n",
        "                                                                                 'ids '\n",
        "                                                                                 'for '\n",
        "                                                                                 'the '\n",
        "                                                                                 'request.',\n",
        "                                                                  'kind': 'integer_list',\n",
        "                                                                  'name': 'filter_ids',\n",
        "                                                                  'order': 7}},\n",
        "                                       'filter_type': { 'field': { 'choices': [ 'ADVERTISER_ID',\n",
        "                                                                                'CAMPAIGN_ID',\n",
        "                                                                                'INSERTION_ORDER_ID',\n",
        "                                                                                'INVENTORY_SOURCE_ID',\n",
        "                                                                                'LINE_ITEM_ID',\n",
        "                                                                                'PARTNER_ID'],\n",
        "                                                                   'default': '',\n",
        "                                                                   'description': 'The '\n",
        "                                                                                  'filter '\n",
        "                                                                                  'type '\n",
        "                                                                                  'for '\n",
        "                                                                                  'the '\n",
        "                                                                                  'filter '\n",
        "                                                                                  'ids.',\n",
        "                                                                   'kind': 'choice',\n",
        "                                                                   'name': 'filter_type',\n",
        "                                                                   'order': 6}}},\n",
        "                              'spend_report_id': { 'field': { 'default': '',\n",
        "                                                              'description': 'The '\n",
        "                                                                             'report '\n",
        "                                                                             'Id '\n",
        "                                                                             'for '\n",
        "                                                                             'the '\n",
        "                                                                             'DV360 '\n",
        "                                                                             'spend '\n",
        "                                                                             'report.',\n",
        "                                                              'kind': 'string',\n",
        "                                                              'name': 'spend_report_id',\n",
        "                                                              'order': 2}}}}]\n",
        "\n",
        "json_set_fields(TASKS, FIELDS)\n",
        "project.initialize(_recipe={ 'tasks':TASKS }, _project=CLOUD_PROJECT, _user=USER_CREDENTIALS, _client=CLIENT_CREDENTIALS, _verbose=True)\n",
        "project.execute()\n"
      ]
    }
  ]
}
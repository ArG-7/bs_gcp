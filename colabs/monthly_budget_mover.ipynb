{
  "metadata": {
    "colab": {
      "toc_visible": true,
      "collapsed_sections": [],
      "name": "Monthly Budget Mover",
      "provenance": []
    },
    "kernelspec": {
      "display_name": "Python 3",
      "name": "python3"
    }
  },
  "copyright": "Copyright 2020 Google LLC",
  "nbformat_minor": "0",
  "license": "Apache License, Version 2.0",
  "nbformat": "4",
  "cells": [
    {
      "metadata": {
        "colab_type": "text"
      },
      "source": [
        "#1. Install Dependencies\n",
        "First install the libraries needed to execute recipes, this only needs to be done once, then click play.\n"
      ],
      "cell_type": "markdown"
    },
    {
      "metadata": {
        "colab_type": "code"
      },
      "source": [
        "!pip install git+https://github.com/google/starthinker\n"
      ],
      "cell_type": "code"
    },
    {
      "metadata": {
        "colab_type": "text"
      },
      "source": [
        "#2. Get Cloud Project ID\n",
        "To run this recipe [requires a Google Cloud Project](https://github.com/google/starthinker/blob/master/tutorials/cloud_project.md), this only needs to be done once, then click play.\n"
      ],
      "cell_type": "markdown"
    },
    {
      "metadata": {
        "colab_type": "code"
      },
      "source": [
        "CLOUD_PROJECT = 'PASTE PROJECT ID HERE'\n",
        "\n",
        "print(\"Cloud Project Set To: %s\" % CLOUD_PROJECT)\n"
      ],
      "cell_type": "code"
    },
    {
      "metadata": {
        "colab_type": "text"
      },
      "source": [
        "#3. Get Client Credentials\n",
        "To read and write to various endpoints requires [downloading client credentials](https://github.com/google/starthinker/blob/master/tutorials/cloud_client_installed.md), this only needs to be done once, then click play.\n"
      ],
      "cell_type": "markdown"
    },
    {
      "metadata": {
        "colab_type": "code"
      },
      "source": [
        "CLIENT_CREDENTIALS = 'PASTE CREDENTIALS HERE'\n",
        "\n",
        "print(\"Client Credentials Set To: %s\" % CLIENT_CREDENTIALS)\n"
      ],
      "cell_type": "code"
    },
    {
      "metadata": {
        "colab_type": "text"
      },
      "source": [
        "#4. Enter Monthly Budget Mover Parameters\n",
        "Apply the previous month's budget/spend delta to the current month.  Aggregate up the budget and spend from the previous month of each category declared then apply the delta of the spend and budget equally to each Line Item under that Category.\n",
        " 1. No changes made can be made in DV360 from the start to the end of this process\n",
        " 1. Make sure there is budget information for the current and previous month's IOs in DV360\n",
        " 1. Make sure the provided spend report has spend data for every IO in the previous month\n",
        " 1. Spend report must contain 'Revenue (Adv Currency)' and 'Insertion Order ID'\n",
        " 1. There are no duplicate IO Ids in the categories outlined below\n",
        " 1. This process must be ran during the month of the budget it is updating\n",
        " 1. If you receive a 502 error then you must separate your jobs into two, because there is too much information being pulled in the sdf\n",
        " 1. Manually run this job\n",
        " 1. Once the job has completed go to the table for the new sdf and export to a csv\n",
        " 1. Take the new sdf and upload it into DV360\n",
        "Modify the values below for your use case, can be done multiple times, then click play.\n"
      ],
      "cell_type": "markdown"
    },
    {
      "metadata": {
        "colab_type": "code"
      },
      "source": [
        "FIELDS = {\n",
        "  'recipe_timezone': 'America/Los_Angeles',  # Timezone for report dates.\n",
        "  'recipe_name': '',  # \n",
        "  'partner_id': '',  # The sdf file types.\n",
        "  'auth_write': 'service',  # Credentials used for writing data.\n",
        "  'auth_read': 'user',  # Credentials used for reading data.\n",
        "  'budget_categories': '{}',  # A dictionary to show which IO Ids go under which Category. {\"CATEGORY1\":[12345,12345,12345], \"CATEGORY2\":[12345,12345]}\n",
        "  'filter_ids': [],  # Comma separated list of filter ids for the request.\n",
        "  'excluded_ios': '',  # A comma separated list of Inserion Order Ids that should be exluded from the budget calculations\n",
        "  'version': '5',  # The sdf version to be returned.\n",
        "  'is_colab': True,  # Are you running this in Colab? (This will store the files in Colab instead of Bigquery)\n",
        "  'dataset': '',  # Dataset that you would like your output tables to be produced in.\n",
        "}\n",
        "\n",
        "print(\"Parameters Set To: %s\" % FIELDS)\n"
      ],
      "cell_type": "code"
    },
    {
      "metadata": {
        "colab_type": "text"
      },
      "source": [
        "#5. Execute Monthly Budget Mover\n",
        "This does NOT need to be modified unles you are changing the recipe, click play.\n"
      ],
      "cell_type": "markdown"
    },
    {
      "metadata": {
        "colab_type": "code"
      },
      "source": [
        "from starthinker.util.project import project\n",
        "from starthinker.script.parse import json_set_fields\n",
        "\n",
        "USER_CREDENTIALS = '/content/user.json'\n",
        "\n",
        "TASKS = [\n",
        "  {\n",
        "    'dataset': {\n",
        "      'auth': 'user',\n",
        "      'description': 'Create a dataset where data will be combined and transfored for upload.',\n",
        "      'dataset': {'field': {'kind': 'string','name': 'dataset','order': 1,'description': 'Place where tables will be created in BigQuery.'}}\n",
        "    }\n",
        "  },\n",
        "  {\n",
        "    'dbm': {\n",
        "      'auth': 'user',\n",
        "      'report': {\n",
        "        'timeout': 90,\n",
        "        'body': {\n",
        "          'metadata': {\n",
        "            'dataRange': 'PREVIOUS_MONTH',\n",
        "            'format': 'CSV',\n",
        "            'title': {'field': {'prefix': 'Monthly_Budget_Mover_','description': 'Name of report in DV360, should be unique.','name': 'recipe_name','order': 1,'kind': 'string'}}\n",
        "          },\n",
        "          'params': {\n",
        "            'type': 'TYPE_GENERAL',\n",
        "            'groupBys': [\n",
        "              'FILTER_ADVERTISER_CURRENCY',\n",
        "              'FILTER_INSERTION_ORDER'\n",
        "            ],\n",
        "            'metrics': [\n",
        "              'METRIC_REVENUE_ADVERTISER'\n",
        "            ]\n",
        "          },\n",
        "          'timezoneCode': {'field': {'description': 'Timezone for report dates.','kind': 'timezone','name': 'recipe_timezone','default': 'America/Los_Angeles'}}\n",
        "        },\n",
        "        'filters': {\n",
        "          'FILTER_ADVERTISER': {\n",
        "            'values': {'field': {'description': 'The comma separated list of Advertiser Ids.','name': 'filter_ids','order': 7,'default': '','kind': 'integer_list'}}\n",
        "          }\n",
        "        }\n",
        "      },\n",
        "      'delete': False\n",
        "    }\n",
        "  },\n",
        "  {\n",
        "    'monthly_budget_mover': {\n",
        "      'out_old_sdf': {\n",
        "        'bigquery': {\n",
        "          'table': {'field': {'prefix': 'SDF_OLD_','description': '','name': 'recipe_name','kind': 'string'}},\n",
        "          'dataset': {'field': {'description': 'Dataset that you would like your output tables to be produced in.','name': 'dataset','order': 8,'default': '','kind': 'string'}},\n",
        "          'schema': [\n",
        "          ],\n",
        "          'disposition': 'WRITE_TRUNCATE',\n",
        "          'skip_rows': 0\n",
        "        },\n",
        "        'file': '/content/old_sdf.csv'\n",
        "      },\n",
        "      'report_name': {'field': {'prefix': 'Monthly_Budget_Mover_','description': 'Name of report in DV360, should be unique.','name': 'recipe_name','order': 1,'kind': 'string'}},\n",
        "      'is_colab': {'field': {'description': 'Are you running this in Colab? (This will store the files in Colab instead of Bigquery)','name': 'is_colab','order': 7,'default': True,'kind': 'boolean'}},\n",
        "      'excluded_ios': {'field': {'kind': 'integer_list','name': 'excluded_ios','order': 4,'description': 'A comma separated list of Inserion Order Ids that should be exluded from the budget calculations'}},\n",
        "      'auth': 'user',\n",
        "      'out_changes': {\n",
        "        'bigquery': {\n",
        "          'table': {'field': {'prefix': 'SDF_BUDGET_MOVER_LOG_','description': '','name': 'recipe_name','kind': 'string'}},\n",
        "          'dataset': {'field': {'description': 'Dataset that you would like your output tables to be produced in.','name': 'dataset','order': 8,'default': '','kind': 'string'}},\n",
        "          'schema': [\n",
        "          ],\n",
        "          'disposition': 'WRITE_TRUNCATE',\n",
        "          'skip_rows': 0\n",
        "        },\n",
        "        'file': '/content/log.csv'\n",
        "      },\n",
        "      'sdf': {\n",
        "        'partner_id': {'field': {'kind': 'integer','name': 'partner_id','order': 1,'description': 'The sdf file types.'}},\n",
        "        'create_single_day_table': False,\n",
        "        'table_suffix': '',\n",
        "        'version': {'field': {'kind': 'choice','order': 6,'choices': ['SDF_VERSION_5','SDF_VERSION_5_1'],'description': 'The sdf version to be returned.','default': '5','name': 'version'}},\n",
        "        'read': {\n",
        "          'filter_ids': {\n",
        "            'single_cell': True,\n",
        "            'values': {'field': {'description': 'Comma separated list of filter ids for the request.','name': 'filter_ids','order': 4,'default': [],'kind': 'integer_list'}}\n",
        "          }\n",
        "        },\n",
        "        'dataset': {'field': {'description': 'Dataset to be written to in BigQuery.','name': 'dataset','order': 6,'default': '','kind': 'string'}},\n",
        "        'auth': 'user',\n",
        "        'filter_type': 'FILTER_TYPE_ADVERTISER_ID',\n",
        "        'time_partitioned_table': False,\n",
        "        'file_types': 'INSERTION_ORDER'\n",
        "      },\n",
        "      'out_new_sdf': {\n",
        "        'bigquery': {\n",
        "          'table': {'field': {'prefix': 'SDF_NEW_','description': '','name': 'recipe_name','kind': 'string'}},\n",
        "          'dataset': {'field': {'description': 'Dataset that you would like your output tables to be produced in.','name': 'dataset','order': 8,'default': '','kind': 'string'}},\n",
        "          'schema': [\n",
        "          ],\n",
        "          'disposition': 'WRITE_TRUNCATE',\n",
        "          'skip_rows': 0\n",
        "        },\n",
        "        'file': '/content/new_sdf.csv'\n",
        "      },\n",
        "      'budget_categories': {'field': {'description': 'A dictionary to show which IO Ids go under which Category. {\"CATEGORY1\":[12345,12345,12345], \"CATEGORY2\":[12345,12345]}','name': 'budget_categories','order': 3,'default': '{}','kind': 'json'}}\n",
        "    }\n",
        "  }\n",
        "]\n",
        "\n",
        "json_set_fields(TASKS, FIELDS)\n",
        "\n",
        "project.initialize(_recipe={ 'tasks':TASKS }, _project=CLOUD_PROJECT, _user=USER_CREDENTIALS, _client=CLIENT_CREDENTIALS, _verbose=True, _force=True)\n",
        "project.execute(_force=True)\n"
      ],
      "cell_type": "code"
    }
  ]
}
{
  "license": "Apache License, Version 2.0",
  "copyright": "Copyright 2018 Google Inc.",
  "nbformat": "4",
  "nbformat_minor": "0",
  "metadata": {
    "colab": {
      "name": "Monthly Budget Mover",
      "provenance": [],
      "collapsed_sections": [],
      "toc_visible": true
    },
    "kernelspec": {
      "name": "python3",
      "display_name": "Python 3"
    }
  },
  "cells": [
    {
      "cell_type": "markdown",
      "metadata": {
        "id": "KbAHMcPM090u",
        "colab_type": "text"
      },
      "source": [
        "#1. Install Dependencies\n",
        "First install the libraries needed to execute recipes, this only needs to be done once, then click play.\n"
      ]
    },
    {
      "cell_type": "code",
      "metadata": {
        "id": "D4BwD2u6qNxd",
        "colab_type": "code"
      },
      "source": [
        "!pip install git+https://github.com/google/starthinker\n"
      ]
    },
    {
      "cell_type": "markdown",
      "metadata": {
        "id": "NKT7KUuCSaMP",
        "colab_type": "text"
      },
      "source": [
        "#2. Get Cloud Project ID\n",
        "To run this recipe [requires a Google Cloud Project](https://github.com/google/starthinker/blob/master/tutorials/cloud_project.md), this only needs to be done once, then click play.\n"
      ]
    },
    {
      "cell_type": "code",
      "metadata": {
        "id": "vrjsS5P9bVK9",
        "colab_type": "code"
      },
      "source": [
        "CLOUD_PROJECT = 'PASTE PROJECT ID HERE'\n",
        "\n",
        "print(\"Cloud Project Set To: %s\" % CLOUD_PROJECT)\n"
      ]
    },
    {
      "cell_type": "markdown",
      "metadata": {
        "id": "pS8GvY9bnkwv",
        "colab_type": "text"
      },
      "source": [
        "#3. Get Client Credentials\n",
        "To read and write to various endpoints requires [downloading client credentials](https://github.com/google/starthinker/blob/master/tutorials/cloud_client_installed.md), this only needs to be done once, then click play.\n"
      ]
    },
    {
      "cell_type": "code",
      "metadata": {
        "id": "jD6MIcBumZhb",
        "colab_type": "code"
      },
      "source": [
        "CLIENT_CREDENTIALS = 'PASTE CREDENTIALS HERE'\n",
        "\n",
        "print(\"Client Credentials Set To: %s\" % CLIENT_CREDENTIALS)\n"
      ]
    },
    {
      "cell_type": "markdown",
      "metadata": {
        "id": "kjSamNiL1t31",
        "colab_type": "text"
      },
      "source": [
        "#4. Enter Monthly Budget Mover Parameters\n",
        "Apply the previous month's budget/spend delta to the current month.  Aggregate up the budget and spend from the previous month of each category declared then apply the delta of the spend and budget equally to each Line Item under that Category.\n",
        " 1. No changes made can be made in DV360 from the start to the end of this process\n",
        " 1. Make sure there is budget information for the current and previous month's IOs in DV360\n",
        " 1. Make sure the provided spend report has spend data for every IO in the previous month\n",
        " 1. Spend report must contain 'Revenue (Adv Currency)' and 'Insertion Order ID'\n",
        " 1. There are no duplicate IO Ids in the categories outlined below\n",
        " 1. This process must be ran during the month of the budget it is updating\n",
        " 1. If you receive a 502 error then you must separate your jobs into two, because there is too much information being pulled in the sdf\n",
        " 1. Manually run this job\n",
        " 1. Once the job has completed go to the table for the new sdf and export to a csv\n",
        " 1. Take the new sdf and upload it into DV360\n",
        "Modify the values below for your use case, can be done multiple times, then click play.\n"
      ]
    },
    {
      "cell_type": "code",
      "metadata": {
        "id": "AGinYtbTtQIA",
        "colab_type": "code"
      },
      "source": [
        "FIELDS = {\n",
        "  'recipe_name': '',  # \n",
        "  'spend_report_id': '',  # The report Id for the DV360 spend report.\n",
        "  'budget_categories': '{\"CATEGORY1\":[12345,12345,12345], \"CATEGORY2\":[12345,12345]}',  # A dictionary to show which IO Ids go under which Category. Please view the solutions page for information on format.\n",
        "  'excluded_ios': '',  # A comma separated list of Inserion Order Ids that should be exluded from the budget calculations\n",
        "  'filter_type': '',  # The filter type for the filter ids.\n",
        "  'filter_ids': '',  # The filter ids for the request.\n",
        "  'dataset': '',  # Dataset that you would like your output tables to be produced in.\n",
        "}\n",
        "\n",
        "print(\"Parameters Set To: %s\" % FIELDS)\n"
      ]
    },
    {
      "cell_type": "markdown",
      "metadata": {
        "id": "3dDSPIP1W1pT",
        "colab_type": "text"
      },
      "source": [
        "#5. Execute Monthly Budget Mover\n",
        "This does NOT need to be modified unles you are changing the recipe, click play.\n"
      ]
    },
    {
      "cell_type": "code",
      "metadata": {
        "id": "K8qPUvEKtAWM",
        "colab_type": "code"
      },
      "source": [
        "from starthinker.util.project import project\n",
        "from starthinker.script.parse import json_set_fields\n",
        "\n",
        "USER_CREDENTIALS = '/content/user.json'\n",
        "\n",
        "TASKS = [\n",
        "  {\n",
        "    'dataset': {\n",
        "      'description': 'Create a dataset where data will be combined and transfored for upload.',\n",
        "      'auth': 'user',\n",
        "      'dataset': {'field': {'name': 'dataset','kind': 'string','order': 1,'description': 'Place where tables will be created in BigQuery.'}}\n",
        "    }\n",
        "  },\n",
        "  {\n",
        "    'monthly_budget_mover': {\n",
        "      'auth': 'user',\n",
        "      'spend_report_id': {'field': {'name': 'spend_report_id','kind': 'string','order': 2,'default': '','description': 'The report Id for the DV360 spend report.'}},\n",
        "      'budget_categories': {'field': {'name': 'budget_categories','kind': 'json','order': 3,'default': '{\"CATEGORY1\":[12345,12345,12345], \"CATEGORY2\":[12345,12345]}','description': 'A dictionary to show which IO Ids go under which Category. Please view the solutions page for information on format.'}},\n",
        "      'excluded_ios': {'field': {'name': 'excluded_ios','kind': 'integer_list','order': 4,'description': 'A comma separated list of Inserion Order Ids that should be exluded from the budget calculations'}},\n",
        "      'sdf': {\n",
        "        'auth': 'user',\n",
        "        'file_types': 'INSERTION_ORDER',\n",
        "        'filter_type': {'field': {'name': 'filter_type','kind': 'choice','order': 6,'default': '','description': 'The filter type for the filter ids.','choices': ['ADVERTISER_ID','CAMPAIGN_ID','INSERTION_ORDER_ID','INVENTORY_SOURCE_ID','LINE_ITEM_ID','PARTNER_ID']}},\n",
        "        'filter_ids': {'field': {'name': 'filter_ids','kind': 'integer_list','order': 7,'default': '','description': 'The filter ids for the request.'}}\n",
        "      },\n",
        "      'out': {\n",
        "        'dataset': {'field': {'name': 'dataset','kind': 'string','order': 8,'default': '','description': 'Dataset that you would like your output tables to be produced in.'}},\n",
        "        'old_sdf_table_name': {'field': {'name': 'recipe_name','kind': 'string','prefix': 'SDF_OLD_','description': ''}},\n",
        "        'new_sdf_table_name': {'field': {'name': 'recipe_name','kind': 'string','prefix': 'SDF_NEW_','description': ''}},\n",
        "        'changes_table_name': {'field': {'name': 'recipe_name','kind': 'string','prefix': 'SDF_BUDGET_MOVER_LOG_','description': ''}}\n",
        "      }\n",
        "    }\n",
        "  }\n",
        "]\n",
        "\n",
        "json_set_fields(TASKS, FIELDS)\n",
        "project.initialize(_recipe={ 'tasks':TASKS }, _project=CLOUD_PROJECT, _user=USER_CREDENTIALS, _client=CLIENT_CREDENTIALS, _verbose=True)\n",
        "project.execute()\n"
      ]
    }
  ]
}
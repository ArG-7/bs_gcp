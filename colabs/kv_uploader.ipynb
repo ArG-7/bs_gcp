{
  "license": "Apache License, Version 2.0",
  "copyright": "Copyright 2018 Google Inc.",
  "nbformat": "4",
  "nbformat_minor": "0",
  "metadata": {
    "colab": {
      "name": "Tag Key Value Uploader",
      "provenance": [],
      "collapsed_sections": [],
      "toc_visible": true
    },
    "kernelspec": {
      "name": "python3",
      "display_name": "Python 3"
    }
  },
  "cells": [
    {
      "cell_type": "markdown",
      "metadata": {
        "id": "pbL3YJxOREvf",
        "colab_type": "text"
      },
      "source": [
        "#1. Install Dependencies\n",
        "First install the libraries needed to execute recipes, this only needs to be done once, then click play.\n"
      ]
    },
    {
      "cell_type": "code",
      "metadata": {
        "id": "VND7cINKgYKv",
        "colab_type": "code"
      },
      "source": [
        "!pip install git+https://github.com/google/starthinker\n"
      ]
    },
    {
      "cell_type": "markdown",
      "metadata": {
        "id": "9gp6ZrvE9Ntx",
        "colab_type": "text"
      },
      "source": [
        "#2. Get Cloud Project ID\n",
        "To run this recipe [requires a Google Cloud Project](https://github.com/google/starthinker/blob/master/tutorials/cloud_project.md), this only needs to be done once, then click play.\n"
      ]
    },
    {
      "cell_type": "code",
      "metadata": {
        "id": "2D1tBacKR7j5",
        "colab_type": "code"
      },
      "source": [
        "CLOUD_PROJECT = 'PASTE PROJECT ID HERE'\n",
        "\n",
        "print(\"Cloud Project Set To: %s\" % CLOUD_PROJECT)\n"
      ]
    },
    {
      "cell_type": "markdown",
      "metadata": {
        "id": "xrtFl3mROhvN",
        "colab_type": "text"
      },
      "source": [
        "#3. Get Client Credentials\n",
        "To read and write to various endpoints requires [downloading client credentials](https://github.com/google/starthinker/blob/master/tutorials/cloud_client_installed.md), this only needs to be done once, then click play.\n"
      ]
    },
    {
      "cell_type": "code",
      "metadata": {
        "id": "LMb7cqxasXT8",
        "colab_type": "code"
      },
      "source": [
        "CLIENT_CREDENTIALS = 'PASTE CREDENTIALS HERE'\n",
        "\n",
        "print(\"Client Credentials Set To: %s\" % CLIENT_CREDENTIALS)\n"
      ]
    },
    {
      "cell_type": "markdown",
      "metadata": {
        "id": "FB2tuysz1HVn",
        "colab_type": "text"
      },
      "source": [
        "#4. Enter Tag Key Value Uploader Parameters\n",
        "A tool for bulk editing key value pairs for DCM pllacements.\n",
        " 1. Add this card to a recipe and save it.\n",
        " 1. Then click <strong>Run Now</strong> to deploy.\n",
        " 1. Follow the instructuons in the sheet for setup.\n",
        "Modify the values below for your use case, can be done multiple times, then click play.\n"
      ]
    },
    {
      "cell_type": "code",
      "metadata": {
        "id": "4Y6rm99O0EH3",
        "colab_type": "code"
      },
      "source": [
        "FIELDS = {\n",
        "  \"recipe_name\":\"\", # Name of document to deploy to.\n",
        "}\n",
        "\n",
        "print(\"Parameters Set To: %s\" % FIELDS)\n"
      ]
    },
    {
      "cell_type": "markdown",
      "metadata": {
        "id": "3WVzZQSPzXxV",
        "colab_type": "text"
      },
      "source": [
        "#5. Execute Tag Key Value Uploader\n",
        "This does NOT need to be modified unles you are changing the recipe, click play.\n"
      ]
    },
    {
      "cell_type": "code",
      "metadata": {
        "id": "Lp7f3SCbMWfJ",
        "colab_type": "code"
      },
      "source": [
        "from starthinker.util.project import project\n",
        "from starthinker.script.parse import json_set_fields\n",
        "\n",
        "USER_CREDENTIALS = '/content/user.json'\n",
        "\n",
        "TASKS = [ { 'drive': { 'auth': 'user',\n",
        "               'copy': { 'destination': { 'field': { 'default': '',\n",
        "                                                     'description': 'Name '\n",
        "                                                                    'of '\n",
        "                                                                    'document '\n",
        "                                                                    'to '\n",
        "                                                                    'deploy '\n",
        "                                                                    'to.',\n",
        "                                                     'kind': 'string',\n",
        "                                                     'name': 'recipe_name',\n",
        "                                                     'order': 1,\n",
        "                                                     'prefix': 'Key '\n",
        "                                                               'Value '\n",
        "                                                               'Uploader '\n",
        "                                                               'For '}},\n",
        "                         'source': 'https://docs.google.com/spreadsheets/d/19Sxy4BDtK9ocq_INKTiZ-rZHgqhfpiiokXOTsYzmah0/'},\n",
        "               'hour': [ ]}}]\n",
        "\n",
        "json_set_fields(TASKS, FIELDS)\n",
        "project.initialize(_recipe={ 'tasks':TASKS }, _project=CLOUD_PROJECT, _user=USER_CREDENTIALS, _client=CLIENT_CREDENTIALS, _verbose=True)\n",
        "project.execute()\n"
      ]
    }
  ]
}
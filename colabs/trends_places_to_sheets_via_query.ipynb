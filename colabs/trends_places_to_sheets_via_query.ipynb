{
  "license": "Apache License, Version 2.0",
  "copyright": "Copyright 2018 Google Inc.",
  "nbformat": "4",
  "nbformat_minor": "0",
  "metadata": {
    "colab": {
      "name": "Trends Places To Sheets Via Query",
      "provenance": [],
      "collapsed_sections": [],
      "toc_visible": true
    },
    "kernelspec": {
      "name": "python3",
      "display_name": "Python 3"
    }
  },
  "cells": [
    {
      "cell_type": "markdown",
      "metadata": {
        "id": "TM3Iuugi0D8B",
        "colab_type": "text"
      },
      "source": [
        "#1. Install Dependencies\n",
        "First install the libraries needed to execute recipes, this only needs to be done once, then click play.\n"
      ]
    },
    {
      "cell_type": "code",
      "metadata": {
        "id": "S6miEDRF1QHC",
        "colab_type": "code"
      },
      "source": [
        "!pip install git+https://github.com/google/starthinker\n"
      ]
    },
    {
      "cell_type": "markdown",
      "metadata": {
        "id": "jA0hJZyreqkp",
        "colab_type": "text"
      },
      "source": [
        "#2. Get Cloud Project ID\n",
        "To run this recipe [requires a Google Cloud Project](https://github.com/google/starthinker/blob/master/tutorials/cloud_project.md), this only needs to be done once, then click play.\n"
      ]
    },
    {
      "cell_type": "code",
      "metadata": {
        "id": "D1Dh34bMPxI1",
        "colab_type": "code"
      },
      "source": [
        "CLOUD_PROJECT = 'PASTE PROJECT ID HERE'\n",
        "\n",
        "print(\"Cloud Project Set To: %s\" % CLOUD_PROJECT)\n"
      ]
    },
    {
      "cell_type": "markdown",
      "metadata": {
        "id": "JhvnMT0RKbtm",
        "colab_type": "text"
      },
      "source": [
        "#3. Get Client Credentials\n",
        "To read and write to various endpoints requires [downloading client credentials](https://github.com/google/starthinker/blob/master/tutorials/cloud_client_installed.md), this only needs to be done once, then click play.\n"
      ]
    },
    {
      "cell_type": "code",
      "metadata": {
        "id": "GmVE6Gz2qRp2",
        "colab_type": "code"
      },
      "source": [
        "CLIENT_CREDENTIALS = 'PASTE CREDENTIALS HERE'\n",
        "\n",
        "print(\"Client Credentials Set To: %s\" % CLIENT_CREDENTIALS)\n"
      ]
    },
    {
      "cell_type": "markdown",
      "metadata": {
        "id": "aD9xyYF6VLaw",
        "colab_type": "text"
      },
      "source": [
        "#4. Enter Trends Places To Sheets Via Query Parameters\n",
        "Move using a WOEID query.\n",
        " 1. Provide <a href='https://apps.twitter.com/' target='_blank'>Twitter credentials</a>.\n",
        " 1. Provide BigQuery WOEID source query.\n",
        " 1. Specify Sheet url and tab to write API call results to.\n",
        " 1. Writes: WOEID, Name, Url, Promoted_Content, Query, Tweet_Volume\n",
        " 1. Note Twitter API is rate limited to 15 requests per 15 minutes. So keep WOEID lists short.\n",
        "Modify the values below for your use case, can be done multiple times, then click play.\n"
      ]
    },
    {
      "cell_type": "code",
      "metadata": {
        "id": "skpdti2n6VSM",
        "colab_type": "code"
      },
      "source": [
        "FIELDS = {\n",
        "  \"secret\":\"\",\n",
        "  \"key\":\"\",\n",
        "  \"places_dataset\":\"\",\n",
        "  \"places_query\":\"\",\n",
        "  \"places_legacy\":False,\n",
        "  \"destination_sheet\":\"\",\n",
        "  \"destination_tab\":\"\",\n",
        "}\n",
        "\n",
        "print(\"Parameters Set To: %s\" % FIELDS)\n"
      ]
    },
    {
      "cell_type": "markdown",
      "metadata": {
        "id": "mJEFJLBHM6RZ",
        "colab_type": "text"
      },
      "source": [
        "#5. Execute Trends Places To Sheets Via Query\n",
        "This does NOT need to be modified unles you are changing the recipe, click play.\n"
      ]
    },
    {
      "cell_type": "code",
      "metadata": {
        "id": "TDlpK3wzx6sj",
        "colab_type": "code"
      },
      "source": [
        "from starthinker.util.project import project\n",
        "from starthinker.script.parse import json_set_fields\n",
        "\n",
        "USER_CREDENTIALS = '/content/user.json'\n",
        "\n",
        "TASKS = [\n",
        "  {\n",
        "    \"twitter\": {\n",
        "      \"auth\": \"user\",\n",
        "      \"secret\": {\n",
        "        \"field\": {\n",
        "          \"name\": \"secret\",\n",
        "          \"kind\": \"string\",\n",
        "          \"order\": 1,\n",
        "          \"default\": \"\"\n",
        "        }\n",
        "      },\n",
        "      \"key\": {\n",
        "        \"field\": {\n",
        "          \"name\": \"key\",\n",
        "          \"kind\": \"string\",\n",
        "          \"order\": 2,\n",
        "          \"default\": \"\"\n",
        "        }\n",
        "      },\n",
        "      \"trends\": {\n",
        "        \"places\": {\n",
        "          \"single_cell\": true,\n",
        "          \"bigquery\": {\n",
        "            \"dataset\": {\n",
        "              \"field\": {\n",
        "                \"name\": \"places_dataset\",\n",
        "                \"kind\": \"string\",\n",
        "                \"order\": 3,\n",
        "                \"default\": \"\"\n",
        "              }\n",
        "            },\n",
        "            \"query\": {\n",
        "              \"field\": {\n",
        "                \"name\": \"places_query\",\n",
        "                \"kind\": \"string\",\n",
        "                \"order\": 4,\n",
        "                \"default\": \"\"\n",
        "              }\n",
        "            },\n",
        "            \"legacy\": {\n",
        "              \"field\": {\n",
        "                \"name\": \"places_legacy\",\n",
        "                \"kind\": \"boolean\",\n",
        "                \"order\": 5,\n",
        "                \"default\": false\n",
        "              }\n",
        "            }\n",
        "          }\n",
        "        }\n",
        "      },\n",
        "      \"out\": {\n",
        "        \"sheets\": {\n",
        "          \"sheet\": {\n",
        "            \"field\": {\n",
        "              \"name\": \"destination_sheet\",\n",
        "              \"kind\": \"string\",\n",
        "              \"order\": 6,\n",
        "              \"default\": \"\"\n",
        "            }\n",
        "          },\n",
        "          \"tab\": {\n",
        "            \"field\": {\n",
        "              \"name\": \"destination_tab\",\n",
        "              \"kind\": \"string\",\n",
        "              \"order\": 7,\n",
        "              \"default\": \"\"\n",
        "            }\n",
        "          },\n",
        "          \"range\": \"A1\"\n",
        "        }\n",
        "      }\n",
        "    }\n",
        "  }\n",
        "]\n",
        "\n",
        "json_set_fields(TASKS, FIELDS)\n",
        "project.initialize(_recipe={ 'tasks':TASKS }, _project=CLOUD_PROJECT, _user=USER_CREDENTIALS, _client=CLIENT_CREDENTIALS, _verbose=True)\n",
        "project.execute()\n"
      ]
    }
  ]
}
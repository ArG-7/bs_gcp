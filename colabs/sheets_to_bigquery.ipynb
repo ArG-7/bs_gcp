{
  "license": "Apache License, Version 2.0",
  "copyright": "Copyright 2018 Google Inc.",
  "nbformat": "4",
  "nbformat_minor": "0",
  "metadata": {
    "colab": {
      "name": "Sheet To Table",
      "provenance": [],
      "collapsed_sections": [],
      "toc_visible": true
    },
    "kernelspec": {
      "name": "python3",
      "display_name": "Python 3"
    }
  },
  "cells": [
    {
      "cell_type": "markdown",
      "metadata": {
        "id": "rCVmtO1PAsrv",
        "colab_type": "text"
      },
      "source": [
        "#1. Install Dependencies\n",
        "First install the libraries needed to execute recipes, this only needs to be done once, then click play.\n"
      ]
    },
    {
      "cell_type": "code",
      "metadata": {
        "id": "7lAOtaMtljYU",
        "colab_type": "code"
      },
      "source": [
        "!pip install git+https://github.com/google/starthinker\n"
      ]
    },
    {
      "cell_type": "markdown",
      "metadata": {
        "id": "HMoUvs2mFmht",
        "colab_type": "text"
      },
      "source": [
        "#2. Get Cloud Project ID\n",
        "To run this recipe [requires a Google Cloud Project](https://github.com/google/starthinker/blob/master/tutorials/cloud_project.md), this only needs to be done once, then click play.\n"
      ]
    },
    {
      "cell_type": "code",
      "metadata": {
        "id": "PTZfARQaH6YX",
        "colab_type": "code"
      },
      "source": [
        "CLOUD_PROJECT = 'PASTE PROJECT ID HERE'\n",
        "\n",
        "print(\"Cloud Project Set To: %s\" % CLOUD_PROJECT)\n"
      ]
    },
    {
      "cell_type": "markdown",
      "metadata": {
        "id": "QBZE72O6Krx6",
        "colab_type": "text"
      },
      "source": [
        "#3. Get Client Credentials\n",
        "To read and write to various endpoints requires [downloading client credentials](https://github.com/google/starthinker/blob/master/tutorials/cloud_client_installed.md), this only needs to be done once, then click play.\n"
      ]
    },
    {
      "cell_type": "code",
      "metadata": {
        "id": "J7GkfdmRXobj",
        "colab_type": "code"
      },
      "source": [
        "CLIENT_CREDENTIALS = 'PASTE CREDENTIALS HERE'\n",
        "\n",
        "print(\"Client Credentials Set To: %s\" % CLIENT_CREDENTIALS)\n"
      ]
    },
    {
      "cell_type": "markdown",
      "metadata": {
        "id": "uo3J4fKh1p02",
        "colab_type": "text"
      },
      "source": [
        "#4. Enter Sheet To Table Parameters\n",
        "Import data from a sheet and move it to a BigQuery table.\n",
        " 1. For the sheet, provide the full edit URL.\n",
        " 1. If the tab does not exist it will be created.\n",
        " 1. Empty cells in the range will be NULL.\n",
        " 1. Check Sheets header if first row is a header\n",
        "Modify the values below for your use case, can be done multiple times, then click play.\n"
      ]
    },
    {
      "cell_type": "code",
      "metadata": {
        "id": "aGT0FB7ITgnG",
        "colab_type": "code"
      },
      "source": [
        "FIELDS = {\n",
        "  \"sheets_url\":\"\",\n",
        "  \"sheets_tab\":\"\",\n",
        "  \"sheets_range\":\"\",\n",
        "  \"dataset\":\"\",\n",
        "  \"table\":\"\",\n",
        "  \"sheets_header\":True,\n",
        "}\n",
        "\n",
        "print(\"Parameters Set To: %s\" % FIELDS)\n"
      ]
    },
    {
      "cell_type": "markdown",
      "metadata": {
        "id": "FTtfm13KoPlQ",
        "colab_type": "text"
      },
      "source": [
        "#5. Execute Sheet To Table\n",
        "This does NOT need to be modified unles you are changing the recipe, click play.\n"
      ]
    },
    {
      "cell_type": "code",
      "metadata": {
        "id": "NuQjC5JKJnmW",
        "colab_type": "code"
      },
      "source": [
        "from starthinker.util.project import project\n",
        "from starthinker.script.parse import json_set_fields\n",
        "\n",
        "USER_CREDENTIALS = '/content/user.json'\n",
        "\n",
        "TASKS = [ { 'sheets': { 'auth': 'user',\n",
        "                'header': { 'field': { 'default': True,\n",
        "                                       'kind': 'boolean',\n",
        "                                       'name': 'sheets_header',\n",
        "                                       'order': 9}},\n",
        "                'out': { 'auth': 'user',\n",
        "                         'bigquery': { 'dataset': { 'field': { 'default': '',\n",
        "                                                               'kind': 'string',\n",
        "                                                               'name': 'dataset',\n",
        "                                                               'order': 7}},\n",
        "                                       'table': { 'field': { 'default': '',\n",
        "                                                             'kind': 'string',\n",
        "                                                             'name': 'table',\n",
        "                                                             'order': 8}}}},\n",
        "                'range': { 'field': { 'default': '',\n",
        "                                      'kind': 'string',\n",
        "                                      'name': 'sheets_range',\n",
        "                                      'order': 3}},\n",
        "                'sheet': { 'field': { 'default': '',\n",
        "                                      'kind': 'string',\n",
        "                                      'name': 'sheets_url',\n",
        "                                      'order': 1}},\n",
        "                'tab': { 'field': { 'default': '',\n",
        "                                    'kind': 'string',\n",
        "                                    'name': 'sheets_tab',\n",
        "                                    'order': 2}}}}]\n",
        "\n",
        "json_set_fields(TASKS, FIELDS)\n",
        "project.initialize(_recipe={ 'tasks':TASKS }, _project=CLOUD_PROJECT, _user=USER_CREDENTIALS, _client=CLIENT_CREDENTIALS, _verbose=True)\n",
        "project.execute()\n"
      ]
    }
  ]
}
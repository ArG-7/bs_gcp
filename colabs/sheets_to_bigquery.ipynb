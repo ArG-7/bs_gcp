{
  "metadata": {
    "colab": {
      "toc_visible": true,
      "collapsed_sections": [],
      "name": "Sheet To BigQuery",
      "provenance": []
    },
    "kernelspec": {
      "display_name": "Python 3",
      "name": "python3"
    }
  },
  "copyright": "Copyright 2020 Google LLC",
  "nbformat_minor": "0",
  "license": "Apache License, Version 2.0",
  "nbformat": "4",
  "cells": [
    {
      "metadata": {
        "colab_type": "text"
      },
      "source": [
        "#1. Install Dependencies\n",
        "First install the libraries needed to execute recipes, this only needs to be done once, then click play.\n"
      ],
      "cell_type": "markdown"
    },
    {
      "metadata": {
        "colab_type": "code"
      },
      "source": [
        "!pip install git+https://github.com/google/starthinker\n"
      ],
      "cell_type": "code"
    },
    {
      "metadata": {
        "colab_type": "text"
      },
      "source": [
        "#2. Get Cloud Project ID\n",
        "To run this recipe [requires a Google Cloud Project](https://github.com/google/starthinker/blob/master/tutorials/cloud_project.md), this only needs to be done once, then click play.\n"
      ],
      "cell_type": "markdown"
    },
    {
      "metadata": {
        "colab_type": "code"
      },
      "source": [
        "CLOUD_PROJECT = 'PASTE PROJECT ID HERE'\n",
        "\n",
        "print(\"Cloud Project Set To: %s\" % CLOUD_PROJECT)\n"
      ],
      "cell_type": "code"
    },
    {
      "metadata": {
        "colab_type": "text"
      },
      "source": [
        "#3. Get Client Credentials\n",
        "To read and write to various endpoints requires [downloading client credentials](https://github.com/google/starthinker/blob/master/tutorials/cloud_client_installed.md), this only needs to be done once, then click play.\n"
      ],
      "cell_type": "markdown"
    },
    {
      "metadata": {
        "colab_type": "code"
      },
      "source": [
        "CLIENT_CREDENTIALS = 'PASTE CREDENTIALS HERE'\n",
        "\n",
        "print(\"Client Credentials Set To: %s\" % CLIENT_CREDENTIALS)\n"
      ],
      "cell_type": "code"
    },
    {
      "metadata": {
        "colab_type": "text"
      },
      "source": [
        "#4. Enter Sheet To BigQuery Parameters\n",
        "Import data from a sheet and move it to a BigQuery table.\n",
        " 1. For the sheet, provide the full edit URL.\n",
        " 1. If the tab does not exist it will be created.\n",
        " 1. Empty cells in the range will be NULL.\n",
        " 1. Check Sheets header if first row is a header\n",
        "Modify the values below for your use case, can be done multiple times, then click play.\n"
      ],
      "cell_type": "markdown"
    },
    {
      "metadata": {
        "colab_type": "code"
      },
      "source": [
        "FIELDS = {\n",
        "  'auth_read': 'user',  # Credentials used for reading data.\n",
        "  'auth_write': 'service',  # Credentials used for writing data.\n",
        "  'sheets_url': '',\n",
        "  'sheets_tab': '',\n",
        "  'sheets_range': '',\n",
        "  'dataset': '',\n",
        "  'table': '',\n",
        "  'sheets_header': True,\n",
        "}\n",
        "\n",
        "print(\"Parameters Set To: %s\" % FIELDS)\n"
      ],
      "cell_type": "code"
    },
    {
      "metadata": {
        "colab_type": "text"
      },
      "source": [
        "#5. Execute Sheet To BigQuery\n",
        "This does NOT need to be modified unles you are changing the recipe, click play.\n"
      ],
      "cell_type": "markdown"
    },
    {
      "metadata": {
        "colab_type": "code"
      },
      "source": [
        "from starthinker.util.project import project\n",
        "from starthinker.script.parse import json_set_fields\n",
        "\n",
        "USER_CREDENTIALS = '/content/user.json'\n",
        "\n",
        "TASKS = [\n",
        "  {\n",
        "    'sheets': {\n",
        "      'sheet': {'field': {'kind': 'string','name': 'sheets_url','order': 2,'default': ''}},\n",
        "      'out': {\n",
        "        'auth': 'user',\n",
        "        'bigquery': {\n",
        "          'table': {'field': {'kind': 'string','name': 'table','order': 6,'default': ''}},\n",
        "          'dataset': {'field': {'kind': 'string','name': 'dataset','order': 5,'default': ''}}\n",
        "        }\n",
        "      },\n",
        "      'auth': 'user',\n",
        "      'range': {'field': {'kind': 'string','name': 'sheets_range','order': 4,'default': ''}},\n",
        "      'header': {'field': {'kind': 'boolean','name': 'sheets_header','order': 9,'default': True}},\n",
        "      'tab': {'field': {'kind': 'string','name': 'sheets_tab','order': 3,'default': ''}}\n",
        "    }\n",
        "  }\n",
        "]\n",
        "\n",
        "json_set_fields(TASKS, FIELDS)\n",
        "\n",
        "project.initialize(_recipe={ 'tasks':TASKS }, _project=CLOUD_PROJECT, _user=USER_CREDENTIALS, _client=CLIENT_CREDENTIALS, _verbose=True, _force=True)\n",
        "project.execute(_force=True)\n"
      ],
      "cell_type": "code"
    }
  ]
}
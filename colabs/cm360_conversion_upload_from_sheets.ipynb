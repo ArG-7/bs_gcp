{
  "license": "Licensed under the Apache License, Version 2.0",
  "copyright": "Copyright 2020 Google LLC",
  "nbformat": 4,
  "nbformat_minor": 0,
  "metadata": {
    "colab": {
      "name": "CM360 Conversion Upload From Sheets",
      "provenance": [],
      "collapsed_sections": [],
      "toc_visible": true
    },
    "kernelspec": {
      "name": "python3",
      "display_name": "Python 3"
    }
  },
  "cells": [
    {
      "cell_type": "markdown",
      "metadata": {
        "id": "b6590c09-001",
        "colab_type": "text"
      },
      "source": [
        "#1. Install Dependencies\n",
        "First install the libraries needed to execute recipes, this only needs to be done once, then click play.\n"
      ]
    },
    {
      "cell_type": "code",
      "metadata": {
        "id": "b6590c09-002",
        "colab_type": "code"
      },
      "source": [
        "!pip install git+https://github.com/google/starthinker\n"
      ]
    },
    {
      "cell_type": "markdown",
      "metadata": {
        "id": "b6590c09-003",
        "colab_type": "text"
      },
      "source": [
        "#2. Get Cloud Project ID\n",
        "To run this recipe [requires a Google Cloud Project](https://github.com/google/starthinker/blob/master/tutorials/cloud_project.md), this only needs to be done once, then click play.\n"
      ]
    },
    {
      "cell_type": "code",
      "metadata": {
        "id": "b6590c09-004",
        "colab_type": "code"
      },
      "source": [
        "CLOUD_PROJECT = 'PASTE PROJECT ID HERE'\n",
        "\n",
        "print(\"Cloud Project Set To: %s\" % CLOUD_PROJECT)\n"
      ]
    },
    {
      "cell_type": "markdown",
      "metadata": {
        "id": "b6590c09-005",
        "colab_type": "text"
      },
      "source": [
        "#3. Get Client Credentials\n",
        "To read and write to various endpoints requires [downloading client credentials](https://github.com/google/starthinker/blob/master/tutorials/cloud_client_installed.md), this only needs to be done once, then click play.\n"
      ]
    },
    {
      "cell_type": "code",
      "metadata": {
        "id": "b6590c09-006",
        "colab_type": "code"
      },
      "source": [
        "CLIENT_CREDENTIALS = 'PASTE CREDENTIALS HERE'\n",
        "\n",
        "print(\"Client Credentials Set To: %s\" % CLIENT_CREDENTIALS)\n"
      ]
    },
    {
      "cell_type": "markdown",
      "metadata": {
        "id": "b6590c09-007",
        "colab_type": "text"
      },
      "source": [
        "#4. Enter CM360 Conversion Upload From Sheets Parameters\n",
        "Move form Sheets to CM.\n",
        " 1. Specify a CM Account ID, Floodligh Activity ID and Conversion Type.\n",
        " 1. Include Sheets url, tab, and range, omit headers in range.\n",
        " 1. Columns: Ordinal, timestampMicros, encryptedUserId | encryptedUserIdCandidates | gclid | mobileDeviceId | matchId | dclid\n",
        " 1. Include encryption information if using encryptedUserId or encryptedUserIdCandidates.\n",
        "Modify the values below for your use case, can be done multiple times, then click play.\n"
      ]
    },
    {
      "cell_type": "code",
      "metadata": {
        "id": "b6590c09-008",
        "colab_type": "code"
      },
      "source": [
        "FIELDS = {\n",
        "  'dcm_account': '',\n",
        "  'auth_cm': 'user',  # Credentials used for CM.\n",
        "  'floodlight_activity_id': '',\n",
        "  'auth_sheets': 'user',  # Credentials to read sheet.\n",
        "  'floodlight_conversion_type': 'encryptedUserId',  # Must match the values specifed in the last column.\n",
        "  'encryption_entity_id': '',  # Typically the same as the account id.\n",
        "  'encryption_entity_type': 'DCM_ACCOUNT',\n",
        "  'encryption_entity_source': 'DATA_TRANSFER',  # Where the ids are originating from.\n",
        "  'sheet': 'Name or URL of sheet.',\n",
        "  'tab': 'Conversions',  # Name of tab within sheet.\n",
        "  'range': 'A1:E',  # A1 Notation, for example A1:E\n",
        "}\n",
        "\n",
        "print(\"Parameters Set To: %s\" % FIELDS)\n"
      ]
    },
    {
      "cell_type": "markdown",
      "metadata": {
        "id": "b6590c09-009",
        "colab_type": "text"
      },
      "source": [
        "#5. Execute CM360 Conversion Upload From Sheets\n",
        "This does NOT need to be modified unless you are changing the recipe, click play.\n"
      ]
    },
    {
      "cell_type": "code",
      "metadata": {
        "id": "b6590c09-010",
        "colab_type": "code"
      },
      "source": [
        "from starthinker.util.project import project\n",
        "from starthinker.script.parse import json_set_fields\n",
        "\n",
        "USER_CREDENTIALS = '/content/user.json'\n",
        "\n",
        "TASKS = [\n",
        "  {\n",
        "    'conversion_upload': {\n",
        "      'auth': 'user',\n",
        "      'account_id': {'field': {'name': 'dcm_account','kind': 'string','order': 0,'default': ''}},\n",
        "      'activity_id': {'field': {'name': 'floodlight_activity_id','kind': 'integer','order': 1,'default': ''}},\n",
        "      'conversion_type': {'field': {'name': 'floodlight_conversion_type','kind': 'choice','order': 2,'choices': ['encryptedUserId','encryptedUserIdCandidates','dclid','gclid','matchId','mobileDeviceId'],'default': 'encryptedUserId','description': 'Must match the values specifed in the last column.'}},\n",
        "      'encryptionInfo': {\n",
        "        'encryptionEntityId': {'field': {'name': 'encryption_entity_id','kind': 'integer','order': 3,'default': '','description': 'Typically the same as the account id.'}},\n",
        "        'encryptionEntityType': {'field': {'name': 'encryption_entity_type','kind': 'choice','order': 4,'choices': ['ADWORDS_CUSTOMER','DBM_ADVERTISER','DBM_PARTNER','DCM_ACCOUNT','DCM_ADVERTISER','DFP_NETWORK_CODE'],'default': 'DCM_ACCOUNT'}},\n",
        "        'encryptionSource': {'field': {'name': 'encryption_entity_source','kind': 'choice','order': 5,'choices': ['AD_SERVING','DATA_TRANSFER'],'default': 'DATA_TRANSFER','description': 'Where the ids are originating from.'}}\n",
        "      },\n",
        "      'from': {\n",
        "        'sheets': {\n",
        "          'auth': 'user',\n",
        "          'sheet': {'field': {'name': 'sheet','kind': 'string','order': 9,'default': 'Name or URL of sheet.'}},\n",
        "          'tab': {'field': {'name': 'tab','kind': 'string','order': 10,'default': 'Conversions','description': 'Name of tab within sheet.'}},\n",
        "          'range': {'field': {'name': 'range','kind': 'string','order': 11,'default': 'A1:E','description': 'A1 Notation, for example A1:E'}}\n",
        "        }\n",
        "      }\n",
        "    }\n",
        "  }\n",
        "]\n",
        "\n",
        "json_set_fields(TASKS, FIELDS)\n",
        "\n",
        "project.initialize(_recipe={ 'tasks':TASKS }, _project=CLOUD_PROJECT, _user=USER_CREDENTIALS, _client=CLIENT_CREDENTIALS, _verbose=True, _force=True)\n",
        "project.execute(_force=True)\n"
      ]
    }
  ]
}

{
  "license": "Apache License, Version 2.0",
  "copyright": "Copyright 2018 Google Inc.",
  "nbformat": "4",
  "nbformat_minor": "0",
  "metadata": {
    "colab": {
      "name": "DCM Standard Bulk",
      "provenance": [],
      "collapsed_sections": [],
      "toc_visible": true
    },
    "kernelspec": {
      "name": "python3",
      "display_name": "Python 3"
    }
  },
  "cells": [
    {
      "cell_type": "markdown",
      "metadata": {
        "id": "SKwKxcgjEmKB",
        "colab_type": "text"
      },
      "source": [
        "#1. Install Dependencies\n",
        "First install the libraries needed to execute recipes, this only needs to be done once, then click play.\n"
      ]
    },
    {
      "cell_type": "code",
      "metadata": {
        "id": "kg8l2hQC1Tqi",
        "colab_type": "code"
      },
      "source": [
        "!pip install git+https://github.com/google/starthinker\n"
      ]
    },
    {
      "cell_type": "markdown",
      "metadata": {
        "id": "83v7a2hvEaWG",
        "colab_type": "text"
      },
      "source": [
        "#2. Get Cloud Project ID\n",
        "To run this recipe [requires a Google Cloud Project](https://github.com/google/starthinker/blob/master/tutorials/cloud_project.md), this only needs to be done once, then click play.\n"
      ]
    },
    {
      "cell_type": "code",
      "metadata": {
        "id": "qyzHUylvjpbW",
        "colab_type": "code"
      },
      "source": [
        "CLOUD_PROJECT = 'PASTE PROJECT ID HERE'\n",
        "\n",
        "print(\"Cloud Project Set To: %s\" % CLOUD_PROJECT)\n"
      ]
    },
    {
      "cell_type": "markdown",
      "metadata": {
        "id": "KbnIjamR7eEJ",
        "colab_type": "text"
      },
      "source": [
        "#3. Get Client Credentials\n",
        "To read and write to various endpoints requires [downloading client credentials](https://github.com/google/starthinker/blob/master/tutorials/cloud_client_installed.md), this only needs to be done once, then click play.\n"
      ]
    },
    {
      "cell_type": "code",
      "metadata": {
        "id": "CgUefTRMsDip",
        "colab_type": "code"
      },
      "source": [
        "CLIENT_CREDENTIALS = 'PASTE CREDENTIALS HERE'\n",
        "\n",
        "print(\"Client Credentials Set To: %s\" % CLIENT_CREDENTIALS)\n"
      ]
    },
    {
      "cell_type": "markdown",
      "metadata": {
        "id": "sO3kQhDFbWlR",
        "colab_type": "text"
      },
      "source": [
        "#4. Enter DCM Standard Bulk Parameters\n",
        "Aggregate multiple standard DCM reports into one BigQuery or Sheet.\n",
        " 1. See API docs for <a href='https://developers.google.com/doubleclick-advertisers/v3.2/dimensions' target='_blank'>Metrics</a>.\n",
        " 1. DCM report name format '[Report Name] [Account ID] ( StarThinker )'.\n",
        " 1. Specify either bucket and path or dataset and table.\n",
        " 1. Schema is pulled from the official DCM specification.\n",
        "Modify the values below for your use case, can be done multiple times, then click play.\n"
      ]
    },
    {
      "cell_type": "code",
      "metadata": {
        "id": "lv8A1Ppcor5y",
        "colab_type": "code"
      },
      "source": [
        "FIELDS = {\n",
        "  \"accounts\":,\n",
        "  \"name\":\"\",\n",
        "  \"range\":LAST_7_DAYS,\n",
        "  \"dcm_dimensions\":['date', 'platformType', 'creativeType', 'state', 'dmaRegion'],\n",
        "  \"dcm_metrics\":['impressions'],\n",
        "  \"dataset\":\"\",\n",
        "  \"table\":\"\",\n",
        "  \"bucket\":\"\",\n",
        "  \"path\":\"DCM_Report\",\n",
        "  \"delete\":False,\n",
        "  \"datastudio\":True,\n",
        "}\n",
        "\n",
        "print(\"Parameters Set To: %s\" % FIELDS)\n"
      ]
    },
    {
      "cell_type": "markdown",
      "metadata": {
        "id": "J0L8XVQVmzFE",
        "colab_type": "text"
      },
      "source": [
        "#5. Execute DCM Standard Bulk\n",
        "This does NOT need to be modified unles you are changing the recipe, click play.\n"
      ]
    },
    {
      "cell_type": "code",
      "metadata": {
        "id": "qEJ36AT8ELZh",
        "colab_type": "code"
      },
      "source": [
        "from starthinker.util.project import project\n",
        "from starthinker.script.parse import json_set_fields\n",
        "\n",
        "USER_CREDENTIALS = '/content/user.json'\n",
        "\n",
        "TASKS = [ { 'dcm_bulk': { 'accounts': { 'field': { 'default': '',\n",
        "                                           'kind': 'integer_list',\n",
        "                                           'name': 'accounts',\n",
        "                                           'order': 1}},\n",
        "                  'auth': 'user',\n",
        "                  'datastudio': { 'field': { 'default': True,\n",
        "                                             'kind': 'boolean',\n",
        "                                             'name': 'datastudio',\n",
        "                                             'order': 11}},\n",
        "                  'delete': { 'field': { 'default': False,\n",
        "                                         'kind': 'boolean',\n",
        "                                         'name': 'delete',\n",
        "                                         'order': 10}},\n",
        "                  'name': { 'field': { 'default': '',\n",
        "                                       'kind': 'string',\n",
        "                                       'name': 'name',\n",
        "                                       'order': 2}},\n",
        "                  'out': { 'bigquery': { 'dataset': { 'field': { 'default': '',\n",
        "                                                                 'kind': 'string',\n",
        "                                                                 'name': 'dataset',\n",
        "                                                                 'order': 5}},\n",
        "                                         'table': { 'field': { 'default': '',\n",
        "                                                               'kind': 'string',\n",
        "                                                               'name': 'table',\n",
        "                                                               'order': 6}}},\n",
        "                           'storage': { 'bucket': { 'field': { 'default': '',\n",
        "                                                               'kind': 'string',\n",
        "                                                               'name': 'bucket',\n",
        "                                                               'order': 7}},\n",
        "                                        'path': { 'field': { 'default': 'DCM_Report',\n",
        "                                                             'kind': 'string',\n",
        "                                                             'name': 'path',\n",
        "                                                             'order': 8}}}},\n",
        "                  'report': { 'dimensions': { 'field': { 'default': [ 'date',\n",
        "                                                                      'platformType',\n",
        "                                                                      'creativeType',\n",
        "                                                                      'state',\n",
        "                                                                      'dmaRegion'],\n",
        "                                                         'kind': 'string_list',\n",
        "                                                         'name': 'dcm_dimensions',\n",
        "                                                         'order': 4}},\n",
        "                              'metrics': { 'field': { 'default': [ 'impressions'],\n",
        "                                                      'kind': 'string_list',\n",
        "                                                      'name': 'dcm_metrics',\n",
        "                                                      'order': 5}},\n",
        "                              'relativeDateRange': { 'field': { 'choices': [ 'LAST_24_MONTHS',\n",
        "                                                                             'LAST_30_DAYS',\n",
        "                                                                             'LAST_365_DAYS',\n",
        "                                                                             'LAST_7_DAYS',\n",
        "                                                                             'LAST_90_DAYS',\n",
        "                                                                             'MONTH_TO_DATE',\n",
        "                                                                             'PREVIOUS_MONTH',\n",
        "                                                                             'PREVIOUS_QUARTER',\n",
        "                                                                             'PREVIOUS_WEEK',\n",
        "                                                                             'PREVIOUS_YEAR',\n",
        "                                                                             'QUARTER_TO_DATE',\n",
        "                                                                             'TODAY',\n",
        "                                                                             'WEEK_TO_DATE',\n",
        "                                                                             'YEAR_TO_DATE',\n",
        "                                                                             'YESTERDAY'],\n",
        "                                                                'default': 'LAST_7_DAYS',\n",
        "                                                                'kind': 'choice',\n",
        "                                                                'name': 'range',\n",
        "                                                                'order': 3}},\n",
        "                              'timeout': 0,\n",
        "                              'type': 'STANDARD'}}}]\n",
        "\n",
        "json_set_fields(TASKS, FIELDS)\n",
        "project.initialize(_recipe={ 'tasks':TASKS }, _project=CLOUD_PROJECT, _user=USER_CREDENTIALS, _client=CLIENT_CREDENTIALS, _verbose=True)\n",
        "project.execute()\n"
      ]
    }
  ]
}
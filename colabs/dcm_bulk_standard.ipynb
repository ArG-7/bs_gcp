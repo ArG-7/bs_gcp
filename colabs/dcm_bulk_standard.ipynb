{
  "license": "Apache License, Version 2.0",
  "copyright": "Copyright 2018 Google Inc.",
  "nbformat": "4",
  "nbformat_minor": "0",
  "metadata": {
    "colab": {
      "name": "DCM Standard Bulk",
      "provenance": [],
      "collapsed_sections": [],
      "toc_visible": true
    },
    "kernelspec": {
      "name": "python3",
      "display_name": "Python 3"
    }
  },
  "cells": [
    {
      "cell_type": "markdown",
      "metadata": {
        "id": "V3gi14q4rGPg",
        "colab_type": "text"
      },
      "source": [
        "#1. Install Dependencies\n",
        "First install the libraries needed to execute recipes, this only needs to be done once, then click play.\n"
      ]
    },
    {
      "cell_type": "code",
      "metadata": {
        "id": "AeBwV8CNixNz",
        "colab_type": "code"
      },
      "source": [
        "!pip install git+https://github.com/google/starthinker\n"
      ]
    },
    {
      "cell_type": "markdown",
      "metadata": {
        "id": "Wt3Kq6CUzaVx",
        "colab_type": "text"
      },
      "source": [
        "#2. Get Cloud Project ID\n",
        "To run this recipe [requires a Google Cloud Project](https://github.com/google/starthinker/blob/master/tutorials/cloud_project.md), this only needs to be done once, then click play.\n"
      ]
    },
    {
      "cell_type": "code",
      "metadata": {
        "id": "H9lbapXHmBD1",
        "colab_type": "code"
      },
      "source": [
        "CLOUD_PROJECT = 'PASTE PROJECT ID HERE'\n",
        "\n",
        "print(\"Cloud Project Set To: %s\" % CLOUD_PROJECT)\n"
      ]
    },
    {
      "cell_type": "markdown",
      "metadata": {
        "id": "x0NIOziNATQL",
        "colab_type": "text"
      },
      "source": [
        "#3. Get Client Credentials\n",
        "To read and write to various endpoints requires [downloading client credentials](https://github.com/google/starthinker/blob/master/tutorials/cloud_client_installed.md), this only needs to be done once, then click play.\n"
      ]
    },
    {
      "cell_type": "code",
      "metadata": {
        "id": "9zUhzuk8ShdN",
        "colab_type": "code"
      },
      "source": [
        "CLIENT_CREDENTIALS = 'PASTE CREDENTIALS HERE'\n",
        "\n",
        "print(\"Client Credentials Set To: %s\" % CLIENT_CREDENTIALS)\n"
      ]
    },
    {
      "cell_type": "markdown",
      "metadata": {
        "id": "c7FS8RPpNxu2",
        "colab_type": "text"
      },
      "source": [
        "#4. Enter DCM Standard Bulk Parameters\n",
        "Aggregate multiple standard DCM reports into one BigQuery or Sheet.\n",
        " 1. See API docs for <a href='https://developers.google.com/doubleclick-advertisers/v3.2/dimensions' target='_blank'>Metrics</a>.\n",
        " 1. DCM report name format '[Report Name] [Account ID] ( StarThinker )'.\n",
        " 1. Specify either bucket and path or dataset and table.\n",
        " 1. Schema is pulled from the official DCM specification.\n",
        "Modify the values below for your use case, can be done multiple times, then click play.\n"
      ]
    },
    {
      "cell_type": "code",
      "metadata": {
        "id": "b4fdwjTLKQqz",
        "colab_type": "code"
      },
      "source": [
        "FIELDS = {\n",
        "  \"accounts\":,\n",
        "  \"name\":\"\",\n",
        "  \"range\":LAST_7_DAYS,\n",
        "  \"dcm_dimensions\":['date', 'platformType', 'creativeType', 'state', 'dmaRegion'],\n",
        "  \"dcm_metrics\":['impressions'],\n",
        "  \"dataset\":\"\",\n",
        "  \"table\":\"\",\n",
        "  \"bucket\":\"\",\n",
        "  \"path\":\"DCM_Report\",\n",
        "  \"delete\":False,\n",
        "  \"datastudio\":True,\n",
        "}\n",
        "\n",
        "print(\"Parameters Set To: %s\" % FIELDS)\n"
      ]
    },
    {
      "cell_type": "markdown",
      "metadata": {
        "id": "HVymVmDR0mvn",
        "colab_type": "text"
      },
      "source": [
        "#5. Execute DCM Standard Bulk\n",
        "This does NOT need to be modified unles you are changing the recipe, click play.\n"
      ]
    },
    {
      "cell_type": "code",
      "metadata": {
        "id": "kvw5gt59fP0F",
        "colab_type": "code"
      },
      "source": [
        "from starthinker.util.project import project\n",
        "from starthinker.script.parse import json_set_fields\n",
        "\n",
        "USER_CREDENTIALS = '/content/user.json'\n",
        "\n",
        "TASKS = [\n",
        "  {\n",
        "    \"dcm_bulk\": {\n",
        "      \"auth\": \"user\",\n",
        "      \"accounts\": {\n",
        "        \"field\": {\n",
        "          \"name\": \"accounts\",\n",
        "          \"kind\": \"integer_list\",\n",
        "          \"order\": 1,\n",
        "          \"default\": \"\"\n",
        "        }\n",
        "      },\n",
        "      \"name\": {\n",
        "        \"field\": {\n",
        "          \"name\": \"name\",\n",
        "          \"kind\": \"string\",\n",
        "          \"order\": 2,\n",
        "          \"default\": \"\"\n",
        "        }\n",
        "      },\n",
        "      \"report\": {\n",
        "        \"type\": \"STANDARD\",\n",
        "        \"timeout\": 0,\n",
        "        \"relativeDateRange\": {\n",
        "          \"field\": {\n",
        "            \"name\": \"range\",\n",
        "            \"kind\": \"choice\",\n",
        "            \"order\": 3,\n",
        "            \"default\": \"LAST_7_DAYS\",\n",
        "            \"choices\": [\n",
        "              \"LAST_24_MONTHS\",\n",
        "              \"LAST_30_DAYS\",\n",
        "              \"LAST_365_DAYS\",\n",
        "              \"LAST_7_DAYS\",\n",
        "              \"LAST_90_DAYS\",\n",
        "              \"MONTH_TO_DATE\",\n",
        "              \"PREVIOUS_MONTH\",\n",
        "              \"PREVIOUS_QUARTER\",\n",
        "              \"PREVIOUS_WEEK\",\n",
        "              \"PREVIOUS_YEAR\",\n",
        "              \"QUARTER_TO_DATE\",\n",
        "              \"TODAY\",\n",
        "              \"WEEK_TO_DATE\",\n",
        "              \"YEAR_TO_DATE\",\n",
        "              \"YESTERDAY\"\n",
        "            ]\n",
        "          }\n",
        "        },\n",
        "        \"dimensions\": {\n",
        "          \"field\": {\n",
        "            \"name\": \"dcm_dimensions\",\n",
        "            \"kind\": \"string_list\",\n",
        "            \"order\": 4,\n",
        "            \"default\": [\n",
        "              \"date\",\n",
        "              \"platformType\",\n",
        "              \"creativeType\",\n",
        "              \"state\",\n",
        "              \"dmaRegion\"\n",
        "            ]\n",
        "          }\n",
        "        },\n",
        "        \"metrics\": {\n",
        "          \"field\": {\n",
        "            \"name\": \"dcm_metrics\",\n",
        "            \"kind\": \"string_list\",\n",
        "            \"order\": 5,\n",
        "            \"default\": [\n",
        "              \"impressions\"\n",
        "            ]\n",
        "          }\n",
        "        }\n",
        "      },\n",
        "      \"out\": {\n",
        "        \"bigquery\": {\n",
        "          \"dataset\": {\n",
        "            \"field\": {\n",
        "              \"name\": \"dataset\",\n",
        "              \"kind\": \"string\",\n",
        "              \"order\": 5,\n",
        "              \"default\": \"\"\n",
        "            }\n",
        "          },\n",
        "          \"table\": {\n",
        "            \"field\": {\n",
        "              \"name\": \"table\",\n",
        "              \"kind\": \"string\",\n",
        "              \"order\": 6,\n",
        "              \"default\": \"\"\n",
        "            }\n",
        "          }\n",
        "        },\n",
        "        \"storage\": {\n",
        "          \"bucket\": {\n",
        "            \"field\": {\n",
        "              \"name\": \"bucket\",\n",
        "              \"kind\": \"string\",\n",
        "              \"order\": 7,\n",
        "              \"default\": \"\"\n",
        "            }\n",
        "          },\n",
        "          \"path\": {\n",
        "            \"field\": {\n",
        "              \"name\": \"path\",\n",
        "              \"kind\": \"string\",\n",
        "              \"order\": 8,\n",
        "              \"default\": \"DCM_Report\"\n",
        "            }\n",
        "          }\n",
        "        }\n",
        "      },\n",
        "      \"delete\": {\n",
        "        \"field\": {\n",
        "          \"name\": \"delete\",\n",
        "          \"kind\": \"boolean\",\n",
        "          \"order\": 10,\n",
        "          \"default\": false\n",
        "        }\n",
        "      },\n",
        "      \"datastudio\": {\n",
        "        \"field\": {\n",
        "          \"name\": \"datastudio\",\n",
        "          \"kind\": \"boolean\",\n",
        "          \"order\": 11,\n",
        "          \"default\": true\n",
        "        }\n",
        "      }\n",
        "    }\n",
        "  }\n",
        "]\n",
        "\n",
        "json_set_fields(TASKS, FIELDS)\n",
        "project.initialize(_recipe={ 'tasks':TASKS }, _project=CLOUD_PROJECT, _user=USER_CREDENTIALS, _client=CLIENT_CREDENTIALS, _verbose=True)\n",
        "project.execute()\n"
      ]
    }
  ]
}
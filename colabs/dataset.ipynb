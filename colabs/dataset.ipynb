{
  "license": "Apache License, Version 2.0",
  "copyright": "Copyright 2018 Google Inc.",
  "nbformat": "4",
  "nbformat_minor": "0",
  "metadata": {
    "colab": {
      "name": "Dataset",
      "provenance": [],
      "collapsed_sections": [],
      "toc_visible": true
    },
    "kernelspec": {
      "name": "python3",
      "display_name": "Python 3"
    }
  },
  "cells": [
    {
      "cell_type": "markdown",
      "metadata": {
        "id": "LTSBenCbrBpo",
        "colab_type": "text"
      },
      "source": [
        "#1. Install Dependencies\n",
        "First install the libraries needed to execute recipes, this only needs to be done once, then click play.\n"
      ]
    },
    {
      "cell_type": "code",
      "metadata": {
        "id": "a3ESY6mcDcy3",
        "colab_type": "code"
      },
      "source": [
        "!pip install git+https://github.com/google/starthinker\n"
      ]
    },
    {
      "cell_type": "markdown",
      "metadata": {
        "id": "yqucKWTZgbbe",
        "colab_type": "text"
      },
      "source": [
        "#2. Get Cloud Project ID\n",
        "To run this recipe [requires a Google Cloud Project](https://github.com/google/starthinker/blob/master/tutorials/cloud_project.md), this only needs to be done once, then click play.\n"
      ]
    },
    {
      "cell_type": "code",
      "metadata": {
        "id": "4kx6fAkCMn0p",
        "colab_type": "code"
      },
      "source": [
        "CLOUD_PROJECT = 'PASTE PROJECT ID HERE'\n",
        "\n",
        "print(\"Cloud Project Set To: %s\" % CLOUD_PROJECT)\n"
      ]
    },
    {
      "cell_type": "markdown",
      "metadata": {
        "id": "u7jZCmHSlcv2",
        "colab_type": "text"
      },
      "source": [
        "#3. Get Client Credentials\n",
        "To read and write to various endpoints requires [downloading client credentials](https://github.com/google/starthinker/blob/master/tutorials/cloud_client_installed.md), this only needs to be done once, then click play.\n"
      ]
    },
    {
      "cell_type": "code",
      "metadata": {
        "id": "j5H4x0ebaPxL",
        "colab_type": "code"
      },
      "source": [
        "CLIENT_CREDENTIALS = 'PASTE CREDENTIALS HERE'\n",
        "\n",
        "print(\"Client Credentials Set To: %s\" % CLIENT_CREDENTIALS)\n"
      ]
    },
    {
      "cell_type": "markdown",
      "metadata": {
        "id": "nAupi3qMqBab",
        "colab_type": "text"
      },
      "source": [
        "#4. Enter Dataset Parameters\n",
        "Create and permission a dataset in BigQuery.\n",
        " 1. Specify the name of the dataset.\n",
        " 1. If dataset exists, it is inchanged.\n",
        " 1. Add emails and / or groups to add read permission.\n",
        " 1. CAUTION: Removing permissions in StarThinker has no effect.\n",
        " 1. CAUTION: To remove permissions you have to edit the dataset.\n",
        "Modify the values below for your use case, can be done multiple times, then click play.\n"
      ]
    },
    {
      "cell_type": "code",
      "metadata": {
        "id": "s1ZjHSEuiLjt",
        "colab_type": "code"
      },
      "source": [
        "FIELDS = {\n",
        "  \"dataset_dataset\":\"\", # Name of Google BigQuery dataset to create.\n",
        "  \"dataset_emails\":[], # Comma separated emails.\n",
        "  \"dataset_groups\":[], # Comma separated groups.\n",
        "}\n",
        "\n",
        "print(\"Parameters Set To: %s\" % FIELDS)\n"
      ]
    },
    {
      "cell_type": "markdown",
      "metadata": {
        "id": "UGCTHUIVGTMh",
        "colab_type": "text"
      },
      "source": [
        "#5. Execute Dataset\n",
        "This does NOT need to be modified unles you are changing the recipe, click play.\n"
      ]
    },
    {
      "cell_type": "code",
      "metadata": {
        "id": "kuomtcEd9ETN",
        "colab_type": "code"
      },
      "source": [
        "from starthinker.util.project import project\n",
        "from starthinker.script.parse import json_set_fields\n",
        "\n",
        "USER_CREDENTIALS = '/content/user.json'\n",
        "\n",
        "TASKS = [\n",
        "  {\n",
        "    \"dataset\": {\n",
        "      \"auth\": \"user\",\n",
        "      \"dataset\": {\n",
        "        \"field\": {\n",
        "          \"name\": \"dataset_dataset\",\n",
        "          \"kind\": \"string\",\n",
        "          \"order\": 1,\n",
        "          \"default\": \"\",\n",
        "          \"description\": \"Name of Google BigQuery dataset to create.\"\n",
        "        }\n",
        "      },\n",
        "      \"emails\": {\n",
        "        \"field\": {\n",
        "          \"name\": \"dataset_emails\",\n",
        "          \"kind\": \"string_list\",\n",
        "          \"order\": 2,\n",
        "          \"default\": [],\n",
        "          \"description\": \"Comma separated emails.\"\n",
        "        }\n",
        "      },\n",
        "      \"groups\": {\n",
        "        \"field\": {\n",
        "          \"name\": \"dataset_groups\",\n",
        "          \"kind\": \"string_list\",\n",
        "          \"order\": 3,\n",
        "          \"default\": [],\n",
        "          \"description\": \"Comma separated groups.\"\n",
        "        }\n",
        "      }\n",
        "    }\n",
        "  }\n",
        "]\n",
        "\n",
        "json_set_fields(TASKS, FIELDS)\n",
        "project.initialize(_recipe={ 'tasks':TASKS }, _project=CLOUD_PROJECT, _user=USER_CREDENTIALS, _client=CLIENT_CREDENTIALS, _verbose=True)\n",
        "project.execute()\n"
      ]
    }
  ]
}
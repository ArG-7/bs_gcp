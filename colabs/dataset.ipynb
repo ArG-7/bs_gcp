{
  "license": "Apache License, Version 2.0",
  "copyright": "Copyright 2018 Google Inc.",
  "nbformat": "4",
  "nbformat_minor": "0",
  "metadata": {
    "colab": {
      "name": "Dataset",
      "provenance": [],
      "collapsed_sections": [],
      "toc_visible": true
    },
    "kernelspec": {
      "name": "python3",
      "display_name": "Python 3"
    }
  },
  "cells": [
    {
      "cell_type": "markdown",
      "metadata": {
        "id": "DuJWhnfImHae",
        "colab_type": "text"
      },
      "source": [
        "#1. Install Dependencies\n",
        "First install the libraries needed to execute recipes, this only needs to be done once, then click play.\n"
      ]
    },
    {
      "cell_type": "code",
      "metadata": {
        "id": "dAaEeM6OcfKq",
        "colab_type": "code"
      },
      "source": [
        "!pip install git+https://github.com/google/starthinker\n"
      ]
    },
    {
      "cell_type": "markdown",
      "metadata": {
        "id": "0SlwrE0XDMFM",
        "colab_type": "text"
      },
      "source": [
        "#2. Get Cloud Project ID\n",
        "To run this recipe [requires a Google Cloud Project](https://github.com/google/starthinker/blob/master/tutorials/cloud_project.md), this only needs to be done once, then click play.\n"
      ]
    },
    {
      "cell_type": "code",
      "metadata": {
        "id": "Ud2OijiF81Jj",
        "colab_type": "code"
      },
      "source": [
        "CLOUD_PROJECT = 'PASTE PROJECT ID HERE'\n",
        "\n",
        "print(\"Cloud Project Set To: %s\" % CLOUD_PROJECT)\n"
      ]
    },
    {
      "cell_type": "markdown",
      "metadata": {
        "id": "OxFimFVO92kN",
        "colab_type": "text"
      },
      "source": [
        "#3. Get Client Credentials\n",
        "To read and write to various endpoints requires [downloading client credentials](https://github.com/google/starthinker/blob/master/tutorials/cloud_client_installed.md), this only needs to be done once, then click play.\n"
      ]
    },
    {
      "cell_type": "code",
      "metadata": {
        "id": "tjy8UvJgHbPQ",
        "colab_type": "code"
      },
      "source": [
        "CLIENT_CREDENTIALS = 'PASTE CREDENTIALS HERE'\n",
        "\n",
        "print(\"Client Credentials Set To: %s\" % CLIENT_CREDENTIALS)\n"
      ]
    },
    {
      "cell_type": "markdown",
      "metadata": {
        "id": "vKB0OpJGeHeu",
        "colab_type": "text"
      },
      "source": [
        "#4. Enter Dataset Parameters\n",
        "Create and permission a dataset in BigQuery.\n",
        " 1. Specify the name of the dataset.\n",
        " 1. If dataset exists, it is inchanged.\n",
        " 1. Add emails and / or groups to add read permission.\n",
        " 1. CAUTION: Removing permissions in StarThinker has no effect.\n",
        " 1. CAUTION: To remove permissions you have to edit the dataset.\n",
        "Modify the values below for your use case, can be done multiple times, then click play.\n"
      ]
    },
    {
      "cell_type": "code",
      "metadata": {
        "id": "NjsL439cWFuz",
        "colab_type": "code"
      },
      "source": [
        "FIELDS = {\n",
        "  \"dataset_dataset\":\"\", # Name of Google BigQuery dataset to create.\n",
        "  \"dataset_emails\":[], # Comma separated emails.\n",
        "  \"dataset_groups\":[], # Comma separated groups.\n",
        "}\n",
        "\n",
        "print(\"Parameters Set To: %s\" % FIELDS)\n"
      ]
    },
    {
      "cell_type": "markdown",
      "metadata": {
        "id": "mJvd5oHwsx2d",
        "colab_type": "text"
      },
      "source": [
        "#5. Execute Dataset\n",
        "This does NOT need to be modified unles you are changing the recipe, click play.\n"
      ]
    },
    {
      "cell_type": "code",
      "metadata": {
        "id": "3mkyV3XdIqDh",
        "colab_type": "code"
      },
      "source": [
        "from starthinker.util.project import project\n",
        "from starthinker.script.parse import json_set_fields\n",
        "\n",
        "USER_CREDENTIALS = '/content/user.json'\n",
        "\n",
        "TASKS = [ { 'dataset': { 'auth': 'user',\n",
        "                 'dataset': { 'field': { 'default': '',\n",
        "                                         'description': 'Name '\n",
        "                                                        'of '\n",
        "                                                        'Google '\n",
        "                                                        'BigQuery '\n",
        "                                                        'dataset '\n",
        "                                                        'to '\n",
        "                                                        'create.',\n",
        "                                         'kind': 'string',\n",
        "                                         'name': 'dataset_dataset',\n",
        "                                         'order': 1}},\n",
        "                 'emails': { 'field': { 'default': [ ],\n",
        "                                        'description': 'Comma '\n",
        "                                                       'separated '\n",
        "                                                       'emails.',\n",
        "                                        'kind': 'string_list',\n",
        "                                        'name': 'dataset_emails',\n",
        "                                        'order': 2}},\n",
        "                 'groups': { 'field': { 'default': [ ],\n",
        "                                        'description': 'Comma '\n",
        "                                                       'separated '\n",
        "                                                       'groups.',\n",
        "                                        'kind': 'string_list',\n",
        "                                        'name': 'dataset_groups',\n",
        "                                        'order': 3}}}}]\n",
        "\n",
        "json_set_fields(TASKS, FIELDS)\n",
        "project.initialize(_recipe={ 'tasks':TASKS }, _project=CLOUD_PROJECT, _user=USER_CREDENTIALS, _client=CLIENT_CREDENTIALS, _verbose=True)\n",
        "project.execute()\n"
      ]
    }
  ]
}
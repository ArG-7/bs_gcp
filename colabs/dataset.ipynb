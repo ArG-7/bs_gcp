{
  "metadata": {
    "colab": {
      "toc_visible": true,
      "collapsed_sections": [],
      "name": "BigQuery Dataset",
      "provenance": []
    },
    "kernelspec": {
      "display_name": "Python 3",
      "name": "python3"
    }
  },
  "copyright": "Copyright 2020 Google LLC",
  "nbformat_minor": "0",
  "license": "Apache License, Version 2.0",
  "nbformat": "4",
  "cells": [
    {
      "metadata": {
        "colab_type": "text"
      },
      "source": [
        "#1. Install Dependencies\n",
        "First install the libraries needed to execute recipes, this only needs to be done once, then click play.\n"
      ],
      "cell_type": "markdown"
    },
    {
      "metadata": {
        "colab_type": "code"
      },
      "source": [
        "!pip install git+https://github.com/google/starthinker\n"
      ],
      "cell_type": "code"
    },
    {
      "metadata": {
        "colab_type": "text"
      },
      "source": [
        "#2. Get Cloud Project ID\n",
        "To run this recipe [requires a Google Cloud Project](https://github.com/google/starthinker/blob/master/tutorials/cloud_project.md), this only needs to be done once, then click play.\n"
      ],
      "cell_type": "markdown"
    },
    {
      "metadata": {
        "colab_type": "code"
      },
      "source": [
        "CLOUD_PROJECT = 'PASTE PROJECT ID HERE'\n",
        "\n",
        "print(\"Cloud Project Set To: %s\" % CLOUD_PROJECT)\n"
      ],
      "cell_type": "code"
    },
    {
      "metadata": {
        "colab_type": "text"
      },
      "source": [
        "#3. Get Client Credentials\n",
        "To read and write to various endpoints requires [downloading client credentials](https://github.com/google/starthinker/blob/master/tutorials/cloud_client_installed.md), this only needs to be done once, then click play.\n"
      ],
      "cell_type": "markdown"
    },
    {
      "metadata": {
        "colab_type": "code"
      },
      "source": [
        "CLIENT_CREDENTIALS = 'PASTE CREDENTIALS HERE'\n",
        "\n",
        "print(\"Client Credentials Set To: %s\" % CLIENT_CREDENTIALS)\n"
      ],
      "cell_type": "code"
    },
    {
      "metadata": {
        "colab_type": "text"
      },
      "source": [
        "#4. Enter BigQuery Dataset Parameters\n",
        "Create and permission a dataset in BigQuery.\n",
        " 1. Specify the name of the dataset.\n",
        " 1. If dataset exists, it is inchanged.\n",
        " 1. Add emails and / or groups to add read permission.\n",
        " 1. CAUTION: Removing permissions in StarThinker has no effect.\n",
        " 1. CAUTION: To remove permissions you have to edit the dataset.\n",
        "Modify the values below for your use case, can be done multiple times, then click play.\n"
      ],
      "cell_type": "markdown"
    },
    {
      "metadata": {
        "colab_type": "code"
      },
      "source": [
        "FIELDS = {\n",
        "  'dataset_dataset': '',  # Name of Google BigQuery dataset to create.\n",
        "  'auth_write': 'service',  # Credentials used for writing data.\n",
        "  'dataset_emails': [],  # Comma separated emails.\n",
        "  'dataset_groups': [],  # Comma separated groups.\n",
        "}\n",
        "\n",
        "print(\"Parameters Set To: %s\" % FIELDS)\n"
      ],
      "cell_type": "code"
    },
    {
      "metadata": {
        "colab_type": "text"
      },
      "source": [
        "#5. Execute BigQuery Dataset\n",
        "This does NOT need to be modified unles you are changing the recipe, click play.\n"
      ],
      "cell_type": "markdown"
    },
    {
      "metadata": {
        "colab_type": "code"
      },
      "source": [
        "from starthinker.util.project import project\n",
        "from starthinker.script.parse import json_set_fields\n",
        "\n",
        "USER_CREDENTIALS = '/content/user.json'\n",
        "\n",
        "TASKS = [\n",
        "  {\n",
        "    'dataset': {\n",
        "      'auth': 'user',\n",
        "      'dataset': {'field': {'description': 'Name of Google BigQuery dataset to create.','name': 'dataset_dataset','order': 1,'default': '','kind': 'string'}},\n",
        "      'emails': {'field': {'description': 'Comma separated emails.','name': 'dataset_emails','order': 2,'default': [],'kind': 'string_list'}},\n",
        "      'groups': {'field': {'description': 'Comma separated groups.','name': 'dataset_groups','order': 3,'default': [],'kind': 'string_list'}}\n",
        "    }\n",
        "  }\n",
        "]\n",
        "\n",
        "json_set_fields(TASKS, FIELDS)\n",
        "\n",
        "project.initialize(_recipe={ 'tasks':TASKS }, _project=CLOUD_PROJECT, _user=USER_CREDENTIALS, _client=CLIENT_CREDENTIALS, _verbose=True, _force=True)\n",
        "project.execute(_force=True)\n"
      ],
      "cell_type": "code"
    }
  ]
}
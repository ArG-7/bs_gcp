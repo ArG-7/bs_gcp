{
  "copyright": "Copyright 2020 Google LLC",
  "metadata": {
    "kernelspec": {
      "display_name": "Python 3",
      "name": "python3"
    },
    "colab": {
      "name": "Census Data Correlation",
      "toc_visible": true,
      "collapsed_sections": [],
      "provenance": []
    }
  },
  "license": "Apache License, Version 2.0",
  "cells": [
    {
      "cell_type": "markdown",
      "source": [
        "#1. Install Dependencies\n",
        "First install the libraries needed to execute recipes, this only needs to be done once, then click play.\n"
      ],
      "metadata": {
        "colab_type": "text"
      }
    },
    {
      "cell_type": "code",
      "source": [
        "!pip install git+https://github.com/google/starthinker\n"
      ],
      "metadata": {
        "colab_type": "code"
      }
    },
    {
      "cell_type": "markdown",
      "source": [
        "#2. Get Cloud Project ID\n",
        "To run this recipe [requires a Google Cloud Project](https://github.com/google/starthinker/blob/master/tutorials/cloud_project.md), this only needs to be done once, then click play.\n"
      ],
      "metadata": {
        "colab_type": "text"
      }
    },
    {
      "cell_type": "code",
      "source": [
        "CLOUD_PROJECT = 'PASTE PROJECT ID HERE'\n",
        "\n",
        "print(\"Cloud Project Set To: %s\" % CLOUD_PROJECT)\n"
      ],
      "metadata": {
        "colab_type": "code"
      }
    },
    {
      "cell_type": "markdown",
      "source": [
        "#3. Get Client Credentials\n",
        "To read and write to various endpoints requires [downloading client credentials](https://github.com/google/starthinker/blob/master/tutorials/cloud_client_installed.md), this only needs to be done once, then click play.\n"
      ],
      "metadata": {
        "colab_type": "text"
      }
    },
    {
      "cell_type": "code",
      "source": [
        "CLIENT_CREDENTIALS = 'PASTE CREDENTIALS HERE'\n",
        "\n",
        "print(\"Client Credentials Set To: %s\" % CLIENT_CREDENTIALS)\n"
      ],
      "metadata": {
        "colab_type": "code"
      }
    },
    {
      "cell_type": "markdown",
      "source": [
        "#4. Enter Census Data Correlation Parameters\n",
        "Correlate another table with US Census data.  Expands a data set dimensions by finding population segments that correlate with the master table.\n",
        " 1. Pre-requisite is Census Normalize, run that at least once.\n",
        " 1. Specify JOIN, PASS, SUM, and CORRELATE columns to build the correlation query.\n",
        " 1. Define the DATASET and TABLE for the joinable source. Can be a view.\n",
        " 1. Choose the significance level.  More significance usually means more NULL results, balance quantity and quality using this value.\n",
        " 1. Specify where to write the results.\n",
        " 1. <br>IMPORTANT:</b> If you use VIEWS, you will have to delete them manually if the recipe changes.\n",
        "Modify the values below for your use case, can be done multiple times, then click play.\n"
      ],
      "metadata": {
        "colab_type": "text"
      }
    },
    {
      "cell_type": "code",
      "source": [
        "FIELDS = {\n",
        "  'auth': 'service',  # Credentials used for writing data.\n",
        "  'join': '',  # Name of column to join on, must match Census Geo_Id column.\n",
        "  'pass': [],  # Comma seperated list of columns to pass through.\n",
        "  'sum': [],  # Comma seperated list of columns to sum, optional.\n",
        "  'correlate': [],  # Comma seperated list of percentage columns to correlate.\n",
        "  'from_dataset': '',  # Existing BigQuery dataset.\n",
        "  'from_table': '',  # Table to use as join data.\n",
        "  'significance': '80',  # Select level of significance to test.\n",
        "  'to_dataset': '',  # Existing BigQuery dataset.\n",
        "  'type': 'table',  # Write Census_Percent as table or view.\n",
        "}\n",
        "\n",
        "print(\"Parameters Set To: %s\" % FIELDS)\n"
      ],
      "metadata": {
        "colab_type": "code"
      }
    },
    {
      "cell_type": "markdown",
      "source": [
        "#5. Execute Census Data Correlation\n",
        "This does NOT need to be modified unles you are changing the recipe, click play.\n"
      ],
      "metadata": {
        "colab_type": "text"
      }
    },
    {
      "cell_type": "code",
      "source": [
        "from starthinker.util.project import project\n",
        "from starthinker.script.parse import json_set_fields\n",
        "\n",
        "USER_CREDENTIALS = '/content/user.json'\n",
        "\n",
        "TASKS = [\n",
        "  {\n",
        "    'census': {\n",
        "      'auth': 'user',\n",
        "      'to': {\n",
        "        'type': {'field': {'choices': ['table','view'],'description': 'Write Census_Percent as table or view.','order': 10,'name': 'type','default': 'table','kind': 'choice'}},\n",
        "        'dataset': {'field': {'description': 'Existing BigQuery dataset.','name': 'to_dataset','default': '','order': 9,'kind': 'string'}}\n",
        "      },\n",
        "      'correlate': {\n",
        "        'table': {'field': {'description': 'Table to use as join data.','name': 'from_table','default': '','order': 6,'kind': 'string'}},\n",
        "        'correlate': {'field': {'description': 'Comma seperated list of percentage columns to correlate.','name': 'correlate','default': [],'order': 4,'kind': 'string_list'}},\n",
        "        'sum': {'field': {'description': 'Comma seperated list of columns to sum, optional.','name': 'sum','default': [],'order': 3,'kind': 'string_list'}},\n",
        "        'significance': {'field': {'choices': ['80','90','98','99','99.5','99.95'],'description': 'Select level of significance to test.','order': 7,'name': 'significance','default': '80','kind': 'choice'}},\n",
        "        'join': {'field': {'description': 'Name of column to join on, must match Census Geo_Id column.','name': 'join','default': '','order': 1,'kind': 'string'}},\n",
        "        'dataset': {'field': {'description': 'Existing BigQuery dataset.','name': 'from_dataset','default': '','order': 5,'kind': 'string'}},\n",
        "        'pass': {'field': {'description': 'Comma seperated list of columns to pass through.','name': 'pass','default': [],'order': 2,'kind': 'string_list'}}\n",
        "      }\n",
        "    }\n",
        "  }\n",
        "]\n",
        "\n",
        "json_set_fields(TASKS, FIELDS)\n",
        "\n",
        "project.initialize(_recipe={ 'tasks':TASKS }, _project=CLOUD_PROJECT, _user=USER_CREDENTIALS, _client=CLIENT_CREDENTIALS, _verbose=True, _force=True)\n",
        "project.execute(_force=True)\n"
      ],
      "metadata": {
        "colab_type": "code"
      }
    }
  ],
  "nbformat_minor": "0",
  "nbformat": "4"
}
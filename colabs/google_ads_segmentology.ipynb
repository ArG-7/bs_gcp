{
  "license": "Licensed under the Apache License, Version 2.0",
  "copyright": "Copyright 2020 Google LLC",
  "nbformat": 4,
  "nbformat_minor": 0,
  "metadata": {
    "colab": {
      "name": "GoogleAds Segmentology",
      "provenance": [],
      "collapsed_sections": [],
      "toc_visible": true
    },
    "kernelspec": {
      "name": "python3",
      "display_name": "Python 3"
    }
  },
  "cells": [
    {
      "cell_type": "markdown",
      "metadata": {
        "id": "c965b7e2-001",
        "colab_type": "text"
      },
      "source": [
        "#1. Install Dependencies\n",
        "First install the libraries needed to execute recipes, this only needs to be done once, then click play.\n"
      ]
    },
    {
      "cell_type": "code",
      "metadata": {
        "id": "c965b7e2-002",
        "colab_type": "code"
      },
      "source": [
        "!pip install git+https://github.com/google/starthinker\n"
      ]
    },
    {
      "cell_type": "markdown",
      "metadata": {
        "id": "c965b7e2-003",
        "colab_type": "text"
      },
      "source": [
        "#2. Get Cloud Project ID\n",
        "To run this recipe [requires a Google Cloud Project](https://github.com/google/starthinker/blob/master/tutorials/cloud_project.md), this only needs to be done once, then click play.\n"
      ]
    },
    {
      "cell_type": "code",
      "metadata": {
        "id": "c965b7e2-004",
        "colab_type": "code"
      },
      "source": [
        "CLOUD_PROJECT = 'PASTE PROJECT ID HERE'\n",
        "\n",
        "print(\"Cloud Project Set To: %s\" % CLOUD_PROJECT)\n"
      ]
    },
    {
      "cell_type": "markdown",
      "metadata": {
        "id": "c965b7e2-005",
        "colab_type": "text"
      },
      "source": [
        "#3. Get Client Credentials\n",
        "To read and write to various endpoints requires [downloading client credentials](https://github.com/google/starthinker/blob/master/tutorials/cloud_client_installed.md), this only needs to be done once, then click play.\n"
      ]
    },
    {
      "cell_type": "code",
      "metadata": {
        "id": "c965b7e2-006",
        "colab_type": "code"
      },
      "source": [
        "CLIENT_CREDENTIALS = 'PASTE CREDENTIALS HERE'\n",
        "\n",
        "print(\"Client Credentials Set To: %s\" % CLIENT_CREDENTIALS)\n"
      ]
    },
    {
      "cell_type": "markdown",
      "metadata": {
        "id": "c965b7e2-007",
        "colab_type": "text"
      },
      "source": [
        "#4. Enter GoogleAds Segmentology Parameters\n",
        "GoogleAds funnel analysis using Census data.\n",
        " 1. Wait for <b>BigQuery->->->Census_Join</b> to be created.\n",
        " 1. Join the <a hre='https://groups.google.com/d/forum/starthinker-assets' target='_blank'>StarThinker Assets Group</a> to access the following assets\n",
        " 1. Copy <a href='https://datastudio.google.com/c/u/0/reporting/3673497b-f36f-4448-8fb9-3e05ea51842f/' target='_blank'>GoogleAds Segmentology Sample</a>. Leave the Data Source as is, you will change it in the next step.\n",
        " 1. Click Edit Connection, and change to <b>BigQuery->->->Census_Join</b>.\n",
        " 1. Or give these instructions to the client.\n",
        "Modify the values below for your use case, can be done multiple times, then click play.\n"
      ]
    },
    {
      "cell_type": "code",
      "metadata": {
        "id": "c965b7e2-008",
        "colab_type": "code"
      },
      "source": [
        "FIELDS = {\n",
        "  'auth_read': 'user',  # Credentials used for reading data.\n",
        "  'customer_id': '',  # Google Ads customer.\n",
        "  'developer_token': '',  # Google Ads developer token.\n",
        "  'login_id': '',  # Google Ads login.\n",
        "  'recipe_project': '',  # Project ID hosting dataset.\n",
        "  'auth_write': 'service',  # Authorization used for writing data.\n",
        "  'recipe_slug': '',  # Name of Google BigQuery dataset to create.\n",
        "}\n",
        "\n",
        "print(\"Parameters Set To: %s\" % FIELDS)\n"
      ]
    },
    {
      "cell_type": "markdown",
      "metadata": {
        "id": "c965b7e2-009",
        "colab_type": "text"
      },
      "source": [
        "#5. Execute GoogleAds Segmentology\n",
        "This does NOT need to be modified unless you are changing the recipe, click play.\n"
      ]
    },
    {
      "cell_type": "code",
      "metadata": {
        "id": "c965b7e2-010",
        "colab_type": "code"
      },
      "source": [
        "from starthinker.util.project import project\n",
        "from starthinker.script.parse import json_set_fields\n",
        "\n",
        "USER_CREDENTIALS = '/content/user.json'\n",
        "\n",
        "TASKS = [\n",
        "  {\n",
        "    'dataset': {\n",
        "      'description': 'Create a dataset for bigquery tables.',\n",
        "      'hour': [\n",
        "        4\n",
        "      ],\n",
        "      'auth': 'user',\n",
        "      'dataset': {'field': {'name': 'recipe_slug','kind': 'string','description': 'Place where tables will be created in BigQuery.'}}\n",
        "    }\n",
        "  },\n",
        "  {\n",
        "    'bigquery': {\n",
        "      'auth': 'user',\n",
        "      'function': 'Pearson Significance Test',\n",
        "      'to': {\n",
        "        'dataset': {'field': {'name': 'recipe_slug','kind': 'string','order': 4,'default': '','description': 'Name of Google BigQuery dataset to create.'}}\n",
        "      }\n",
        "    }\n",
        "  },\n",
        "  {\n",
        "    'google_api': {\n",
        "      'auth': 'user',\n",
        "      'api': 'googleads',\n",
        "      'version': 'v5',\n",
        "      'function': 'customers.googleAds.search',\n",
        "      'kwargs': {\n",
        "        'customerId': {'field': {'name': 'customer_id','kind': 'string','description': 'Google Ads customer.','default': ''}},\n",
        "        'body': {\n",
        "          'query': 'SELECT           campaign.name,           ad_group.name,           segments.geo_target_postal_code,           metrics.impressions,           metrics.clicks,           metrics.conversions,           metrics.interactions           FROM user_location_view         '\n",
        "        }\n",
        "      },\n",
        "      'headers': {\n",
        "        'developer-token': {'field': {'name': 'developer_token','kind': 'string','description': 'Google Ads developer token.','default': ''}},\n",
        "        'login-customer-id': {'field': {'name': 'login_id','kind': 'string','description': 'Google Ads login.','default': ''}}\n",
        "      },\n",
        "      'iterate': True,\n",
        "      'results': {\n",
        "        'bigquery': {\n",
        "          'dataset': {'field': {'name': 'recipe_slug','kind': 'string','order': 4,'default': '','description': 'Name of Google BigQuery dataset to create.'}},\n",
        "          'table': 'GoogleAds_KPI',\n",
        "          'schema': [\n",
        "            {\n",
        "              'name': 'userLocationView',\n",
        "              'type': 'RECORD',\n",
        "              'mode': 'NULLABLE',\n",
        "              'fields': [\n",
        "                {\n",
        "                  'name': 'resourceName',\n",
        "                  'type': 'STRING',\n",
        "                  'mode': 'NULLABLE'\n",
        "                }\n",
        "              ]\n",
        "            },\n",
        "            {\n",
        "              'name': 'segments',\n",
        "              'type': 'RECORD',\n",
        "              'mode': 'NULLABLE',\n",
        "              'fields': [\n",
        "                {\n",
        "                  'name': 'geoTargetPostalCode',\n",
        "                  'type': 'STRING',\n",
        "                  'mode': 'NULLABLE'\n",
        "                }\n",
        "              ]\n",
        "            },\n",
        "            {\n",
        "              'name': 'metrics',\n",
        "              'type': 'RECORD',\n",
        "              'mode': 'NULLABLE',\n",
        "              'fields': [\n",
        "                {\n",
        "                  'name': 'interactions',\n",
        "                  'type': 'INTEGER',\n",
        "                  'mode': 'NULLABLE'\n",
        "                },\n",
        "                {\n",
        "                  'name': 'impressions',\n",
        "                  'type': 'INTEGER',\n",
        "                  'mode': 'NULLABLE'\n",
        "                },\n",
        "                {\n",
        "                  'name': 'conversions',\n",
        "                  'type': 'INTEGER',\n",
        "                  'mode': 'NULLABLE'\n",
        "                },\n",
        "                {\n",
        "                  'name': 'clicks',\n",
        "                  'type': 'INTEGER',\n",
        "                  'mode': 'NULLABLE'\n",
        "                }\n",
        "              ]\n",
        "            },\n",
        "            {\n",
        "              'name': 'adGroup',\n",
        "              'type': 'RECORD',\n",
        "              'mode': 'NULLABLE',\n",
        "              'fields': [\n",
        "                {\n",
        "                  'name': 'name',\n",
        "                  'type': 'STRING',\n",
        "                  'mode': 'NULLABLE'\n",
        "                },\n",
        "                {\n",
        "                  'name': 'resourceName',\n",
        "                  'type': 'STRING',\n",
        "                  'mode': 'NULLABLE'\n",
        "                }\n",
        "              ]\n",
        "            },\n",
        "            {\n",
        "              'name': 'campaign',\n",
        "              'type': 'RECORD',\n",
        "              'mode': 'NULLABLE',\n",
        "              'fields': [\n",
        "                {\n",
        "                  'name': 'name',\n",
        "                  'type': 'STRING',\n",
        "                  'mode': 'NULLABLE'\n",
        "                },\n",
        "                {\n",
        "                  'name': 'resourceName',\n",
        "                  'type': 'STRING',\n",
        "                  'mode': 'NULLABLE'\n",
        "                }\n",
        "              ]\n",
        "            }\n",
        "          ]\n",
        "        }\n",
        "      }\n",
        "    }\n",
        "  },\n",
        "  {\n",
        "    'bigquery': {\n",
        "      'auth': 'user',\n",
        "      'from': {\n",
        "        'query': 'SELECT            campaign.name AS Campaign,            adGRoup.name AS Ad_Group,            segments.geoTargetPostalCode AS Postal_Code,            SAFE_DIVIDE(metrics.impressions, SUM(metrics.impressions) OVER()) AS Impression_Percent,            SAFE_DIVIDE(metrics.clicks, metrics.impressions) AS Click_Percent,            SAFE_DIVIDE(metrics.conversions, metrics.impressions) AS Conversion_Percent,            SAFE_DIVIDE(metrics.interactions, metrics.impressions) AS Interaction_Percent,            metrics.impressions AS Impressions          FROM            `{project}.{dataset}.GoogleAds_KPI`;        ',\n",
        "        'parameters': {\n",
        "          'project': {'field': {'name': 'recipe_project','kind': 'string','description': 'Project ID hosting dataset.'}},\n",
        "          'dataset': {'field': {'name': 'recipe_slug','kind': 'string','description': 'Place where tables will be created in BigQuery.'}}\n",
        "        },\n",
        "        'legacy': False\n",
        "      },\n",
        "      'to': {\n",
        "        'dataset': {'field': {'name': 'recipe_slug','kind': 'string','description': 'Place where tables will be written in BigQuery.'}},\n",
        "        'view': 'GoogleAds_KPI_Normalized'\n",
        "      }\n",
        "    }\n",
        "  },\n",
        "  {\n",
        "    'census': {\n",
        "      'auth': 'user',\n",
        "      'normalize': {\n",
        "        'census_geography': 'zip_codes',\n",
        "        'census_year': '2018',\n",
        "        'census_span': '5yr'\n",
        "      },\n",
        "      'to': {\n",
        "        'dataset': {'field': {'name': 'recipe_slug','kind': 'string','order': 4,'default': '','description': 'Name of Google BigQuery dataset to create.'}},\n",
        "        'type': 'view'\n",
        "      }\n",
        "    }\n",
        "  },\n",
        "  {\n",
        "    'census': {\n",
        "      'auth': 'user',\n",
        "      'correlate': {\n",
        "        'join': 'Postal_Code',\n",
        "        'pass': [\n",
        "          'Campaign',\n",
        "          'Ad_Group'\n",
        "        ],\n",
        "        'sum': [\n",
        "          'Impressions'\n",
        "        ],\n",
        "        'correlate': [\n",
        "          'Impression_Percent',\n",
        "          'Click_Percent',\n",
        "          'Conversion_Percent',\n",
        "          'Interaction_Percent'\n",
        "        ],\n",
        "        'dataset': {'field': {'name': 'recipe_slug','kind': 'string','order': 4,'default': '','description': 'Name of Google BigQuery dataset to create.'}},\n",
        "        'table': 'GoogleAds_KPI_Normalized',\n",
        "        'significance': 80\n",
        "      },\n",
        "      'to': {\n",
        "        'dataset': {'field': {'name': 'recipe_slug','kind': 'string','order': 4,'default': '','description': 'Name of Google BigQuery dataset to create.'}},\n",
        "        'type': 'view'\n",
        "      }\n",
        "    }\n",
        "  }\n",
        "]\n",
        "\n",
        "json_set_fields(TASKS, FIELDS)\n",
        "\n",
        "project.initialize(_recipe={ 'tasks':TASKS }, _project=CLOUD_PROJECT, _user=USER_CREDENTIALS, _client=CLIENT_CREDENTIALS, _verbose=True, _force=True)\n",
        "project.execute(_force=True)\n"
      ]
    }
  ]
}

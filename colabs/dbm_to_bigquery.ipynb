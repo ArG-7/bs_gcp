{
  "license": "Apache License, Version 2.0",
  "copyright": "Copyright 2018 Google Inc.",
  "nbformat": "4",
  "nbformat_minor": "0",
  "metadata": {
    "colab": {
      "name": "DBM To BigQuery",
      "provenance": [],
      "collapsed_sections": [],
      "toc_visible": true
    },
    "kernelspec": {
      "name": "python3",
      "display_name": "Python 3"
    }
  },
  "cells": [
    {
      "cell_type": "markdown",
      "metadata": {
        "id": "SJJIbhTo0j5Q",
        "colab_type": "text"
      },
      "source": [
        "#1. Install Dependencies\n",
        "First install the libraries needed to execute recipes, this only needs to be done once, then click play.\n"
      ]
    },
    {
      "cell_type": "code",
      "metadata": {
        "id": "8Z3zivmbMg31",
        "colab_type": "code"
      },
      "source": [
        "!pip install git+https://github.com/google/starthinker\n"
      ]
    },
    {
      "cell_type": "markdown",
      "metadata": {
        "id": "wFn8Lo0ljKKD",
        "colab_type": "text"
      },
      "source": [
        "#2. Get Cloud Project ID\n",
        "To run this recipe [requires a Google Cloud Project](https://github.com/google/starthinker/blob/master/tutorials/cloud_project.md), this only needs to be done once, then click play.\n"
      ]
    },
    {
      "cell_type": "code",
      "metadata": {
        "id": "JpdcII8NTASj",
        "colab_type": "code"
      },
      "source": [
        "CLOUD_PROJECT = 'PASTE PROJECT ID HERE'\n",
        "\n",
        "print(\"Cloud Project Set To: %s\" % CLOUD_PROJECT)\n"
      ]
    },
    {
      "cell_type": "markdown",
      "metadata": {
        "id": "wPWjbjMWC7JZ",
        "colab_type": "text"
      },
      "source": [
        "#3. Get Client Credentials\n",
        "To read and write to various endpoints requires [downloading client credentials](https://github.com/google/starthinker/blob/master/tutorials/cloud_client_installed.md), this only needs to be done once, then click play.\n"
      ]
    },
    {
      "cell_type": "code",
      "metadata": {
        "id": "BRVViosaQz1O",
        "colab_type": "code"
      },
      "source": [
        "CLIENT_CREDENTIALS = 'PASTE CREDENTIALS HERE'\n",
        "\n",
        "print(\"Client Credentials Set To: %s\" % CLIENT_CREDENTIALS)\n"
      ]
    },
    {
      "cell_type": "markdown",
      "metadata": {
        "id": "kpE40ZugKBLX",
        "colab_type": "text"
      },
      "source": [
        "#4. Enter DBM To BigQuery Parameters\n",
        "Move existing DBM reports into a BigQuery table.\n",
        " 1. Specify either report name or report id to move a report.\n",
        " 1. A schema is recommended, if not provided it will be guessed.\n",
        " 1. The most recent valid file will be moved to the table.\n",
        "Modify the values below for your use case, can be done multiple times, then click play.\n"
      ]
    },
    {
      "cell_type": "code",
      "metadata": {
        "id": "E7lwUaU9cApe",
        "colab_type": "code"
      },
      "source": [
        "FIELDS = {\n",
        "  \"dbm_report_id\":, # DBM report ID given in UI, not needed if name used.\n",
        "  \"dbm_report_name\":\"\", # Name of report, not needed if ID used.\n",
        "  \"dbm_dataset\":\"\", # Existing BigQuery dataset.\n",
        "  \"dbm_table\":\"\", # Table to create from this report.\n",
        "  \"dbm_schema\":[], # Schema provided in JSON list format or empty list.\n",
        "  \"is_incremental_load\":False, # Clear data in destination table during this report's time period, then append report data to destination table.\n",
        "}\n",
        "\n",
        "print(\"Parameters Set To: %s\" % FIELDS)\n"
      ]
    },
    {
      "cell_type": "markdown",
      "metadata": {
        "id": "kJpKwSRRdLKM",
        "colab_type": "text"
      },
      "source": [
        "#5. Execute DBM To BigQuery\n",
        "This does NOT need to be modified unles you are changing the recipe, click play.\n"
      ]
    },
    {
      "cell_type": "code",
      "metadata": {
        "id": "BHB1oMQjTvMg",
        "colab_type": "code"
      },
      "source": [
        "from starthinker.util.project import project\n",
        "from starthinker.script.parse import json_set_fields\n",
        "\n",
        "USER_CREDENTIALS = '/content/user.json'\n",
        "\n",
        "TASKS = [ { 'dbm': { 'auth': 'user',\n",
        "             'datastudio': True,\n",
        "             'out': { 'bigquery': { 'dataset': { 'field': { 'default': '',\n",
        "                                                            'description': 'Existing '\n",
        "                                                                           'BigQuery '\n",
        "                                                                           'dataset.',\n",
        "                                                            'kind': 'string',\n",
        "                                                            'name': 'dbm_dataset',\n",
        "                                                            'order': 3}},\n",
        "                                    'is_incremental_load': { 'field': { 'default': False,\n",
        "                                                                        'description': 'Clear '\n",
        "                                                                                       'data '\n",
        "                                                                                       'in '\n",
        "                                                                                       'destination '\n",
        "                                                                                       'table '\n",
        "                                                                                       'during '\n",
        "                                                                                       'this '\n",
        "                                                                                       \"report's \"\n",
        "                                                                                       'time '\n",
        "                                                                                       'period, '\n",
        "                                                                                       'then '\n",
        "                                                                                       'append '\n",
        "                                                                                       'report '\n",
        "                                                                                       'data '\n",
        "                                                                                       'to '\n",
        "                                                                                       'destination '\n",
        "                                                                                       'table.',\n",
        "                                                                        'kind': 'boolean',\n",
        "                                                                        'name': 'is_incremental_load',\n",
        "                                                                        'order': 6}},\n",
        "                                    'schema': { 'field': { 'default': '[]',\n",
        "                                                           'description': 'Schema '\n",
        "                                                                          'provided '\n",
        "                                                                          'in '\n",
        "                                                                          'JSON '\n",
        "                                                                          'list '\n",
        "                                                                          'format '\n",
        "                                                                          'or '\n",
        "                                                                          'empty '\n",
        "                                                                          'list.',\n",
        "                                                           'kind': 'json',\n",
        "                                                           'name': 'dbm_schema',\n",
        "                                                           'order': 5}},\n",
        "                                    'table': { 'field': { 'default': '',\n",
        "                                                          'description': 'Table '\n",
        "                                                                         'to '\n",
        "                                                                         'create '\n",
        "                                                                         'from '\n",
        "                                                                         'this '\n",
        "                                                                         'report.',\n",
        "                                                          'kind': 'string',\n",
        "                                                          'name': 'dbm_table',\n",
        "                                                          'order': 4}}}},\n",
        "             'report': { 'name': { 'field': { 'default': '',\n",
        "                                              'description': 'Name '\n",
        "                                                             'of '\n",
        "                                                             'report, '\n",
        "                                                             'not '\n",
        "                                                             'needed '\n",
        "                                                             'if '\n",
        "                                                             'ID '\n",
        "                                                             'used.',\n",
        "                                              'kind': 'string',\n",
        "                                              'name': 'dbm_report_name',\n",
        "                                              'order': 2}},\n",
        "                         'report_id': { 'field': { 'default': '',\n",
        "                                                   'description': 'DBM '\n",
        "                                                                  'report '\n",
        "                                                                  'ID '\n",
        "                                                                  'given '\n",
        "                                                                  'in '\n",
        "                                                                  'UI, '\n",
        "                                                                  'not '\n",
        "                                                                  'needed '\n",
        "                                                                  'if '\n",
        "                                                                  'name '\n",
        "                                                                  'used.',\n",
        "                                                   'kind': 'integer',\n",
        "                                                   'name': 'dbm_report_id',\n",
        "                                                   'order': 1}}}}}]\n",
        "\n",
        "json_set_fields(TASKS, FIELDS)\n",
        "project.initialize(_recipe={ 'tasks':TASKS }, _project=CLOUD_PROJECT, _user=USER_CREDENTIALS, _client=CLIENT_CREDENTIALS, _verbose=True)\n",
        "project.execute()\n"
      ]
    }
  ]
}
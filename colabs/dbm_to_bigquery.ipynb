{
  "copyright": "Copyright 2020 Google LLC",
  "metadata": {
    "kernelspec": {
      "display_name": "Python 3",
      "name": "python3"
    },
    "colab": {
      "name": "DV360 To BigQuery",
      "toc_visible": true,
      "collapsed_sections": [],
      "provenance": []
    }
  },
  "license": "Apache License, Version 2.0",
  "cells": [
    {
      "cell_type": "markdown",
      "source": [
        "#1. Install Dependencies\n",
        "First install the libraries needed to execute recipes, this only needs to be done once, then click play.\n"
      ],
      "metadata": {
        "colab_type": "text"
      }
    },
    {
      "cell_type": "code",
      "source": [
        "!pip install git+https://github.com/google/starthinker\n"
      ],
      "metadata": {
        "colab_type": "code"
      }
    },
    {
      "cell_type": "markdown",
      "source": [
        "#2. Get Cloud Project ID\n",
        "To run this recipe [requires a Google Cloud Project](https://github.com/google/starthinker/blob/master/tutorials/cloud_project.md), this only needs to be done once, then click play.\n"
      ],
      "metadata": {
        "colab_type": "text"
      }
    },
    {
      "cell_type": "code",
      "source": [
        "CLOUD_PROJECT = 'PASTE PROJECT ID HERE'\n",
        "\n",
        "print(\"Cloud Project Set To: %s\" % CLOUD_PROJECT)\n"
      ],
      "metadata": {
        "colab_type": "code"
      }
    },
    {
      "cell_type": "markdown",
      "source": [
        "#3. Get Client Credentials\n",
        "To read and write to various endpoints requires [downloading client credentials](https://github.com/google/starthinker/blob/master/tutorials/cloud_client_installed.md), this only needs to be done once, then click play.\n"
      ],
      "metadata": {
        "colab_type": "text"
      }
    },
    {
      "cell_type": "code",
      "source": [
        "CLIENT_CREDENTIALS = 'PASTE CREDENTIALS HERE'\n",
        "\n",
        "print(\"Client Credentials Set To: %s\" % CLIENT_CREDENTIALS)\n"
      ],
      "metadata": {
        "colab_type": "code"
      }
    },
    {
      "cell_type": "markdown",
      "source": [
        "#4. Enter DV360 To BigQuery Parameters\n",
        "Move existing DV360 reports into a BigQuery table.\n",
        " 1. Specify either report name or report id to move a report.\n",
        " 1. A schema is recommended, if not provided it will be guessed.\n",
        " 1. The most recent valid file will be moved to the table.\n",
        "Modify the values below for your use case, can be done multiple times, then click play.\n"
      ],
      "metadata": {
        "colab_type": "text"
      }
    },
    {
      "cell_type": "code",
      "source": [
        "FIELDS = {\n",
        "  'auth_read': 'user',  # Credentials used for reading data.\n",
        "  'auth_write': 'service',  # Authorization used for writing data.\n",
        "  'dbm_report_id': '',  # DV360 report ID given in UI, not needed if name used.\n",
        "  'dbm_report_name': '',  # Name of report, not needed if ID used.\n",
        "  'dbm_dataset': '',  # Existing BigQuery dataset.\n",
        "  'dbm_table': '',  # Table to create from this report.\n",
        "  'dbm_schema': '',  # Schema provided in JSON list format or empty value to auto detect.\n",
        "  'is_incremental_load': False,  # Clear data in destination table during this report's time period, then append report data to destination table.\n",
        "}\n",
        "\n",
        "print(\"Parameters Set To: %s\" % FIELDS)\n"
      ],
      "metadata": {
        "colab_type": "code"
      }
    },
    {
      "cell_type": "markdown",
      "source": [
        "#5. Execute DV360 To BigQuery\n",
        "This does NOT need to be modified unles you are changing the recipe, click play.\n"
      ],
      "metadata": {
        "colab_type": "text"
      }
    },
    {
      "cell_type": "code",
      "source": [
        "from starthinker.util.project import project\n",
        "from starthinker.script.parse import json_set_fields\n",
        "\n",
        "USER_CREDENTIALS = '/content/user.json'\n",
        "\n",
        "TASKS = [\n",
        "  {\n",
        "    'dbm': {\n",
        "      'auth': 'user',\n",
        "      'report': {\n",
        "        'report_id': {'field': {'description': 'DV360 report ID given in UI, not needed if name used.','name': 'dbm_report_id','default': '','order': 2,'kind': 'integer'}},\n",
        "        'name': {'field': {'description': 'Name of report, not needed if ID used.','name': 'dbm_report_name','default': '','order': 3,'kind': 'string'}}\n",
        "      },\n",
        "      'out': {\n",
        "        'bigquery': {\n",
        "          'auth': 'user',\n",
        "          'table': {'field': {'description': 'Table to create from this report.','name': 'dbm_table','default': '','order': 5,'kind': 'string'}},\n",
        "          'is_incremental_load': {'field': {'description': \"Clear data in destination table during this report's time period, then append report data to destination table.\",'name': 'is_incremental_load','default': False,'order': 7,'kind': 'boolean'}},\n",
        "          'schema': {'field': {'description': 'Schema provided in JSON list format or empty value to auto detect.','name': 'dbm_schema','order': 6,'kind': 'json'}},\n",
        "          'dataset': {'field': {'description': 'Existing BigQuery dataset.','name': 'dbm_dataset','default': '','order': 4,'kind': 'string'}}\n",
        "        }\n",
        "      }\n",
        "    }\n",
        "  }\n",
        "]\n",
        "\n",
        "json_set_fields(TASKS, FIELDS)\n",
        "\n",
        "project.initialize(_recipe={ 'tasks':TASKS }, _project=CLOUD_PROJECT, _user=USER_CREDENTIALS, _client=CLIENT_CREDENTIALS, _verbose=True, _force=True)\n",
        "project.execute(_force=True)\n"
      ],
      "metadata": {
        "colab_type": "code"
      }
    }
  ],
  "nbformat_minor": "0",
  "nbformat": "4"
}
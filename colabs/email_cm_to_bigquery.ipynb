{
  "copyright": "Copyright 2020 Google LLC",
  "metadata": {
    "kernelspec": {
      "display_name": "Python 3",
      "name": "python3"
    },
    "colab": {
      "name": "CM Report Emailed To BigQuery",
      "toc_visible": true,
      "collapsed_sections": [],
      "provenance": []
    }
  },
  "license": "Apache License, Version 2.0",
  "cells": [
    {
      "cell_type": "markdown",
      "source": [
        "#1. Install Dependencies\n",
        "First install the libraries needed to execute recipes, this only needs to be done once, then click play.\n"
      ],
      "metadata": {
        "colab_type": "text"
      }
    },
    {
      "cell_type": "code",
      "source": [
        "!pip install git+https://github.com/google/starthinker\n"
      ],
      "metadata": {
        "colab_type": "code"
      }
    },
    {
      "cell_type": "markdown",
      "source": [
        "#2. Get Cloud Project ID\n",
        "To run this recipe [requires a Google Cloud Project](https://github.com/google/starthinker/blob/master/tutorials/cloud_project.md), this only needs to be done once, then click play.\n"
      ],
      "metadata": {
        "colab_type": "text"
      }
    },
    {
      "cell_type": "code",
      "source": [
        "CLOUD_PROJECT = 'PASTE PROJECT ID HERE'\n",
        "\n",
        "print(\"Cloud Project Set To: %s\" % CLOUD_PROJECT)\n"
      ],
      "metadata": {
        "colab_type": "code"
      }
    },
    {
      "cell_type": "markdown",
      "source": [
        "#3. Get Client Credentials\n",
        "To read and write to various endpoints requires [downloading client credentials](https://github.com/google/starthinker/blob/master/tutorials/cloud_client_installed.md), this only needs to be done once, then click play.\n"
      ],
      "metadata": {
        "colab_type": "text"
      }
    },
    {
      "cell_type": "code",
      "source": [
        "CLIENT_CREDENTIALS = 'PASTE CREDENTIALS HERE'\n",
        "\n",
        "print(\"Client Credentials Set To: %s\" % CLIENT_CREDENTIALS)\n"
      ],
      "metadata": {
        "colab_type": "code"
      }
    },
    {
      "cell_type": "markdown",
      "source": [
        "#4. Enter CM Report Emailed To BigQuery Parameters\n",
        "Pulls a CM Report from a gMail powered email account into BigQuery.\n",
        " 1. The person executing this recipe must be the recipient of the email.\n",
        " 1. Schedule a CM report to be sent to <b>UNDEFINED</b>.\n",
        " 1. Or set up a redirect rule to forward a report you already receive.\n",
        " 1. The report must be sent as an attachment.\n",
        " 1. Ensure this recipe runs after the report is email daily.\n",
        " 1. Give a regular expression to match the email subject.\n",
        " 1. Configure the destination in BigQuery to write the data.\n",
        "Modify the values below for your use case, can be done multiple times, then click play.\n"
      ],
      "metadata": {
        "colab_type": "text"
      }
    },
    {
      "cell_type": "code",
      "source": [
        "FIELDS = {\n",
        "  'auth_read': 'user',  # Credentials used for reading data.\n",
        "  'email': '',  # Email address report was sent to.\n",
        "  'subject': '.*',  # Regular expression to match subject. Double escape backslashes.\n",
        "  'dataset': '',  # Existing dataset in BigQuery.\n",
        "  'table': '',  # Name of table to be written to.\n",
        "  'is_incremental_load': False,  # Append report data to table based on date column, de-duplicates.\n",
        "}\n",
        "\n",
        "print(\"Parameters Set To: %s\" % FIELDS)\n"
      ],
      "metadata": {
        "colab_type": "code"
      }
    },
    {
      "cell_type": "markdown",
      "source": [
        "#5. Execute CM Report Emailed To BigQuery\n",
        "This does NOT need to be modified unles you are changing the recipe, click play.\n"
      ],
      "metadata": {
        "colab_type": "text"
      }
    },
    {
      "cell_type": "code",
      "source": [
        "from starthinker.util.project import project\n",
        "from starthinker.script.parse import json_set_fields\n",
        "\n",
        "USER_CREDENTIALS = '/content/user.json'\n",
        "\n",
        "TASKS = [\n",
        "  {\n",
        "    'email': {\n",
        "      'auth': 'user',\n",
        "      'read': {\n",
        "        'from': 'noreply-cm@google.com',\n",
        "        'subject': {'field': {'description': 'Regular expression to match subject. Double escape backslashes.','name': 'subject','default': '.*','order': 2,'kind': 'string'}},\n",
        "        'to': {'field': {'description': 'Email address report was sent to.','name': 'email','default': '','order': 1,'kind': 'string'}},\n",
        "        'attachment': '.*',\n",
        "        'out': {\n",
        "          'bigquery': {\n",
        "            'table': {'field': {'description': 'Name of table to be written to.','name': 'table','default': '','order': 4,'kind': 'string'}},\n",
        "            'is_incremental_load': {'field': {'description': 'Append report data to table based on date column, de-duplicates.','name': 'is_incremental_load','default': False,'order': 6,'kind': 'boolean'}},\n",
        "            'dataset': {'field': {'description': 'Existing dataset in BigQuery.','name': 'dataset','default': '','order': 3,'kind': 'string'}}\n",
        "          }\n",
        "        }\n",
        "      }\n",
        "    }\n",
        "  }\n",
        "]\n",
        "\n",
        "json_set_fields(TASKS, FIELDS)\n",
        "\n",
        "project.initialize(_recipe={ 'tasks':TASKS }, _project=CLOUD_PROJECT, _user=USER_CREDENTIALS, _client=CLIENT_CREDENTIALS, _verbose=True, _force=True)\n",
        "project.execute(_force=True)\n"
      ],
      "metadata": {
        "colab_type": "code"
      }
    }
  ],
  "nbformat_minor": "0",
  "nbformat": "4"
}
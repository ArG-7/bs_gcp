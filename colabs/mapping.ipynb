{
  "license": "Apache License, Version 2.0",
  "copyright": "Copyright 2018 Google Inc.",
  "nbformat": "4",
  "nbformat_minor": "0",
  "metadata": {
    "colab": {
      "name": "Column Mapping",
      "provenance": [],
      "collapsed_sections": [],
      "toc_visible": true
    },
    "kernelspec": {
      "name": "python3",
      "display_name": "Python 3"
    }
  },
  "cells": [
    {
      "cell_type": "markdown",
      "metadata": {
        "id": "h5mi1DifJRTl",
        "colab_type": "text"
      },
      "source": [
        "#1. Install Dependencies\n",
        "First install the libraries needed to execute recipes, this only needs to be done once, then click play.\n"
      ]
    },
    {
      "cell_type": "code",
      "metadata": {
        "id": "zn6rGszhV49D",
        "colab_type": "code"
      },
      "source": [
        "!pip install git+https://github.com/google/starthinker\n"
      ]
    },
    {
      "cell_type": "markdown",
      "metadata": {
        "id": "o44qDXSTlTKj",
        "colab_type": "text"
      },
      "source": [
        "#2. Get Cloud Project ID\n",
        "To run this recipe [requires a Google Cloud Project](https://github.com/google/starthinker/blob/master/tutorials/cloud_project.md), this only needs to be done once, then click play.\n"
      ]
    },
    {
      "cell_type": "code",
      "metadata": {
        "id": "RxkTWK3pLqXb",
        "colab_type": "code"
      },
      "source": [
        "CLOUD_PROJECT = 'PASTE PROJECT ID HERE'\n",
        "\n",
        "print(\"Cloud Project Set To: %s\" % CLOUD_PROJECT)\n"
      ]
    },
    {
      "cell_type": "markdown",
      "metadata": {
        "id": "6Jtz7IswnJs9",
        "colab_type": "text"
      },
      "source": [
        "#3. Get Client Credentials\n",
        "To read and write to various endpoints requires [downloading client credentials](https://github.com/google/starthinker/blob/master/tutorials/cloud_client_installed.md), this only needs to be done once, then click play.\n"
      ]
    },
    {
      "cell_type": "code",
      "metadata": {
        "id": "nu7XR35POS78",
        "colab_type": "code"
      },
      "source": [
        "CLIENT_CREDENTIALS = 'PASTE CREDENTIALS HERE'\n",
        "\n",
        "print(\"Client Credentials Set To: %s\" % CLIENT_CREDENTIALS)\n"
      ]
    },
    {
      "cell_type": "markdown",
      "metadata": {
        "id": "iElJ7DTAVWRR",
        "colab_type": "text"
      },
      "source": [
        "#4. Enter Column Mapping Parameters\n",
        "Use sheet to define keyword to column mappings.\n",
        " 1. For the sheet, provide the full URL.\n",
        " 1. A tab called <strong>Mapping</strong> will be created.\n",
        " 1. Follow the instructions in the tab to complete the mapping.\n",
        " 1. The in table should have the columns you want to map.\n",
        " 1. The out view will have the new columns created in the mapping.\n",
        "Modify the values below for your use case, can be done multiple times, then click play.\n"
      ]
    },
    {
      "cell_type": "code",
      "metadata": {
        "id": "ys3rjaszzfwg",
        "colab_type": "code"
      },
      "source": [
        "FIELDS = {\n",
        "  \"sheet\":\"\",\n",
        "  \"tab\":\"\",\n",
        "  \"in_dataset\":\"\",\n",
        "  \"in_table\":\"\",\n",
        "  \"out_dataset\":\"\",\n",
        "  \"out_view\":\"\",\n",
        "}\n",
        "\n",
        "print(\"Parameters Set To: %s\" % FIELDS)\n"
      ]
    },
    {
      "cell_type": "markdown",
      "metadata": {
        "id": "BTUlmOxZ1Z9l",
        "colab_type": "text"
      },
      "source": [
        "#5. Execute Column Mapping\n",
        "This does NOT need to be modified unles you are changing the recipe, click play.\n"
      ]
    },
    {
      "cell_type": "code",
      "metadata": {
        "id": "oJbRudZMZxRm",
        "colab_type": "code"
      },
      "source": [
        "from starthinker.util.project import project\n",
        "from starthinker.script.parse import json_set_fields\n",
        "\n",
        "USER_CREDENTIALS = '/content/user.json'\n",
        "\n",
        "TASKS = [\n",
        "  {\n",
        "    \"mapping\": {\n",
        "      \"auth\": \"user\",\n",
        "      \"sheet\": {\n",
        "        \"field\": {\n",
        "          \"name\": \"sheet\",\n",
        "          \"kind\": \"string\",\n",
        "          \"order\": 1,\n",
        "          \"default\": \"\"\n",
        "        }\n",
        "      },\n",
        "      \"tab\": {\n",
        "        \"field\": {\n",
        "          \"name\": \"tab\",\n",
        "          \"kind\": \"string\",\n",
        "          \"order\": 2,\n",
        "          \"default\": \"\"\n",
        "        }\n",
        "      },\n",
        "      \"in\": {\n",
        "        \"dataset\": {\n",
        "          \"field\": {\n",
        "            \"name\": \"in_dataset\",\n",
        "            \"kind\": \"string\",\n",
        "            \"order\": 3,\n",
        "            \"default\": \"\"\n",
        "          }\n",
        "        },\n",
        "        \"table\": {\n",
        "          \"field\": {\n",
        "            \"name\": \"in_table\",\n",
        "            \"kind\": \"string\",\n",
        "            \"order\": 4,\n",
        "            \"default\": \"\"\n",
        "          }\n",
        "        }\n",
        "      },\n",
        "      \"out\": {\n",
        "        \"dataset\": {\n",
        "          \"field\": {\n",
        "            \"name\": \"out_dataset\",\n",
        "            \"kind\": \"string\",\n",
        "            \"order\": 7,\n",
        "            \"default\": \"\"\n",
        "          }\n",
        "        },\n",
        "        \"view\": {\n",
        "          \"field\": {\n",
        "            \"name\": \"out_view\",\n",
        "            \"kind\": \"string\",\n",
        "            \"order\": 8,\n",
        "            \"default\": \"\"\n",
        "          }\n",
        "        }\n",
        "      }\n",
        "    }\n",
        "  }\n",
        "]\n",
        "\n",
        "json_set_fields(TASKS, FIELDS)\n",
        "project.initialize(_recipe={ 'tasks':TASKS }, _project=CLOUD_PROJECT, _user=USER_CREDENTIALS, _client=CLIENT_CREDENTIALS, _verbose=True)\n",
        "project.execute()\n"
      ]
    }
  ]
}
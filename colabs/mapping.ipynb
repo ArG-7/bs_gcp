{
  "license": "Apache License, Version 2.0",
  "copyright": "Copyright 2018 Google Inc.",
  "nbformat": "4",
  "nbformat_minor": "0",
  "metadata": {
    "colab": {
      "name": "Column Mapping",
      "provenance": [],
      "collapsed_sections": [],
      "toc_visible": true
    },
    "kernelspec": {
      "name": "python3",
      "display_name": "Python 3"
    }
  },
  "cells": [
    {
      "cell_type": "markdown",
      "metadata": {
        "id": "HJxMlJxbyfwi",
        "colab_type": "text"
      },
      "source": [
        "#1. Install Dependencies\n",
        "First install the libraries needed to execute recipes, this only needs to be done once, then click play.\n"
      ]
    },
    {
      "cell_type": "code",
      "metadata": {
        "id": "irPvbbdGryO1",
        "colab_type": "code"
      },
      "source": [
        "!pip install git+https://github.com/google/starthinker\n"
      ]
    },
    {
      "cell_type": "markdown",
      "metadata": {
        "id": "rc6Moxjjre2J",
        "colab_type": "text"
      },
      "source": [
        "#2. Get Cloud Project ID\n",
        "To run this recipe [requires a Google Cloud Project](https://github.com/google/starthinker/blob/master/tutorials/cloud_project.md), this only needs to be done once, then click play.\n"
      ]
    },
    {
      "cell_type": "code",
      "metadata": {
        "id": "PpCGT2gUEaXP",
        "colab_type": "code"
      },
      "source": [
        "CLOUD_PROJECT = 'PASTE PROJECT ID HERE'\n",
        "\n",
        "print(\"Cloud Project Set To: %s\" % CLOUD_PROJECT)\n"
      ]
    },
    {
      "cell_type": "markdown",
      "metadata": {
        "id": "d1SaCyrTMmw6",
        "colab_type": "text"
      },
      "source": [
        "#3. Get Client Credentials\n",
        "To read and write to various endpoints requires [downloading client credentials](https://github.com/google/starthinker/blob/master/tutorials/cloud_client_installed.md), this only needs to be done once, then click play.\n"
      ]
    },
    {
      "cell_type": "code",
      "metadata": {
        "id": "3OAwxGTAkiDB",
        "colab_type": "code"
      },
      "source": [
        "CLIENT_CREDENTIALS = 'PASTE CREDENTIALS HERE'\n",
        "\n",
        "print(\"Client Credentials Set To: %s\" % CLIENT_CREDENTIALS)\n"
      ]
    },
    {
      "cell_type": "markdown",
      "metadata": {
        "id": "ZoRD6n6w6jRk",
        "colab_type": "text"
      },
      "source": [
        "#4. Enter Column Mapping Parameters\n",
        "Use sheet to define keyword to column mappings.\n",
        " 1. For the sheet, provide the full URL.\n",
        " 1. A tab called <strong>Mapping</strong> will be created.\n",
        " 1. Follow the instructions in the tab to complete the mapping.\n",
        " 1. The in table should have the columns you want to map.\n",
        " 1. The out view will have the new columns created in the mapping.\n",
        "Modify the values below for your use case, can be done multiple times, then click play.\n"
      ]
    },
    {
      "cell_type": "code",
      "metadata": {
        "id": "D54P1IeBuaY3",
        "colab_type": "code"
      },
      "source": [
        "FIELDS = {\n",
        "  \"sheet\":\"\",\n",
        "  \"tab\":\"\",\n",
        "  \"in_dataset\":\"\",\n",
        "  \"in_table\":\"\",\n",
        "  \"out_dataset\":\"\",\n",
        "  \"out_view\":\"\",\n",
        "}\n",
        "\n",
        "print(\"Parameters Set To: %s\" % FIELDS)\n"
      ]
    },
    {
      "cell_type": "markdown",
      "metadata": {
        "id": "UBOV1sgfYK3S",
        "colab_type": "text"
      },
      "source": [
        "#5. Execute Column Mapping\n",
        "This does NOT need to be modified unles you are changing the recipe, click play.\n"
      ]
    },
    {
      "cell_type": "code",
      "metadata": {
        "id": "j7eGSM0R8ppL",
        "colab_type": "code"
      },
      "source": [
        "from starthinker.util.project import project\n",
        "from starthinker.script.parse import json_set_fields\n",
        "\n",
        "USER_CREDENTIALS = '/content/user.json'\n",
        "\n",
        "TASKS = [ { 'mapping': { 'auth': 'user',\n",
        "                 'in': { 'dataset': { 'field': { 'default': '',\n",
        "                                                 'kind': 'string',\n",
        "                                                 'name': 'in_dataset',\n",
        "                                                 'order': 3}},\n",
        "                         'table': { 'field': { 'default': '',\n",
        "                                               'kind': 'string',\n",
        "                                               'name': 'in_table',\n",
        "                                               'order': 4}}},\n",
        "                 'out': { 'dataset': { 'field': { 'default': '',\n",
        "                                                  'kind': 'string',\n",
        "                                                  'name': 'out_dataset',\n",
        "                                                  'order': 7}},\n",
        "                          'view': { 'field': { 'default': '',\n",
        "                                               'kind': 'string',\n",
        "                                               'name': 'out_view',\n",
        "                                               'order': 8}}},\n",
        "                 'sheet': { 'field': { 'default': '',\n",
        "                                       'kind': 'string',\n",
        "                                       'name': 'sheet',\n",
        "                                       'order': 1}},\n",
        "                 'tab': { 'field': { 'default': '',\n",
        "                                     'kind': 'string',\n",
        "                                     'name': 'tab',\n",
        "                                     'order': 2}}}}]\n",
        "\n",
        "json_set_fields(TASKS, FIELDS)\n",
        "project.initialize(_recipe={ 'tasks':TASKS }, _project=CLOUD_PROJECT, _user=USER_CREDENTIALS, _client=CLIENT_CREDENTIALS, _verbose=True)\n",
        "project.execute()\n"
      ]
    }
  ]
}
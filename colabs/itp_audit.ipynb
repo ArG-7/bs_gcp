{
  "license": "Apache License, Version 2.0",
  "copyright": "Copyright 2018 Google Inc.",
  "nbformat": "4",
  "nbformat_minor": "0",
  "metadata": {
    "colab": {
      "name": "ITP Audit Dashboard",
      "provenance": [],
      "collapsed_sections": [],
      "toc_visible": true
    },
    "kernelspec": {
      "name": "python3",
      "display_name": "Python 3"
    }
  },
  "cells": [
    {
      "cell_type": "markdown",
      "metadata": {
        "id": "3jKAqyfAIk80",
        "colab_type": "text"
      },
      "source": [
        "#1. Install Dependencies\n",
        "First install the libraries needed to execute recipes, this only needs to be done once, then click play.\n"
      ]
    },
    {
      "cell_type": "code",
      "metadata": {
        "id": "uWNmSkUmFCeH",
        "colab_type": "code"
      },
      "source": [
        "!pip install git+https://github.com/google/starthinker\n"
      ]
    },
    {
      "cell_type": "markdown",
      "metadata": {
        "id": "GzfZsTeMXORg",
        "colab_type": "text"
      },
      "source": [
        "#2. Get Cloud Project ID\n",
        "To run this recipe [requires a Google Cloud Project](https://github.com/google/starthinker/blob/master/tutorials/cloud_project.md), this only needs to be done once, then click play.\n"
      ]
    },
    {
      "cell_type": "code",
      "metadata": {
        "id": "MB4v4Fm6bLWQ",
        "colab_type": "code"
      },
      "source": [
        "CLOUD_PROJECT = 'PASTE PROJECT ID HERE'\n",
        "\n",
        "print(\"Cloud Project Set To: %s\" % CLOUD_PROJECT)\n"
      ]
    },
    {
      "cell_type": "markdown",
      "metadata": {
        "id": "PCmaRT49tEXM",
        "colab_type": "text"
      },
      "source": [
        "#3. Get Client Credentials\n",
        "To read and write to various endpoints requires [downloading client credentials](https://github.com/google/starthinker/blob/master/tutorials/cloud_client_installed.md), this only needs to be done once, then click play.\n"
      ]
    },
    {
      "cell_type": "code",
      "metadata": {
        "id": "UTxajhhMtpSL",
        "colab_type": "code"
      },
      "source": [
        "CLIENT_CREDENTIALS = 'PASTE CREDENTIALS HERE'\n",
        "\n",
        "print(\"Client Credentials Set To: %s\" % CLIENT_CREDENTIALS)\n"
      ]
    },
    {
      "cell_type": "markdown",
      "metadata": {
        "id": "flsrI8EdMF1r",
        "colab_type": "text"
      },
      "source": [
        "#4. Enter ITP Audit Dashboard Parameters\n",
        "Dashboard that shows performance metrics across browser to see the impact of ITP.\n",
        " 1. Follow the steps in the below document\n",
        " 1. https://docs.google.com/document/d/1HaRCMaBBEo0tSKwnofWNtaPjlW0ORcVHVwIRabct4fY/edit?usp=sharing\n",
        "Modify the values below for your use case, can be done multiple times, then click play.\n"
      ]
    },
    {
      "cell_type": "code",
      "metadata": {
        "id": "RZgVnaMSSxpH",
        "colab_type": "code"
      },
      "source": [
        "FIELDS = {\n",
        "  'dataset': 'ITP_Audit_Dashboard',  # BigQuery dataset for store dashboard tables.\n",
        "  'sheet_url': '',  # Sheet URL for the Segments sheet.\n",
        "  'cm_account_id': '',  # Campaign Manager Account Id.\n",
        "  'advertiser_ids': '',  # Comma separated list of Campaign Manager Advertiser Ids.  Leave blank for no advertiser filtering.\n",
        "  'floodlight_configuration_id': '',  # Floodlight Configuration Id for the Campaign Manager floodlight report.\n",
        "  'floodlight_report_name': 'ITP_Audit_Dashboard_Floodlight',  # Campaign Manager Floodlight report name.\n",
        "  'dv360_report_name': 'ITP_Audit_Browser_Report',  # DV360 Browser report name.\n",
        "  'cm_browser_report_name': 'ITP_Audit_Dashboard_Browser',  # Name of the Campaign Manager browser report.\n",
        "}\n",
        "\n",
        "print(\"Parameters Set To: %s\" % FIELDS)\n"
      ]
    },
    {
      "cell_type": "markdown",
      "metadata": {
        "id": "wDXqezmQuMxI",
        "colab_type": "text"
      },
      "source": [
        "#5. Execute ITP Audit Dashboard\n",
        "This does NOT need to be modified unles you are changing the recipe, click play.\n"
      ]
    },
    {
      "cell_type": "code",
      "metadata": {
        "id": "p23cxS6eCugO",
        "colab_type": "code"
      },
      "source": [
        "from starthinker.util.project import project\n",
        "from starthinker.script.parse import json_set_fields\n",
        "\n",
        "USER_CREDENTIALS = '/content/user.json'\n",
        "\n",
        "TASKS = [\n",
        "  {\n",
        "    'dataset': {\n",
        "      'auth': 'user',\n",
        "      'dataset': {'field': {'name': 'dataset','kind': 'string','order': 1,'default': 'ITP_Audit_Dashboard','description': 'BigQuery dataset for store dashboard tables.'}}\n",
        "    }\n",
        "  },\n",
        "  {\n",
        "    'dcm': {\n",
        "      'auth': 'user',\n",
        "      'timeout': 60,\n",
        "      'report': {\n",
        "        'account': {'field': {'name': 'cm_account_id','kind': 'string','order': 3,'default': '','description': 'Campaign Manager Account Id.'}},\n",
        "        'body': {\n",
        "          'kind': 'dfareporting#report',\n",
        "          'name': {'field': {'name': 'floodlight_report_name','kind': 'string','order': 8,'default': 'ITP_Audit_Dashboard_Floodlight','description': 'Campaign Manager Floodlight report name.'}},\n",
        "          'fileName': {'field': {'name': 'floodlight_report_name','kind': 'string','order': 8,'default': 'ITP_Audit_Dashboard_Floodlight','description': 'Campaign Manager Floodlight report name.'}},\n",
        "          'format': 'CSV',\n",
        "          'type': 'FLOODLIGHT',\n",
        "          'floodlightCriteria': {\n",
        "            'dateRange': {\n",
        "              'kind': 'dfareporting#dateRange',\n",
        "              'relativeDateRange': 'LAST_30_DAYS'\n",
        "            },\n",
        "            'floodlightConfigId': {\n",
        "              'kind': 'dfareporting#dimensionValue',\n",
        "              'dimensionName': 'dfa:floodlightConfigId',\n",
        "              'value': {'field': {'name': 'floodlight_configuration_id','kind': 'integer','order': 7,'default': '','description': 'Floodlight Configuration Id for the Campaign Manager floodlight report.'}},\n",
        "              'matchType': 'EXACT'\n",
        "            },\n",
        "            'reportProperties': {\n",
        "              'includeUnattributedIPConversions': False,\n",
        "              'includeUnattributedCookieConversions': True\n",
        "            },\n",
        "            'dimensions': [\n",
        "              {\n",
        "                'kind': 'dfareporting#sortedDimension',\n",
        "                'name': 'dfa:site'\n",
        "              },\n",
        "              {\n",
        "                'kind': 'dfareporting#sortedDimension',\n",
        "                'name': 'dfa:floodlightAttributionType'\n",
        "              },\n",
        "              {\n",
        "                'kind': 'dfareporting#sortedDimension',\n",
        "                'name': 'dfa:interactionType'\n",
        "              },\n",
        "              {\n",
        "                'kind': 'dfareporting#sortedDimension',\n",
        "                'name': 'dfa:pathType'\n",
        "              },\n",
        "              {\n",
        "                'kind': 'dfareporting#sortedDimension',\n",
        "                'name': 'dfa:browserPlatform'\n",
        "              },\n",
        "              {\n",
        "                'kind': 'dfareporting#sortedDimension',\n",
        "                'name': 'dfa:platformType'\n",
        "              },\n",
        "              {\n",
        "                'kind': 'dfareporting#sortedDimension',\n",
        "                'name': 'dfa:week'\n",
        "              }\n",
        "            ],\n",
        "            'metricNames': [\n",
        "              'dfa:activityClickThroughConversions',\n",
        "              'dfa:activityViewThroughConversions',\n",
        "              'dfa:totalConversions',\n",
        "              'dfa:totalConversionsRevenue'\n",
        "            ]\n",
        "          },\n",
        "          'schedule': {\n",
        "            'active': True,\n",
        "            'repeats': 'DAILY',\n",
        "            'every': 1,\n",
        "            'startDate': '2019-09-11',\n",
        "            'expirationDate': '2029-12-10'\n",
        "          },\n",
        "          'delivery': {\n",
        "            'emailOwner': False\n",
        "          }\n",
        "        }\n",
        "      },\n",
        "      'out': {\n",
        "        'bigquery': {\n",
        "          'dataset': {'field': {'name': 'dataset','kind': 'string','order': 1,'default': 'ITP_Audit_Dashboard','description': 'BigQuery dataset for store dashboard tables.'}},\n",
        "          'table': 'Floodlight_CM_Report',\n",
        "          'is_incremental_load': False\n",
        "        }\n",
        "      },\n",
        "      'delete': False\n",
        "    }\n",
        "  },\n",
        "  {\n",
        "    'dbm': {\n",
        "      'auth': 'user',\n",
        "      'datastudio': True,\n",
        "      'report': {\n",
        "        'name': {'field': {'name': 'dv360_report_name','kind': 'string','order': 8,'default': 'ITP_Audit_Browser_Report','description': 'DV360 Browser report name.'}}\n",
        "      },\n",
        "      'out': {\n",
        "        'bigquery': {\n",
        "          'dataset': {'field': {'name': 'dataset','kind': 'string','order': 1,'default': 'ITP_Audit_Dashboard','description': 'BigQuery dataset for store dashboard tables.'}},\n",
        "          'table': 'Dv360_Browser_Report_Dirty',\n",
        "          'autodetect_schema': True,\n",
        "          'is_incremental_load': False\n",
        "        }\n",
        "      }\n",
        "    }\n",
        "  },\n",
        "  {\n",
        "    'sheets': {\n",
        "      'auth': 'user',\n",
        "      'sheet': {'field': {'name': 'sheet_url','kind': 'string','order': 2,'default': '','description': 'Sheet URL for the Segments sheet.'}},\n",
        "      'tab': 'Enviroment',\n",
        "      'range': 'A:B',\n",
        "      'header': True,\n",
        "      'out': {\n",
        "        'auth': 'user',\n",
        "        'bigquery': {\n",
        "          'dataset': {'field': {'name': 'dataset','kind': 'string','order': 1,'default': 'ITP_Audit_Dashboard','description': 'BigQuery dataset for store dashboard tables.'}},\n",
        "          'table': 'Environment'\n",
        "        }\n",
        "      }\n",
        "    }\n",
        "  },\n",
        "  {\n",
        "    'sheets': {\n",
        "      'auth': 'user',\n",
        "      'sheet': {'field': {'name': 'sheet_url','kind': 'string','order': 2,'default': '','description': 'Sheet URL for the Segments sheet.'}},\n",
        "      'tab': 'Browser',\n",
        "      'range': 'A:C',\n",
        "      'header': True,\n",
        "      'out': {\n",
        "        'auth': 'user',\n",
        "        'bigquery': {\n",
        "          'dataset': {'field': {'name': 'dataset','kind': 'string','order': 1,'default': 'ITP_Audit_Dashboard','description': 'BigQuery dataset for store dashboard tables.'}},\n",
        "          'table': 'Browser'\n",
        "        }\n",
        "      }\n",
        "    }\n",
        "  },\n",
        "  {\n",
        "    'sheets': {\n",
        "      'auth': 'user',\n",
        "      'sheet': {'field': {'name': 'sheet_url','kind': 'string','order': 2,'default': '','description': 'Sheet URL for the Segments sheet.'}},\n",
        "      'tab': 'CM_Site_Segments',\n",
        "      'range': 'A:C',\n",
        "      'header': True,\n",
        "      'out': {\n",
        "        'auth': 'user',\n",
        "        'bigquery': {\n",
        "          'dataset': {'field': {'name': 'dataset','kind': 'string','order': 1,'default': 'ITP_Audit_Dashboard','description': 'BigQuery dataset for store dashboard tables.'}},\n",
        "          'table': 'CM_Browser_lookup'\n",
        "        }\n",
        "      }\n",
        "    }\n",
        "  },\n",
        "  {\n",
        "    'sheets': {\n",
        "      'auth': 'user',\n",
        "      'sheet': {'field': {'name': 'sheet_url','kind': 'string','order': 2,'default': '','description': 'Sheet URL for the Segments sheet.'}},\n",
        "      'tab': 'Device_Type',\n",
        "      'range': 'A:B',\n",
        "      'header': True,\n",
        "      'out': {\n",
        "        'auth': 'user',\n",
        "        'bigquery': {\n",
        "          'dataset': {'field': {'name': 'dataset','kind': 'string','order': 1,'default': 'ITP_Audit_Dashboard','description': 'BigQuery dataset for store dashboard tables.'}},\n",
        "          'table': 'Device_Type'\n",
        "        }\n",
        "      }\n",
        "    }\n",
        "  },\n",
        "  {\n",
        "    'sheets': {\n",
        "      'auth': 'user',\n",
        "      'sheet': {'field': {'name': 'sheet_url','kind': 'string','order': 2,'default': '','description': 'Sheet URL for the Segments sheet.'}},\n",
        "      'tab': 'Floodlight_Attribution',\n",
        "      'range': 'A:B',\n",
        "      'header': True,\n",
        "      'out': {\n",
        "        'auth': 'user',\n",
        "        'bigquery': {\n",
        "          'dataset': {'field': {'name': 'dataset','kind': 'string','order': 1,'default': 'ITP_Audit_Dashboard','description': 'BigQuery dataset for store dashboard tables.'}},\n",
        "          'table': 'Floodlight_Attribution'\n",
        "        }\n",
        "      }\n",
        "    }\n",
        "  },\n",
        "  {\n",
        "    'itp_audit': {\n",
        "      'auth': 'user',\n",
        "      'account': {'field': {'name': 'cm_account_id','kind': 'string','order': 3,'default': '','description': 'Campaign Manager Account Id.'}},\n",
        "      'dataset': {'field': {'name': 'dataset','kind': 'string','order': 1,'default': 'ITP_Audit_Dashboard','description': 'BigQuery dataset for store dashboard tables.'}},\n",
        "      'sheet': {'field': {'name': 'sheet_url','kind': 'string','order': 2,'default': '','description': 'Sheet URL for the Segments sheet.'}},\n",
        "      'cm_browser_report_name': {'field': {'name': 'cm_browser_report_name','kind': 'string','order': 9,'default': 'ITP_Audit_Dashboard_Browser','description': 'Name of the Campaign Manager browser report.'}},\n",
        "      'advertiser_ids': {'field': {'name': 'advertiser_ids','kind': 'string','order': 5,'default': '','description': 'Comma separated list of Campaign Manager Advertiser Ids.  Leave blank for no advertiser filtering.'}},\n",
        "      'timeout': 60\n",
        "    }\n",
        "  }\n",
        "]\n",
        "\n",
        "json_set_fields(TASKS, FIELDS)\n",
        "project.initialize(_recipe={ 'tasks':TASKS }, _project=CLOUD_PROJECT, _user=USER_CREDENTIALS, _client=CLIENT_CREDENTIALS, _verbose=True)\n",
        "project.execute()\n"
      ]
    }
  ]
}
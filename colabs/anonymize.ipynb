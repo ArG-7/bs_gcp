{
  "license": "Apache License, Version 2.0",
  "copyright": "Copyright 2018 Google Inc.",
  "nbformat": "4",
  "nbformat_minor": "0",
  "metadata": {
    "colab": {
      "name": "Anonymize Dataset",
      "provenance": [],
      "collapsed_sections": [],
      "toc_visible": true
    },
    "kernelspec": {
      "name": "python3",
      "display_name": "Python 3"
    }
  },
  "cells": [
    {
      "cell_type": "markdown",
      "metadata": {
        "id": "B3z0ycw2OF8h",
        "colab_type": "text"
      },
      "source": [
        "#1. Install Dependencies\n",
        "First install the libraries needed to execute recipes, this only needs to be done once, then click play.\n"
      ]
    },
    {
      "cell_type": "code",
      "metadata": {
        "id": "ir3tKZEtKnXh",
        "colab_type": "code"
      },
      "source": [
        "!pip install git+https://github.com/google/starthinker\n"
      ]
    },
    {
      "cell_type": "markdown",
      "metadata": {
        "id": "kmaIvzPgyAh7",
        "colab_type": "text"
      },
      "source": [
        "#2. Get Cloud Project ID\n",
        "To run this recipe [requires a Google Cloud Project](https://github.com/google/starthinker/blob/master/tutorials/cloud_project.md), this only needs to be done once, then click play.\n"
      ]
    },
    {
      "cell_type": "code",
      "metadata": {
        "id": "vGNLGGYtGgRE",
        "colab_type": "code"
      },
      "source": [
        "CLOUD_PROJECT = 'PASTE PROJECT ID HERE'\n",
        "\n",
        "print(\"Cloud Project Set To: %s\" % CLOUD_PROJECT)\n"
      ]
    },
    {
      "cell_type": "markdown",
      "metadata": {
        "id": "41S7dz2bMZEt",
        "colab_type": "text"
      },
      "source": [
        "#3. Get Client Credentials\n",
        "To read and write to various endpoints requires [downloading client credentials](https://github.com/google/starthinker/blob/master/tutorials/cloud_client_installed.md), this only needs to be done once, then click play.\n"
      ]
    },
    {
      "cell_type": "code",
      "metadata": {
        "id": "QGgTDLcgyXsx",
        "colab_type": "code"
      },
      "source": [
        "CLIENT_CREDENTIALS = 'PASTE CREDENTIALS HERE'\n",
        "\n",
        "print(\"Client Credentials Set To: %s\" % CLIENT_CREDENTIALS)\n"
      ]
    },
    {
      "cell_type": "markdown",
      "metadata": {
        "id": "ZN5ivMGxPoPH",
        "colab_type": "text"
      },
      "source": [
        "#4. Enter Anonymize Dataset Parameters\n",
        "Copies tables and view from one dataset to another and anynonamizes all rows.  Used to create sample datasets for dashboards.\n",
        " 1. Ensure you have user access to both datasets.\n",
        " 1. Provide the source project and dataset.\n",
        " 1. Provide the destination project and dataset.\n",
        "Modify the values below for your use case, can be done multiple times, then click play.\n"
      ]
    },
    {
      "cell_type": "code",
      "metadata": {
        "id": "3trzMAwSpP9v",
        "colab_type": "code"
      },
      "source": [
        "FIELDS = {\n",
        "  'from_project': '',  # Original project to copy from.\n",
        "  'from_dataset': '',  # Original dataset to copy from.\n",
        "  'to_project': '',  # Anonymous data will be writen to.\n",
        "  'to_dataset': '',  # Anonymous data will be writen to.\n",
        "}\n",
        "\n",
        "print(\"Parameters Set To: %s\" % FIELDS)\n"
      ]
    },
    {
      "cell_type": "markdown",
      "metadata": {
        "id": "5ZG6KpND6lIJ",
        "colab_type": "text"
      },
      "source": [
        "#5. Execute Anonymize Dataset\n",
        "This does NOT need to be modified unles you are changing the recipe, click play.\n"
      ]
    },
    {
      "cell_type": "code",
      "metadata": {
        "id": "KdKPeAkbNFAM",
        "colab_type": "code"
      },
      "source": [
        "from starthinker.util.project import project\n",
        "from starthinker.script.parse import json_set_fields\n",
        "\n",
        "USER_CREDENTIALS = '/content/user.json'\n",
        "\n",
        "TASKS = [\n",
        "  {\n",
        "    'anonymize': {\n",
        "      'auth': 'user',\n",
        "      'bigquery': {\n",
        "        'from': {\n",
        "          'project': {'field': {'name': 'from_project','kind': 'string','order': 1,'description': 'Original project to copy from.'}},\n",
        "          'dataset': {'field': {'name': 'from_dataset','kind': 'string','order': 2,'description': 'Original dataset to copy from.'}}\n",
        "        },\n",
        "        'to': {\n",
        "          'project': {'field': {'name': 'to_project','kind': 'string','order': 3,'description': 'Anonymous data will be writen to.'}},\n",
        "          'dataset': {'field': {'name': 'to_dataset','kind': 'string','order': 4,'description': 'Anonymous data will be writen to.'}}\n",
        "        }\n",
        "      }\n",
        "    }\n",
        "  }\n",
        "]\n",
        "\n",
        "json_set_fields(TASKS, FIELDS)\n",
        "project.initialize(_recipe={ 'tasks':TASKS }, _project=CLOUD_PROJECT, _user=USER_CREDENTIALS, _client=CLIENT_CREDENTIALS, _verbose=True)\n",
        "project.execute()\n"
      ]
    }
  ]
}
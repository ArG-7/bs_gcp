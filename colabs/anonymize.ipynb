{
  "license": "Apache License, Version 2.0",
  "copyright": "Copyright 2018 Google Inc.",
  "nbformat": "4",
  "nbformat_minor": "0",
  "metadata": {
    "colab": {
      "name": "Anonymize Dataset",
      "provenance": [],
      "collapsed_sections": [],
      "toc_visible": true
    },
    "kernelspec": {
      "name": "python3",
      "display_name": "Python 3"
    }
  },
  "cells": [
    {
      "cell_type": "markdown",
      "metadata": {
        "id": "S1gqz5ZBD2Vm",
        "colab_type": "text"
      },
      "source": [
        "#1. Install Dependencies\n",
        "First install the libraries needed to execute recipes, this only needs to be done once, then click play.\n"
      ]
    },
    {
      "cell_type": "code",
      "metadata": {
        "id": "0AR6OBF6ccLe",
        "colab_type": "code"
      },
      "source": [
        "!pip install git+https://github.com/google/starthinker\n"
      ]
    },
    {
      "cell_type": "markdown",
      "metadata": {
        "id": "wAJHsLsHjUut",
        "colab_type": "text"
      },
      "source": [
        "#2. Get Cloud Project ID\n",
        "To run this recipe [requires a Google Cloud Project](https://github.com/google/starthinker/blob/master/tutorials/cloud_project.md), this only needs to be done once, then click play.\n"
      ]
    },
    {
      "cell_type": "code",
      "metadata": {
        "id": "af3Xwpazk4R3",
        "colab_type": "code"
      },
      "source": [
        "CLOUD_PROJECT = 'PASTE PROJECT ID HERE'\n",
        "\n",
        "print(\"Cloud Project Set To: %s\" % CLOUD_PROJECT)\n"
      ]
    },
    {
      "cell_type": "markdown",
      "metadata": {
        "id": "p1pXexiXD7kz",
        "colab_type": "text"
      },
      "source": [
        "#3. Get Client Credentials\n",
        "To read and write to various endpoints requires [downloading client credentials](https://github.com/google/starthinker/blob/master/tutorials/cloud_client_installed.md), this only needs to be done once, then click play.\n"
      ]
    },
    {
      "cell_type": "code",
      "metadata": {
        "id": "SzUPdPQ26C1G",
        "colab_type": "code"
      },
      "source": [
        "CLIENT_CREDENTIALS = 'PASTE CREDENTIALS HERE'\n",
        "\n",
        "print(\"Client Credentials Set To: %s\" % CLIENT_CREDENTIALS)\n"
      ]
    },
    {
      "cell_type": "markdown",
      "metadata": {
        "id": "CxzbdfeCv8qM",
        "colab_type": "text"
      },
      "source": [
        "#4. Enter Anonymize Dataset Parameters\n",
        "Copies tables and view from one dataset to another and anynonamizes all rows.  Used to create sample datasets for dashboards.\n",
        " 1. Ensure you have user access to both datasets.\n",
        " 1. Provide the source project and dataset.\n",
        " 1. Provide the destination project and dataset.\n",
        "Modify the values below for your use case, can be done multiple times, then click play.\n"
      ]
    },
    {
      "cell_type": "code",
      "metadata": {
        "id": "JHk8W6mCzobZ",
        "colab_type": "code"
      },
      "source": [
        "FIELDS = {\n",
        "  \"from_project\":\"\", # Original project to copy from.\n",
        "  \"from_dataset\":\"\", # Original dataset to copy from.\n",
        "  \"to_project\":\"\", # Anonymous data will be writen to.\n",
        "  \"to_dataset\":\"\", # Anonymous data will be writen to.\n",
        "}\n",
        "\n",
        "print(\"Parameters Set To: %s\" % FIELDS)\n"
      ]
    },
    {
      "cell_type": "markdown",
      "metadata": {
        "id": "vKXIpgSl5zBM",
        "colab_type": "text"
      },
      "source": [
        "#5. Execute Anonymize Dataset\n",
        "This does NOT need to be modified unles you are changing the recipe, click play.\n"
      ]
    },
    {
      "cell_type": "code",
      "metadata": {
        "id": "lZd8x4nx3IC8",
        "colab_type": "code"
      },
      "source": [
        "from starthinker.util.project import project\n",
        "from starthinker.script.parse import json_set_fields\n",
        "\n",
        "USER_CREDENTIALS = '/content/user.json'\n",
        "\n",
        "TASKS = [ { 'anonymize': { 'auth': 'user',\n",
        "                   'bigquery': { 'from': { 'dataset': { 'field': { 'description': 'Original '\n",
        "                                                                                  'dataset '\n",
        "                                                                                  'to '\n",
        "                                                                                  'copy '\n",
        "                                                                                  'from.',\n",
        "                                                                   'kind': 'string',\n",
        "                                                                   'name': 'from_dataset',\n",
        "                                                                   'order': 2}},\n",
        "                                           'project': { 'field': { 'description': 'Original '\n",
        "                                                                                  'project '\n",
        "                                                                                  'to '\n",
        "                                                                                  'copy '\n",
        "                                                                                  'from.',\n",
        "                                                                   'kind': 'string',\n",
        "                                                                   'name': 'from_project',\n",
        "                                                                   'order': 1}}},\n",
        "                                 'to': { 'dataset': { 'field': { 'description': 'Anonymous '\n",
        "                                                                                'data '\n",
        "                                                                                'will '\n",
        "                                                                                'be '\n",
        "                                                                                'writen '\n",
        "                                                                                'to.',\n",
        "                                                                 'kind': 'string',\n",
        "                                                                 'name': 'to_dataset',\n",
        "                                                                 'order': 4}},\n",
        "                                         'project': { 'field': { 'description': 'Anonymous '\n",
        "                                                                                'data '\n",
        "                                                                                'will '\n",
        "                                                                                'be '\n",
        "                                                                                'writen '\n",
        "                                                                                'to.',\n",
        "                                                                 'kind': 'string',\n",
        "                                                                 'name': 'to_project',\n",
        "                                                                 'order': 3}}}}}}]\n",
        "\n",
        "json_set_fields(TASKS, FIELDS)\n",
        "project.initialize(_recipe={ 'tasks':TASKS }, _project=CLOUD_PROJECT, _user=USER_CREDENTIALS, _client=CLIENT_CREDENTIALS, _verbose=True)\n",
        "project.execute()\n"
      ]
    }
  ]
}
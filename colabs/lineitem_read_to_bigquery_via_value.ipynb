{
  "license": "Apache License, Version 2.0",
  "copyright": "Copyright 2018 Google Inc.",
  "nbformat": "4",
  "nbformat_minor": "0",
  "metadata": {
    "colab": {
      "name": "Line Item To BigQuery Via Values",
      "provenance": [],
      "collapsed_sections": [],
      "toc_visible": true
    },
    "kernelspec": {
      "name": "python3",
      "display_name": "Python 3"
    }
  },
  "cells": [
    {
      "cell_type": "markdown",
      "metadata": {
        "id": "E5SwhK5WbPoh",
        "colab_type": "text"
      },
      "source": [
        "#1. Install Dependencies\n",
        "First install the libraries needed to execute recipes, this only needs to be done once, then click play.\n"
      ]
    },
    {
      "cell_type": "code",
      "metadata": {
        "id": "MMqdaoQnMNF4",
        "colab_type": "code"
      },
      "source": [
        "!pip install git+https://github.com/google/starthinker\n"
      ]
    },
    {
      "cell_type": "markdown",
      "metadata": {
        "id": "8935OjiS6EMr",
        "colab_type": "text"
      },
      "source": [
        "#2. Get Cloud Project ID\n",
        "To run this recipe [requires a Google Cloud Project](https://github.com/google/starthinker/blob/master/tutorials/cloud_project.md), this only needs to be done once, then click play.\n"
      ]
    },
    {
      "cell_type": "code",
      "metadata": {
        "id": "nqWSAT3LR3lC",
        "colab_type": "code"
      },
      "source": [
        "CLOUD_PROJECT = 'PASTE PROJECT ID HERE'\n",
        "\n",
        "print(\"Cloud Project Set To: %s\" % CLOUD_PROJECT)\n"
      ]
    },
    {
      "cell_type": "markdown",
      "metadata": {
        "id": "qjW3qsJ6ZWBW",
        "colab_type": "text"
      },
      "source": [
        "#3. Get Client Credentials\n",
        "To read and write to various endpoints requires [downloading client credentials](https://github.com/google/starthinker/blob/master/tutorials/cloud_client_installed.md), this only needs to be done once, then click play.\n"
      ]
    },
    {
      "cell_type": "code",
      "metadata": {
        "id": "eViuJSX00AsZ",
        "colab_type": "code"
      },
      "source": [
        "CLIENT_CREDENTIALS = 'PASTE CREDENTIALS HERE'\n",
        "\n",
        "print(\"Client Credentials Set To: %s\" % CLIENT_CREDENTIALS)\n"
      ]
    },
    {
      "cell_type": "markdown",
      "metadata": {
        "id": "JnHxzJCdB3Pw",
        "colab_type": "text"
      },
      "source": [
        "#4. Enter Line Item To BigQuery Via Values Parameters\n",
        "Move using hard coded Id values.\n",
        " 1. Provide a comma delimited list of line item ids.\n",
        " 1. Specify the dataset and table where the lineitems will be written.\n",
        " 1. The schema will match <a href='https://developers.google.com/bid-manager/guides/entity-write/format' target='_blank'>Entity Write Format</a>.\n",
        "Modify the values below for your use case, can be done multiple times, then click play.\n"
      ]
    },
    {
      "cell_type": "code",
      "metadata": {
        "id": "C3tw8jlBFynj",
        "colab_type": "code"
      },
      "source": [
        "FIELDS = {\n",
        "  \"ids\":[],\n",
        "  \"destination_dataset\":\"\",\n",
        "  \"destination_table\":\"\",\n",
        "}\n",
        "\n",
        "print(\"Parameters Set To: %s\" % FIELDS)\n"
      ]
    },
    {
      "cell_type": "markdown",
      "metadata": {
        "id": "7lRAZ5XqhPir",
        "colab_type": "text"
      },
      "source": [
        "#5. Execute Line Item To BigQuery Via Values\n",
        "This does NOT need to be modified unles you are changing the recipe, click play.\n"
      ]
    },
    {
      "cell_type": "code",
      "metadata": {
        "id": "IL9buIkdr9bb",
        "colab_type": "code"
      },
      "source": [
        "from starthinker.util.project import project\n",
        "from starthinker.script.parse import json_set_fields\n",
        "\n",
        "USER_CREDENTIALS = '/content/user.json'\n",
        "\n",
        "TASKS = [ { 'lineitem': { 'auth': 'user',\n",
        "                  'read': { 'line_items': { 'single_cell': True,\n",
        "                                            'values': { 'field': { 'default': [ ],\n",
        "                                                                   'kind': 'integer_list',\n",
        "                                                                   'name': 'ids',\n",
        "                                                                   'order': 1}}},\n",
        "                            'out': { 'bigquery': { 'dataset': { 'field': { 'default': '',\n",
        "                                                                           'kind': 'string',\n",
        "                                                                           'name': 'destination_dataset',\n",
        "                                                                           'order': 2}},\n",
        "                                                   'table': { 'field': { 'default': '',\n",
        "                                                                         'kind': 'string',\n",
        "                                                                         'name': 'destination_table',\n",
        "                                                                         'order': 3}}}}}}}]\n",
        "\n",
        "json_set_fields(TASKS, FIELDS)\n",
        "project.initialize(_recipe={ 'tasks':TASKS }, _project=CLOUD_PROJECT, _user=USER_CREDENTIALS, _client=CLIENT_CREDENTIALS, _verbose=True)\n",
        "project.execute()\n"
      ]
    }
  ]
}
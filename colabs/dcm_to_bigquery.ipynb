{
  "license": "Apache License, Version 2.0",
  "copyright": "Copyright 2018 Google Inc.",
  "nbformat": "4",
  "nbformat_minor": "0",
  "metadata": {
    "colab": {
      "name": "DCM To BigQuery",
      "provenance": [],
      "collapsed_sections": [],
      "toc_visible": true
    },
    "kernelspec": {
      "name": "python3",
      "display_name": "Python 3"
    }
  },
  "cells": [
    {
      "cell_type": "markdown",
      "metadata": {
        "id": "23LTigIiAAMT",
        "colab_type": "text"
      },
      "source": [
        "#1. Install Dependencies\n",
        "First install the libraries needed to execute recipes, this only needs to be done once, then click play.\n"
      ]
    },
    {
      "cell_type": "code",
      "metadata": {
        "id": "f1JAY6B7AVyw",
        "colab_type": "code"
      },
      "source": [
        "!pip install git+https://github.com/google/starthinker\n"
      ]
    },
    {
      "cell_type": "markdown",
      "metadata": {
        "id": "K0ZPKeXg4DIG",
        "colab_type": "text"
      },
      "source": [
        "#2. Get Cloud Project ID\n",
        "To run this recipe [requires a Google Cloud Project](https://github.com/google/starthinker/blob/master/tutorials/cloud_project.md), this only needs to be done once, then click play.\n"
      ]
    },
    {
      "cell_type": "code",
      "metadata": {
        "id": "Q0LY7vrNIHA2",
        "colab_type": "code"
      },
      "source": [
        "CLOUD_PROJECT = 'PASTE PROJECT ID HERE'\n",
        "\n",
        "print(\"Cloud Project Set To: %s\" % CLOUD_PROJECT)\n"
      ]
    },
    {
      "cell_type": "markdown",
      "metadata": {
        "id": "2m8hNgb1yZvl",
        "colab_type": "text"
      },
      "source": [
        "#3. Get Client Credentials\n",
        "To read and write to various endpoints requires [downloading client credentials](https://github.com/google/starthinker/blob/master/tutorials/cloud_client_installed.md), this only needs to be done once, then click play.\n"
      ]
    },
    {
      "cell_type": "code",
      "metadata": {
        "id": "qeDz58J79Zq7",
        "colab_type": "code"
      },
      "source": [
        "CLIENT_CREDENTIALS = 'PASTE CREDENTIALS HERE'\n",
        "\n",
        "print(\"Client Credentials Set To: %s\" % CLIENT_CREDENTIALS)\n"
      ]
    },
    {
      "cell_type": "markdown",
      "metadata": {
        "id": "6KtRI9TrIewK",
        "colab_type": "text"
      },
      "source": [
        "#4. Enter DCM To BigQuery Parameters\n",
        "Move existing DCM report into a BigQuery table.\n",
        " 1. Specify an account id.\n",
        " 1. Specify either report name or report id to move a report.\n",
        " 1. The most recent valid file will overwrite the table.\n",
        " 1. Schema is pulled from the official DCM specification.\n",
        "Modify the values below for your use case, can be done multiple times, then click play.\n"
      ]
    },
    {
      "cell_type": "code",
      "metadata": {
        "id": "HVjCJ7sTHG5d",
        "colab_type": "code"
      },
      "source": [
        "FIELDS = {\n",
        "  \"account\":, # DCM network id.\n",
        "  \"report_id\":, # DCM report id, empty if using name .\n",
        "  \"report_name\":\"\", # DCM report name, empty if using id instead.\n",
        "  \"dataset\":\"\", # Dataset to be written to in BigQuery.\n",
        "  \"table\":\"\", # Table to be written to in BigQuery.\n",
        "  \"is_incremental_load\":False, # Clear data in destination table during this report's time period, then append report data to existing table.\n",
        "}\n",
        "\n",
        "print(\"Parameters Set To: %s\" % FIELDS)\n"
      ]
    },
    {
      "cell_type": "markdown",
      "metadata": {
        "id": "2er1R9piCUUt",
        "colab_type": "text"
      },
      "source": [
        "#5. Execute DCM To BigQuery\n",
        "This does NOT need to be modified unles you are changing the recipe, click play.\n"
      ]
    },
    {
      "cell_type": "code",
      "metadata": {
        "id": "EQJY4dDDdknf",
        "colab_type": "code"
      },
      "source": [
        "from starthinker.util.project import project\n",
        "from starthinker.script.parse import json_set_fields\n",
        "\n",
        "USER_CREDENTIALS = '/content/user.json'\n",
        "\n",
        "TASKS = [\n",
        "  {\n",
        "    \"dcm\": {\n",
        "      \"auth\": \"user\",\n",
        "      \"report\": {\n",
        "        \"account\": {\n",
        "          \"field\": {\n",
        "            \"name\": \"account\",\n",
        "            \"kind\": \"integer\",\n",
        "            \"order\": 2,\n",
        "            \"default\": \"\",\n",
        "            \"description\": \"DCM network id.\"\n",
        "          }\n",
        "        },\n",
        "        \"report_id\": {\n",
        "          \"field\": {\n",
        "            \"name\": \"report_id\",\n",
        "            \"kind\": \"integer\",\n",
        "            \"order\": 3,\n",
        "            \"default\": \"\",\n",
        "            \"description\": \"DCM report id, empty if using name .\"\n",
        "          }\n",
        "        },\n",
        "        \"name\": {\n",
        "          \"field\": {\n",
        "            \"name\": \"report_name\",\n",
        "            \"kind\": \"string\",\n",
        "            \"order\": 4,\n",
        "            \"default\": \"\",\n",
        "            \"description\": \"DCM report name, empty if using id instead.\"\n",
        "          }\n",
        "        }\n",
        "      },\n",
        "      \"out\": {\n",
        "        \"bigquery\": {\n",
        "          \"dataset\": {\n",
        "            \"field\": {\n",
        "              \"name\": \"dataset\",\n",
        "              \"kind\": \"string\",\n",
        "              \"order\": 5,\n",
        "              \"default\": \"\",\n",
        "              \"description\": \"Dataset to be written to in BigQuery.\"\n",
        "            }\n",
        "          },\n",
        "          \"table\": {\n",
        "            \"field\": {\n",
        "              \"name\": \"table\",\n",
        "              \"kind\": \"string\",\n",
        "              \"order\": 6,\n",
        "              \"default\": \"\",\n",
        "              \"description\": \"Table to be written to in BigQuery.\"\n",
        "            }\n",
        "          },\n",
        "          \"is_incremental_load\": {\n",
        "            \"field\": {\n",
        "              \"name\": \"is_incremental_load\",\n",
        "              \"kind\": \"boolean\",\n",
        "              \"order\": 7,\n",
        "              \"default\": false,\n",
        "              \"description\": \"Clear data in destination table during this report's time period, then append report data to existing table.\"\n",
        "            }\n",
        "          }\n",
        "        }\n",
        "      }\n",
        "    }\n",
        "  }\n",
        "]\n",
        "\n",
        "json_set_fields(TASKS, FIELDS)\n",
        "project.initialize(_recipe={ 'tasks':TASKS }, _project=CLOUD_PROJECT, _user=USER_CREDENTIALS, _client=CLIENT_CREDENTIALS, _verbose=True)\n",
        "project.execute()\n"
      ]
    }
  ]
}
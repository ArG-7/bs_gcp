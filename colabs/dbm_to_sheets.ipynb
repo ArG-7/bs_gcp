{
  "license": "Apache License, Version 2.0",
  "copyright": "Copyright 2018 Google Inc.",
  "nbformat": "4",
  "nbformat_minor": "0",
  "metadata": {
    "colab": {
      "name": "DBM To Sheets",
      "provenance": [],
      "collapsed_sections": [],
      "toc_visible": true
    },
    "kernelspec": {
      "name": "python3",
      "display_name": "Python 3"
    }
  },
  "cells": [
    {
      "cell_type": "markdown",
      "metadata": {
        "id": "eeedmgCyKE3A",
        "colab_type": "text"
      },
      "source": [
        "#1. Install Dependencies\n",
        "First install the libraries needed to execute recipes, this only needs to be done once, then click play.\n"
      ]
    },
    {
      "cell_type": "code",
      "metadata": {
        "id": "znqW4EqOPE6w",
        "colab_type": "code"
      },
      "source": [
        "!pip install git+https://github.com/google/starthinker\n"
      ]
    },
    {
      "cell_type": "markdown",
      "metadata": {
        "id": "KrXGf4hwnuCC",
        "colab_type": "text"
      },
      "source": [
        "#2. Get Cloud Project ID\n",
        "To run this recipe [requires a Google Cloud Project](https://github.com/google/starthinker/blob/master/tutorials/cloud_project.md), this only needs to be done once, then click play.\n"
      ]
    },
    {
      "cell_type": "code",
      "metadata": {
        "id": "TuAqrsWwS8WE",
        "colab_type": "code"
      },
      "source": [
        "CLOUD_PROJECT = 'PASTE PROJECT ID HERE'\n",
        "\n",
        "print(\"Cloud Project Set To: %s\" % CLOUD_PROJECT)\n"
      ]
    },
    {
      "cell_type": "markdown",
      "metadata": {
        "id": "WsxXYTaqLhTz",
        "colab_type": "text"
      },
      "source": [
        "#3. Get Client Credentials\n",
        "To read and write to various endpoints requires [downloading client credentials](https://github.com/google/starthinker/blob/master/tutorials/cloud_client_installed.md), this only needs to be done once, then click play.\n"
      ]
    },
    {
      "cell_type": "code",
      "metadata": {
        "id": "JE93y3KsCRzp",
        "colab_type": "code"
      },
      "source": [
        "CLIENT_CREDENTIALS = 'PASTE CREDENTIALS HERE'\n",
        "\n",
        "print(\"Client Credentials Set To: %s\" % CLIENT_CREDENTIALS)\n"
      ]
    },
    {
      "cell_type": "markdown",
      "metadata": {
        "id": "X7vk4eZHam3r",
        "colab_type": "text"
      },
      "source": [
        "#4. Enter DBM To Sheets Parameters\n",
        "Move existing DBM report into a Sheets tab.\n",
        " 1. Specify either report name or report id to move a report.\n",
        " 1. The most recent valid file will be moved to the sheet.\n",
        "Modify the values below for your use case, can be done multiple times, then click play.\n"
      ]
    },
    {
      "cell_type": "code",
      "metadata": {
        "id": "ZBI0a0fYnFMY",
        "colab_type": "code"
      },
      "source": [
        "FIELDS = {\n",
        "  \"report_id\":, # DBM report ID given in UI, not needed if name used.\n",
        "  \"report_name\":\"\", # Name of report, not needed if ID used.\n",
        "  \"sheet\":\"\", # Full URL to sheet being written to.\n",
        "  \"tab\":\"\", # Existing tab in sheet to write to.\n",
        "}\n",
        "\n",
        "print(\"Parameters Set To: %s\" % FIELDS)\n"
      ]
    },
    {
      "cell_type": "markdown",
      "metadata": {
        "id": "GKwDESuWpWrA",
        "colab_type": "text"
      },
      "source": [
        "#5. Execute DBM To Sheets\n",
        "This does NOT need to be modified unles you are changing the recipe, click play.\n"
      ]
    },
    {
      "cell_type": "code",
      "metadata": {
        "id": "c4jnSaNQaWcO",
        "colab_type": "code"
      },
      "source": [
        "from starthinker.util.project import project\n",
        "from starthinker.script.parse import json_set_fields\n",
        "\n",
        "USER_CREDENTIALS = '/content/user.json'\n",
        "\n",
        "TASKS = [ { 'dbm': { 'auth': 'user',\n",
        "             'out': { 'sheets': { 'range': 'A1',\n",
        "                                  'sheet': { 'field': { 'default': '',\n",
        "                                                        'description': 'Full '\n",
        "                                                                       'URL '\n",
        "                                                                       'to '\n",
        "                                                                       'sheet '\n",
        "                                                                       'being '\n",
        "                                                                       'written '\n",
        "                                                                       'to.',\n",
        "                                                        'kind': 'string',\n",
        "                                                        'name': 'sheet',\n",
        "                                                        'order': 3}},\n",
        "                                  'tab': { 'field': { 'default': '',\n",
        "                                                      'description': 'Existing '\n",
        "                                                                     'tab '\n",
        "                                                                     'in '\n",
        "                                                                     'sheet '\n",
        "                                                                     'to '\n",
        "                                                                     'write '\n",
        "                                                                     'to.',\n",
        "                                                      'kind': 'string',\n",
        "                                                      'name': 'tab',\n",
        "                                                      'order': 4}}}},\n",
        "             'report': { 'name': { 'field': { 'default': '',\n",
        "                                              'description': 'Name '\n",
        "                                                             'of '\n",
        "                                                             'report, '\n",
        "                                                             'not '\n",
        "                                                             'needed '\n",
        "                                                             'if '\n",
        "                                                             'ID '\n",
        "                                                             'used.',\n",
        "                                              'kind': 'string',\n",
        "                                              'name': 'report_name',\n",
        "                                              'order': 2}},\n",
        "                         'report_id': { 'field': { 'default': '',\n",
        "                                                   'description': 'DBM '\n",
        "                                                                  'report '\n",
        "                                                                  'ID '\n",
        "                                                                  'given '\n",
        "                                                                  'in '\n",
        "                                                                  'UI, '\n",
        "                                                                  'not '\n",
        "                                                                  'needed '\n",
        "                                                                  'if '\n",
        "                                                                  'name '\n",
        "                                                                  'used.',\n",
        "                                                   'kind': 'integer',\n",
        "                                                   'name': 'report_id',\n",
        "                                                   'order': 1}}}}}]\n",
        "\n",
        "json_set_fields(TASKS, FIELDS)\n",
        "project.initialize(_recipe={ 'tasks':TASKS }, _project=CLOUD_PROJECT, _user=USER_CREDENTIALS, _client=CLIENT_CREDENTIALS, _verbose=True)\n",
        "project.execute()\n"
      ]
    }
  ]
}
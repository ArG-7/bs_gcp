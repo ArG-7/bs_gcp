{
  "copyright": "Copyright 2020 Google LLC",
  "metadata": {
    "kernelspec": {
      "display_name": "Python 3",
      "name": "python3"
    },
    "colab": {
      "name": "API To BigQuery",
      "toc_visible": true,
      "collapsed_sections": [],
      "provenance": []
    }
  },
  "license": "Apache License, Version 2.0",
  "cells": [
    {
      "cell_type": "markdown",
      "source": [
        "#1. Install Dependencies\n",
        "First install the libraries needed to execute recipes, this only needs to be done once, then click play.\n"
      ],
      "metadata": {
        "colab_type": "text"
      }
    },
    {
      "cell_type": "code",
      "source": [
        "!pip install git+https://github.com/google/starthinker\n"
      ],
      "metadata": {
        "colab_type": "code"
      }
    },
    {
      "cell_type": "markdown",
      "source": [
        "#2. Get Cloud Project ID\n",
        "To run this recipe [requires a Google Cloud Project](https://github.com/google/starthinker/blob/master/tutorials/cloud_project.md), this only needs to be done once, then click play.\n"
      ],
      "metadata": {
        "colab_type": "text"
      }
    },
    {
      "cell_type": "code",
      "source": [
        "CLOUD_PROJECT = 'PASTE PROJECT ID HERE'\n",
        "\n",
        "print(\"Cloud Project Set To: %s\" % CLOUD_PROJECT)\n"
      ],
      "metadata": {
        "colab_type": "code"
      }
    },
    {
      "cell_type": "markdown",
      "source": [
        "#3. Get Client Credentials\n",
        "To read and write to various endpoints requires [downloading client credentials](https://github.com/google/starthinker/blob/master/tutorials/cloud_client_installed.md), this only needs to be done once, then click play.\n"
      ],
      "metadata": {
        "colab_type": "text"
      }
    },
    {
      "cell_type": "code",
      "source": [
        "CLIENT_CREDENTIALS = 'PASTE CREDENTIALS HERE'\n",
        "\n",
        "print(\"Client Credentials Set To: %s\" % CLIENT_CREDENTIALS)\n"
      ],
      "metadata": {
        "colab_type": "code"
      }
    },
    {
      "cell_type": "markdown",
      "source": [
        "#4. Enter API To BigQuery Parameters\n",
        "Execute a Google API function and store results to BigQuery.\n",
        " 1. Enter an api name and version.\n",
        " 1. Specify the function using dot notation and arguments using json.\n",
        " 1. If nextPageToken can be in response check iterate.\n",
        " 1. Give BigQuery dataset and table where response will be written.\n",
        "Modify the values below for your use case, can be done multiple times, then click play.\n"
      ],
      "metadata": {
        "colab_type": "text"
      }
    },
    {
      "cell_type": "code",
      "source": [
        "FIELDS = {\n",
        "  'auth_read': 'user',  # Credentials used for reading data.\n",
        "  'api': 'doubleclickbidmanager',  # See developer guide.\n",
        "  'version': 'v1',  # Must be supported version.\n",
        "  'function': 'reports.files.list',  # Full function dot notation path.\n",
        "  'kwargs': {'profileId': 2782211, 'reportId': 132847265, 'accountId': 7480},  # Dictionray object of name value pairs.\n",
        "  'iterate': False,  # Is the result a list?\n",
        "  'dataset': '',  # Existing dataset in BigQuery.\n",
        "  'table': '',  # Table to write API call results to.\n",
        "  'schema': [],  # Schema provided in JSON list format or empty list.\n",
        "}\n",
        "\n",
        "print(\"Parameters Set To: %s\" % FIELDS)\n"
      ],
      "metadata": {
        "colab_type": "code"
      }
    },
    {
      "cell_type": "markdown",
      "source": [
        "#5. Execute API To BigQuery\n",
        "This does NOT need to be modified unles you are changing the recipe, click play.\n"
      ],
      "metadata": {
        "colab_type": "text"
      }
    },
    {
      "cell_type": "code",
      "source": [
        "from starthinker.util.project import project\n",
        "from starthinker.script.parse import json_set_fields\n",
        "\n",
        "USER_CREDENTIALS = '/content/user.json'\n",
        "\n",
        "TASKS = [\n",
        "  {\n",
        "    'google_api': {\n",
        "      'iterate': {'field': {'description': 'Is the result a list?','name': 'iterate','default': False,'order': 5,'kind': 'boolean'}},\n",
        "      'api': {'field': {'description': 'See developer guide.','name': 'api','default': 'doubleclickbidmanager','order': 1,'kind': 'string'}},\n",
        "      'auth': 'user',\n",
        "      'out': {\n",
        "        'bigquery': {\n",
        "          'table': {'field': {'description': 'Table to write API call results to.','name': 'table','default': '','order': 7,'kind': 'string'}},\n",
        "          'dataset': {'field': {'description': 'Existing dataset in BigQuery.','name': 'dataset','default': '','order': 6,'kind': 'string'}},\n",
        "          'schema': {'field': {'description': 'Schema provided in JSON list format or empty list.','name': 'schema','default': [],'order': 9,'kind': 'json'}},\n",
        "          'format': 'JSON'\n",
        "        }\n",
        "      },\n",
        "      'function': {'field': {'description': 'Full function dot notation path.','name': 'function','default': 'reports.files.list','order': 3,'kind': 'string'}},\n",
        "      'kwargs': {'field': {'description': 'Dictionray object of name value pairs.','name': 'kwargs','default': {'profileId': 2782211,'reportId': 132847265,'accountId': 7480},'order': 4,'kind': 'json'}},\n",
        "      'version': {'field': {'description': 'Must be supported version.','name': 'version','default': 'v1','order': 2,'kind': 'string'}}\n",
        "    }\n",
        "  }\n",
        "]\n",
        "\n",
        "json_set_fields(TASKS, FIELDS)\n",
        "\n",
        "project.initialize(_recipe={ 'tasks':TASKS }, _project=CLOUD_PROJECT, _user=USER_CREDENTIALS, _client=CLIENT_CREDENTIALS, _verbose=True, _force=True)\n",
        "project.execute(_force=True)\n"
      ],
      "metadata": {
        "colab_type": "code"
      }
    }
  ],
  "nbformat_minor": "0",
  "nbformat": "4"
}
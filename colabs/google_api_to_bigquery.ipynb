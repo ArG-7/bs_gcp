{
  "license": "Apache License, Version 2.0",
  "copyright": "Copyright 2018 Google Inc.",
  "nbformat": "4",
  "nbformat_minor": "0",
  "metadata": {
    "colab": {
      "name": "API To BigQuery",
      "provenance": [],
      "collapsed_sections": [],
      "toc_visible": true
    },
    "kernelspec": {
      "name": "python3",
      "display_name": "Python 3"
    }
  },
  "cells": [
    {
      "cell_type": "markdown",
      "metadata": {
        "id": "Avb5ssZqA5b7",
        "colab_type": "text"
      },
      "source": [
        "#1. Install Dependencies\n",
        "First install the libraries needed to execute recipes, this only needs to be done once, then click play.\n"
      ]
    },
    {
      "cell_type": "code",
      "metadata": {
        "id": "MRWwIN3kh4VH",
        "colab_type": "code"
      },
      "source": [
        "!pip install git+https://github.com/google/starthinker\n"
      ]
    },
    {
      "cell_type": "markdown",
      "metadata": {
        "id": "olYLagE2YhTT",
        "colab_type": "text"
      },
      "source": [
        "#2. Get Cloud Project ID\n",
        "To run this recipe [requires a Google Cloud Project](https://github.com/google/starthinker/blob/master/tutorials/cloud_project.md), this only needs to be done once, then click play.\n"
      ]
    },
    {
      "cell_type": "code",
      "metadata": {
        "id": "Y4jkS6pgMdWj",
        "colab_type": "code"
      },
      "source": [
        "CLOUD_PROJECT = 'PASTE PROJECT ID HERE'\n",
        "\n",
        "print(\"Cloud Project Set To: %s\" % CLOUD_PROJECT)\n"
      ]
    },
    {
      "cell_type": "markdown",
      "metadata": {
        "id": "98izSCqYLJ3a",
        "colab_type": "text"
      },
      "source": [
        "#3. Get Client Credentials\n",
        "To read and write to various endpoints requires [downloading client credentials](https://github.com/google/starthinker/blob/master/tutorials/cloud_client_installed.md), this only needs to be done once, then click play.\n"
      ]
    },
    {
      "cell_type": "code",
      "metadata": {
        "id": "zABf8c9AVBrP",
        "colab_type": "code"
      },
      "source": [
        "CLIENT_CREDENTIALS = 'PASTE CREDENTIALS HERE'\n",
        "\n",
        "print(\"Client Credentials Set To: %s\" % CLIENT_CREDENTIALS)\n"
      ]
    },
    {
      "cell_type": "markdown",
      "metadata": {
        "id": "ojM5XDDVDC8q",
        "colab_type": "text"
      },
      "source": [
        "#4. Enter API To BigQuery Parameters\n",
        "Execute a Google API function and store results to BigQuery.\n",
        " 1. Enter an api name and version.\n",
        " 1. Specify the function using dot notation and arguments using json.\n",
        " 1. If nextPageToken can be in response check iterate.\n",
        " 1. Give BigQuery dataset and table where response will be written.\n",
        "Modify the values below for your use case, can be done multiple times, then click play.\n"
      ]
    },
    {
      "cell_type": "code",
      "metadata": {
        "id": "24NgPZt2N5Pz",
        "colab_type": "code"
      },
      "source": [
        "FIELDS = {\n",
        "  \"api\":\"doubleclickbidmanager\", # See developer guide.\n",
        "  \"version\":\"v1\", # Must be supported version.\n",
        "  \"function\":\"reports.files.list\", # Full function dot notation path.\n",
        "  \"kwargs\":{'accountId': 7480, 'profileId': 2782211, 'reportId': 132847265}, # Dictionray object of name value pairs.\n",
        "  \"iterate\":False, # Is the result a list?\n",
        "  \"dataset\":\"\", # Existing dataset in BigQuery.\n",
        "  \"table\":\"\", # Table to write API call results to.\n",
        "  \"schema\":[], # Schema provided in JSON list format or empty list.\n",
        "}\n",
        "\n",
        "print(\"Parameters Set To: %s\" % FIELDS)\n"
      ]
    },
    {
      "cell_type": "markdown",
      "metadata": {
        "id": "5IXE1URFpjg5",
        "colab_type": "text"
      },
      "source": [
        "#5. Execute API To BigQuery\n",
        "This does NOT need to be modified unles you are changing the recipe, click play.\n"
      ]
    },
    {
      "cell_type": "code",
      "metadata": {
        "id": "ZF08bf19951R",
        "colab_type": "code"
      },
      "source": [
        "from starthinker.util.project import project\n",
        "from starthinker.script.parse import json_set_fields\n",
        "\n",
        "USER_CREDENTIALS = '/content/user.json'\n",
        "\n",
        "TASKS = [ { 'google_api': { 'api': { 'field': { 'default': 'doubleclickbidmanager',\n",
        "                                        'description': 'See '\n",
        "                                                       'developer '\n",
        "                                                       'guide.',\n",
        "                                        'kind': 'string',\n",
        "                                        'name': 'api',\n",
        "                                        'order': 1}},\n",
        "                    'auth': 'user',\n",
        "                    'function': { 'field': { 'default': 'reports.files.list',\n",
        "                                             'description': 'Full '\n",
        "                                                            'function '\n",
        "                                                            'dot '\n",
        "                                                            'notation '\n",
        "                                                            'path.',\n",
        "                                             'kind': 'string',\n",
        "                                             'name': 'function',\n",
        "                                             'order': 3}},\n",
        "                    'iterate': { 'field': { 'default': False,\n",
        "                                            'description': 'Is '\n",
        "                                                           'the '\n",
        "                                                           'result '\n",
        "                                                           'a '\n",
        "                                                           'list?',\n",
        "                                            'kind': 'boolean',\n",
        "                                            'name': 'iterate',\n",
        "                                            'order': 5}},\n",
        "                    'kwargs': { 'field': { 'default': { 'accountId': 7480,\n",
        "                                                        'profileId': 2782211,\n",
        "                                                        'reportId': 132847265},\n",
        "                                           'description': 'Dictionray '\n",
        "                                                          'object '\n",
        "                                                          'of '\n",
        "                                                          'name '\n",
        "                                                          'value '\n",
        "                                                          'pairs.',\n",
        "                                           'kind': 'json',\n",
        "                                           'name': 'kwargs',\n",
        "                                           'order': 4}},\n",
        "                    'out': { 'bigquery': { 'dataset': { 'field': { 'default': '',\n",
        "                                                                   'description': 'Existing '\n",
        "                                                                                  'dataset '\n",
        "                                                                                  'in '\n",
        "                                                                                  'BigQuery.',\n",
        "                                                                   'kind': 'string',\n",
        "                                                                   'name': 'dataset',\n",
        "                                                                   'order': 6}},\n",
        "                                           'format': 'JSON',\n",
        "                                           'schema': { 'field': { 'default': [ ],\n",
        "                                                                  'description': 'Schema '\n",
        "                                                                                 'provided '\n",
        "                                                                                 'in '\n",
        "                                                                                 'JSON '\n",
        "                                                                                 'list '\n",
        "                                                                                 'format '\n",
        "                                                                                 'or '\n",
        "                                                                                 'empty '\n",
        "                                                                                 'list.',\n",
        "                                                                  'kind': 'json',\n",
        "                                                                  'name': 'schema',\n",
        "                                                                  'order': 9}},\n",
        "                                           'table': { 'field': { 'default': '',\n",
        "                                                                 'description': 'Table '\n",
        "                                                                                'to '\n",
        "                                                                                'write '\n",
        "                                                                                'API '\n",
        "                                                                                'call '\n",
        "                                                                                'results '\n",
        "                                                                                'to.',\n",
        "                                                                 'kind': 'string',\n",
        "                                                                 'name': 'table',\n",
        "                                                                 'order': 7}}}},\n",
        "                    'version': { 'field': { 'default': 'v1',\n",
        "                                            'description': 'Must '\n",
        "                                                           'be '\n",
        "                                                           'supported '\n",
        "                                                           'version.',\n",
        "                                            'kind': 'string',\n",
        "                                            'name': 'version',\n",
        "                                            'order': 2}}}}]\n",
        "\n",
        "json_set_fields(TASKS, FIELDS)\n",
        "project.initialize(_recipe={ 'tasks':TASKS }, _project=CLOUD_PROJECT, _user=USER_CREDENTIALS, _client=CLIENT_CREDENTIALS, _verbose=True)\n",
        "project.execute()\n"
      ]
    }
  ]
}
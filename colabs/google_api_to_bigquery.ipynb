{
  "license": "Apache License, Version 2.0",
  "copyright": "Copyright 2018 Google Inc.",
  "nbformat": "4",
  "nbformat_minor": "0",
  "metadata": {
    "colab": {
      "name": "API To BigQuery",
      "provenance": [],
      "collapsed_sections": [],
      "toc_visible": true
    },
    "kernelspec": {
      "name": "python3",
      "display_name": "Python 3"
    }
  },
  "cells": [
    {
      "cell_type": "markdown",
      "metadata": {
        "id": "gYLlRLbZmrH0",
        "colab_type": "text"
      },
      "source": [
        "#1. Install Dependencies\n",
        "First install the libraries needed to execute recipes, this only needs to be done once, then click play.\n"
      ]
    },
    {
      "cell_type": "code",
      "metadata": {
        "id": "XtEgHgAhkaXa",
        "colab_type": "code"
      },
      "source": [
        "!pip install git+https://github.com/google/starthinker\n"
      ]
    },
    {
      "cell_type": "markdown",
      "metadata": {
        "id": "81lS8ZGkxlAn",
        "colab_type": "text"
      },
      "source": [
        "#2. Get Cloud Project ID\n",
        "To run this recipe [requires a Google Cloud Project](https://github.com/google/starthinker/blob/master/tutorials/cloud_project.md), this only needs to be done once, then click play.\n"
      ]
    },
    {
      "cell_type": "code",
      "metadata": {
        "id": "FI8K4GJjqeGR",
        "colab_type": "code"
      },
      "source": [
        "CLOUD_PROJECT = 'PASTE PROJECT ID HERE'\n",
        "\n",
        "print(\"Cloud Project Set To: %s\" % CLOUD_PROJECT)\n"
      ]
    },
    {
      "cell_type": "markdown",
      "metadata": {
        "id": "7EXpmEvZqz2i",
        "colab_type": "text"
      },
      "source": [
        "#3. Get Client Credentials\n",
        "To read and write to various endpoints requires [downloading client credentials](https://github.com/google/starthinker/blob/master/tutorials/cloud_client_installed.md), this only needs to be done once, then click play.\n"
      ]
    },
    {
      "cell_type": "code",
      "metadata": {
        "id": "2gdm2SsYXWXg",
        "colab_type": "code"
      },
      "source": [
        "CLIENT_CREDENTIALS = 'PASTE CREDENTIALS HERE'\n",
        "\n",
        "print(\"Client Credentials Set To: %s\" % CLIENT_CREDENTIALS)\n"
      ]
    },
    {
      "cell_type": "markdown",
      "metadata": {
        "id": "Gbu44xZhlX5X",
        "colab_type": "text"
      },
      "source": [
        "#4. Enter API To BigQuery Parameters\n",
        "Execute a Google API function and store results to BigQuery.\n",
        " 1. Enter an api name and version.\n",
        " 1. Specify the function using dot notation and arguments using json.\n",
        " 1. If nextPageToken can be in response check iterate.\n",
        " 1. Give BigQuery dataset and table where response will be written.\n",
        "Modify the values below for your use case, can be done multiple times, then click play.\n"
      ]
    },
    {
      "cell_type": "code",
      "metadata": {
        "id": "GBgGJWiH146L",
        "colab_type": "code"
      },
      "source": [
        "FIELDS = {\n",
        "  \"api\":\"doubleclickbidmanager\", # See developer guide.\n",
        "  \"version\":\"v1\", # Must be supported version.\n",
        "  \"function\":\"reports.files.list\", # Full function dot notation path.\n",
        "  \"kwargs\":{'accountId': 7480, 'profileId': 2782211, 'reportId': 132847265}, # Dictionray object of name value pairs.\n",
        "  \"iterate\":False, # Is the result a list?\n",
        "  \"dataset\":\"\", # Existing dataset in BigQuery.\n",
        "  \"table\":\"\", # Table to write API call results to.\n",
        "  \"schema\":[], # Schema provided in JSON list format or empty list.\n",
        "}\n",
        "\n",
        "print(\"Parameters Set To: %s\" % FIELDS)\n"
      ]
    },
    {
      "cell_type": "markdown",
      "metadata": {
        "id": "NNaONKBUPU9T",
        "colab_type": "text"
      },
      "source": [
        "#5. Execute API To BigQuery\n",
        "This does NOT need to be modified unles you are changing the recipe, click play.\n"
      ]
    },
    {
      "cell_type": "code",
      "metadata": {
        "id": "6YI009DjceXH",
        "colab_type": "code"
      },
      "source": [
        "from starthinker.util.project import project\n",
        "from starthinker.script.parse import json_set_fields\n",
        "\n",
        "USER_CREDENTIALS = '/content/user.json'\n",
        "\n",
        "TASKS = [\n",
        "  {\n",
        "    \"google_api\": {\n",
        "      \"auth\": \"user\",\n",
        "      \"api\": {\n",
        "        \"field\": {\n",
        "          \"name\": \"api\",\n",
        "          \"kind\": \"string\",\n",
        "          \"order\": 1,\n",
        "          \"default\": \"doubleclickbidmanager\",\n",
        "          \"description\": \"See developer guide.\"\n",
        "        }\n",
        "      },\n",
        "      \"version\": {\n",
        "        \"field\": {\n",
        "          \"name\": \"version\",\n",
        "          \"kind\": \"string\",\n",
        "          \"order\": 2,\n",
        "          \"default\": \"v1\",\n",
        "          \"description\": \"Must be supported version.\"\n",
        "        }\n",
        "      },\n",
        "      \"function\": {\n",
        "        \"field\": {\n",
        "          \"name\": \"function\",\n",
        "          \"kind\": \"string\",\n",
        "          \"order\": 3,\n",
        "          \"default\": \"reports.files.list\",\n",
        "          \"description\": \"Full function dot notation path.\"\n",
        "        }\n",
        "      },\n",
        "      \"kwargs\": {\n",
        "        \"field\": {\n",
        "          \"name\": \"kwargs\",\n",
        "          \"kind\": \"json\",\n",
        "          \"order\": 4,\n",
        "          \"default\": {\n",
        "            \"accountId\": 7480,\n",
        "            \"profileId\": 2782211,\n",
        "            \"reportId\": 132847265\n",
        "          },\n",
        "          \"description\": \"Dictionray object of name value pairs.\"\n",
        "        }\n",
        "      },\n",
        "      \"iterate\": {\n",
        "        \"field\": {\n",
        "          \"name\": \"iterate\",\n",
        "          \"kind\": \"boolean\",\n",
        "          \"order\": 5,\n",
        "          \"default\": false,\n",
        "          \"description\": \"Is the result a list?\"\n",
        "        }\n",
        "      },\n",
        "      \"out\": {\n",
        "        \"bigquery\": {\n",
        "          \"dataset\": {\n",
        "            \"field\": {\n",
        "              \"name\": \"dataset\",\n",
        "              \"kind\": \"string\",\n",
        "              \"order\": 6,\n",
        "              \"default\": \"\",\n",
        "              \"description\": \"Existing dataset in BigQuery.\"\n",
        "            }\n",
        "          },\n",
        "          \"table\": {\n",
        "            \"field\": {\n",
        "              \"name\": \"table\",\n",
        "              \"kind\": \"string\",\n",
        "              \"order\": 7,\n",
        "              \"default\": \"\",\n",
        "              \"description\": \"Table to write API call results to.\"\n",
        "            }\n",
        "          },\n",
        "          \"schema\": {\n",
        "            \"field\": {\n",
        "              \"name\": \"schema\",\n",
        "              \"kind\": \"json\",\n",
        "              \"order\": 9,\n",
        "              \"default\": [],\n",
        "              \"description\": \"Schema provided in JSON list format or empty list.\"\n",
        "            }\n",
        "          },\n",
        "          \"format\": \"JSON\"\n",
        "        }\n",
        "      }\n",
        "    }\n",
        "  }\n",
        "]\n",
        "\n",
        "json_set_fields(TASKS, FIELDS)\n",
        "project.initialize(_recipe={ 'tasks':TASKS }, _project=CLOUD_PROJECT, _user=USER_CREDENTIALS, _client=CLIENT_CREDENTIALS, _verbose=True)\n",
        "project.execute()\n"
      ]
    }
  ]
}
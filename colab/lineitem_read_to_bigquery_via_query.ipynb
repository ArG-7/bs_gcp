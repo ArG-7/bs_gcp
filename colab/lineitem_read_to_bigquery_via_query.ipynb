{
  "license": "Apache License, Version 2.0",
  "copyright": "Copyright 2018 Google Inc.",
  "nbformat": "4",
  "nbformat_minor": "0",
  "metadata": {
    "colab": {
      "name": "Line Item To BigQuery Via Query",
      "provenance": [],
      "collapsed_sections": [],
      "toc_visible": true
    },
    "kernelspec": {
      "name": "python3",
      "display_name": "Python 3"
    }
  },
  "cells": [
    {
      "cell_type": "markdown",
      "metadata": {
        "id": "NLfp8ob1AFXP",
        "colab_type": "text"
      },
      "source": [
        "#1. Install Dependencies\n",
        "First install the libraries needed to execute recipes, this only needs to be done once, then click play.\n"
      ]
    },
    {
      "cell_type": "code",
      "metadata": {
        "id": "bjb73X59dD33",
        "colab_type": "code"
      },
      "source": [
        "!pip install git+https://github.com/google/starthinker\n"
      ]
    },
    {
      "cell_type": "markdown",
      "metadata": {
        "id": "z3p03UpO2EIA",
        "colab_type": "text"
      },
      "source": [
        "#2. Get Cloud Project ID\n",
        "To run this recipe [requires a Google Cloud Project](https://github.com/google/starthinker/blob/master/tutorials/cloud_project.md), this only needs to be done once, then click play.\n"
      ]
    },
    {
      "cell_type": "code",
      "metadata": {
        "id": "GLXCOsRGKUUB",
        "colab_type": "code"
      },
      "source": [
        "CLOUD_PROJECT = 'PASTE PROJECT ID HERE'\n",
        "\n",
        "print(\"Cloud Project Set To: %s\" % CLOUD_PROJECT)\n"
      ]
    },
    {
      "cell_type": "markdown",
      "metadata": {
        "id": "4pgKKToyGVOD",
        "colab_type": "text"
      },
      "source": [
        "#3. Get Client Credentials\n",
        "To read and write to various endpoints requires [downloading client credentials](https://github.com/google/starthinker/blob/master/tutorials/cloud_client_installed.md), this only needs to be done once, then click play.\n"
      ]
    },
    {
      "cell_type": "code",
      "metadata": {
        "id": "7oxHau6xbGRC",
        "colab_type": "code"
      },
      "source": [
        "CLIENT_CREDENTIALS = 'PASTE CREDENTIALS HERE'\n",
        "\n",
        "print(\"Client Credentials Set To: %s\" % CLIENT_CREDENTIALS)\n"
      ]
    },
    {
      "cell_type": "markdown",
      "metadata": {
        "id": "ep6xo3cLGUZG",
        "colab_type": "text"
      },
      "source": [
        "#4. Enter Line Item To BigQuery Via Query Parameters\n",
        "Move using an Id query.\n",
        " 1. Specify the query that will pull the lineitem ids to download.\n",
        " 1. Specify the dataset and table where the lineitems will be written.\n",
        " 1. The schema will match <a href='https://developers.google.com/bid-manager/guides/entity-write/format' target='_blank'>Entity Write Format</a>.\n",
        "Modify the values below for your use case, can be done multiple times, then click play.\n"
      ]
    },
    {
      "cell_type": "code",
      "metadata": {
        "id": "ac3YtXygs7i8",
        "colab_type": "code"
      },
      "source": [
        "FIELDS = {\n",
        "  \"id_dataset\":,\n",
        "  \"id_query\":SELECT * FROM `Dataset.Table`;,\n",
        "  \"id_legacy\":False,\n",
        "  \"destination_dataset\":,\n",
        "  \"destination_table\":,\n",
        "}\n",
        "\n",
        "print(\"Parameters Set To: %s\" % FIELDS)\n"
      ]
    },
    {
      "cell_type": "markdown",
      "metadata": {
        "id": "iSt4jBT8rJdg",
        "colab_type": "text"
      },
      "source": [
        "#4. Execute Line Item To BigQuery Via Query\n",
        "This does NOT need to be modified unles you are changing the recipe, click play.\n"
      ]
    },
    {
      "cell_type": "code",
      "metadata": {
        "id": "89rzemFKbv4f",
        "colab_type": "code"
      },
      "source": [
        "from starthinker.util.project import project\n",
        "from starthinker.script.parse import json_set_fields\n",
        "\n",
        "USER_CREDENTIALS = '/content/user.json'\n",
        "\n",
        "TASKS = [\n",
        "  {\n",
        "    \"lineitem\": {\n",
        "      \"auth\": \"user\",\n",
        "      \"read\": {\n",
        "        \"line_items\": {\n",
        "          \"single_cell\": true,\n",
        "          \"bigquery\": {\n",
        "            \"dataset\": {\n",
        "              \"field\": {\n",
        "                \"name\": \"id_dataset\",\n",
        "                \"kind\": \"string\",\n",
        "                \"order\": 1,\n",
        "                \"default\": \"\"\n",
        "              }\n",
        "            },\n",
        "            \"query\": {\n",
        "              \"field\": {\n",
        "                \"name\": \"id_query\",\n",
        "                \"kind\": \"string\",\n",
        "                \"order\": 2,\n",
        "                \"default\": \"SELECT * FROM `Dataset.Table`;\"\n",
        "              }\n",
        "            },\n",
        "            \"legacy\": {\n",
        "              \"field\": {\n",
        "                \"name\": \"id_legacy\",\n",
        "                \"kind\": \"boolean\",\n",
        "                \"order\": 3,\n",
        "                \"default\": false\n",
        "              }\n",
        "            }\n",
        "          }\n",
        "        },\n",
        "        \"out\": {\n",
        "          \"bigquery\": {\n",
        "            \"dataset\": {\n",
        "              \"field\": {\n",
        "                \"name\": \"destination_dataset\",\n",
        "                \"kind\": \"string\",\n",
        "                \"order\": 4,\n",
        "                \"default\": \"\"\n",
        "              }\n",
        "            },\n",
        "            \"table\": {\n",
        "              \"field\": {\n",
        "                \"name\": \"destination_table\",\n",
        "                \"kind\": \"string\",\n",
        "                \"order\": 5,\n",
        "                \"default\": \"\"\n",
        "              }\n",
        "            }\n",
        "          }\n",
        "        }\n",
        "      }\n",
        "    }\n",
        "  }\n",
        "]\n",
        "\n",
        "json_set_fields(TASKS, FIELDS)\n",
        "\n",
        "project.initialize(_recipe={ 'tasks':TASKS }, _project=CLOUD_PROJECT, _user=USER_CREDENTIALS, _client=CLIENT_CREDENTIALS, _verbose=True)\n",
        "project.execute()\n"
      ]
    }
  ]
}
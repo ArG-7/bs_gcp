{
  "license": "Apache License, Version 2.0",
  "copyright": "Copyright 2018 Google Inc.",
  "nbformat": "4",
  "nbformat_minor": "0",
  "metadata": {
    "colab": {
      "name": "Archive",
      "provenance": [],
      "collapsed_sections": [],
      "toc_visible": true
    },
    "kernelspec": {
      "name": "python3",
      "display_name": "Python 3"
    }
  },
  "cells": [
    {
      "cell_type": "markdown",
      "metadata": {
        "id": "pKFE0lVpUZTk",
        "colab_type": "text"
      },
      "source": [
        "#1. Install Dependencies\n",
        "First install the libraries needed to execute recipes, this only needs to be done once, then click play.\n"
      ]
    },
    {
      "cell_type": "code",
      "metadata": {
        "id": "xrTb131zB4Uh",
        "colab_type": "code"
      },
      "source": [
        "!pip install git+https://github.com/google/starthinker\n"
      ]
    },
    {
      "cell_type": "markdown",
      "metadata": {
        "id": "dSWjgDBEvv9s",
        "colab_type": "text"
      },
      "source": [
        "#2. Get Cloud Project ID\n",
        "To run this recipe [requires a Google Cloud Project](https://github.com/google/starthinker/blob/master/tutorials/cloud_project.md), this only needs to be done once, then click play.\n"
      ]
    },
    {
      "cell_type": "code",
      "metadata": {
        "id": "L2Ll3ZYSjKzs",
        "colab_type": "code"
      },
      "source": [
        "CLOUD_PROJECT = 'PASTE PROJECT ID HERE'\n",
        "\n",
        "print(\"Cloud Project Set To: %s\" % CLOUD_PROJECT)\n"
      ]
    },
    {
      "cell_type": "markdown",
      "metadata": {
        "id": "PUTGukFRZn9I",
        "colab_type": "text"
      },
      "source": [
        "#3. Get Client Credentials\n",
        "To read and write to various endpoints requires [downloading client credentials](https://github.com/google/starthinker/blob/master/tutorials/cloud_client_installed.md), this only needs to be done once, then click play.\n"
      ]
    },
    {
      "cell_type": "code",
      "metadata": {
        "id": "AQPC4eKmOPbu",
        "colab_type": "code"
      },
      "source": [
        "CLIENT_CREDENTIALS = 'PASTE CREDENTIALS HERE'\n",
        "\n",
        "print(\"Client Credentials Set To: %s\" % CLIENT_CREDENTIALS)\n"
      ]
    },
    {
      "cell_type": "markdown",
      "metadata": {
        "id": "BrIIAG0KUGs1",
        "colab_type": "text"
      },
      "source": [
        "#4. Enter Archive Parameters\n",
        "Wipe old information from a Storage bucket.\n",
        " 1. Specify how many days back to retain data and which buckets and paths to purge.\n",
        " 1. Everything under a path will be moved to archive or deleted depending on your choice.\n",
        "Modify the values below for your use case, can be done multiple times, then click play.\n"
      ]
    },
    {
      "cell_type": "code",
      "metadata": {
        "id": "n4dQSYqPk9UI",
        "colab_type": "code"
      },
      "source": [
        "FIELDS = {\n",
        "  \"archive_days\":7,\n",
        "  \"archive_bucket\":,\n",
        "  \"archive_path\":,\n",
        "  \"archive_delete\":False,\n",
        "}\n",
        "\n",
        "print(\"Parameters Set To: %s\" % FIELDS)\n"
      ]
    },
    {
      "cell_type": "markdown",
      "metadata": {
        "id": "ele6kawiOjqG",
        "colab_type": "text"
      },
      "source": [
        "#4. Execute Archive\n",
        "This does NOT need to be modified unles you are changing the recipe, click play.\n"
      ]
    },
    {
      "cell_type": "code",
      "metadata": {
        "id": "kphvmOCpn9aW",
        "colab_type": "code"
      },
      "source": [
        "from starthinker.util.project import project\n",
        "from starthinker.script.parse import json_set_fields\n",
        "\n",
        "USER_CREDENTIALS = '/content/user.json'\n",
        "\n",
        "TASKS = [\n",
        "  {\n",
        "    \"archive\": {\n",
        "      \"auth\": \"user\",\n",
        "      \"days\": {\n",
        "        \"field\": {\n",
        "          \"name\": \"archive_days\",\n",
        "          \"kind\": \"integer\",\n",
        "          \"order\": 1,\n",
        "          \"default\": 7\n",
        "        }\n",
        "      },\n",
        "      \"storage\": {\n",
        "        \"bucket\": {\n",
        "          \"field\": {\n",
        "            \"name\": \"archive_bucket\",\n",
        "            \"kind\": \"string\",\n",
        "            \"order\": 2,\n",
        "            \"default\": \"\"\n",
        "          }\n",
        "        },\n",
        "        \"path\": {\n",
        "          \"field\": {\n",
        "            \"name\": \"archive_path\",\n",
        "            \"kind\": \"string\",\n",
        "            \"order\": 3,\n",
        "            \"default\": \"\"\n",
        "          }\n",
        "        }\n",
        "      },\n",
        "      \"delete\": {\n",
        "        \"field\": {\n",
        "          \"name\": \"archive_delete\",\n",
        "          \"kind\": \"boolean\",\n",
        "          \"order\": 4,\n",
        "          \"default\": false\n",
        "        }\n",
        "      }\n",
        "    }\n",
        "  }\n",
        "]\n",
        "\n",
        "json_set_fields(TASKS, FIELDS)\n",
        "\n",
        "project.initialize(_recipe={ 'tasks':TASKS }, _project=CLOUD_PROJECT, _user=USER_CREDENTIALS, _client=CLIENT_CREDENTIALS, _verbose=True)\n",
        "project.execute()\n"
      ]
    }
  ]
}
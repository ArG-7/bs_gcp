{
  "license": "Apache License, Version 2.0",
  "copyright": "Copyright 2018 Google Inc.",
  "nbformat": "4",
  "nbformat_minor": "0",
  "metadata": {
    "colab": {
      "name": "DBM To Sheets",
      "provenance": [],
      "collapsed_sections": [],
      "toc_visible": true
    },
    "kernelspec": {
      "name": "python3",
      "display_name": "Python 3"
    }
  },
  "cells": [
    {
      "cell_type": "markdown",
      "metadata": {
        "id": "SGg7vM06Aj42",
        "colab_type": "text"
      },
      "source": [
        "#1. Install Dependencies\n",
        "First install the libraries needed to execute recipes, this only needs to be done once, then click play.\n"
      ]
    },
    {
      "cell_type": "code",
      "metadata": {
        "id": "wckWudzPDSZf",
        "colab_type": "code"
      },
      "source": [
        "!pip install git+https://github.com/google/starthinker\n"
      ]
    },
    {
      "cell_type": "markdown",
      "metadata": {
        "id": "SJxfKwGWKjlN",
        "colab_type": "text"
      },
      "source": [
        "#2. Get Cloud Project ID\n",
        "To run this recipe [requires a Google Cloud Project](https://github.com/google/starthinker/blob/master/tutorials/cloud_client_installed.md), this only needs to be done once, then click play.\n"
      ]
    },
    {
      "cell_type": "code",
      "metadata": {
        "id": "eZwgNlsl1F3X",
        "colab_type": "code"
      },
      "source": [
        "CLOUD_PROJECT = 'PASTE PROJECT ID HERE'\n",
        "\n",
        "print(\"Cloud Project Set To: %s\" % CLOUD_PROJECT)\n"
      ]
    },
    {
      "cell_type": "markdown",
      "metadata": {
        "id": "Jk1OzWXu3RJL",
        "colab_type": "text"
      },
      "source": [
        "#3. Get Client Credentials\n",
        "To read and write to various endpoints requires [downloading client credentials](https://github.com/google/starthinker/blob/master/tutorials/cloud_client_installed.md), this only needs to be done once, then click play.\n"
      ]
    },
    {
      "cell_type": "code",
      "metadata": {
        "id": "HLQvXe4XwxKP",
        "colab_type": "code"
      },
      "source": [
        "CLIENT_CREDENTIALS = 'PASTE CREDENTIALS HERE'\n",
        "\n",
        "print(\"Client Credentials Set To: %s\" % CLIENT_CREDENTIALS)\n"
      ]
    },
    {
      "cell_type": "markdown",
      "metadata": {
        "id": "PAEanzniZwvw",
        "colab_type": "text"
      },
      "source": [
        "#4. Enter DBM To Sheets Parameters\n",
        "Move existing DBM report into a Sheets tab.\n",
        " 1. Specify either report name or report id to move a report.\n",
        " 1. The most recent valid file will be moved to the sheet.\n",
        "Modify the values below for your use case, can be done multiple times, then click play.\n"
      ]
    },
    {
      "cell_type": "code",
      "metadata": {
        "id": "fUqePifU6OAk",
        "colab_type": "code"
      },
      "source": [
        "FIELDS = {\n",
        "  \"report_id\":, # DBM report ID given in UI, not needed if name used.\n",
        "  \"report_name\":\"\", # Name of report, not needed if ID used.\n",
        "  \"sheet\":\"\", # Full URL to sheet being written to.\n",
        "  \"tab\":\"\", # Existing tab in sheet to write to.\n",
        "}\n",
        "\n",
        "print(\"Parameters Set To: %s\" % FIELDS)\n"
      ]
    },
    {
      "cell_type": "markdown",
      "metadata": {
        "id": "AOXNVpcpxb1w",
        "colab_type": "text"
      },
      "source": [
        "#4. Execute DBM To Sheets\n",
        "This does NOT need to be modified unles you are changing the recipe, click play.\n"
      ]
    },
    {
      "cell_type": "code",
      "metadata": {
        "id": "IXSI3UlaLNHP",
        "colab_type": "code"
      },
      "source": [
        "from starthinker.util.project import project\n",
        "from starthinker.script.parse import json_set_fields\n",
        "\n",
        "USER_CREDENTIALS = '/content/user.json'\n",
        "\n",
        "TASKS = [\n",
        "  {\n",
        "    \"dbm\": {\n",
        "      \"auth\": \"user\",\n",
        "      \"report\": {\n",
        "        \"report_id\": {\n",
        "          \"field\": {\n",
        "            \"name\": \"report_id\",\n",
        "            \"kind\": \"integer\",\n",
        "            \"order\": 1,\n",
        "            \"default\": \"\",\n",
        "            \"description\": \"DBM report ID given in UI, not needed if name used.\"\n",
        "          }\n",
        "        },\n",
        "        \"name\": {\n",
        "          \"field\": {\n",
        "            \"name\": \"report_name\",\n",
        "            \"kind\": \"string\",\n",
        "            \"order\": 2,\n",
        "            \"default\": \"\",\n",
        "            \"description\": \"Name of report, not needed if ID used.\"\n",
        "          }\n",
        "        }\n",
        "      },\n",
        "      \"out\": {\n",
        "        \"sheets\": {\n",
        "          \"sheet\": {\n",
        "            \"field\": {\n",
        "              \"name\": \"sheet\",\n",
        "              \"kind\": \"string\",\n",
        "              \"order\": 3,\n",
        "              \"default\": \"\",\n",
        "              \"description\": \"Full URL to sheet being written to.\"\n",
        "            }\n",
        "          },\n",
        "          \"tab\": {\n",
        "            \"field\": {\n",
        "              \"name\": \"tab\",\n",
        "              \"kind\": \"string\",\n",
        "              \"order\": 4,\n",
        "              \"default\": \"\",\n",
        "              \"description\": \"Existing tab in sheet to write to.\"\n",
        "            }\n",
        "          },\n",
        "          \"range\": \"A1\"\n",
        "        }\n",
        "      }\n",
        "    }\n",
        "  }\n",
        "]\n",
        "\n",
        "json_set_fields(TASKS, FIELDS)\n",
        "\n",
        "project.initialize(_recipe={ 'tasks':TASKS }, _project=CLOUD_PROJECT, _user=USER_CREDENTIALS, _client=CLIENT_CREDENTIALS, _verbose=True)\n",
        "project.execute()\n"
      ]
    }
  ]
}
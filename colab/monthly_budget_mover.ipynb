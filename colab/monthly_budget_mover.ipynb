{
  "license": "Apache License, Version 2.0",
  "copyright": "Copyright 2018 Google Inc.",
  "nbformat": "4",
  "nbformat_minor": "0",
  "metadata": {
    "colab": {
      "name": "Monthly Budget Mover",
      "provenance": [],
      "collapsed_sections": [],
      "toc_visible": true
    },
    "kernelspec": {
      "name": "python3",
      "display_name": "Python 3"
    }
  },
  "cells": [
    {
      "cell_type": "markdown",
      "metadata": {
        "id": "vRkiV07ycxZx",
        "colab_type": "text"
      },
      "source": [
        "#1. Install Dependencies\n",
        "First install the libraries needed to execute recipes, this only needs to be done once, then click play.\n"
      ]
    },
    {
      "cell_type": "code",
      "metadata": {
        "id": "xsdCRkhkfnVK",
        "colab_type": "code"
      },
      "source": [
        "!pip install git+https://github.com/google/starthinker\n"
      ]
    },
    {
      "cell_type": "markdown",
      "metadata": {
        "id": "NH8QqxO99de6",
        "colab_type": "text"
      },
      "source": [
        "#2. Get Cloud Project ID\n",
        "To run this recipe [requires a Google Cloud Project](https://github.com/google/starthinker/blob/master/tutorials/cloud_client_installed.md), this only needs to be done once, then click play.\n"
      ]
    },
    {
      "cell_type": "code",
      "metadata": {
        "id": "G0CJOUnxVgcN",
        "colab_type": "code"
      },
      "source": [
        "CLOUD_PROJECT = 'PASTE PROJECT ID HERE'\n",
        "\n",
        "print(\"Cloud Project Set To: %s\" % CLOUD_PROJECT)\n"
      ]
    },
    {
      "cell_type": "markdown",
      "metadata": {
        "id": "kXFOx2bsg8G4",
        "colab_type": "text"
      },
      "source": [
        "#3. Get Client Credentials\n",
        "To read and write to various endpoints requires [downloading client credentials](https://github.com/google/starthinker/blob/master/tutorials/cloud_client_installed.md), this only needs to be done once, then click play.\n"
      ]
    },
    {
      "cell_type": "code",
      "metadata": {
        "id": "XuE7ZDvKEWa6",
        "colab_type": "code"
      },
      "source": [
        "CLIENT_CREDENTIALS = 'PASTE CREDENTIALS HERE'\n",
        "\n",
        "print(\"Client Credentials Set To: %s\" % CLIENT_CREDENTIALS)\n"
      ]
    },
    {
      "cell_type": "markdown",
      "metadata": {
        "id": "XZy2kfp8idlV",
        "colab_type": "text"
      },
      "source": [
        "#4. Enter Monthly Budget Mover Parameters\n",
        "Apply the previous month's budget/spend delta to the current month.  Aggregate up the budget and spend from the previous month of each category declared then apply the delta of the spend and budget equally to each Line Item under that Category.\n",
        " 1. No changes made can be made in DV360 from the start to the end of this process\n",
        " 1. Make sure there is budget information for the current and previous month's IOs in DV360\n",
        " 1. Make sure the provided spend report has spend data for every IO in the previous month\n",
        " 1. Spend report must contain 'Revenue (Adv Currency)' and 'Insertion Order ID'\n",
        " 1. There are no duplicate IO Ids in the categories outlined below\n",
        " 1. This process must be ran during the month of the budget it is updating\n",
        " 1. If you receive a 502 error then you must separate your jobs into two, because there is too much information being pulled in the sdf\n",
        " 1. Manually run this job\n",
        " 1. Once the job has completed go to the table for the new sdf and export to a csv\n",
        " 1. Take the new sdf and upload it into DV360\n",
        "Modify the values below for your use case, can be done multiple times, then click play.\n"
      ]
    },
    {
      "cell_type": "code",
      "metadata": {
        "id": "xYAYghxVKxlz",
        "colab_type": "code"
      },
      "source": [
        "FIELDS = {\n",
        "  \"recipe_name\":\"\", # \n",
        "  \"spend_report_id\":\"\", # The report Id for the DV360 spend report.\n",
        "  \"budget_categories\":{\"CATEGORY1\":[12345,12345,12345], \"CATEGORY2\":[12345,12345]}, # A dictionary to show which IO Ids go under which Category. Please view the solutions page for information on format.\n",
        "  \"excluded_ios\":[], # A comma separated list of Inserion Order Ids that should be exluded from the budget calculations\n",
        "  \"filter_type\":, # The filter type for the filter ids.\n",
        "  \"filter_ids\":, # The filter ids for the request.\n",
        "  \"dataset\":\"\", # Dataset that you would like your output tables to be produced in.\n",
        "}\n",
        "\n",
        "print(\"Parameters Set To: %s\" % FIELDS)\n"
      ]
    },
    {
      "cell_type": "markdown",
      "metadata": {
        "id": "HMceGE84oiIP",
        "colab_type": "text"
      },
      "source": [
        "#4. Execute Monthly Budget Mover\n",
        "This does NOT need to be modified unles you are changing the recipe, click play.\n"
      ]
    },
    {
      "cell_type": "code",
      "metadata": {
        "id": "J9KLY6TZKPTp",
        "colab_type": "code"
      },
      "source": [
        "from starthinker.util.project import project\n",
        "from starthinker.script.parse import json_set_fields\n",
        "\n",
        "USER_CREDENTIALS = '/content/user.json'\n",
        "\n",
        "TASKS = [\n",
        "  {\n",
        "    \"dataset\": {\n",
        "      \"description\": \"Create a dataset where data will be combined and transfored for upload.\",\n",
        "      \"auth\": \"user\",\n",
        "      \"dataset\": {\n",
        "        \"field\": {\n",
        "          \"name\": \"dataset\",\n",
        "          \"kind\": \"string\",\n",
        "          \"order\": 1,\n",
        "          \"description\": \"Place where tables will be created in BigQuery.\"\n",
        "        }\n",
        "      }\n",
        "    }\n",
        "  },\n",
        "  {\n",
        "    \"monthly_budget_mover\": {\n",
        "      \"auth\": \"user\",\n",
        "      \"spend_report_id\": {\n",
        "        \"field\": {\n",
        "          \"name\": \"spend_report_id\",\n",
        "          \"kind\": \"string\",\n",
        "          \"order\": 2,\n",
        "          \"default\": \"\",\n",
        "          \"description\": \"The report Id for the DV360 spend report.\"\n",
        "        }\n",
        "      },\n",
        "      \"budget_categories\": {\n",
        "        \"field\": {\n",
        "          \"name\": \"budget_categories\",\n",
        "          \"kind\": \"json\",\n",
        "          \"order\": 3,\n",
        "          \"default\": \"{\\\"CATEGORY1\\\":[12345,12345,12345], \\\"CATEGORY2\\\":[12345,12345]}\",\n",
        "          \"description\": \"A dictionary to show which IO Ids go under which Category. Please view the solutions page for information on format.\"\n",
        "        }\n",
        "      },\n",
        "      \"excluded_ios\": {\n",
        "        \"field\": {\n",
        "          \"name\": \"excluded_ios\",\n",
        "          \"kind\": \"integer_list\",\n",
        "          \"order\": 4,\n",
        "          \"description\": \"A comma separated list of Inserion Order Ids that should be exluded from the budget calculations\"\n",
        "        }\n",
        "      },\n",
        "      \"sdf\": {\n",
        "        \"auth\": \"user\",\n",
        "        \"file_types\": \"INSERTION_ORDER\",\n",
        "        \"filter_type\": {\n",
        "          \"field\": {\n",
        "            \"name\": \"filter_type\",\n",
        "            \"kind\": \"choice\",\n",
        "            \"order\": 6,\n",
        "            \"default\": \"\",\n",
        "            \"description\": \"The filter type for the filter ids.\",\n",
        "            \"choices\": [\n",
        "              \"ADVERTISER_ID\",\n",
        "              \"CAMPAIGN_ID\",\n",
        "              \"INSERTION_ORDER_ID\",\n",
        "              \"INVENTORY_SOURCE_ID\",\n",
        "              \"LINE_ITEM_ID\",\n",
        "              \"PARTNER_ID\"\n",
        "            ]\n",
        "          }\n",
        "        },\n",
        "        \"filter_ids\": {\n",
        "          \"field\": {\n",
        "            \"name\": \"filter_ids\",\n",
        "            \"kind\": \"integer_list\",\n",
        "            \"order\": 7,\n",
        "            \"default\": \"\",\n",
        "            \"description\": \"The filter ids for the request.\"\n",
        "          }\n",
        "        }\n",
        "      },\n",
        "      \"out\": {\n",
        "        \"dataset\": {\n",
        "          \"field\": {\n",
        "            \"name\": \"dataset\",\n",
        "            \"kind\": \"string\",\n",
        "            \"order\": 8,\n",
        "            \"default\": \"\",\n",
        "            \"description\": \"Dataset that you would like your output tables to be produced in.\"\n",
        "          }\n",
        "        },\n",
        "        \"old_sdf_table_name\": {\n",
        "          \"field\": {\n",
        "            \"name\": \"recipe_name\",\n",
        "            \"kind\": \"string\",\n",
        "            \"prefix\": \"SDF_OLD_\",\n",
        "            \"description\": \"\"\n",
        "          }\n",
        "        },\n",
        "        \"new_sdf_table_name\": {\n",
        "          \"field\": {\n",
        "            \"name\": \"recipe_name\",\n",
        "            \"kind\": \"string\",\n",
        "            \"prefix\": \"SDF_NEW_\",\n",
        "            \"description\": \"\"\n",
        "          }\n",
        "        },\n",
        "        \"changes_table_name\": {\n",
        "          \"field\": {\n",
        "            \"name\": \"recipe_name\",\n",
        "            \"kind\": \"string\",\n",
        "            \"prefix\": \"SDF_BUDGET_MOVER_LOG_\",\n",
        "            \"description\": \"\"\n",
        "          }\n",
        "        }\n",
        "      }\n",
        "    }\n",
        "  }\n",
        "]\n",
        "\n",
        "json_set_fields(TASKS, FIELDS)\n",
        "\n",
        "project.initialize(_recipe={ 'tasks':TASKS }, _project=CLOUD_PROJECT, _user=USER_CREDENTIALS, _client=CLIENT_CREDENTIALS, _verbose=True)\n",
        "project.execute()\n"
      ]
    }
  ]
}
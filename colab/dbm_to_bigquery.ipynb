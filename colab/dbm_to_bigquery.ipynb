{
  "license": "Apache License, Version 2.0",
  "copyright": "Copyright 2018 Google Inc.",
  "nbformat": "4",
  "nbformat_minor": "0",
  "metadata": {
    "colab": {
      "name": "DBM To BigQuery",
      "provenance": [],
      "collapsed_sections": [],
      "toc_visible": true
    },
    "kernelspec": {
      "name": "python3",
      "display_name": "Python 3"
    }
  },
  "cells": [
    {
      "cell_type": "markdown",
      "metadata": {
        "id": "2h75bGRsCP1a",
        "colab_type": "text"
      },
      "source": [
        "#1. Install Dependencies\n",
        "First install the libraries needed to execute recipes, this only needs to be done once, then click play.\n"
      ]
    },
    {
      "cell_type": "code",
      "metadata": {
        "id": "SlLyCChjhfMe",
        "colab_type": "code"
      },
      "source": [
        "!pip install git+https://github.com/google/starthinker\n"
      ]
    },
    {
      "cell_type": "markdown",
      "metadata": {
        "id": "Vcy1h33YLaIg",
        "colab_type": "text"
      },
      "source": [
        "#2. Get Cloud Project ID\n",
        "To run this recipe [requires a Google Cloud Project](https://github.com/google/starthinker/blob/master/tutorials/cloud_client_installed.md), this only needs to be done once, then click play.\n"
      ]
    },
    {
      "cell_type": "code",
      "metadata": {
        "id": "WrGQA2pSnqvq",
        "colab_type": "code"
      },
      "source": [
        "CLOUD_PROJECT = 'PASTE PROJECT ID HERE'\n",
        "\n",
        "print(\"Cloud Project Set To: %s\" % CLOUD_PROJECT)\n"
      ]
    },
    {
      "cell_type": "markdown",
      "metadata": {
        "id": "LsKxiOh2kVBp",
        "colab_type": "text"
      },
      "source": [
        "#3. Get Client Credentials\n",
        "To read and write to various endpoints requires [downloading client credentials](https://github.com/google/starthinker/blob/master/tutorials/cloud_client_installed.md), this only needs to be done once, then click play.\n"
      ]
    },
    {
      "cell_type": "code",
      "metadata": {
        "id": "pdbgyROkKBXV",
        "colab_type": "code"
      },
      "source": [
        "CLIENT_CREDENTIALS = 'PASTE CREDENTIALS HERE'\n",
        "\n",
        "print(\"Client Credentials Set To: %s\" % CLIENT_CREDENTIALS)\n"
      ]
    },
    {
      "cell_type": "markdown",
      "metadata": {
        "id": "Zq1kQLLm4Riq",
        "colab_type": "text"
      },
      "source": [
        "#4. Enter DBM To BigQuery Parameters\n",
        "Move existing DBM reports into a BigQuery table.\n",
        " 1. Specify either report name or report id to move a report.\n",
        " 1. A schema is recommended, if not provided it will be guessed.\n",
        " 1. The most recent valid file will be moved to the table.\n",
        "Modify the values below for your use case, can be done multiple times, then click play.\n"
      ]
    },
    {
      "cell_type": "code",
      "metadata": {
        "id": "nVc306fG48k6",
        "colab_type": "code"
      },
      "source": [
        "FIELDS = {\n",
        "  \"dbm_report_id\":, # DBM report ID given in UI, not needed if name used.\n",
        "  \"dbm_report_name\":\"\", # Name of report, not needed if ID used.\n",
        "  \"dbm_dataset\":\"\", # Existing BigQuery dataset.\n",
        "  \"dbm_table\":\"\", # Table to create from this report.\n",
        "  \"dbm_schema\":[], # Schema provided in JSON list format or empty list.\n",
        "  \"is_incremental_load\":False, # Clear data in destination table during this report's time period, then append report data to destination table.\n",
        "}\n",
        "\n",
        "print(\"Parameters Set To: %s\" % FIELDS)\n"
      ]
    },
    {
      "cell_type": "markdown",
      "metadata": {
        "id": "bH0mLtnenlbD",
        "colab_type": "text"
      },
      "source": [
        "#4. Execute DBM To BigQuery\n",
        "This does NOT need to be modified unles you are changing the recipe, click play.\n"
      ]
    },
    {
      "cell_type": "code",
      "metadata": {
        "id": "FbzfVvyi6N8r",
        "colab_type": "code"
      },
      "source": [
        "from starthinker.util.project import project\n",
        "from starthinker.script.parse import json_set_fields\n",
        "\n",
        "USER_CREDENTIALS = '/content/user.json'\n",
        "\n",
        "TASKS = [\n",
        "  {\n",
        "    \"dbm\": {\n",
        "      \"auth\": \"user\",\n",
        "      \"report\": {\n",
        "        \"report_id\": {\n",
        "          \"field\": {\n",
        "            \"name\": \"dbm_report_id\",\n",
        "            \"kind\": \"integer\",\n",
        "            \"order\": 1,\n",
        "            \"default\": \"\",\n",
        "            \"description\": \"DBM report ID given in UI, not needed if name used.\"\n",
        "          }\n",
        "        },\n",
        "        \"name\": {\n",
        "          \"field\": {\n",
        "            \"name\": \"dbm_report_name\",\n",
        "            \"kind\": \"string\",\n",
        "            \"order\": 2,\n",
        "            \"default\": \"\",\n",
        "            \"description\": \"Name of report, not needed if ID used.\"\n",
        "          }\n",
        "        }\n",
        "      },\n",
        "      \"out\": {\n",
        "        \"bigquery\": {\n",
        "          \"dataset\": {\n",
        "            \"field\": {\n",
        "              \"name\": \"dbm_dataset\",\n",
        "              \"kind\": \"string\",\n",
        "              \"order\": 3,\n",
        "              \"default\": \"\",\n",
        "              \"description\": \"Existing BigQuery dataset.\"\n",
        "            }\n",
        "          },\n",
        "          \"table\": {\n",
        "            \"field\": {\n",
        "              \"name\": \"dbm_table\",\n",
        "              \"kind\": \"string\",\n",
        "              \"order\": 4,\n",
        "              \"default\": \"\",\n",
        "              \"description\": \"Table to create from this report.\"\n",
        "            }\n",
        "          },\n",
        "          \"schema\": {\n",
        "            \"field\": {\n",
        "              \"name\": \"dbm_schema\",\n",
        "              \"kind\": \"json\",\n",
        "              \"order\": 5,\n",
        "              \"default\": \"[]\",\n",
        "              \"description\": \"Schema provided in JSON list format or empty list.\"\n",
        "            }\n",
        "          },\n",
        "          \"is_incremental_load\": {\n",
        "            \"field\": {\n",
        "              \"name\": \"is_incremental_load\",\n",
        "              \"kind\": \"boolean\",\n",
        "              \"order\": 6,\n",
        "              \"default\": false,\n",
        "              \"description\": \"Clear data in destination table during this report's time period, then append report data to destination table.\"\n",
        "            }\n",
        "          }\n",
        "        }\n",
        "      },\n",
        "      \"datastudio\": true\n",
        "    }\n",
        "  }\n",
        "]\n",
        "\n",
        "json_set_fields(TASKS, FIELDS)\n",
        "\n",
        "project.initialize(_recipe={ 'tasks':TASKS }, _project=CLOUD_PROJECT, _user=USER_CREDENTIALS, _client=CLIENT_CREDENTIALS, _verbose=True)\n",
        "project.execute()\n"
      ]
    }
  ]
}
{
  "license": "Apache License, Version 2.0",
  "copyright": "Copyright 2018 Google Inc.",
  "nbformat": "4",
  "nbformat_minor": "0",
  "metadata": {
    "colab": {
      "name": "Query To View",
      "provenance": [],
      "collapsed_sections": [],
      "toc_visible": true
    },
    "kernelspec": {
      "name": "python3",
      "display_name": "Python 3"
    }
  },
  "cells": [
    {
      "cell_type": "markdown",
      "metadata": {
        "id": "30HPLNRT02oo",
        "colab_type": "text"
      },
      "source": [
        "#1. Install Dependencies\n",
        "First install the libraries needed to execute recipes, this only needs to be done once, then click play.\n"
      ]
    },
    {
      "cell_type": "code",
      "metadata": {
        "id": "uGoowKqK7L1H",
        "colab_type": "code"
      },
      "source": [
        "!pip install git+https://github.com/google/starthinker\n"
      ]
    },
    {
      "cell_type": "markdown",
      "metadata": {
        "id": "Nprv1nyUOw1j",
        "colab_type": "text"
      },
      "source": [
        "#2. Get Cloud Project ID\n",
        "To run this recipe [requires a Google Cloud Project](https://github.com/google/starthinker/blob/master/tutorials/cloud_project.md), this only needs to be done once, then click play.\n"
      ]
    },
    {
      "cell_type": "code",
      "metadata": {
        "id": "h8FuG8VUZJ76",
        "colab_type": "code"
      },
      "source": [
        "CLOUD_PROJECT = 'PASTE PROJECT ID HERE'\n",
        "\n",
        "print(\"Cloud Project Set To: %s\" % CLOUD_PROJECT)\n"
      ]
    },
    {
      "cell_type": "markdown",
      "metadata": {
        "id": "l2DhFf1RUkIE",
        "colab_type": "text"
      },
      "source": [
        "#3. Get Client Credentials\n",
        "To read and write to various endpoints requires [downloading client credentials](https://github.com/google/starthinker/blob/master/tutorials/cloud_client_installed.md), this only needs to be done once, then click play.\n"
      ]
    },
    {
      "cell_type": "code",
      "metadata": {
        "id": "kOJVpqQ1d9LP",
        "colab_type": "code"
      },
      "source": [
        "CLIENT_CREDENTIALS = 'PASTE CREDENTIALS HERE'\n",
        "\n",
        "print(\"Client Credentials Set To: %s\" % CLIENT_CREDENTIALS)\n"
      ]
    },
    {
      "cell_type": "markdown",
      "metadata": {
        "id": "PEg5h3pS3Xgq",
        "colab_type": "text"
      },
      "source": [
        "#4. Enter Query To View Parameters\n",
        "Create a BigQuery view.\n",
        " 1. Specify a single query and choose legacy or standard mode.\n",
        " 1. For PLX use: SELECT * FROM [plx.google:FULL_TABLE_NAME.all] WHERE...\n",
        " 1. If the view exists, it is unchanged, delete it manually to re-create.\n",
        "Modify the values below for your use case, can be done multiple times, then click play.\n"
      ]
    },
    {
      "cell_type": "code",
      "metadata": {
        "id": "wYMLJeefnxZ8",
        "colab_type": "code"
      },
      "source": [
        "FIELDS = {\n",
        "  \"query\":\"\", # SQL with newlines and all.\n",
        "  \"dataset\":\"\", # Existing BigQuery dataset.\n",
        "  \"view\":\"\", # View to create from this query.\n",
        "  \"legacy\":True, # Query type must match source tables.\n",
        "}\n",
        "\n",
        "print(\"Parameters Set To: %s\" % FIELDS)\n"
      ]
    },
    {
      "cell_type": "markdown",
      "metadata": {
        "id": "MWwhLAdX4wC5",
        "colab_type": "text"
      },
      "source": [
        "#4. Execute Query To View\n",
        "This does NOT need to be modified unles you are changing the recipe, click play.\n"
      ]
    },
    {
      "cell_type": "code",
      "metadata": {
        "id": "bfL2lez3KXPl",
        "colab_type": "code"
      },
      "source": [
        "from starthinker.util.project import project\n",
        "from starthinker.script.parse import json_set_fields\n",
        "\n",
        "USER_CREDENTIALS = '/content/user.json'\n",
        "\n",
        "TASKS = [\n",
        "  {\n",
        "    \"bigquery\": {\n",
        "      \"auth\": \"user\",\n",
        "      \"from\": {\n",
        "        \"query\": {\n",
        "          \"field\": {\n",
        "            \"name\": \"query\",\n",
        "            \"kind\": \"text\",\n",
        "            \"order\": 1,\n",
        "            \"default\": \"\",\n",
        "            \"description\": \"SQL with newlines and all.\"\n",
        "          }\n",
        "        },\n",
        "        \"legacy\": {\n",
        "          \"field\": {\n",
        "            \"name\": \"legacy\",\n",
        "            \"kind\": \"boolean\",\n",
        "            \"order\": 4,\n",
        "            \"default\": true,\n",
        "            \"description\": \"Query type must match source tables.\"\n",
        "          }\n",
        "        }\n",
        "      },\n",
        "      \"to\": {\n",
        "        \"dataset\": {\n",
        "          \"field\": {\n",
        "            \"name\": \"dataset\",\n",
        "            \"kind\": \"string\",\n",
        "            \"order\": 2,\n",
        "            \"default\": \"\",\n",
        "            \"description\": \"Existing BigQuery dataset.\"\n",
        "          }\n",
        "        },\n",
        "        \"view\": {\n",
        "          \"field\": {\n",
        "            \"name\": \"view\",\n",
        "            \"kind\": \"string\",\n",
        "            \"order\": 3,\n",
        "            \"default\": \"\",\n",
        "            \"description\": \"View to create from this query.\"\n",
        "          }\n",
        "        }\n",
        "      }\n",
        "    }\n",
        "  }\n",
        "]\n",
        "\n",
        "json_set_fields(TASKS, FIELDS)\n",
        "\n",
        "project.initialize(_recipe={ 'tasks':TASKS }, _project=CLOUD_PROJECT, _user=USER_CREDENTIALS, _client=CLIENT_CREDENTIALS, _verbose=True)\n",
        "project.execute()\n"
      ]
    }
  ]
}
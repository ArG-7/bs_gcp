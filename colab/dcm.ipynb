{
  "license": "Apache License, Version 2.0",
  "copyright": "Copyright 2018 Google Inc.",
  "nbformat": "4",
  "nbformat_minor": "0",
  "metadata": {
    "colab": {
      "name": "DCM Report",
      "provenance": [],
      "collapsed_sections": [],
      "toc_visible": true
    },
    "kernelspec": {
      "name": "python3",
      "display_name": "Python 3"
    }
  },
  "cells": [
    {
      "cell_type": "markdown",
      "metadata": {
        "id": "c7ii8sb1xeF3",
        "colab_type": "text"
      },
      "source": [
        "#1. Install Dependencies\n",
        "First install the libraries needed to execute recipes, this only needs to be done once, then click play.\n"
      ]
    },
    {
      "cell_type": "code",
      "metadata": {
        "id": "1Yvc9IxbpwMr",
        "colab_type": "code"
      },
      "source": [
        "!pip install git+https://github.com/google/starthinker\n"
      ]
    },
    {
      "cell_type": "markdown",
      "metadata": {
        "id": "2ZMy6tUEvUSF",
        "colab_type": "text"
      },
      "source": [
        "#2. Get Cloud Project ID\n",
        "To run this recipe [requires a Google Cloud Project](https://github.com/google/starthinker/blob/master/tutorials/cloud_client_installed.md), this only needs to be done once, then click play.\n"
      ]
    },
    {
      "cell_type": "code",
      "metadata": {
        "id": "ud8oRFYMXdcd",
        "colab_type": "code"
      },
      "source": [
        "CLOUD_PROJECT = 'PASTE PROJECT ID HERE'\n",
        "\n",
        "print(\"Cloud Project Set To: %s\" % CLOUD_PROJECT)\n"
      ]
    },
    {
      "cell_type": "markdown",
      "metadata": {
        "id": "b6F0poURbaV6",
        "colab_type": "text"
      },
      "source": [
        "#3. Get Client Credentials\n",
        "To read and write to various endpoints requires [downloading client credentials](https://github.com/google/starthinker/blob/master/tutorials/cloud_client_installed.md), this only needs to be done once, then click play.\n"
      ]
    },
    {
      "cell_type": "code",
      "metadata": {
        "id": "KRNAlQo645mO",
        "colab_type": "code"
      },
      "source": [
        "CLIENT_CREDENTIALS = 'PASTE CREDENTIALS HERE'\n",
        "\n",
        "print(\"Client Credentials Set To: %s\" % CLIENT_CREDENTIALS)\n"
      ]
    },
    {
      "cell_type": "markdown",
      "metadata": {
        "id": "4Pf3mIyo0oOO",
        "colab_type": "text"
      },
      "source": [
        "#4. Enter DCM Report Parameters\n",
        "Create a DCM report from a JSON definition.\n",
        " 1. Add a an account as [account_id]@[profile_id]\n",
        " 1. Fetch the report JSON definition. Arguably could be better.\n",
        " 1. The account is automatically added to the report definition.\n",
        "Modify the values below for your use case, can be done multiple times, then click play.\n"
      ]
    },
    {
      "cell_type": "code",
      "metadata": {
        "id": "HUR7pKlRIGJy",
        "colab_type": "code"
      },
      "source": [
        "FIELDS = {\n",
        "  \"account\":,\n",
        "  \"body\":{},\n",
        "  \"delete\":False,\n",
        "}\n",
        "\n",
        "print(\"Parameters Set To: %s\" % FIELDS)\n"
      ]
    },
    {
      "cell_type": "markdown",
      "metadata": {
        "id": "zpTgRf1ZOmje",
        "colab_type": "text"
      },
      "source": [
        "#4. Execute DCM Report\n",
        "This does NOT need to be modified unles you are changing the recipe, click play.\n"
      ]
    },
    {
      "cell_type": "code",
      "metadata": {
        "id": "UOinlQj98ey2",
        "colab_type": "code"
      },
      "source": [
        "from starthinker.util.project import project\n",
        "from starthinker.script.parse import json_set_fields\n",
        "\n",
        "USER_CREDENTIALS = '/content/user.json'\n",
        "\n",
        "TASKS = [\n",
        "  {\n",
        "    \"dcm\": {\n",
        "      \"auth\": \"user\",\n",
        "      \"report\": {\n",
        "        \"account\": {\n",
        "          \"field\": {\n",
        "            \"name\": \"account\",\n",
        "            \"kind\": \"string\",\n",
        "            \"order\": 1,\n",
        "            \"default\": \"\"\n",
        "          }\n",
        "        },\n",
        "        \"body\": {\n",
        "          \"field\": {\n",
        "            \"name\": \"body\",\n",
        "            \"kind\": \"json\",\n",
        "            \"order\": 2,\n",
        "            \"default\": \"{}\"\n",
        "          }\n",
        "        }\n",
        "      },\n",
        "      \"delete\": {\n",
        "        \"field\": {\n",
        "          \"name\": \"delete\",\n",
        "          \"kind\": \"boolean\",\n",
        "          \"order\": 3,\n",
        "          \"default\": false\n",
        "        }\n",
        "      }\n",
        "    }\n",
        "  }\n",
        "]\n",
        "\n",
        "json_set_fields(TASKS, FIELDS)\n",
        "\n",
        "project.initialize(_recipe={ 'tasks':TASKS }, _project=CLOUD_PROJECT, _user=USER_CREDENTIALS, _client=CLIENT_CREDENTIALS, _verbose=True)\n",
        "project.execute()\n"
      ]
    }
  ]
}